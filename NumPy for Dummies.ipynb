{
  "nbformat": 4,
  "nbformat_minor": 0,
  "metadata": {
    "colab": {
      "provenance": []
    },
    "kernelspec": {
      "name": "python3",
      "display_name": "Python 3"
    },
    "language_info": {
      "name": "python"
    }
  },
  "cells": [
    {
      "cell_type": "markdown",
      "source": [
        "***Python : Check if a number is even***"
      ],
      "metadata": {
        "id": "AaPOzBXENGQk"
      }
    },
    {
      "cell_type": "code",
      "source": [
        "def Even_or_odd(number):\n",
        "  if number % 2 == 0:\n",
        "    print(f\"{number} is even\")\n",
        "\n",
        "  else:\n",
        "    print(f\"{number} is odd\")"
      ],
      "metadata": {
        "id": "phNHVNcLM_UF"
      },
      "execution_count": null,
      "outputs": []
    },
    {
      "cell_type": "code",
      "source": [
        "Even_or_odd(55)"
      ],
      "metadata": {
        "id": "WG8wRHpAP2-m",
        "colab": {
          "base_uri": "https://localhost:8080/"
        },
        "outputId": "766a83c1-48a5-459b-d1c7-921fee3acc19"
      },
      "execution_count": null,
      "outputs": [
        {
          "output_type": "stream",
          "name": "stdout",
          "text": [
            "55 is odd\n"
          ]
        }
      ]
    },
    {
      "cell_type": "code",
      "source": [
        "with open('daffodils.txt', 'r') as tsl:\n",
        "  content = tsl.read()\n",
        "  print(content)"
      ],
      "metadata": {
        "id": "jDl-pd7n13y2",
        "colab": {
          "base_uri": "https://localhost:8080/",
          "height": 176
        },
        "outputId": "a6b32716-decc-458a-8511-5798e2946a79"
      },
      "execution_count": null,
      "outputs": [
        {
          "output_type": "error",
          "ename": "FileNotFoundError",
          "evalue": "[Errno 2] No such file or directory: 'daffodils.txt'",
          "traceback": [
            "\u001b[0;31m---------------------------------------------------------------------------\u001b[0m",
            "\u001b[0;31mFileNotFoundError\u001b[0m                         Traceback (most recent call last)",
            "\u001b[0;32m<ipython-input-50-4ccd9add8bef>\u001b[0m in \u001b[0;36m<cell line: 1>\u001b[0;34m()\u001b[0m\n\u001b[0;32m----> 1\u001b[0;31m \u001b[0;32mwith\u001b[0m \u001b[0mopen\u001b[0m\u001b[0;34m(\u001b[0m\u001b[0;34m'daffodils.txt'\u001b[0m\u001b[0;34m,\u001b[0m \u001b[0;34m'r'\u001b[0m\u001b[0;34m)\u001b[0m \u001b[0;32mas\u001b[0m \u001b[0mtsl\u001b[0m\u001b[0;34m:\u001b[0m\u001b[0;34m\u001b[0m\u001b[0;34m\u001b[0m\u001b[0m\n\u001b[0m\u001b[1;32m      2\u001b[0m   \u001b[0mcontent\u001b[0m \u001b[0;34m=\u001b[0m \u001b[0mtsl\u001b[0m\u001b[0;34m.\u001b[0m\u001b[0mread\u001b[0m\u001b[0;34m(\u001b[0m\u001b[0;34m)\u001b[0m\u001b[0;34m\u001b[0m\u001b[0;34m\u001b[0m\u001b[0m\n\u001b[1;32m      3\u001b[0m   \u001b[0mprint\u001b[0m\u001b[0;34m(\u001b[0m\u001b[0mcontent\u001b[0m\u001b[0;34m)\u001b[0m\u001b[0;34m\u001b[0m\u001b[0;34m\u001b[0m\u001b[0m\n",
            "\u001b[0;31mFileNotFoundError\u001b[0m: [Errno 2] No such file or directory: 'daffodils.txt'"
          ]
        }
      ]
    },
    {
      "cell_type": "code",
      "source": [],
      "metadata": {
        "id": "SmfEcmoZTmcG"
      },
      "execution_count": null,
      "outputs": []
    },
    {
      "cell_type": "code",
      "source": [
        "content = input(\"Enter the name of the file\")\n",
        "name = open(content, 'r')\n",
        "count = 0\n",
        "for line in name:\n",
        "  count +=1\n",
        "\n",
        "print(f\"There are {count} lines in {content}\")"
      ],
      "metadata": {
        "id": "dK-5CoYHU0ZG"
      },
      "execution_count": null,
      "outputs": []
    },
    {
      "cell_type": "code",
      "source": [
        "with open('daffodils.txt', 'r') as xy:\n",
        "  line = len(xy.readlines())\n",
        "  print(line)"
      ],
      "metadata": {
        "id": "o9tKUwmXXwEQ"
      },
      "execution_count": null,
      "outputs": []
    },
    {
      "cell_type": "code",
      "source": [
        "file_name = input(\"Enter the file name: \")\n",
        "try:\n",
        "  content = open(file_name)\n",
        "  count = 0\n",
        "  for line in content:\n",
        "    count +=1\n",
        "  print(f\"There are {count} lines in {file_name}\")\n",
        "except:\n",
        "  print(\"Invalid Name. Retry\")\n",
        "  exit()\n",
        "\n"
      ],
      "metadata": {
        "id": "QKVxOoiBYQmd"
      },
      "execution_count": null,
      "outputs": []
    },
    {
      "cell_type": "code",
      "source": [
        "import numpy as np"
      ],
      "metadata": {
        "id": "iMJS5zZ_ygxm"
      },
      "execution_count": null,
      "outputs": []
    },
    {
      "cell_type": "code",
      "source": [
        "arr = np.array([1,2,3,4,5])\n",
        "print(arr)"
      ],
      "metadata": {
        "colab": {
          "base_uri": "https://localhost:8080/"
        },
        "id": "j7dLmf6O2l5Q",
        "outputId": "c157ad89-fffa-4c21-a5c0-260c126adf3f"
      },
      "execution_count": null,
      "outputs": [
        {
          "output_type": "stream",
          "name": "stdout",
          "text": [
            "[1 2 3 4 5]\n"
          ]
        }
      ]
    },
    {
      "cell_type": "code",
      "source": [
        "arr2 = np.array([[1,2,3], [4,5,6]])\n",
        "print(arr2)\n",
        "print(arr2.ndim)\n",
        "print(arr2.size)\n",
        "print(arr2.shape)"
      ],
      "metadata": {
        "colab": {
          "base_uri": "https://localhost:8080/"
        },
        "id": "gSrqxjLp2qqt",
        "outputId": "02a9c19a-a410-4ec7-a9b7-45e8e37801ad"
      },
      "execution_count": null,
      "outputs": [
        {
          "output_type": "stream",
          "name": "stdout",
          "text": [
            "[[1 2 3]\n",
            " [4 5 6]]\n",
            "2\n",
            "6\n",
            "(2, 3)\n"
          ]
        }
      ]
    },
    {
      "cell_type": "code",
      "source": [
        "print(arr.ndim)\n",
        "print(arr_2d.ndim)"
      ],
      "metadata": {
        "colab": {
          "base_uri": "https://localhost:8080/",
          "height": 176
        },
        "id": "ettUzmu432Bq",
        "outputId": "04342bf2-65b1-438c-b1a9-532bab769da1"
      },
      "execution_count": null,
      "outputs": [
        {
          "output_type": "stream",
          "name": "stdout",
          "text": [
            "1\n"
          ]
        },
        {
          "output_type": "error",
          "ename": "NameError",
          "evalue": "name 'arr_2d' is not defined",
          "traceback": [
            "\u001b[0;31m---------------------------------------------------------------------------\u001b[0m",
            "\u001b[0;31mNameError\u001b[0m                                 Traceback (most recent call last)",
            "\u001b[0;32m<ipython-input-56-9b145e74b492>\u001b[0m in \u001b[0;36m<cell line: 2>\u001b[0;34m()\u001b[0m\n\u001b[1;32m      1\u001b[0m \u001b[0mprint\u001b[0m\u001b[0;34m(\u001b[0m\u001b[0marr\u001b[0m\u001b[0;34m.\u001b[0m\u001b[0mndim\u001b[0m\u001b[0;34m)\u001b[0m\u001b[0;34m\u001b[0m\u001b[0;34m\u001b[0m\u001b[0m\n\u001b[0;32m----> 2\u001b[0;31m \u001b[0mprint\u001b[0m\u001b[0;34m(\u001b[0m\u001b[0marr_2d\u001b[0m\u001b[0;34m.\u001b[0m\u001b[0mndim\u001b[0m\u001b[0;34m)\u001b[0m\u001b[0;34m\u001b[0m\u001b[0;34m\u001b[0m\u001b[0m\n\u001b[0m",
            "\u001b[0;31mNameError\u001b[0m: name 'arr_2d' is not defined"
          ]
        }
      ]
    },
    {
      "cell_type": "code",
      "source": [
        "print(arr.shape)\n",
        "print(arr_2d.shape)"
      ],
      "metadata": {
        "colab": {
          "base_uri": "https://localhost:8080/",
          "height": 176
        },
        "id": "fmjv-sxY4GQw",
        "outputId": "47caa50f-3351-4d10-9632-e96fbf3d2f40"
      },
      "execution_count": null,
      "outputs": [
        {
          "output_type": "stream",
          "name": "stdout",
          "text": [
            "(5,)\n"
          ]
        },
        {
          "output_type": "error",
          "ename": "NameError",
          "evalue": "name 'arr_2d' is not defined",
          "traceback": [
            "\u001b[0;31m---------------------------------------------------------------------------\u001b[0m",
            "\u001b[0;31mNameError\u001b[0m                                 Traceback (most recent call last)",
            "\u001b[0;32m<ipython-input-55-c9347e353072>\u001b[0m in \u001b[0;36m<cell line: 2>\u001b[0;34m()\u001b[0m\n\u001b[1;32m      1\u001b[0m \u001b[0mprint\u001b[0m\u001b[0;34m(\u001b[0m\u001b[0marr\u001b[0m\u001b[0;34m.\u001b[0m\u001b[0mshape\u001b[0m\u001b[0;34m)\u001b[0m\u001b[0;34m\u001b[0m\u001b[0;34m\u001b[0m\u001b[0m\n\u001b[0;32m----> 2\u001b[0;31m \u001b[0mprint\u001b[0m\u001b[0;34m(\u001b[0m\u001b[0marr_2d\u001b[0m\u001b[0;34m.\u001b[0m\u001b[0mshape\u001b[0m\u001b[0;34m)\u001b[0m\u001b[0;34m\u001b[0m\u001b[0;34m\u001b[0m\u001b[0m\n\u001b[0m",
            "\u001b[0;31mNameError\u001b[0m: name 'arr_2d' is not defined"
          ]
        }
      ]
    },
    {
      "cell_type": "code",
      "source": [
        "arr1 = np.array([[[1, 0]]])\n",
        "print(arr1.shape)"
      ],
      "metadata": {
        "id": "-l-OiQGP4aeA"
      },
      "execution_count": null,
      "outputs": []
    },
    {
      "cell_type": "code",
      "source": [
        "zero = np.ones((2,3))\n",
        "print(zero)"
      ],
      "metadata": {
        "id": "4-O0yss95DFe"
      },
      "execution_count": null,
      "outputs": []
    },
    {
      "cell_type": "code",
      "source": [
        "ar = np.array([00,10,20,30,40,50])\n",
        "print(ar[1])\n",
        "print(ar[1:4])\n",
        "print(ar[:4])"
      ],
      "metadata": {
        "id": "mwhSH6Po56j1"
      },
      "execution_count": null,
      "outputs": []
    },
    {
      "cell_type": "code",
      "source": [
        "ar1 = np.array([[10,20,30,40,50], [60,70,80,90,100]])\n",
        "print(ar1[0, 1:4])\n",
        "print(ar1[0:2, 2])\n",
        "print(ar1[1, 1:2])\n",
        "print(ar1[0:2, 1:4])\n",
        "print(ar1[1, :])\n",
        "print(ar1[1:2, 3])"
      ],
      "metadata": {
        "id": "wyTDfgjz8yww"
      },
      "execution_count": null,
      "outputs": []
    },
    {
      "cell_type": "code",
      "source": [
        "ar1 = np.array([1,2,3])\n",
        "ar2 = np.array([4,5,6])\n",
        "result = ar1 + ar2\n",
        "print(result)\n",
        "res1 = ar1 - ar2\n",
        "res2 = ar2 - ar1\n",
        "print(res1)\n",
        "print(res2)\n",
        "res3 = ar1 / ar2\n",
        "print(res3)"
      ],
      "metadata": {
        "id": "-63P7C1e90zN"
      },
      "execution_count": null,
      "outputs": []
    },
    {
      "cell_type": "code",
      "source": [
        " res4 = ar1 + 10\n",
        "print(res4)\n",
        "res5 = ar2 * 2\n",
        "print(res5)"
      ],
      "metadata": {
        "id": "ng5r3FgJEpwP"
      },
      "execution_count": null,
      "outputs": []
    },
    {
      "cell_type": "code",
      "source": [
        "#Comparison Operators\n",
        "print(ar1 > ar2)\n",
        "print(ar2 > ar1)"
      ],
      "metadata": {
        "id": "T4TAgF1-IHVG"
      },
      "execution_count": null,
      "outputs": []
    },
    {
      "cell_type": "code",
      "source": [
        "print(np.array([10,20,30]) == np.array([5,15,30]))"
      ],
      "metadata": {
        "id": "sKLvxVs5I2lm"
      },
      "execution_count": null,
      "outputs": []
    },
    {
      "cell_type": "code",
      "source": [
        "res33 = np.dot(ar1, ar2)\n",
        "print(res33)"
      ],
      "metadata": {
        "id": "6Qxo7OhpJJMO"
      },
      "execution_count": null,
      "outputs": []
    },
    {
      "cell_type": "code",
      "source": [
        "result_1 = (np.array([[1,2,3], [4,5,6]]) + np.array([10,20,30]))\n",
        "print(result_1)"
      ],
      "metadata": {
        "id": "x1hUittMOTcl"
      },
      "execution_count": null,
      "outputs": []
    },
    {
      "cell_type": "code",
      "source": [
        "print(np.linspace(0,1,5, endpoint=False))"
      ],
      "metadata": {
        "id": "rKiEq3b9oLjU"
      },
      "execution_count": null,
      "outputs": []
    },
    {
      "cell_type": "code",
      "source": [
        "print(np.random.randint(1,100,size=(3,3)))"
      ],
      "metadata": {
        "id": "jd6_FUubpknb"
      },
      "execution_count": null,
      "outputs": []
    },
    {
      "cell_type": "code",
      "source": [
        "a = np.array([1,2,3,4])\n",
        "result = a.reshape(4,1)\n",
        "print(result)"
      ],
      "metadata": {
        "id": "4eAIJTZnq6ss"
      },
      "execution_count": null,
      "outputs": []
    },
    {
      "cell_type": "code",
      "source": [
        "a1 = np.arange(1,10).reshape(3,3)\n",
        "b1 = np.arange(1,10).reshape(3,3)\n",
        "print(a1)\n",
        "print(b1)\n",
        "\n",
        "#Result\n",
        "print(a1.dot(b1))"
      ],
      "metadata": {
        "id": "JlufDtwDtrf1"
      },
      "execution_count": null,
      "outputs": []
    },
    {
      "cell_type": "code",
      "source": [
        "x = np.arange(15, dtype=np.int64).reshape(3,5)\n",
        "print(x)"
      ],
      "metadata": {
        "id": "D8SND_MNuTHd",
        "colab": {
          "base_uri": "https://localhost:8080/"
        },
        "outputId": "4216110d-7f47-4ebc-9f68-c61ac5fab5b2"
      },
      "execution_count": null,
      "outputs": [
        {
          "output_type": "stream",
          "name": "stdout",
          "text": [
            "[[ 0  1  2  3  4]\n",
            " [ 5  6  7  8  9]\n",
            " [10 11 12 13 14]]\n"
          ]
        }
      ]
    },
    {
      "cell_type": "code",
      "source": [
        "x[1:, ::2] =-99\n",
        "x"
      ],
      "metadata": {
        "colab": {
          "base_uri": "https://localhost:8080/"
        },
        "id": "TFUmiY068wop",
        "outputId": "b1cc7fa2-35d6-4a79-bb5b-38529736322a"
      },
      "execution_count": null,
      "outputs": [
        {
          "output_type": "execute_result",
          "data": {
            "text/plain": [
              "array([[  0,   1,   2,   3,   4],\n",
              "       [-99,   6, -99,   8, -99],\n",
              "       [-99,  11, -99,  13, -99]])"
            ]
          },
          "metadata": {},
          "execution_count": 66
        }
      ]
    },
    {
      "cell_type": "code",
      "source": [
        "\n",
        "print(x.max(axis=0))"
      ],
      "metadata": {
        "colab": {
          "base_uri": "https://localhost:8080/"
        },
        "id": "LMmXO12h_uB3",
        "outputId": "323d1034-67e4-4589-b72d-e2dfc2e112a0"
      },
      "execution_count": null,
      "outputs": [
        {
          "output_type": "stream",
          "name": "stdout",
          "text": [
            "[ 0 11  2 13  4]\n"
          ]
        }
      ]
    },
    {
      "cell_type": "code",
      "source": [
        "print(x.max(axis=1))"
      ],
      "metadata": {
        "colab": {
          "base_uri": "https://localhost:8080/"
        },
        "id": "Jjnu_4MqBQpZ",
        "outputId": "57a2c640-de08-4939-a80e-9bac8fce432d"
      },
      "execution_count": null,
      "outputs": [
        {
          "output_type": "stream",
          "name": "stdout",
          "text": [
            "[ 4  8 13]\n"
          ]
        }
      ]
    },
    {
      "cell_type": "code",
      "source": [
        "counter = 0\n",
        "while counter < 10:\n",
        "  x = np.random.choice([1,2,3,4,5],3)\n",
        "  print(x)\n",
        "  counter +=1"
      ],
      "metadata": {
        "id": "JKA3qHYHEJP7",
        "colab": {
          "base_uri": "https://localhost:8080/"
        },
        "outputId": "4808fe09-a133-4cf3-d93d-3cdf883fc263"
      },
      "execution_count": null,
      "outputs": [
        {
          "output_type": "stream",
          "name": "stdout",
          "text": [
            "[1 3 1]\n",
            "[2 4 1]\n",
            "[2 3 3]\n",
            "[3 3 4]\n",
            "[3 3 3]\n",
            "[2 3 1]\n",
            "[5 2 5]\n",
            "[1 4 5]\n",
            "[4 1 1]\n",
            "[4 5 3]\n"
          ]
        }
      ]
    },
    {
      "cell_type": "code",
      "source": [
        "import pandas as pd"
      ],
      "metadata": {
        "id": "L-4yW5jlQN5L"
      },
      "execution_count": null,
      "outputs": []
    },
    {
      "cell_type": "code",
      "source": [
        "df = pd.read_csv('Language.csv')\n",
        "print(df)"
      ],
      "metadata": {
        "colab": {
          "base_uri": "https://localhost:8080/"
        },
        "id": "WWDVa7Wzvomg",
        "outputId": "2d8cace0-707f-4cc1-da73-018254253885"
      },
      "execution_count": null,
      "outputs": [
        {
          "output_type": "stream",
          "name": "stdout",
          "text": [
            "    Serial Programming language Level  Foundation year  \\\n",
            "0        1                    C   Low             1972   \n",
            "1        2                  CPP   Low             1985   \n",
            "2        3               Python  High             1991   \n",
            "3        4           JavaScript  High             1995   \n",
            "4        5                 Rudy  High             1995   \n",
            "5        6                  PHP  High             1995   \n",
            "6        7                    R  High             1993   \n",
            "7        8                 Perl  High             1987   \n",
            "8        9                 Java  High             1995   \n",
            "9       10              Fortran   Low             1952   \n",
            "10      11                  Zig  High             2016   \n",
            "11      12               Elixir  High             2012   \n",
            "12      13                 Rust   Low             2010   \n",
            "13      14             Solidity  High             2014   \n",
            "\n",
            "                             Author  \n",
            "0                    Dennis Ritchie  \n",
            "1                 Bjarne Stroustrup  \n",
            "2                  Guido van Rossum  \n",
            "3                      Brendan Eich  \n",
            "4                Yukihiro Matsumoto  \n",
            "5                    Rasmus Lerdorf  \n",
            "6   Ross Ihaka and Robert Gentleman  \n",
            "7                        Larry Wall  \n",
            "8                     James Gosling  \n",
            "9                       John Backus  \n",
            "10                    Andrew Kelley  \n",
            "11                       Jose Valim  \n",
            "12                    Graydon Hoare  \n",
            "13                       Gavin Wood  \n"
          ]
        }
      ]
    },
    {
      "cell_type": "code",
      "source": [
        "df['Country'] = ['USA', 'USA', 'USA', 'USA', 'USA', 'USA', 'USA', 'USA','USA', 'USA','USA', 'USA','USA', 'USA']"
      ],
      "metadata": {
        "id": "Ii_XEdzwwA5A"
      },
      "execution_count": null,
      "outputs": []
    },
    {
      "cell_type": "code",
      "source": [
        "df"
      ],
      "metadata": {
        "colab": {
          "base_uri": "https://localhost:8080/",
          "height": 433
        },
        "id": "aISZm8OeSPPd",
        "outputId": "3e527a35-d149-4617-9cf9-204b4f11356c"
      },
      "execution_count": null,
      "outputs": [
        {
          "output_type": "execute_result",
          "data": {
            "text/plain": [
              "    Serial Programming language Level  Foundation year  \\\n",
              "0        1                    C   Low             1972   \n",
              "1        2                  CPP   Low             1985   \n",
              "2        3               Python  High             1991   \n",
              "3        4           JavaScript  High             1995   \n",
              "4        5                 Rudy  High             1995   \n",
              "5        6                  PHP  High             1995   \n",
              "6        7                    R  High             1993   \n",
              "7        8                 Perl  High             1987   \n",
              "8        9                 Java  High             1995   \n",
              "9       10              Fortran   Low             1952   \n",
              "10      11                  Zig  High             2016   \n",
              "11      12               Elixir  High             2012   \n",
              "12      13                 Rust   Low             2010   \n",
              "13      14             Solidity  High             2014   \n",
              "\n",
              "                             Author Country  \n",
              "0                    Dennis Ritchie     USA  \n",
              "1                 Bjarne Stroustrup     USA  \n",
              "2                  Guido van Rossum     USA  \n",
              "3                      Brendan Eich     USA  \n",
              "4                Yukihiro Matsumoto     USA  \n",
              "5                    Rasmus Lerdorf     USA  \n",
              "6   Ross Ihaka and Robert Gentleman     USA  \n",
              "7                        Larry Wall     USA  \n",
              "8                     James Gosling     USA  \n",
              "9                       John Backus     USA  \n",
              "10                    Andrew Kelley     USA  \n",
              "11                       Jose Valim     USA  \n",
              "12                    Graydon Hoare     USA  \n",
              "13                       Gavin Wood     USA  "
            ],
            "text/html": [
              "\n",
              "  <div id=\"df-81a0ad9e-c4f4-446d-90c9-931511696fdb\" class=\"colab-df-container\">\n",
              "    <div>\n",
              "<style scoped>\n",
              "    .dataframe tbody tr th:only-of-type {\n",
              "        vertical-align: middle;\n",
              "    }\n",
              "\n",
              "    .dataframe tbody tr th {\n",
              "        vertical-align: top;\n",
              "    }\n",
              "\n",
              "    .dataframe thead th {\n",
              "        text-align: right;\n",
              "    }\n",
              "</style>\n",
              "<table border=\"1\" class=\"dataframe\">\n",
              "  <thead>\n",
              "    <tr style=\"text-align: right;\">\n",
              "      <th></th>\n",
              "      <th>Serial</th>\n",
              "      <th>Programming language</th>\n",
              "      <th>Level</th>\n",
              "      <th>Foundation year</th>\n",
              "      <th>Author</th>\n",
              "      <th>Country</th>\n",
              "    </tr>\n",
              "  </thead>\n",
              "  <tbody>\n",
              "    <tr>\n",
              "      <th>0</th>\n",
              "      <td>1</td>\n",
              "      <td>C</td>\n",
              "      <td>Low</td>\n",
              "      <td>1972</td>\n",
              "      <td>Dennis Ritchie</td>\n",
              "      <td>USA</td>\n",
              "    </tr>\n",
              "    <tr>\n",
              "      <th>1</th>\n",
              "      <td>2</td>\n",
              "      <td>CPP</td>\n",
              "      <td>Low</td>\n",
              "      <td>1985</td>\n",
              "      <td>Bjarne Stroustrup</td>\n",
              "      <td>USA</td>\n",
              "    </tr>\n",
              "    <tr>\n",
              "      <th>2</th>\n",
              "      <td>3</td>\n",
              "      <td>Python</td>\n",
              "      <td>High</td>\n",
              "      <td>1991</td>\n",
              "      <td>Guido van Rossum</td>\n",
              "      <td>USA</td>\n",
              "    </tr>\n",
              "    <tr>\n",
              "      <th>3</th>\n",
              "      <td>4</td>\n",
              "      <td>JavaScript</td>\n",
              "      <td>High</td>\n",
              "      <td>1995</td>\n",
              "      <td>Brendan Eich</td>\n",
              "      <td>USA</td>\n",
              "    </tr>\n",
              "    <tr>\n",
              "      <th>4</th>\n",
              "      <td>5</td>\n",
              "      <td>Rudy</td>\n",
              "      <td>High</td>\n",
              "      <td>1995</td>\n",
              "      <td>Yukihiro Matsumoto</td>\n",
              "      <td>USA</td>\n",
              "    </tr>\n",
              "    <tr>\n",
              "      <th>5</th>\n",
              "      <td>6</td>\n",
              "      <td>PHP</td>\n",
              "      <td>High</td>\n",
              "      <td>1995</td>\n",
              "      <td>Rasmus Lerdorf</td>\n",
              "      <td>USA</td>\n",
              "    </tr>\n",
              "    <tr>\n",
              "      <th>6</th>\n",
              "      <td>7</td>\n",
              "      <td>R</td>\n",
              "      <td>High</td>\n",
              "      <td>1993</td>\n",
              "      <td>Ross Ihaka and Robert Gentleman</td>\n",
              "      <td>USA</td>\n",
              "    </tr>\n",
              "    <tr>\n",
              "      <th>7</th>\n",
              "      <td>8</td>\n",
              "      <td>Perl</td>\n",
              "      <td>High</td>\n",
              "      <td>1987</td>\n",
              "      <td>Larry Wall</td>\n",
              "      <td>USA</td>\n",
              "    </tr>\n",
              "    <tr>\n",
              "      <th>8</th>\n",
              "      <td>9</td>\n",
              "      <td>Java</td>\n",
              "      <td>High</td>\n",
              "      <td>1995</td>\n",
              "      <td>James Gosling</td>\n",
              "      <td>USA</td>\n",
              "    </tr>\n",
              "    <tr>\n",
              "      <th>9</th>\n",
              "      <td>10</td>\n",
              "      <td>Fortran</td>\n",
              "      <td>Low</td>\n",
              "      <td>1952</td>\n",
              "      <td>John Backus</td>\n",
              "      <td>USA</td>\n",
              "    </tr>\n",
              "    <tr>\n",
              "      <th>10</th>\n",
              "      <td>11</td>\n",
              "      <td>Zig</td>\n",
              "      <td>High</td>\n",
              "      <td>2016</td>\n",
              "      <td>Andrew Kelley</td>\n",
              "      <td>USA</td>\n",
              "    </tr>\n",
              "    <tr>\n",
              "      <th>11</th>\n",
              "      <td>12</td>\n",
              "      <td>Elixir</td>\n",
              "      <td>High</td>\n",
              "      <td>2012</td>\n",
              "      <td>Jose Valim</td>\n",
              "      <td>USA</td>\n",
              "    </tr>\n",
              "    <tr>\n",
              "      <th>12</th>\n",
              "      <td>13</td>\n",
              "      <td>Rust</td>\n",
              "      <td>Low</td>\n",
              "      <td>2010</td>\n",
              "      <td>Graydon Hoare</td>\n",
              "      <td>USA</td>\n",
              "    </tr>\n",
              "    <tr>\n",
              "      <th>13</th>\n",
              "      <td>14</td>\n",
              "      <td>Solidity</td>\n",
              "      <td>High</td>\n",
              "      <td>2014</td>\n",
              "      <td>Gavin Wood</td>\n",
              "      <td>USA</td>\n",
              "    </tr>\n",
              "  </tbody>\n",
              "</table>\n",
              "</div>\n",
              "    <div class=\"colab-df-buttons\">\n",
              "\n",
              "  <div class=\"colab-df-container\">\n",
              "    <button class=\"colab-df-convert\" onclick=\"convertToInteractive('df-81a0ad9e-c4f4-446d-90c9-931511696fdb')\"\n",
              "            title=\"Convert this dataframe to an interactive table.\"\n",
              "            style=\"display:none;\">\n",
              "\n",
              "  <svg xmlns=\"http://www.w3.org/2000/svg\" height=\"24px\" viewBox=\"0 -960 960 960\">\n",
              "    <path d=\"M120-120v-720h720v720H120Zm60-500h600v-160H180v160Zm220 220h160v-160H400v160Zm0 220h160v-160H400v160ZM180-400h160v-160H180v160Zm440 0h160v-160H620v160ZM180-180h160v-160H180v160Zm440 0h160v-160H620v160Z\"/>\n",
              "  </svg>\n",
              "    </button>\n",
              "\n",
              "  <style>\n",
              "    .colab-df-container {\n",
              "      display:flex;\n",
              "      gap: 12px;\n",
              "    }\n",
              "\n",
              "    .colab-df-convert {\n",
              "      background-color: #E8F0FE;\n",
              "      border: none;\n",
              "      border-radius: 50%;\n",
              "      cursor: pointer;\n",
              "      display: none;\n",
              "      fill: #1967D2;\n",
              "      height: 32px;\n",
              "      padding: 0 0 0 0;\n",
              "      width: 32px;\n",
              "    }\n",
              "\n",
              "    .colab-df-convert:hover {\n",
              "      background-color: #E2EBFA;\n",
              "      box-shadow: 0px 1px 2px rgba(60, 64, 67, 0.3), 0px 1px 3px 1px rgba(60, 64, 67, 0.15);\n",
              "      fill: #174EA6;\n",
              "    }\n",
              "\n",
              "    .colab-df-buttons div {\n",
              "      margin-bottom: 4px;\n",
              "    }\n",
              "\n",
              "    [theme=dark] .colab-df-convert {\n",
              "      background-color: #3B4455;\n",
              "      fill: #D2E3FC;\n",
              "    }\n",
              "\n",
              "    [theme=dark] .colab-df-convert:hover {\n",
              "      background-color: #434B5C;\n",
              "      box-shadow: 0px 1px 3px 1px rgba(0, 0, 0, 0.15);\n",
              "      filter: drop-shadow(0px 1px 2px rgba(0, 0, 0, 0.3));\n",
              "      fill: #FFFFFF;\n",
              "    }\n",
              "  </style>\n",
              "\n",
              "    <script>\n",
              "      const buttonEl =\n",
              "        document.querySelector('#df-81a0ad9e-c4f4-446d-90c9-931511696fdb button.colab-df-convert');\n",
              "      buttonEl.style.display =\n",
              "        google.colab.kernel.accessAllowed ? 'block' : 'none';\n",
              "\n",
              "      async function convertToInteractive(key) {\n",
              "        const element = document.querySelector('#df-81a0ad9e-c4f4-446d-90c9-931511696fdb');\n",
              "        const dataTable =\n",
              "          await google.colab.kernel.invokeFunction('convertToInteractive',\n",
              "                                                    [key], {});\n",
              "        if (!dataTable) return;\n",
              "\n",
              "        const docLinkHtml = 'Like what you see? Visit the ' +\n",
              "          '<a target=\"_blank\" href=https://colab.research.google.com/notebooks/data_table.ipynb>data table notebook</a>'\n",
              "          + ' to learn more about interactive tables.';\n",
              "        element.innerHTML = '';\n",
              "        dataTable['output_type'] = 'display_data';\n",
              "        await google.colab.output.renderOutput(dataTable, element);\n",
              "        const docLink = document.createElement('div');\n",
              "        docLink.innerHTML = docLinkHtml;\n",
              "        element.appendChild(docLink);\n",
              "      }\n",
              "    </script>\n",
              "  </div>\n",
              "\n",
              "\n",
              "<div id=\"df-ada1824e-955a-4826-950e-6f33daa6a1a1\">\n",
              "  <button class=\"colab-df-quickchart\" onclick=\"quickchart('df-ada1824e-955a-4826-950e-6f33daa6a1a1')\"\n",
              "            title=\"Suggest charts\"\n",
              "            style=\"display:none;\">\n",
              "\n",
              "<svg xmlns=\"http://www.w3.org/2000/svg\" height=\"24px\"viewBox=\"0 0 24 24\"\n",
              "     width=\"24px\">\n",
              "    <g>\n",
              "        <path d=\"M19 3H5c-1.1 0-2 .9-2 2v14c0 1.1.9 2 2 2h14c1.1 0 2-.9 2-2V5c0-1.1-.9-2-2-2zM9 17H7v-7h2v7zm4 0h-2V7h2v10zm4 0h-2v-4h2v4z\"/>\n",
              "    </g>\n",
              "</svg>\n",
              "  </button>\n",
              "\n",
              "<style>\n",
              "  .colab-df-quickchart {\n",
              "      --bg-color: #E8F0FE;\n",
              "      --fill-color: #1967D2;\n",
              "      --hover-bg-color: #E2EBFA;\n",
              "      --hover-fill-color: #174EA6;\n",
              "      --disabled-fill-color: #AAA;\n",
              "      --disabled-bg-color: #DDD;\n",
              "  }\n",
              "\n",
              "  [theme=dark] .colab-df-quickchart {\n",
              "      --bg-color: #3B4455;\n",
              "      --fill-color: #D2E3FC;\n",
              "      --hover-bg-color: #434B5C;\n",
              "      --hover-fill-color: #FFFFFF;\n",
              "      --disabled-bg-color: #3B4455;\n",
              "      --disabled-fill-color: #666;\n",
              "  }\n",
              "\n",
              "  .colab-df-quickchart {\n",
              "    background-color: var(--bg-color);\n",
              "    border: none;\n",
              "    border-radius: 50%;\n",
              "    cursor: pointer;\n",
              "    display: none;\n",
              "    fill: var(--fill-color);\n",
              "    height: 32px;\n",
              "    padding: 0;\n",
              "    width: 32px;\n",
              "  }\n",
              "\n",
              "  .colab-df-quickchart:hover {\n",
              "    background-color: var(--hover-bg-color);\n",
              "    box-shadow: 0 1px 2px rgba(60, 64, 67, 0.3), 0 1px 3px 1px rgba(60, 64, 67, 0.15);\n",
              "    fill: var(--button-hover-fill-color);\n",
              "  }\n",
              "\n",
              "  .colab-df-quickchart-complete:disabled,\n",
              "  .colab-df-quickchart-complete:disabled:hover {\n",
              "    background-color: var(--disabled-bg-color);\n",
              "    fill: var(--disabled-fill-color);\n",
              "    box-shadow: none;\n",
              "  }\n",
              "\n",
              "  .colab-df-spinner {\n",
              "    border: 2px solid var(--fill-color);\n",
              "    border-color: transparent;\n",
              "    border-bottom-color: var(--fill-color);\n",
              "    animation:\n",
              "      spin 1s steps(1) infinite;\n",
              "  }\n",
              "\n",
              "  @keyframes spin {\n",
              "    0% {\n",
              "      border-color: transparent;\n",
              "      border-bottom-color: var(--fill-color);\n",
              "      border-left-color: var(--fill-color);\n",
              "    }\n",
              "    20% {\n",
              "      border-color: transparent;\n",
              "      border-left-color: var(--fill-color);\n",
              "      border-top-color: var(--fill-color);\n",
              "    }\n",
              "    30% {\n",
              "      border-color: transparent;\n",
              "      border-left-color: var(--fill-color);\n",
              "      border-top-color: var(--fill-color);\n",
              "      border-right-color: var(--fill-color);\n",
              "    }\n",
              "    40% {\n",
              "      border-color: transparent;\n",
              "      border-right-color: var(--fill-color);\n",
              "      border-top-color: var(--fill-color);\n",
              "    }\n",
              "    60% {\n",
              "      border-color: transparent;\n",
              "      border-right-color: var(--fill-color);\n",
              "    }\n",
              "    80% {\n",
              "      border-color: transparent;\n",
              "      border-right-color: var(--fill-color);\n",
              "      border-bottom-color: var(--fill-color);\n",
              "    }\n",
              "    90% {\n",
              "      border-color: transparent;\n",
              "      border-bottom-color: var(--fill-color);\n",
              "    }\n",
              "  }\n",
              "</style>\n",
              "\n",
              "  <script>\n",
              "    async function quickchart(key) {\n",
              "      const quickchartButtonEl =\n",
              "        document.querySelector('#' + key + ' button');\n",
              "      quickchartButtonEl.disabled = true;  // To prevent multiple clicks.\n",
              "      quickchartButtonEl.classList.add('colab-df-spinner');\n",
              "      try {\n",
              "        const charts = await google.colab.kernel.invokeFunction(\n",
              "            'suggestCharts', [key], {});\n",
              "      } catch (error) {\n",
              "        console.error('Error during call to suggestCharts:', error);\n",
              "      }\n",
              "      quickchartButtonEl.classList.remove('colab-df-spinner');\n",
              "      quickchartButtonEl.classList.add('colab-df-quickchart-complete');\n",
              "    }\n",
              "    (() => {\n",
              "      let quickchartButtonEl =\n",
              "        document.querySelector('#df-ada1824e-955a-4826-950e-6f33daa6a1a1 button');\n",
              "      quickchartButtonEl.style.display =\n",
              "        google.colab.kernel.accessAllowed ? 'block' : 'none';\n",
              "    })();\n",
              "  </script>\n",
              "</div>\n",
              "\n",
              "  <div id=\"id_f37e5269-af8e-4010-a3d4-3223fe57dac0\">\n",
              "    <style>\n",
              "      .colab-df-generate {\n",
              "        background-color: #E8F0FE;\n",
              "        border: none;\n",
              "        border-radius: 50%;\n",
              "        cursor: pointer;\n",
              "        display: none;\n",
              "        fill: #1967D2;\n",
              "        height: 32px;\n",
              "        padding: 0 0 0 0;\n",
              "        width: 32px;\n",
              "      }\n",
              "\n",
              "      .colab-df-generate:hover {\n",
              "        background-color: #E2EBFA;\n",
              "        box-shadow: 0px 1px 2px rgba(60, 64, 67, 0.3), 0px 1px 3px 1px rgba(60, 64, 67, 0.15);\n",
              "        fill: #174EA6;\n",
              "      }\n",
              "\n",
              "      [theme=dark] .colab-df-generate {\n",
              "        background-color: #3B4455;\n",
              "        fill: #D2E3FC;\n",
              "      }\n",
              "\n",
              "      [theme=dark] .colab-df-generate:hover {\n",
              "        background-color: #434B5C;\n",
              "        box-shadow: 0px 1px 3px 1px rgba(0, 0, 0, 0.15);\n",
              "        filter: drop-shadow(0px 1px 2px rgba(0, 0, 0, 0.3));\n",
              "        fill: #FFFFFF;\n",
              "      }\n",
              "    </style>\n",
              "    <button class=\"colab-df-generate\" onclick=\"generateWithVariable('df')\"\n",
              "            title=\"Generate code using this dataframe.\"\n",
              "            style=\"display:none;\">\n",
              "\n",
              "  <svg xmlns=\"http://www.w3.org/2000/svg\" height=\"24px\"viewBox=\"0 0 24 24\"\n",
              "       width=\"24px\">\n",
              "    <path d=\"M7,19H8.4L18.45,9,17,7.55,7,17.6ZM5,21V16.75L18.45,3.32a2,2,0,0,1,2.83,0l1.4,1.43a1.91,1.91,0,0,1,.58,1.4,1.91,1.91,0,0,1-.58,1.4L9.25,21ZM18.45,9,17,7.55Zm-12,3A5.31,5.31,0,0,0,4.9,8.1,5.31,5.31,0,0,0,1,6.5,5.31,5.31,0,0,0,4.9,4.9,5.31,5.31,0,0,0,6.5,1,5.31,5.31,0,0,0,8.1,4.9,5.31,5.31,0,0,0,12,6.5,5.46,5.46,0,0,0,6.5,12Z\"/>\n",
              "  </svg>\n",
              "    </button>\n",
              "    <script>\n",
              "      (() => {\n",
              "      const buttonEl =\n",
              "        document.querySelector('#id_f37e5269-af8e-4010-a3d4-3223fe57dac0 button.colab-df-generate');\n",
              "      buttonEl.style.display =\n",
              "        google.colab.kernel.accessAllowed ? 'block' : 'none';\n",
              "\n",
              "      buttonEl.onclick = () => {\n",
              "        google.colab.notebook.generateWithVariable('df');\n",
              "      }\n",
              "      })();\n",
              "    </script>\n",
              "  </div>\n",
              "\n",
              "    </div>\n",
              "  </div>\n"
            ],
            "application/vnd.google.colaboratory.intrinsic+json": {
              "type": "dataframe",
              "variable_name": "df",
              "summary": "{\n  \"name\": \"df\",\n  \"rows\": 14,\n  \"fields\": [\n    {\n      \"column\": \"Serial\",\n      \"properties\": {\n        \"dtype\": \"number\",\n        \"std\": 4,\n        \"min\": 1,\n        \"max\": 14,\n        \"num_unique_values\": 14,\n        \"samples\": [\n          10,\n          12,\n          1\n        ],\n        \"semantic_type\": \"\",\n        \"description\": \"\"\n      }\n    },\n    {\n      \"column\": \"Programming language\",\n      \"properties\": {\n        \"dtype\": \"string\",\n        \"num_unique_values\": 14,\n        \"samples\": [\n          \"Fortran\",\n          \"Elixir\",\n          \"C\"\n        ],\n        \"semantic_type\": \"\",\n        \"description\": \"\"\n      }\n    },\n    {\n      \"column\": \"Level\",\n      \"properties\": {\n        \"dtype\": \"category\",\n        \"num_unique_values\": 2,\n        \"samples\": [\n          \"High\",\n          \"Low\"\n        ],\n        \"semantic_type\": \"\",\n        \"description\": \"\"\n      }\n    },\n    {\n      \"column\": \"Foundation year\",\n      \"properties\": {\n        \"dtype\": \"number\",\n        \"std\": 17,\n        \"min\": 1952,\n        \"max\": 2016,\n        \"num_unique_values\": 11,\n        \"samples\": [\n          1987,\n          1972\n        ],\n        \"semantic_type\": \"\",\n        \"description\": \"\"\n      }\n    },\n    {\n      \"column\": \"Author\",\n      \"properties\": {\n        \"dtype\": \"string\",\n        \"num_unique_values\": 14,\n        \"samples\": [\n          \"John Backus\",\n          \"Jose Valim\"\n        ],\n        \"semantic_type\": \"\",\n        \"description\": \"\"\n      }\n    },\n    {\n      \"column\": \"Country\",\n      \"properties\": {\n        \"dtype\": \"category\",\n        \"num_unique_values\": 1,\n        \"samples\": [\n          \"USA\"\n        ],\n        \"semantic_type\": \"\",\n        \"description\": \"\"\n      }\n    }\n  ]\n}"
            }
          },
          "metadata": {},
          "execution_count": 15
        }
      ]
    },
    {
      "cell_type": "code",
      "source": [
        "df['Country'].drop"
      ],
      "metadata": {
        "colab": {
          "base_uri": "https://localhost:8080/",
          "height": 220
        },
        "id": "_X9gQN_KSQS0",
        "outputId": "96ead870-a786-4c90-aec1-059df17b79b1"
      },
      "execution_count": null,
      "outputs": [
        {
          "output_type": "execute_result",
          "data": {
            "text/plain": [
              "<bound method Series.drop of 0     USA\n",
              "1     USA\n",
              "2     USA\n",
              "3     USA\n",
              "4     USA\n",
              "5     USA\n",
              "6     USA\n",
              "7     USA\n",
              "8     USA\n",
              "9     USA\n",
              "10    USA\n",
              "11    USA\n",
              "12    USA\n",
              "13    USA\n",
              "Name: Country, dtype: object>"
            ],
            "text/html": [
              "<div style=\"max-width:800px; border: 1px solid var(--colab-border-color);\"><style>\n",
              "      pre.function-repr-contents {\n",
              "        overflow-x: auto;\n",
              "        padding: 8px 12px;\n",
              "        max-height: 500px;\n",
              "      }\n",
              "\n",
              "      pre.function-repr-contents.function-repr-contents-collapsed {\n",
              "        cursor: pointer;\n",
              "        max-height: 100px;\n",
              "      }\n",
              "    </style>\n",
              "    <pre style=\"white-space: initial; background:\n",
              "         var(--colab-secondary-surface-color); padding: 8px 12px;\n",
              "         border-bottom: 1px solid var(--colab-border-color);\"><b>pandas.core.series.Series.drop</b><br/>def drop(labels: IndexLabel | None=None, *, axis: Axis=0, index: IndexLabel | None=None, columns: IndexLabel | None=None, level: Level | None=None, inplace: bool=False, errors: IgnoreRaise=&#x27;raise&#x27;) -&gt; Series | None</pre><pre class=\"function-repr-contents function-repr-contents-collapsed\" style=\"\"><a class=\"filepath\" style=\"display:none\" href=\"#\">/usr/local/lib/python3.10/dist-packages/pandas/core/series.py</a>Return Series with specified index labels removed.\n",
              "\n",
              "Remove elements of a Series based on specifying the index labels.\n",
              "When using a multi-index, labels on different levels can be removed\n",
              "by specifying the level.\n",
              "\n",
              "Parameters\n",
              "----------\n",
              "labels : single label or list-like\n",
              "    Index labels to drop.\n",
              "axis : {0 or &#x27;index&#x27;}\n",
              "    Unused. Parameter needed for compatibility with DataFrame.\n",
              "index : single label or list-like\n",
              "    Redundant for application on Series, but &#x27;index&#x27; can be used instead\n",
              "    of &#x27;labels&#x27;.\n",
              "columns : single label or list-like\n",
              "    No change is made to the Series; use &#x27;index&#x27; or &#x27;labels&#x27; instead.\n",
              "level : int or level name, optional\n",
              "    For MultiIndex, level for which the labels will be removed.\n",
              "inplace : bool, default False\n",
              "    If True, do operation inplace and return None.\n",
              "errors : {&#x27;ignore&#x27;, &#x27;raise&#x27;}, default &#x27;raise&#x27;\n",
              "    If &#x27;ignore&#x27;, suppress error and only existing labels are dropped.\n",
              "\n",
              "Returns\n",
              "-------\n",
              "Series or None\n",
              "    Series with specified index labels removed or None if ``inplace=True``.\n",
              "\n",
              "Raises\n",
              "------\n",
              "KeyError\n",
              "    If none of the labels are found in the index.\n",
              "\n",
              "See Also\n",
              "--------\n",
              "Series.reindex : Return only specified index labels of Series.\n",
              "Series.dropna : Return series without null values.\n",
              "Series.drop_duplicates : Return Series with duplicate values removed.\n",
              "DataFrame.drop : Drop specified labels from rows or columns.\n",
              "\n",
              "Examples\n",
              "--------\n",
              "&gt;&gt;&gt; s = pd.Series(data=np.arange(3), index=[&#x27;A&#x27;, &#x27;B&#x27;, &#x27;C&#x27;])\n",
              "&gt;&gt;&gt; s\n",
              "A  0\n",
              "B  1\n",
              "C  2\n",
              "dtype: int64\n",
              "\n",
              "Drop labels B en C\n",
              "\n",
              "&gt;&gt;&gt; s.drop(labels=[&#x27;B&#x27;, &#x27;C&#x27;])\n",
              "A  0\n",
              "dtype: int64\n",
              "\n",
              "Drop 2nd level label in MultiIndex Series\n",
              "\n",
              "&gt;&gt;&gt; midx = pd.MultiIndex(levels=[[&#x27;llama&#x27;, &#x27;cow&#x27;, &#x27;falcon&#x27;],\n",
              "...                              [&#x27;speed&#x27;, &#x27;weight&#x27;, &#x27;length&#x27;]],\n",
              "...                      codes=[[0, 0, 0, 1, 1, 1, 2, 2, 2],\n",
              "...                             [0, 1, 2, 0, 1, 2, 0, 1, 2]])\n",
              "&gt;&gt;&gt; s = pd.Series([45, 200, 1.2, 30, 250, 1.5, 320, 1, 0.3],\n",
              "...               index=midx)\n",
              "&gt;&gt;&gt; s\n",
              "llama   speed      45.0\n",
              "        weight    200.0\n",
              "        length      1.2\n",
              "cow     speed      30.0\n",
              "        weight    250.0\n",
              "        length      1.5\n",
              "falcon  speed     320.0\n",
              "        weight      1.0\n",
              "        length      0.3\n",
              "dtype: float64\n",
              "\n",
              "&gt;&gt;&gt; s.drop(labels=&#x27;weight&#x27;, level=1)\n",
              "llama   speed      45.0\n",
              "        length      1.2\n",
              "cow     speed      30.0\n",
              "        length      1.5\n",
              "falcon  speed     320.0\n",
              "        length      0.3\n",
              "dtype: float64</pre>\n",
              "      <script>\n",
              "      if (google.colab.kernel.accessAllowed && google.colab.files && google.colab.files.view) {\n",
              "        for (const element of document.querySelectorAll('.filepath')) {\n",
              "          element.style.display = 'block'\n",
              "          element.onclick = (event) => {\n",
              "            event.preventDefault();\n",
              "            event.stopPropagation();\n",
              "            google.colab.files.view(element.textContent, 5259);\n",
              "          };\n",
              "        }\n",
              "      }\n",
              "      for (const element of document.querySelectorAll('.function-repr-contents')) {\n",
              "        element.onclick = (event) => {\n",
              "          event.preventDefault();\n",
              "          event.stopPropagation();\n",
              "          element.classList.toggle('function-repr-contents-collapsed');\n",
              "        };\n",
              "      }\n",
              "      </script>\n",
              "      </div>"
            ]
          },
          "metadata": {},
          "execution_count": 16
        }
      ]
    },
    {
      "cell_type": "code",
      "source": [
        "df"
      ],
      "metadata": {
        "colab": {
          "base_uri": "https://localhost:8080/",
          "height": 488
        },
        "id": "Q9pXPXnBSioM",
        "outputId": "304ff6f3-5c0a-4376-da49-7995d24deddc"
      },
      "execution_count": null,
      "outputs": [
        {
          "output_type": "execute_result",
          "data": {
            "text/plain": [
              "    Serial Programming language Level  Foundation year  \\\n",
              "0        1                    C   Low             1972   \n",
              "1        2                  CPP   Low             1985   \n",
              "2        3               Python  High             1991   \n",
              "3        4           JavaScript  High             1995   \n",
              "4        5                 Rudy  High             1995   \n",
              "5        6                  PHP  High             1995   \n",
              "6        7                    R  High             1993   \n",
              "7        8                 Perl  High             1987   \n",
              "8        9                 Java  High             1995   \n",
              "9       10              Fortran   Low             1952   \n",
              "10      11                  Zig  High             2016   \n",
              "11      12               Elixir  High             2012   \n",
              "12      13                 Rust   Low             2010   \n",
              "13      14             Solidity  High             2014   \n",
              "\n",
              "                             Author Country  \n",
              "0                    Dennis Ritchie     USA  \n",
              "1                 Bjarne Stroustrup     USA  \n",
              "2                  Guido van Rossum     USA  \n",
              "3                      Brendan Eich     USA  \n",
              "4                Yukihiro Matsumoto     USA  \n",
              "5                    Rasmus Lerdorf     USA  \n",
              "6   Ross Ihaka and Robert Gentleman     USA  \n",
              "7                        Larry Wall     USA  \n",
              "8                     James Gosling     USA  \n",
              "9                       John Backus     USA  \n",
              "10                    Andrew Kelley     USA  \n",
              "11                       Jose Valim     USA  \n",
              "12                    Graydon Hoare     USA  \n",
              "13                       Gavin Wood     USA  "
            ],
            "text/html": [
              "\n",
              "  <div id=\"df-505528b2-918f-489b-8734-5d0a497136de\" class=\"colab-df-container\">\n",
              "    <div>\n",
              "<style scoped>\n",
              "    .dataframe tbody tr th:only-of-type {\n",
              "        vertical-align: middle;\n",
              "    }\n",
              "\n",
              "    .dataframe tbody tr th {\n",
              "        vertical-align: top;\n",
              "    }\n",
              "\n",
              "    .dataframe thead th {\n",
              "        text-align: right;\n",
              "    }\n",
              "</style>\n",
              "<table border=\"1\" class=\"dataframe\">\n",
              "  <thead>\n",
              "    <tr style=\"text-align: right;\">\n",
              "      <th></th>\n",
              "      <th>Serial</th>\n",
              "      <th>Programming language</th>\n",
              "      <th>Level</th>\n",
              "      <th>Foundation year</th>\n",
              "      <th>Author</th>\n",
              "      <th>Country</th>\n",
              "    </tr>\n",
              "  </thead>\n",
              "  <tbody>\n",
              "    <tr>\n",
              "      <th>0</th>\n",
              "      <td>1</td>\n",
              "      <td>C</td>\n",
              "      <td>Low</td>\n",
              "      <td>1972</td>\n",
              "      <td>Dennis Ritchie</td>\n",
              "      <td>USA</td>\n",
              "    </tr>\n",
              "    <tr>\n",
              "      <th>1</th>\n",
              "      <td>2</td>\n",
              "      <td>CPP</td>\n",
              "      <td>Low</td>\n",
              "      <td>1985</td>\n",
              "      <td>Bjarne Stroustrup</td>\n",
              "      <td>USA</td>\n",
              "    </tr>\n",
              "    <tr>\n",
              "      <th>2</th>\n",
              "      <td>3</td>\n",
              "      <td>Python</td>\n",
              "      <td>High</td>\n",
              "      <td>1991</td>\n",
              "      <td>Guido van Rossum</td>\n",
              "      <td>USA</td>\n",
              "    </tr>\n",
              "    <tr>\n",
              "      <th>3</th>\n",
              "      <td>4</td>\n",
              "      <td>JavaScript</td>\n",
              "      <td>High</td>\n",
              "      <td>1995</td>\n",
              "      <td>Brendan Eich</td>\n",
              "      <td>USA</td>\n",
              "    </tr>\n",
              "    <tr>\n",
              "      <th>4</th>\n",
              "      <td>5</td>\n",
              "      <td>Rudy</td>\n",
              "      <td>High</td>\n",
              "      <td>1995</td>\n",
              "      <td>Yukihiro Matsumoto</td>\n",
              "      <td>USA</td>\n",
              "    </tr>\n",
              "    <tr>\n",
              "      <th>5</th>\n",
              "      <td>6</td>\n",
              "      <td>PHP</td>\n",
              "      <td>High</td>\n",
              "      <td>1995</td>\n",
              "      <td>Rasmus Lerdorf</td>\n",
              "      <td>USA</td>\n",
              "    </tr>\n",
              "    <tr>\n",
              "      <th>6</th>\n",
              "      <td>7</td>\n",
              "      <td>R</td>\n",
              "      <td>High</td>\n",
              "      <td>1993</td>\n",
              "      <td>Ross Ihaka and Robert Gentleman</td>\n",
              "      <td>USA</td>\n",
              "    </tr>\n",
              "    <tr>\n",
              "      <th>7</th>\n",
              "      <td>8</td>\n",
              "      <td>Perl</td>\n",
              "      <td>High</td>\n",
              "      <td>1987</td>\n",
              "      <td>Larry Wall</td>\n",
              "      <td>USA</td>\n",
              "    </tr>\n",
              "    <tr>\n",
              "      <th>8</th>\n",
              "      <td>9</td>\n",
              "      <td>Java</td>\n",
              "      <td>High</td>\n",
              "      <td>1995</td>\n",
              "      <td>James Gosling</td>\n",
              "      <td>USA</td>\n",
              "    </tr>\n",
              "    <tr>\n",
              "      <th>9</th>\n",
              "      <td>10</td>\n",
              "      <td>Fortran</td>\n",
              "      <td>Low</td>\n",
              "      <td>1952</td>\n",
              "      <td>John Backus</td>\n",
              "      <td>USA</td>\n",
              "    </tr>\n",
              "    <tr>\n",
              "      <th>10</th>\n",
              "      <td>11</td>\n",
              "      <td>Zig</td>\n",
              "      <td>High</td>\n",
              "      <td>2016</td>\n",
              "      <td>Andrew Kelley</td>\n",
              "      <td>USA</td>\n",
              "    </tr>\n",
              "    <tr>\n",
              "      <th>11</th>\n",
              "      <td>12</td>\n",
              "      <td>Elixir</td>\n",
              "      <td>High</td>\n",
              "      <td>2012</td>\n",
              "      <td>Jose Valim</td>\n",
              "      <td>USA</td>\n",
              "    </tr>\n",
              "    <tr>\n",
              "      <th>12</th>\n",
              "      <td>13</td>\n",
              "      <td>Rust</td>\n",
              "      <td>Low</td>\n",
              "      <td>2010</td>\n",
              "      <td>Graydon Hoare</td>\n",
              "      <td>USA</td>\n",
              "    </tr>\n",
              "    <tr>\n",
              "      <th>13</th>\n",
              "      <td>14</td>\n",
              "      <td>Solidity</td>\n",
              "      <td>High</td>\n",
              "      <td>2014</td>\n",
              "      <td>Gavin Wood</td>\n",
              "      <td>USA</td>\n",
              "    </tr>\n",
              "  </tbody>\n",
              "</table>\n",
              "</div>\n",
              "    <div class=\"colab-df-buttons\">\n",
              "\n",
              "  <div class=\"colab-df-container\">\n",
              "    <button class=\"colab-df-convert\" onclick=\"convertToInteractive('df-505528b2-918f-489b-8734-5d0a497136de')\"\n",
              "            title=\"Convert this dataframe to an interactive table.\"\n",
              "            style=\"display:none;\">\n",
              "\n",
              "  <svg xmlns=\"http://www.w3.org/2000/svg\" height=\"24px\" viewBox=\"0 -960 960 960\">\n",
              "    <path d=\"M120-120v-720h720v720H120Zm60-500h600v-160H180v160Zm220 220h160v-160H400v160Zm0 220h160v-160H400v160ZM180-400h160v-160H180v160Zm440 0h160v-160H620v160ZM180-180h160v-160H180v160Zm440 0h160v-160H620v160Z\"/>\n",
              "  </svg>\n",
              "    </button>\n",
              "\n",
              "  <style>\n",
              "    .colab-df-container {\n",
              "      display:flex;\n",
              "      gap: 12px;\n",
              "    }\n",
              "\n",
              "    .colab-df-convert {\n",
              "      background-color: #E8F0FE;\n",
              "      border: none;\n",
              "      border-radius: 50%;\n",
              "      cursor: pointer;\n",
              "      display: none;\n",
              "      fill: #1967D2;\n",
              "      height: 32px;\n",
              "      padding: 0 0 0 0;\n",
              "      width: 32px;\n",
              "    }\n",
              "\n",
              "    .colab-df-convert:hover {\n",
              "      background-color: #E2EBFA;\n",
              "      box-shadow: 0px 1px 2px rgba(60, 64, 67, 0.3), 0px 1px 3px 1px rgba(60, 64, 67, 0.15);\n",
              "      fill: #174EA6;\n",
              "    }\n",
              "\n",
              "    .colab-df-buttons div {\n",
              "      margin-bottom: 4px;\n",
              "    }\n",
              "\n",
              "    [theme=dark] .colab-df-convert {\n",
              "      background-color: #3B4455;\n",
              "      fill: #D2E3FC;\n",
              "    }\n",
              "\n",
              "    [theme=dark] .colab-df-convert:hover {\n",
              "      background-color: #434B5C;\n",
              "      box-shadow: 0px 1px 3px 1px rgba(0, 0, 0, 0.15);\n",
              "      filter: drop-shadow(0px 1px 2px rgba(0, 0, 0, 0.3));\n",
              "      fill: #FFFFFF;\n",
              "    }\n",
              "  </style>\n",
              "\n",
              "    <script>\n",
              "      const buttonEl =\n",
              "        document.querySelector('#df-505528b2-918f-489b-8734-5d0a497136de button.colab-df-convert');\n",
              "      buttonEl.style.display =\n",
              "        google.colab.kernel.accessAllowed ? 'block' : 'none';\n",
              "\n",
              "      async function convertToInteractive(key) {\n",
              "        const element = document.querySelector('#df-505528b2-918f-489b-8734-5d0a497136de');\n",
              "        const dataTable =\n",
              "          await google.colab.kernel.invokeFunction('convertToInteractive',\n",
              "                                                    [key], {});\n",
              "        if (!dataTable) return;\n",
              "\n",
              "        const docLinkHtml = 'Like what you see? Visit the ' +\n",
              "          '<a target=\"_blank\" href=https://colab.research.google.com/notebooks/data_table.ipynb>data table notebook</a>'\n",
              "          + ' to learn more about interactive tables.';\n",
              "        element.innerHTML = '';\n",
              "        dataTable['output_type'] = 'display_data';\n",
              "        await google.colab.output.renderOutput(dataTable, element);\n",
              "        const docLink = document.createElement('div');\n",
              "        docLink.innerHTML = docLinkHtml;\n",
              "        element.appendChild(docLink);\n",
              "      }\n",
              "    </script>\n",
              "  </div>\n",
              "\n",
              "\n",
              "<div id=\"df-1105c487-7693-4f0a-b59a-dbc2381eae4e\">\n",
              "  <button class=\"colab-df-quickchart\" onclick=\"quickchart('df-1105c487-7693-4f0a-b59a-dbc2381eae4e')\"\n",
              "            title=\"Suggest charts\"\n",
              "            style=\"display:none;\">\n",
              "\n",
              "<svg xmlns=\"http://www.w3.org/2000/svg\" height=\"24px\"viewBox=\"0 0 24 24\"\n",
              "     width=\"24px\">\n",
              "    <g>\n",
              "        <path d=\"M19 3H5c-1.1 0-2 .9-2 2v14c0 1.1.9 2 2 2h14c1.1 0 2-.9 2-2V5c0-1.1-.9-2-2-2zM9 17H7v-7h2v7zm4 0h-2V7h2v10zm4 0h-2v-4h2v4z\"/>\n",
              "    </g>\n",
              "</svg>\n",
              "  </button>\n",
              "\n",
              "<style>\n",
              "  .colab-df-quickchart {\n",
              "      --bg-color: #E8F0FE;\n",
              "      --fill-color: #1967D2;\n",
              "      --hover-bg-color: #E2EBFA;\n",
              "      --hover-fill-color: #174EA6;\n",
              "      --disabled-fill-color: #AAA;\n",
              "      --disabled-bg-color: #DDD;\n",
              "  }\n",
              "\n",
              "  [theme=dark] .colab-df-quickchart {\n",
              "      --bg-color: #3B4455;\n",
              "      --fill-color: #D2E3FC;\n",
              "      --hover-bg-color: #434B5C;\n",
              "      --hover-fill-color: #FFFFFF;\n",
              "      --disabled-bg-color: #3B4455;\n",
              "      --disabled-fill-color: #666;\n",
              "  }\n",
              "\n",
              "  .colab-df-quickchart {\n",
              "    background-color: var(--bg-color);\n",
              "    border: none;\n",
              "    border-radius: 50%;\n",
              "    cursor: pointer;\n",
              "    display: none;\n",
              "    fill: var(--fill-color);\n",
              "    height: 32px;\n",
              "    padding: 0;\n",
              "    width: 32px;\n",
              "  }\n",
              "\n",
              "  .colab-df-quickchart:hover {\n",
              "    background-color: var(--hover-bg-color);\n",
              "    box-shadow: 0 1px 2px rgba(60, 64, 67, 0.3), 0 1px 3px 1px rgba(60, 64, 67, 0.15);\n",
              "    fill: var(--button-hover-fill-color);\n",
              "  }\n",
              "\n",
              "  .colab-df-quickchart-complete:disabled,\n",
              "  .colab-df-quickchart-complete:disabled:hover {\n",
              "    background-color: var(--disabled-bg-color);\n",
              "    fill: var(--disabled-fill-color);\n",
              "    box-shadow: none;\n",
              "  }\n",
              "\n",
              "  .colab-df-spinner {\n",
              "    border: 2px solid var(--fill-color);\n",
              "    border-color: transparent;\n",
              "    border-bottom-color: var(--fill-color);\n",
              "    animation:\n",
              "      spin 1s steps(1) infinite;\n",
              "  }\n",
              "\n",
              "  @keyframes spin {\n",
              "    0% {\n",
              "      border-color: transparent;\n",
              "      border-bottom-color: var(--fill-color);\n",
              "      border-left-color: var(--fill-color);\n",
              "    }\n",
              "    20% {\n",
              "      border-color: transparent;\n",
              "      border-left-color: var(--fill-color);\n",
              "      border-top-color: var(--fill-color);\n",
              "    }\n",
              "    30% {\n",
              "      border-color: transparent;\n",
              "      border-left-color: var(--fill-color);\n",
              "      border-top-color: var(--fill-color);\n",
              "      border-right-color: var(--fill-color);\n",
              "    }\n",
              "    40% {\n",
              "      border-color: transparent;\n",
              "      border-right-color: var(--fill-color);\n",
              "      border-top-color: var(--fill-color);\n",
              "    }\n",
              "    60% {\n",
              "      border-color: transparent;\n",
              "      border-right-color: var(--fill-color);\n",
              "    }\n",
              "    80% {\n",
              "      border-color: transparent;\n",
              "      border-right-color: var(--fill-color);\n",
              "      border-bottom-color: var(--fill-color);\n",
              "    }\n",
              "    90% {\n",
              "      border-color: transparent;\n",
              "      border-bottom-color: var(--fill-color);\n",
              "    }\n",
              "  }\n",
              "</style>\n",
              "\n",
              "  <script>\n",
              "    async function quickchart(key) {\n",
              "      const quickchartButtonEl =\n",
              "        document.querySelector('#' + key + ' button');\n",
              "      quickchartButtonEl.disabled = true;  // To prevent multiple clicks.\n",
              "      quickchartButtonEl.classList.add('colab-df-spinner');\n",
              "      try {\n",
              "        const charts = await google.colab.kernel.invokeFunction(\n",
              "            'suggestCharts', [key], {});\n",
              "      } catch (error) {\n",
              "        console.error('Error during call to suggestCharts:', error);\n",
              "      }\n",
              "      quickchartButtonEl.classList.remove('colab-df-spinner');\n",
              "      quickchartButtonEl.classList.add('colab-df-quickchart-complete');\n",
              "    }\n",
              "    (() => {\n",
              "      let quickchartButtonEl =\n",
              "        document.querySelector('#df-1105c487-7693-4f0a-b59a-dbc2381eae4e button');\n",
              "      quickchartButtonEl.style.display =\n",
              "        google.colab.kernel.accessAllowed ? 'block' : 'none';\n",
              "    })();\n",
              "  </script>\n",
              "</div>\n",
              "\n",
              "  <div id=\"id_035039dc-3740-49d4-839c-c28525b51b1c\">\n",
              "    <style>\n",
              "      .colab-df-generate {\n",
              "        background-color: #E8F0FE;\n",
              "        border: none;\n",
              "        border-radius: 50%;\n",
              "        cursor: pointer;\n",
              "        display: none;\n",
              "        fill: #1967D2;\n",
              "        height: 32px;\n",
              "        padding: 0 0 0 0;\n",
              "        width: 32px;\n",
              "      }\n",
              "\n",
              "      .colab-df-generate:hover {\n",
              "        background-color: #E2EBFA;\n",
              "        box-shadow: 0px 1px 2px rgba(60, 64, 67, 0.3), 0px 1px 3px 1px rgba(60, 64, 67, 0.15);\n",
              "        fill: #174EA6;\n",
              "      }\n",
              "\n",
              "      [theme=dark] .colab-df-generate {\n",
              "        background-color: #3B4455;\n",
              "        fill: #D2E3FC;\n",
              "      }\n",
              "\n",
              "      [theme=dark] .colab-df-generate:hover {\n",
              "        background-color: #434B5C;\n",
              "        box-shadow: 0px 1px 3px 1px rgba(0, 0, 0, 0.15);\n",
              "        filter: drop-shadow(0px 1px 2px rgba(0, 0, 0, 0.3));\n",
              "        fill: #FFFFFF;\n",
              "      }\n",
              "    </style>\n",
              "    <button class=\"colab-df-generate\" onclick=\"generateWithVariable('df')\"\n",
              "            title=\"Generate code using this dataframe.\"\n",
              "            style=\"display:none;\">\n",
              "\n",
              "  <svg xmlns=\"http://www.w3.org/2000/svg\" height=\"24px\"viewBox=\"0 0 24 24\"\n",
              "       width=\"24px\">\n",
              "    <path d=\"M7,19H8.4L18.45,9,17,7.55,7,17.6ZM5,21V16.75L18.45,3.32a2,2,0,0,1,2.83,0l1.4,1.43a1.91,1.91,0,0,1,.58,1.4,1.91,1.91,0,0,1-.58,1.4L9.25,21ZM18.45,9,17,7.55Zm-12,3A5.31,5.31,0,0,0,4.9,8.1,5.31,5.31,0,0,0,1,6.5,5.31,5.31,0,0,0,4.9,4.9,5.31,5.31,0,0,0,6.5,1,5.31,5.31,0,0,0,8.1,4.9,5.31,5.31,0,0,0,12,6.5,5.46,5.46,0,0,0,6.5,12Z\"/>\n",
              "  </svg>\n",
              "    </button>\n",
              "    <script>\n",
              "      (() => {\n",
              "      const buttonEl =\n",
              "        document.querySelector('#id_035039dc-3740-49d4-839c-c28525b51b1c button.colab-df-generate');\n",
              "      buttonEl.style.display =\n",
              "        google.colab.kernel.accessAllowed ? 'block' : 'none';\n",
              "\n",
              "      buttonEl.onclick = () => {\n",
              "        google.colab.notebook.generateWithVariable('df');\n",
              "      }\n",
              "      })();\n",
              "    </script>\n",
              "  </div>\n",
              "\n",
              "    </div>\n",
              "  </div>\n"
            ],
            "application/vnd.google.colaboratory.intrinsic+json": {
              "type": "dataframe",
              "variable_name": "df",
              "summary": "{\n  \"name\": \"df\",\n  \"rows\": 14,\n  \"fields\": [\n    {\n      \"column\": \"Serial\",\n      \"properties\": {\n        \"dtype\": \"number\",\n        \"std\": 4,\n        \"min\": 1,\n        \"max\": 14,\n        \"num_unique_values\": 14,\n        \"samples\": [\n          10,\n          12,\n          1\n        ],\n        \"semantic_type\": \"\",\n        \"description\": \"\"\n      }\n    },\n    {\n      \"column\": \"Programming language\",\n      \"properties\": {\n        \"dtype\": \"string\",\n        \"num_unique_values\": 14,\n        \"samples\": [\n          \"Fortran\",\n          \"Elixir\",\n          \"C\"\n        ],\n        \"semantic_type\": \"\",\n        \"description\": \"\"\n      }\n    },\n    {\n      \"column\": \"Level\",\n      \"properties\": {\n        \"dtype\": \"category\",\n        \"num_unique_values\": 2,\n        \"samples\": [\n          \"High\",\n          \"Low\"\n        ],\n        \"semantic_type\": \"\",\n        \"description\": \"\"\n      }\n    },\n    {\n      \"column\": \"Foundation year\",\n      \"properties\": {\n        \"dtype\": \"number\",\n        \"std\": 17,\n        \"min\": 1952,\n        \"max\": 2016,\n        \"num_unique_values\": 11,\n        \"samples\": [\n          1987,\n          1972\n        ],\n        \"semantic_type\": \"\",\n        \"description\": \"\"\n      }\n    },\n    {\n      \"column\": \"Author\",\n      \"properties\": {\n        \"dtype\": \"string\",\n        \"num_unique_values\": 14,\n        \"samples\": [\n          \"John Backus\",\n          \"Jose Valim\"\n        ],\n        \"semantic_type\": \"\",\n        \"description\": \"\"\n      }\n    },\n    {\n      \"column\": \"Country\",\n      \"properties\": {\n        \"dtype\": \"category\",\n        \"num_unique_values\": 1,\n        \"samples\": [\n          \"USA\"\n        ],\n        \"semantic_type\": \"\",\n        \"description\": \"\"\n      }\n    }\n  ]\n}"
            }
          },
          "metadata": {},
          "execution_count": 17
        }
      ]
    },
    {
      "cell_type": "code",
      "source": [
        "data = {\n",
        "    'Name' : ['John', 'Aaron', 'Peter'],\n",
        "    'Age' : [28, 33, 35],\n",
        "    'City' : ['Nazareth', 'Jerusalem', 'Sinai']\n",
        "}\n",
        "print(data)   # prints in the form of series"
      ],
      "metadata": {
        "colab": {
          "base_uri": "https://localhost:8080/"
        },
        "id": "iQvXbx72SjiX",
        "outputId": "dac8aafe-a5e8-4ea3-f1e7-eb157993a787"
      },
      "execution_count": null,
      "outputs": [
        {
          "output_type": "stream",
          "name": "stdout",
          "text": [
            "{'Name': ['John', 'Aaron', 'Peter'], 'Age': [28, 33, 35], 'City': ['Nazareth', 'Jerusalem', 'Sinai']}\n"
          ]
        }
      ]
    },
    {
      "cell_type": "code",
      "source": [
        "# To convert the same in the form of dataframe\n",
        "df = pd.DataFrame(data)\n",
        "print(df)"
      ],
      "metadata": {
        "colab": {
          "base_uri": "https://localhost:8080/"
        },
        "id": "PXcitenj8oXM",
        "outputId": "64ca8704-bca2-4941-c492-e8d386887bca"
      },
      "execution_count": null,
      "outputs": [
        {
          "output_type": "stream",
          "name": "stdout",
          "text": [
            "    Name  Age       City\n",
            "0   John   28   Nazareth\n",
            "1  Aaron   33  Jerusalem\n",
            "2  Peter   35      Sinai\n"
          ]
        }
      ]
    },
    {
      "cell_type": "code",
      "source": [
        "df.head() # gives the first five entries or records"
      ],
      "metadata": {
        "colab": {
          "base_uri": "https://localhost:8080/",
          "height": 143
        },
        "id": "35wHycn68z-Z",
        "outputId": "419512ec-d6d4-49fd-c945-2af19be9cc86"
      },
      "execution_count": null,
      "outputs": [
        {
          "output_type": "execute_result",
          "data": {
            "text/plain": [
              "    Name  Age       City\n",
              "0   John   28   Nazareth\n",
              "1  Aaron   33  Jerusalem\n",
              "2  Peter   35      Sinai"
            ],
            "text/html": [
              "\n",
              "  <div id=\"df-648c2f43-439e-4d5a-8785-2fc21d6c0d1e\" class=\"colab-df-container\">\n",
              "    <div>\n",
              "<style scoped>\n",
              "    .dataframe tbody tr th:only-of-type {\n",
              "        vertical-align: middle;\n",
              "    }\n",
              "\n",
              "    .dataframe tbody tr th {\n",
              "        vertical-align: top;\n",
              "    }\n",
              "\n",
              "    .dataframe thead th {\n",
              "        text-align: right;\n",
              "    }\n",
              "</style>\n",
              "<table border=\"1\" class=\"dataframe\">\n",
              "  <thead>\n",
              "    <tr style=\"text-align: right;\">\n",
              "      <th></th>\n",
              "      <th>Name</th>\n",
              "      <th>Age</th>\n",
              "      <th>City</th>\n",
              "    </tr>\n",
              "  </thead>\n",
              "  <tbody>\n",
              "    <tr>\n",
              "      <th>0</th>\n",
              "      <td>John</td>\n",
              "      <td>28</td>\n",
              "      <td>Nazareth</td>\n",
              "    </tr>\n",
              "    <tr>\n",
              "      <th>1</th>\n",
              "      <td>Aaron</td>\n",
              "      <td>33</td>\n",
              "      <td>Jerusalem</td>\n",
              "    </tr>\n",
              "    <tr>\n",
              "      <th>2</th>\n",
              "      <td>Peter</td>\n",
              "      <td>35</td>\n",
              "      <td>Sinai</td>\n",
              "    </tr>\n",
              "  </tbody>\n",
              "</table>\n",
              "</div>\n",
              "    <div class=\"colab-df-buttons\">\n",
              "\n",
              "  <div class=\"colab-df-container\">\n",
              "    <button class=\"colab-df-convert\" onclick=\"convertToInteractive('df-648c2f43-439e-4d5a-8785-2fc21d6c0d1e')\"\n",
              "            title=\"Convert this dataframe to an interactive table.\"\n",
              "            style=\"display:none;\">\n",
              "\n",
              "  <svg xmlns=\"http://www.w3.org/2000/svg\" height=\"24px\" viewBox=\"0 -960 960 960\">\n",
              "    <path d=\"M120-120v-720h720v720H120Zm60-500h600v-160H180v160Zm220 220h160v-160H400v160Zm0 220h160v-160H400v160ZM180-400h160v-160H180v160Zm440 0h160v-160H620v160ZM180-180h160v-160H180v160Zm440 0h160v-160H620v160Z\"/>\n",
              "  </svg>\n",
              "    </button>\n",
              "\n",
              "  <style>\n",
              "    .colab-df-container {\n",
              "      display:flex;\n",
              "      gap: 12px;\n",
              "    }\n",
              "\n",
              "    .colab-df-convert {\n",
              "      background-color: #E8F0FE;\n",
              "      border: none;\n",
              "      border-radius: 50%;\n",
              "      cursor: pointer;\n",
              "      display: none;\n",
              "      fill: #1967D2;\n",
              "      height: 32px;\n",
              "      padding: 0 0 0 0;\n",
              "      width: 32px;\n",
              "    }\n",
              "\n",
              "    .colab-df-convert:hover {\n",
              "      background-color: #E2EBFA;\n",
              "      box-shadow: 0px 1px 2px rgba(60, 64, 67, 0.3), 0px 1px 3px 1px rgba(60, 64, 67, 0.15);\n",
              "      fill: #174EA6;\n",
              "    }\n",
              "\n",
              "    .colab-df-buttons div {\n",
              "      margin-bottom: 4px;\n",
              "    }\n",
              "\n",
              "    [theme=dark] .colab-df-convert {\n",
              "      background-color: #3B4455;\n",
              "      fill: #D2E3FC;\n",
              "    }\n",
              "\n",
              "    [theme=dark] .colab-df-convert:hover {\n",
              "      background-color: #434B5C;\n",
              "      box-shadow: 0px 1px 3px 1px rgba(0, 0, 0, 0.15);\n",
              "      filter: drop-shadow(0px 1px 2px rgba(0, 0, 0, 0.3));\n",
              "      fill: #FFFFFF;\n",
              "    }\n",
              "  </style>\n",
              "\n",
              "    <script>\n",
              "      const buttonEl =\n",
              "        document.querySelector('#df-648c2f43-439e-4d5a-8785-2fc21d6c0d1e button.colab-df-convert');\n",
              "      buttonEl.style.display =\n",
              "        google.colab.kernel.accessAllowed ? 'block' : 'none';\n",
              "\n",
              "      async function convertToInteractive(key) {\n",
              "        const element = document.querySelector('#df-648c2f43-439e-4d5a-8785-2fc21d6c0d1e');\n",
              "        const dataTable =\n",
              "          await google.colab.kernel.invokeFunction('convertToInteractive',\n",
              "                                                    [key], {});\n",
              "        if (!dataTable) return;\n",
              "\n",
              "        const docLinkHtml = 'Like what you see? Visit the ' +\n",
              "          '<a target=\"_blank\" href=https://colab.research.google.com/notebooks/data_table.ipynb>data table notebook</a>'\n",
              "          + ' to learn more about interactive tables.';\n",
              "        element.innerHTML = '';\n",
              "        dataTable['output_type'] = 'display_data';\n",
              "        await google.colab.output.renderOutput(dataTable, element);\n",
              "        const docLink = document.createElement('div');\n",
              "        docLink.innerHTML = docLinkHtml;\n",
              "        element.appendChild(docLink);\n",
              "      }\n",
              "    </script>\n",
              "  </div>\n",
              "\n",
              "\n",
              "<div id=\"df-a9787b31-7d4a-4186-8b17-d1e8b567921a\">\n",
              "  <button class=\"colab-df-quickchart\" onclick=\"quickchart('df-a9787b31-7d4a-4186-8b17-d1e8b567921a')\"\n",
              "            title=\"Suggest charts\"\n",
              "            style=\"display:none;\">\n",
              "\n",
              "<svg xmlns=\"http://www.w3.org/2000/svg\" height=\"24px\"viewBox=\"0 0 24 24\"\n",
              "     width=\"24px\">\n",
              "    <g>\n",
              "        <path d=\"M19 3H5c-1.1 0-2 .9-2 2v14c0 1.1.9 2 2 2h14c1.1 0 2-.9 2-2V5c0-1.1-.9-2-2-2zM9 17H7v-7h2v7zm4 0h-2V7h2v10zm4 0h-2v-4h2v4z\"/>\n",
              "    </g>\n",
              "</svg>\n",
              "  </button>\n",
              "\n",
              "<style>\n",
              "  .colab-df-quickchart {\n",
              "      --bg-color: #E8F0FE;\n",
              "      --fill-color: #1967D2;\n",
              "      --hover-bg-color: #E2EBFA;\n",
              "      --hover-fill-color: #174EA6;\n",
              "      --disabled-fill-color: #AAA;\n",
              "      --disabled-bg-color: #DDD;\n",
              "  }\n",
              "\n",
              "  [theme=dark] .colab-df-quickchart {\n",
              "      --bg-color: #3B4455;\n",
              "      --fill-color: #D2E3FC;\n",
              "      --hover-bg-color: #434B5C;\n",
              "      --hover-fill-color: #FFFFFF;\n",
              "      --disabled-bg-color: #3B4455;\n",
              "      --disabled-fill-color: #666;\n",
              "  }\n",
              "\n",
              "  .colab-df-quickchart {\n",
              "    background-color: var(--bg-color);\n",
              "    border: none;\n",
              "    border-radius: 50%;\n",
              "    cursor: pointer;\n",
              "    display: none;\n",
              "    fill: var(--fill-color);\n",
              "    height: 32px;\n",
              "    padding: 0;\n",
              "    width: 32px;\n",
              "  }\n",
              "\n",
              "  .colab-df-quickchart:hover {\n",
              "    background-color: var(--hover-bg-color);\n",
              "    box-shadow: 0 1px 2px rgba(60, 64, 67, 0.3), 0 1px 3px 1px rgba(60, 64, 67, 0.15);\n",
              "    fill: var(--button-hover-fill-color);\n",
              "  }\n",
              "\n",
              "  .colab-df-quickchart-complete:disabled,\n",
              "  .colab-df-quickchart-complete:disabled:hover {\n",
              "    background-color: var(--disabled-bg-color);\n",
              "    fill: var(--disabled-fill-color);\n",
              "    box-shadow: none;\n",
              "  }\n",
              "\n",
              "  .colab-df-spinner {\n",
              "    border: 2px solid var(--fill-color);\n",
              "    border-color: transparent;\n",
              "    border-bottom-color: var(--fill-color);\n",
              "    animation:\n",
              "      spin 1s steps(1) infinite;\n",
              "  }\n",
              "\n",
              "  @keyframes spin {\n",
              "    0% {\n",
              "      border-color: transparent;\n",
              "      border-bottom-color: var(--fill-color);\n",
              "      border-left-color: var(--fill-color);\n",
              "    }\n",
              "    20% {\n",
              "      border-color: transparent;\n",
              "      border-left-color: var(--fill-color);\n",
              "      border-top-color: var(--fill-color);\n",
              "    }\n",
              "    30% {\n",
              "      border-color: transparent;\n",
              "      border-left-color: var(--fill-color);\n",
              "      border-top-color: var(--fill-color);\n",
              "      border-right-color: var(--fill-color);\n",
              "    }\n",
              "    40% {\n",
              "      border-color: transparent;\n",
              "      border-right-color: var(--fill-color);\n",
              "      border-top-color: var(--fill-color);\n",
              "    }\n",
              "    60% {\n",
              "      border-color: transparent;\n",
              "      border-right-color: var(--fill-color);\n",
              "    }\n",
              "    80% {\n",
              "      border-color: transparent;\n",
              "      border-right-color: var(--fill-color);\n",
              "      border-bottom-color: var(--fill-color);\n",
              "    }\n",
              "    90% {\n",
              "      border-color: transparent;\n",
              "      border-bottom-color: var(--fill-color);\n",
              "    }\n",
              "  }\n",
              "</style>\n",
              "\n",
              "  <script>\n",
              "    async function quickchart(key) {\n",
              "      const quickchartButtonEl =\n",
              "        document.querySelector('#' + key + ' button');\n",
              "      quickchartButtonEl.disabled = true;  // To prevent multiple clicks.\n",
              "      quickchartButtonEl.classList.add('colab-df-spinner');\n",
              "      try {\n",
              "        const charts = await google.colab.kernel.invokeFunction(\n",
              "            'suggestCharts', [key], {});\n",
              "      } catch (error) {\n",
              "        console.error('Error during call to suggestCharts:', error);\n",
              "      }\n",
              "      quickchartButtonEl.classList.remove('colab-df-spinner');\n",
              "      quickchartButtonEl.classList.add('colab-df-quickchart-complete');\n",
              "    }\n",
              "    (() => {\n",
              "      let quickchartButtonEl =\n",
              "        document.querySelector('#df-a9787b31-7d4a-4186-8b17-d1e8b567921a button');\n",
              "      quickchartButtonEl.style.display =\n",
              "        google.colab.kernel.accessAllowed ? 'block' : 'none';\n",
              "    })();\n",
              "  </script>\n",
              "</div>\n",
              "\n",
              "    </div>\n",
              "  </div>\n"
            ],
            "application/vnd.google.colaboratory.intrinsic+json": {
              "type": "dataframe",
              "variable_name": "df",
              "summary": "{\n  \"name\": \"df\",\n  \"rows\": 3,\n  \"fields\": [\n    {\n      \"column\": \"Name\",\n      \"properties\": {\n        \"dtype\": \"string\",\n        \"num_unique_values\": 3,\n        \"samples\": [\n          \"John\",\n          \"Aaron\",\n          \"Peter\"\n        ],\n        \"semantic_type\": \"\",\n        \"description\": \"\"\n      }\n    },\n    {\n      \"column\": \"Age\",\n      \"properties\": {\n        \"dtype\": \"number\",\n        \"std\": 3,\n        \"min\": 28,\n        \"max\": 35,\n        \"num_unique_values\": 3,\n        \"samples\": [\n          28,\n          33,\n          35\n        ],\n        \"semantic_type\": \"\",\n        \"description\": \"\"\n      }\n    },\n    {\n      \"column\": \"City\",\n      \"properties\": {\n        \"dtype\": \"string\",\n        \"num_unique_values\": 3,\n        \"samples\": [\n          \"Nazareth\",\n          \"Jerusalem\",\n          \"Sinai\"\n        ],\n        \"semantic_type\": \"\",\n        \"description\": \"\"\n      }\n    }\n  ]\n}"
            }
          },
          "metadata": {},
          "execution_count": 6
        }
      ]
    },
    {
      "cell_type": "code",
      "source": [
        "df.info() # gives the information about the dataframe"
      ],
      "metadata": {
        "colab": {
          "base_uri": "https://localhost:8080/"
        },
        "id": "QaMUhXtD9dEa",
        "outputId": "8e5747d0-7642-42c2-a3b9-0c8f57e3834e"
      },
      "execution_count": null,
      "outputs": [
        {
          "output_type": "stream",
          "name": "stdout",
          "text": [
            "<class 'pandas.core.frame.DataFrame'>\n",
            "RangeIndex: 3 entries, 0 to 2\n",
            "Data columns (total 3 columns):\n",
            " #   Column  Non-Null Count  Dtype \n",
            "---  ------  --------------  ----- \n",
            " 0   Name    3 non-null      object\n",
            " 1   Age     3 non-null      int64 \n",
            " 2   City    3 non-null      object\n",
            "dtypes: int64(1), object(2)\n",
            "memory usage: 200.0+ bytes\n"
          ]
        }
      ]
    },
    {
      "cell_type": "code",
      "source": [
        "df.describe() # gives the statistical information about the dataframe"
      ],
      "metadata": {
        "colab": {
          "base_uri": "https://localhost:8080/",
          "height": 306
        },
        "id": "MSN85jSd90sr",
        "outputId": "1f1e1e12-331d-4e6b-ac5d-e28fcae18c58"
      },
      "execution_count": null,
      "outputs": [
        {
          "output_type": "execute_result",
          "data": {
            "text/plain": [
              "             Age\n",
              "count   3.000000\n",
              "mean   32.000000\n",
              "std     3.605551\n",
              "min    28.000000\n",
              "25%    30.500000\n",
              "50%    33.000000\n",
              "75%    34.000000\n",
              "max    35.000000"
            ],
            "text/html": [
              "\n",
              "  <div id=\"df-0f2e41a4-300c-410c-b2ac-e77e9414b130\" class=\"colab-df-container\">\n",
              "    <div>\n",
              "<style scoped>\n",
              "    .dataframe tbody tr th:only-of-type {\n",
              "        vertical-align: middle;\n",
              "    }\n",
              "\n",
              "    .dataframe tbody tr th {\n",
              "        vertical-align: top;\n",
              "    }\n",
              "\n",
              "    .dataframe thead th {\n",
              "        text-align: right;\n",
              "    }\n",
              "</style>\n",
              "<table border=\"1\" class=\"dataframe\">\n",
              "  <thead>\n",
              "    <tr style=\"text-align: right;\">\n",
              "      <th></th>\n",
              "      <th>Age</th>\n",
              "    </tr>\n",
              "  </thead>\n",
              "  <tbody>\n",
              "    <tr>\n",
              "      <th>count</th>\n",
              "      <td>3.000000</td>\n",
              "    </tr>\n",
              "    <tr>\n",
              "      <th>mean</th>\n",
              "      <td>32.000000</td>\n",
              "    </tr>\n",
              "    <tr>\n",
              "      <th>std</th>\n",
              "      <td>3.605551</td>\n",
              "    </tr>\n",
              "    <tr>\n",
              "      <th>min</th>\n",
              "      <td>28.000000</td>\n",
              "    </tr>\n",
              "    <tr>\n",
              "      <th>25%</th>\n",
              "      <td>30.500000</td>\n",
              "    </tr>\n",
              "    <tr>\n",
              "      <th>50%</th>\n",
              "      <td>33.000000</td>\n",
              "    </tr>\n",
              "    <tr>\n",
              "      <th>75%</th>\n",
              "      <td>34.000000</td>\n",
              "    </tr>\n",
              "    <tr>\n",
              "      <th>max</th>\n",
              "      <td>35.000000</td>\n",
              "    </tr>\n",
              "  </tbody>\n",
              "</table>\n",
              "</div>\n",
              "    <div class=\"colab-df-buttons\">\n",
              "\n",
              "  <div class=\"colab-df-container\">\n",
              "    <button class=\"colab-df-convert\" onclick=\"convertToInteractive('df-0f2e41a4-300c-410c-b2ac-e77e9414b130')\"\n",
              "            title=\"Convert this dataframe to an interactive table.\"\n",
              "            style=\"display:none;\">\n",
              "\n",
              "  <svg xmlns=\"http://www.w3.org/2000/svg\" height=\"24px\" viewBox=\"0 -960 960 960\">\n",
              "    <path d=\"M120-120v-720h720v720H120Zm60-500h600v-160H180v160Zm220 220h160v-160H400v160Zm0 220h160v-160H400v160ZM180-400h160v-160H180v160Zm440 0h160v-160H620v160ZM180-180h160v-160H180v160Zm440 0h160v-160H620v160Z\"/>\n",
              "  </svg>\n",
              "    </button>\n",
              "\n",
              "  <style>\n",
              "    .colab-df-container {\n",
              "      display:flex;\n",
              "      gap: 12px;\n",
              "    }\n",
              "\n",
              "    .colab-df-convert {\n",
              "      background-color: #E8F0FE;\n",
              "      border: none;\n",
              "      border-radius: 50%;\n",
              "      cursor: pointer;\n",
              "      display: none;\n",
              "      fill: #1967D2;\n",
              "      height: 32px;\n",
              "      padding: 0 0 0 0;\n",
              "      width: 32px;\n",
              "    }\n",
              "\n",
              "    .colab-df-convert:hover {\n",
              "      background-color: #E2EBFA;\n",
              "      box-shadow: 0px 1px 2px rgba(60, 64, 67, 0.3), 0px 1px 3px 1px rgba(60, 64, 67, 0.15);\n",
              "      fill: #174EA6;\n",
              "    }\n",
              "\n",
              "    .colab-df-buttons div {\n",
              "      margin-bottom: 4px;\n",
              "    }\n",
              "\n",
              "    [theme=dark] .colab-df-convert {\n",
              "      background-color: #3B4455;\n",
              "      fill: #D2E3FC;\n",
              "    }\n",
              "\n",
              "    [theme=dark] .colab-df-convert:hover {\n",
              "      background-color: #434B5C;\n",
              "      box-shadow: 0px 1px 3px 1px rgba(0, 0, 0, 0.15);\n",
              "      filter: drop-shadow(0px 1px 2px rgba(0, 0, 0, 0.3));\n",
              "      fill: #FFFFFF;\n",
              "    }\n",
              "  </style>\n",
              "\n",
              "    <script>\n",
              "      const buttonEl =\n",
              "        document.querySelector('#df-0f2e41a4-300c-410c-b2ac-e77e9414b130 button.colab-df-convert');\n",
              "      buttonEl.style.display =\n",
              "        google.colab.kernel.accessAllowed ? 'block' : 'none';\n",
              "\n",
              "      async function convertToInteractive(key) {\n",
              "        const element = document.querySelector('#df-0f2e41a4-300c-410c-b2ac-e77e9414b130');\n",
              "        const dataTable =\n",
              "          await google.colab.kernel.invokeFunction('convertToInteractive',\n",
              "                                                    [key], {});\n",
              "        if (!dataTable) return;\n",
              "\n",
              "        const docLinkHtml = 'Like what you see? Visit the ' +\n",
              "          '<a target=\"_blank\" href=https://colab.research.google.com/notebooks/data_table.ipynb>data table notebook</a>'\n",
              "          + ' to learn more about interactive tables.';\n",
              "        element.innerHTML = '';\n",
              "        dataTable['output_type'] = 'display_data';\n",
              "        await google.colab.output.renderOutput(dataTable, element);\n",
              "        const docLink = document.createElement('div');\n",
              "        docLink.innerHTML = docLinkHtml;\n",
              "        element.appendChild(docLink);\n",
              "      }\n",
              "    </script>\n",
              "  </div>\n",
              "\n",
              "\n",
              "<div id=\"df-821b3faa-e1d8-4134-8966-d3974f40c658\">\n",
              "  <button class=\"colab-df-quickchart\" onclick=\"quickchart('df-821b3faa-e1d8-4134-8966-d3974f40c658')\"\n",
              "            title=\"Suggest charts\"\n",
              "            style=\"display:none;\">\n",
              "\n",
              "<svg xmlns=\"http://www.w3.org/2000/svg\" height=\"24px\"viewBox=\"0 0 24 24\"\n",
              "     width=\"24px\">\n",
              "    <g>\n",
              "        <path d=\"M19 3H5c-1.1 0-2 .9-2 2v14c0 1.1.9 2 2 2h14c1.1 0 2-.9 2-2V5c0-1.1-.9-2-2-2zM9 17H7v-7h2v7zm4 0h-2V7h2v10zm4 0h-2v-4h2v4z\"/>\n",
              "    </g>\n",
              "</svg>\n",
              "  </button>\n",
              "\n",
              "<style>\n",
              "  .colab-df-quickchart {\n",
              "      --bg-color: #E8F0FE;\n",
              "      --fill-color: #1967D2;\n",
              "      --hover-bg-color: #E2EBFA;\n",
              "      --hover-fill-color: #174EA6;\n",
              "      --disabled-fill-color: #AAA;\n",
              "      --disabled-bg-color: #DDD;\n",
              "  }\n",
              "\n",
              "  [theme=dark] .colab-df-quickchart {\n",
              "      --bg-color: #3B4455;\n",
              "      --fill-color: #D2E3FC;\n",
              "      --hover-bg-color: #434B5C;\n",
              "      --hover-fill-color: #FFFFFF;\n",
              "      --disabled-bg-color: #3B4455;\n",
              "      --disabled-fill-color: #666;\n",
              "  }\n",
              "\n",
              "  .colab-df-quickchart {\n",
              "    background-color: var(--bg-color);\n",
              "    border: none;\n",
              "    border-radius: 50%;\n",
              "    cursor: pointer;\n",
              "    display: none;\n",
              "    fill: var(--fill-color);\n",
              "    height: 32px;\n",
              "    padding: 0;\n",
              "    width: 32px;\n",
              "  }\n",
              "\n",
              "  .colab-df-quickchart:hover {\n",
              "    background-color: var(--hover-bg-color);\n",
              "    box-shadow: 0 1px 2px rgba(60, 64, 67, 0.3), 0 1px 3px 1px rgba(60, 64, 67, 0.15);\n",
              "    fill: var(--button-hover-fill-color);\n",
              "  }\n",
              "\n",
              "  .colab-df-quickchart-complete:disabled,\n",
              "  .colab-df-quickchart-complete:disabled:hover {\n",
              "    background-color: var(--disabled-bg-color);\n",
              "    fill: var(--disabled-fill-color);\n",
              "    box-shadow: none;\n",
              "  }\n",
              "\n",
              "  .colab-df-spinner {\n",
              "    border: 2px solid var(--fill-color);\n",
              "    border-color: transparent;\n",
              "    border-bottom-color: var(--fill-color);\n",
              "    animation:\n",
              "      spin 1s steps(1) infinite;\n",
              "  }\n",
              "\n",
              "  @keyframes spin {\n",
              "    0% {\n",
              "      border-color: transparent;\n",
              "      border-bottom-color: var(--fill-color);\n",
              "      border-left-color: var(--fill-color);\n",
              "    }\n",
              "    20% {\n",
              "      border-color: transparent;\n",
              "      border-left-color: var(--fill-color);\n",
              "      border-top-color: var(--fill-color);\n",
              "    }\n",
              "    30% {\n",
              "      border-color: transparent;\n",
              "      border-left-color: var(--fill-color);\n",
              "      border-top-color: var(--fill-color);\n",
              "      border-right-color: var(--fill-color);\n",
              "    }\n",
              "    40% {\n",
              "      border-color: transparent;\n",
              "      border-right-color: var(--fill-color);\n",
              "      border-top-color: var(--fill-color);\n",
              "    }\n",
              "    60% {\n",
              "      border-color: transparent;\n",
              "      border-right-color: var(--fill-color);\n",
              "    }\n",
              "    80% {\n",
              "      border-color: transparent;\n",
              "      border-right-color: var(--fill-color);\n",
              "      border-bottom-color: var(--fill-color);\n",
              "    }\n",
              "    90% {\n",
              "      border-color: transparent;\n",
              "      border-bottom-color: var(--fill-color);\n",
              "    }\n",
              "  }\n",
              "</style>\n",
              "\n",
              "  <script>\n",
              "    async function quickchart(key) {\n",
              "      const quickchartButtonEl =\n",
              "        document.querySelector('#' + key + ' button');\n",
              "      quickchartButtonEl.disabled = true;  // To prevent multiple clicks.\n",
              "      quickchartButtonEl.classList.add('colab-df-spinner');\n",
              "      try {\n",
              "        const charts = await google.colab.kernel.invokeFunction(\n",
              "            'suggestCharts', [key], {});\n",
              "      } catch (error) {\n",
              "        console.error('Error during call to suggestCharts:', error);\n",
              "      }\n",
              "      quickchartButtonEl.classList.remove('colab-df-spinner');\n",
              "      quickchartButtonEl.classList.add('colab-df-quickchart-complete');\n",
              "    }\n",
              "    (() => {\n",
              "      let quickchartButtonEl =\n",
              "        document.querySelector('#df-821b3faa-e1d8-4134-8966-d3974f40c658 button');\n",
              "      quickchartButtonEl.style.display =\n",
              "        google.colab.kernel.accessAllowed ? 'block' : 'none';\n",
              "    })();\n",
              "  </script>\n",
              "</div>\n",
              "\n",
              "    </div>\n",
              "  </div>\n"
            ],
            "application/vnd.google.colaboratory.intrinsic+json": {
              "type": "dataframe",
              "summary": "{\n  \"name\": \"df\",\n  \"rows\": 8,\n  \"fields\": [\n    {\n      \"column\": \"Age\",\n      \"properties\": {\n        \"dtype\": \"number\",\n        \"std\": 13.495355981181598,\n        \"min\": 3.0,\n        \"max\": 35.0,\n        \"num_unique_values\": 8,\n        \"samples\": [\n          32.0,\n          33.0,\n          3.0\n        ],\n        \"semantic_type\": \"\",\n        \"description\": \"\"\n      }\n    }\n  ]\n}"
            }
          },
          "metadata": {},
          "execution_count": 9
        }
      ]
    },
    {
      "cell_type": "code",
      "source": [
        "df['Name']"
      ],
      "metadata": {
        "colab": {
          "base_uri": "https://localhost:8080/",
          "height": 178
        },
        "id": "0jq0eRhR-KLI",
        "outputId": "3e4ee026-f88e-4348-c6e8-f05bf038ede0"
      },
      "execution_count": null,
      "outputs": [
        {
          "output_type": "execute_result",
          "data": {
            "text/plain": [
              "0     John\n",
              "1    Aaron\n",
              "2    Peter\n",
              "Name: Name, dtype: object"
            ],
            "text/html": [
              "<div>\n",
              "<style scoped>\n",
              "    .dataframe tbody tr th:only-of-type {\n",
              "        vertical-align: middle;\n",
              "    }\n",
              "\n",
              "    .dataframe tbody tr th {\n",
              "        vertical-align: top;\n",
              "    }\n",
              "\n",
              "    .dataframe thead th {\n",
              "        text-align: right;\n",
              "    }\n",
              "</style>\n",
              "<table border=\"1\" class=\"dataframe\">\n",
              "  <thead>\n",
              "    <tr style=\"text-align: right;\">\n",
              "      <th></th>\n",
              "      <th>Name</th>\n",
              "    </tr>\n",
              "  </thead>\n",
              "  <tbody>\n",
              "    <tr>\n",
              "      <th>0</th>\n",
              "      <td>John</td>\n",
              "    </tr>\n",
              "    <tr>\n",
              "      <th>1</th>\n",
              "      <td>Aaron</td>\n",
              "    </tr>\n",
              "    <tr>\n",
              "      <th>2</th>\n",
              "      <td>Peter</td>\n",
              "    </tr>\n",
              "  </tbody>\n",
              "</table>\n",
              "</div><br><label><b>dtype:</b> object</label>"
            ]
          },
          "metadata": {},
          "execution_count": 10
        }
      ]
    },
    {
      "cell_type": "code",
      "source": [
        "df[df['Age'] > 30]"
      ],
      "metadata": {
        "colab": {
          "base_uri": "https://localhost:8080/",
          "height": 112
        },
        "id": "16KkxRFJ-xaI",
        "outputId": "b992eb71-21a4-41e1-9728-89acd82a3b34"
      },
      "execution_count": null,
      "outputs": [
        {
          "output_type": "execute_result",
          "data": {
            "text/plain": [
              "    Name  Age       City\n",
              "1  Aaron   33  Jerusalem\n",
              "2  Peter   35      Sinai"
            ],
            "text/html": [
              "\n",
              "  <div id=\"df-99f553df-8591-4ddd-b99f-7fbde0a4f684\" class=\"colab-df-container\">\n",
              "    <div>\n",
              "<style scoped>\n",
              "    .dataframe tbody tr th:only-of-type {\n",
              "        vertical-align: middle;\n",
              "    }\n",
              "\n",
              "    .dataframe tbody tr th {\n",
              "        vertical-align: top;\n",
              "    }\n",
              "\n",
              "    .dataframe thead th {\n",
              "        text-align: right;\n",
              "    }\n",
              "</style>\n",
              "<table border=\"1\" class=\"dataframe\">\n",
              "  <thead>\n",
              "    <tr style=\"text-align: right;\">\n",
              "      <th></th>\n",
              "      <th>Name</th>\n",
              "      <th>Age</th>\n",
              "      <th>City</th>\n",
              "    </tr>\n",
              "  </thead>\n",
              "  <tbody>\n",
              "    <tr>\n",
              "      <th>1</th>\n",
              "      <td>Aaron</td>\n",
              "      <td>33</td>\n",
              "      <td>Jerusalem</td>\n",
              "    </tr>\n",
              "    <tr>\n",
              "      <th>2</th>\n",
              "      <td>Peter</td>\n",
              "      <td>35</td>\n",
              "      <td>Sinai</td>\n",
              "    </tr>\n",
              "  </tbody>\n",
              "</table>\n",
              "</div>\n",
              "    <div class=\"colab-df-buttons\">\n",
              "\n",
              "  <div class=\"colab-df-container\">\n",
              "    <button class=\"colab-df-convert\" onclick=\"convertToInteractive('df-99f553df-8591-4ddd-b99f-7fbde0a4f684')\"\n",
              "            title=\"Convert this dataframe to an interactive table.\"\n",
              "            style=\"display:none;\">\n",
              "\n",
              "  <svg xmlns=\"http://www.w3.org/2000/svg\" height=\"24px\" viewBox=\"0 -960 960 960\">\n",
              "    <path d=\"M120-120v-720h720v720H120Zm60-500h600v-160H180v160Zm220 220h160v-160H400v160Zm0 220h160v-160H400v160ZM180-400h160v-160H180v160Zm440 0h160v-160H620v160ZM180-180h160v-160H180v160Zm440 0h160v-160H620v160Z\"/>\n",
              "  </svg>\n",
              "    </button>\n",
              "\n",
              "  <style>\n",
              "    .colab-df-container {\n",
              "      display:flex;\n",
              "      gap: 12px;\n",
              "    }\n",
              "\n",
              "    .colab-df-convert {\n",
              "      background-color: #E8F0FE;\n",
              "      border: none;\n",
              "      border-radius: 50%;\n",
              "      cursor: pointer;\n",
              "      display: none;\n",
              "      fill: #1967D2;\n",
              "      height: 32px;\n",
              "      padding: 0 0 0 0;\n",
              "      width: 32px;\n",
              "    }\n",
              "\n",
              "    .colab-df-convert:hover {\n",
              "      background-color: #E2EBFA;\n",
              "      box-shadow: 0px 1px 2px rgba(60, 64, 67, 0.3), 0px 1px 3px 1px rgba(60, 64, 67, 0.15);\n",
              "      fill: #174EA6;\n",
              "    }\n",
              "\n",
              "    .colab-df-buttons div {\n",
              "      margin-bottom: 4px;\n",
              "    }\n",
              "\n",
              "    [theme=dark] .colab-df-convert {\n",
              "      background-color: #3B4455;\n",
              "      fill: #D2E3FC;\n",
              "    }\n",
              "\n",
              "    [theme=dark] .colab-df-convert:hover {\n",
              "      background-color: #434B5C;\n",
              "      box-shadow: 0px 1px 3px 1px rgba(0, 0, 0, 0.15);\n",
              "      filter: drop-shadow(0px 1px 2px rgba(0, 0, 0, 0.3));\n",
              "      fill: #FFFFFF;\n",
              "    }\n",
              "  </style>\n",
              "\n",
              "    <script>\n",
              "      const buttonEl =\n",
              "        document.querySelector('#df-99f553df-8591-4ddd-b99f-7fbde0a4f684 button.colab-df-convert');\n",
              "      buttonEl.style.display =\n",
              "        google.colab.kernel.accessAllowed ? 'block' : 'none';\n",
              "\n",
              "      async function convertToInteractive(key) {\n",
              "        const element = document.querySelector('#df-99f553df-8591-4ddd-b99f-7fbde0a4f684');\n",
              "        const dataTable =\n",
              "          await google.colab.kernel.invokeFunction('convertToInteractive',\n",
              "                                                    [key], {});\n",
              "        if (!dataTable) return;\n",
              "\n",
              "        const docLinkHtml = 'Like what you see? Visit the ' +\n",
              "          '<a target=\"_blank\" href=https://colab.research.google.com/notebooks/data_table.ipynb>data table notebook</a>'\n",
              "          + ' to learn more about interactive tables.';\n",
              "        element.innerHTML = '';\n",
              "        dataTable['output_type'] = 'display_data';\n",
              "        await google.colab.output.renderOutput(dataTable, element);\n",
              "        const docLink = document.createElement('div');\n",
              "        docLink.innerHTML = docLinkHtml;\n",
              "        element.appendChild(docLink);\n",
              "      }\n",
              "    </script>\n",
              "  </div>\n",
              "\n",
              "\n",
              "<div id=\"df-14328499-6003-45e9-9232-10193b77019c\">\n",
              "  <button class=\"colab-df-quickchart\" onclick=\"quickchart('df-14328499-6003-45e9-9232-10193b77019c')\"\n",
              "            title=\"Suggest charts\"\n",
              "            style=\"display:none;\">\n",
              "\n",
              "<svg xmlns=\"http://www.w3.org/2000/svg\" height=\"24px\"viewBox=\"0 0 24 24\"\n",
              "     width=\"24px\">\n",
              "    <g>\n",
              "        <path d=\"M19 3H5c-1.1 0-2 .9-2 2v14c0 1.1.9 2 2 2h14c1.1 0 2-.9 2-2V5c0-1.1-.9-2-2-2zM9 17H7v-7h2v7zm4 0h-2V7h2v10zm4 0h-2v-4h2v4z\"/>\n",
              "    </g>\n",
              "</svg>\n",
              "  </button>\n",
              "\n",
              "<style>\n",
              "  .colab-df-quickchart {\n",
              "      --bg-color: #E8F0FE;\n",
              "      --fill-color: #1967D2;\n",
              "      --hover-bg-color: #E2EBFA;\n",
              "      --hover-fill-color: #174EA6;\n",
              "      --disabled-fill-color: #AAA;\n",
              "      --disabled-bg-color: #DDD;\n",
              "  }\n",
              "\n",
              "  [theme=dark] .colab-df-quickchart {\n",
              "      --bg-color: #3B4455;\n",
              "      --fill-color: #D2E3FC;\n",
              "      --hover-bg-color: #434B5C;\n",
              "      --hover-fill-color: #FFFFFF;\n",
              "      --disabled-bg-color: #3B4455;\n",
              "      --disabled-fill-color: #666;\n",
              "  }\n",
              "\n",
              "  .colab-df-quickchart {\n",
              "    background-color: var(--bg-color);\n",
              "    border: none;\n",
              "    border-radius: 50%;\n",
              "    cursor: pointer;\n",
              "    display: none;\n",
              "    fill: var(--fill-color);\n",
              "    height: 32px;\n",
              "    padding: 0;\n",
              "    width: 32px;\n",
              "  }\n",
              "\n",
              "  .colab-df-quickchart:hover {\n",
              "    background-color: var(--hover-bg-color);\n",
              "    box-shadow: 0 1px 2px rgba(60, 64, 67, 0.3), 0 1px 3px 1px rgba(60, 64, 67, 0.15);\n",
              "    fill: var(--button-hover-fill-color);\n",
              "  }\n",
              "\n",
              "  .colab-df-quickchart-complete:disabled,\n",
              "  .colab-df-quickchart-complete:disabled:hover {\n",
              "    background-color: var(--disabled-bg-color);\n",
              "    fill: var(--disabled-fill-color);\n",
              "    box-shadow: none;\n",
              "  }\n",
              "\n",
              "  .colab-df-spinner {\n",
              "    border: 2px solid var(--fill-color);\n",
              "    border-color: transparent;\n",
              "    border-bottom-color: var(--fill-color);\n",
              "    animation:\n",
              "      spin 1s steps(1) infinite;\n",
              "  }\n",
              "\n",
              "  @keyframes spin {\n",
              "    0% {\n",
              "      border-color: transparent;\n",
              "      border-bottom-color: var(--fill-color);\n",
              "      border-left-color: var(--fill-color);\n",
              "    }\n",
              "    20% {\n",
              "      border-color: transparent;\n",
              "      border-left-color: var(--fill-color);\n",
              "      border-top-color: var(--fill-color);\n",
              "    }\n",
              "    30% {\n",
              "      border-color: transparent;\n",
              "      border-left-color: var(--fill-color);\n",
              "      border-top-color: var(--fill-color);\n",
              "      border-right-color: var(--fill-color);\n",
              "    }\n",
              "    40% {\n",
              "      border-color: transparent;\n",
              "      border-right-color: var(--fill-color);\n",
              "      border-top-color: var(--fill-color);\n",
              "    }\n",
              "    60% {\n",
              "      border-color: transparent;\n",
              "      border-right-color: var(--fill-color);\n",
              "    }\n",
              "    80% {\n",
              "      border-color: transparent;\n",
              "      border-right-color: var(--fill-color);\n",
              "      border-bottom-color: var(--fill-color);\n",
              "    }\n",
              "    90% {\n",
              "      border-color: transparent;\n",
              "      border-bottom-color: var(--fill-color);\n",
              "    }\n",
              "  }\n",
              "</style>\n",
              "\n",
              "  <script>\n",
              "    async function quickchart(key) {\n",
              "      const quickchartButtonEl =\n",
              "        document.querySelector('#' + key + ' button');\n",
              "      quickchartButtonEl.disabled = true;  // To prevent multiple clicks.\n",
              "      quickchartButtonEl.classList.add('colab-df-spinner');\n",
              "      try {\n",
              "        const charts = await google.colab.kernel.invokeFunction(\n",
              "            'suggestCharts', [key], {});\n",
              "      } catch (error) {\n",
              "        console.error('Error during call to suggestCharts:', error);\n",
              "      }\n",
              "      quickchartButtonEl.classList.remove('colab-df-spinner');\n",
              "      quickchartButtonEl.classList.add('colab-df-quickchart-complete');\n",
              "    }\n",
              "    (() => {\n",
              "      let quickchartButtonEl =\n",
              "        document.querySelector('#df-14328499-6003-45e9-9232-10193b77019c button');\n",
              "      quickchartButtonEl.style.display =\n",
              "        google.colab.kernel.accessAllowed ? 'block' : 'none';\n",
              "    })();\n",
              "  </script>\n",
              "</div>\n",
              "\n",
              "    </div>\n",
              "  </div>\n"
            ],
            "application/vnd.google.colaboratory.intrinsic+json": {
              "type": "dataframe",
              "summary": "{\n  \"name\": \"df[df['Age'] > 30]\",\n  \"rows\": 2,\n  \"fields\": [\n    {\n      \"column\": \"Name\",\n      \"properties\": {\n        \"dtype\": \"string\",\n        \"num_unique_values\": 2,\n        \"samples\": [\n          \"Peter\",\n          \"Aaron\"\n        ],\n        \"semantic_type\": \"\",\n        \"description\": \"\"\n      }\n    },\n    {\n      \"column\": \"Age\",\n      \"properties\": {\n        \"dtype\": \"number\",\n        \"std\": 1,\n        \"min\": 33,\n        \"max\": 35,\n        \"num_unique_values\": 2,\n        \"samples\": [\n          35,\n          33\n        ],\n        \"semantic_type\": \"\",\n        \"description\": \"\"\n      }\n    },\n    {\n      \"column\": \"City\",\n      \"properties\": {\n        \"dtype\": \"string\",\n        \"num_unique_values\": 2,\n        \"samples\": [\n          \"Sinai\",\n          \"Jerusalem\"\n        ],\n        \"semantic_type\": \"\",\n        \"description\": \"\"\n      }\n    }\n  ]\n}"
            }
          },
          "metadata": {},
          "execution_count": 12
        }
      ]
    },
    {
      "cell_type": "code",
      "source": [
        "df['Age'] > 30"
      ],
      "metadata": {
        "colab": {
          "base_uri": "https://localhost:8080/",
          "height": 178
        },
        "id": "Qj0I28cC_Azy",
        "outputId": "3d806784-26e9-43bc-d0d4-2a99bc3e3952"
      },
      "execution_count": null,
      "outputs": [
        {
          "output_type": "execute_result",
          "data": {
            "text/plain": [
              "0    False\n",
              "1     True\n",
              "2     True\n",
              "Name: Age, dtype: bool"
            ],
            "text/html": [
              "<div>\n",
              "<style scoped>\n",
              "    .dataframe tbody tr th:only-of-type {\n",
              "        vertical-align: middle;\n",
              "    }\n",
              "\n",
              "    .dataframe tbody tr th {\n",
              "        vertical-align: top;\n",
              "    }\n",
              "\n",
              "    .dataframe thead th {\n",
              "        text-align: right;\n",
              "    }\n",
              "</style>\n",
              "<table border=\"1\" class=\"dataframe\">\n",
              "  <thead>\n",
              "    <tr style=\"text-align: right;\">\n",
              "      <th></th>\n",
              "      <th>Age</th>\n",
              "    </tr>\n",
              "  </thead>\n",
              "  <tbody>\n",
              "    <tr>\n",
              "      <th>0</th>\n",
              "      <td>False</td>\n",
              "    </tr>\n",
              "    <tr>\n",
              "      <th>1</th>\n",
              "      <td>True</td>\n",
              "    </tr>\n",
              "    <tr>\n",
              "      <th>2</th>\n",
              "      <td>True</td>\n",
              "    </tr>\n",
              "  </tbody>\n",
              "</table>\n",
              "</div><br><label><b>dtype:</b> bool</label>"
            ]
          },
          "metadata": {},
          "execution_count": 13
        }
      ]
    },
    {
      "cell_type": "code",
      "source": [
        "# Lodging new values\n",
        "df['Country'] = ['Palestine', 'Palestine', 'Egypt']\n",
        "df"
      ],
      "metadata": {
        "colab": {
          "base_uri": "https://localhost:8080/",
          "height": 200
        },
        "id": "1pOny2Db_kd0",
        "outputId": "72bae055-6652-46da-a141-e56380d8514d"
      },
      "execution_count": null,
      "outputs": [
        {
          "output_type": "execute_result",
          "data": {
            "text/plain": [
              "    Name  Age       City    Country\n",
              "0   John   28   Nazareth  Palestine\n",
              "1  Aaron   33  Jerusalem  Palestine\n",
              "2  Peter   35      Sinai      Egypt"
            ],
            "text/html": [
              "\n",
              "  <div id=\"df-842d2d15-f760-448a-9cfe-590761c0acab\" class=\"colab-df-container\">\n",
              "    <div>\n",
              "<style scoped>\n",
              "    .dataframe tbody tr th:only-of-type {\n",
              "        vertical-align: middle;\n",
              "    }\n",
              "\n",
              "    .dataframe tbody tr th {\n",
              "        vertical-align: top;\n",
              "    }\n",
              "\n",
              "    .dataframe thead th {\n",
              "        text-align: right;\n",
              "    }\n",
              "</style>\n",
              "<table border=\"1\" class=\"dataframe\">\n",
              "  <thead>\n",
              "    <tr style=\"text-align: right;\">\n",
              "      <th></th>\n",
              "      <th>Name</th>\n",
              "      <th>Age</th>\n",
              "      <th>City</th>\n",
              "      <th>Country</th>\n",
              "    </tr>\n",
              "  </thead>\n",
              "  <tbody>\n",
              "    <tr>\n",
              "      <th>0</th>\n",
              "      <td>John</td>\n",
              "      <td>28</td>\n",
              "      <td>Nazareth</td>\n",
              "      <td>Palestine</td>\n",
              "    </tr>\n",
              "    <tr>\n",
              "      <th>1</th>\n",
              "      <td>Aaron</td>\n",
              "      <td>33</td>\n",
              "      <td>Jerusalem</td>\n",
              "      <td>Palestine</td>\n",
              "    </tr>\n",
              "    <tr>\n",
              "      <th>2</th>\n",
              "      <td>Peter</td>\n",
              "      <td>35</td>\n",
              "      <td>Sinai</td>\n",
              "      <td>Egypt</td>\n",
              "    </tr>\n",
              "  </tbody>\n",
              "</table>\n",
              "</div>\n",
              "    <div class=\"colab-df-buttons\">\n",
              "\n",
              "  <div class=\"colab-df-container\">\n",
              "    <button class=\"colab-df-convert\" onclick=\"convertToInteractive('df-842d2d15-f760-448a-9cfe-590761c0acab')\"\n",
              "            title=\"Convert this dataframe to an interactive table.\"\n",
              "            style=\"display:none;\">\n",
              "\n",
              "  <svg xmlns=\"http://www.w3.org/2000/svg\" height=\"24px\" viewBox=\"0 -960 960 960\">\n",
              "    <path d=\"M120-120v-720h720v720H120Zm60-500h600v-160H180v160Zm220 220h160v-160H400v160Zm0 220h160v-160H400v160ZM180-400h160v-160H180v160Zm440 0h160v-160H620v160ZM180-180h160v-160H180v160Zm440 0h160v-160H620v160Z\"/>\n",
              "  </svg>\n",
              "    </button>\n",
              "\n",
              "  <style>\n",
              "    .colab-df-container {\n",
              "      display:flex;\n",
              "      gap: 12px;\n",
              "    }\n",
              "\n",
              "    .colab-df-convert {\n",
              "      background-color: #E8F0FE;\n",
              "      border: none;\n",
              "      border-radius: 50%;\n",
              "      cursor: pointer;\n",
              "      display: none;\n",
              "      fill: #1967D2;\n",
              "      height: 32px;\n",
              "      padding: 0 0 0 0;\n",
              "      width: 32px;\n",
              "    }\n",
              "\n",
              "    .colab-df-convert:hover {\n",
              "      background-color: #E2EBFA;\n",
              "      box-shadow: 0px 1px 2px rgba(60, 64, 67, 0.3), 0px 1px 3px 1px rgba(60, 64, 67, 0.15);\n",
              "      fill: #174EA6;\n",
              "    }\n",
              "\n",
              "    .colab-df-buttons div {\n",
              "      margin-bottom: 4px;\n",
              "    }\n",
              "\n",
              "    [theme=dark] .colab-df-convert {\n",
              "      background-color: #3B4455;\n",
              "      fill: #D2E3FC;\n",
              "    }\n",
              "\n",
              "    [theme=dark] .colab-df-convert:hover {\n",
              "      background-color: #434B5C;\n",
              "      box-shadow: 0px 1px 3px 1px rgba(0, 0, 0, 0.15);\n",
              "      filter: drop-shadow(0px 1px 2px rgba(0, 0, 0, 0.3));\n",
              "      fill: #FFFFFF;\n",
              "    }\n",
              "  </style>\n",
              "\n",
              "    <script>\n",
              "      const buttonEl =\n",
              "        document.querySelector('#df-842d2d15-f760-448a-9cfe-590761c0acab button.colab-df-convert');\n",
              "      buttonEl.style.display =\n",
              "        google.colab.kernel.accessAllowed ? 'block' : 'none';\n",
              "\n",
              "      async function convertToInteractive(key) {\n",
              "        const element = document.querySelector('#df-842d2d15-f760-448a-9cfe-590761c0acab');\n",
              "        const dataTable =\n",
              "          await google.colab.kernel.invokeFunction('convertToInteractive',\n",
              "                                                    [key], {});\n",
              "        if (!dataTable) return;\n",
              "\n",
              "        const docLinkHtml = 'Like what you see? Visit the ' +\n",
              "          '<a target=\"_blank\" href=https://colab.research.google.com/notebooks/data_table.ipynb>data table notebook</a>'\n",
              "          + ' to learn more about interactive tables.';\n",
              "        element.innerHTML = '';\n",
              "        dataTable['output_type'] = 'display_data';\n",
              "        await google.colab.output.renderOutput(dataTable, element);\n",
              "        const docLink = document.createElement('div');\n",
              "        docLink.innerHTML = docLinkHtml;\n",
              "        element.appendChild(docLink);\n",
              "      }\n",
              "    </script>\n",
              "  </div>\n",
              "\n",
              "\n",
              "<div id=\"df-6c216c86-0b50-4b9c-9e93-b8645f47bffc\">\n",
              "  <button class=\"colab-df-quickchart\" onclick=\"quickchart('df-6c216c86-0b50-4b9c-9e93-b8645f47bffc')\"\n",
              "            title=\"Suggest charts\"\n",
              "            style=\"display:none;\">\n",
              "\n",
              "<svg xmlns=\"http://www.w3.org/2000/svg\" height=\"24px\"viewBox=\"0 0 24 24\"\n",
              "     width=\"24px\">\n",
              "    <g>\n",
              "        <path d=\"M19 3H5c-1.1 0-2 .9-2 2v14c0 1.1.9 2 2 2h14c1.1 0 2-.9 2-2V5c0-1.1-.9-2-2-2zM9 17H7v-7h2v7zm4 0h-2V7h2v10zm4 0h-2v-4h2v4z\"/>\n",
              "    </g>\n",
              "</svg>\n",
              "  </button>\n",
              "\n",
              "<style>\n",
              "  .colab-df-quickchart {\n",
              "      --bg-color: #E8F0FE;\n",
              "      --fill-color: #1967D2;\n",
              "      --hover-bg-color: #E2EBFA;\n",
              "      --hover-fill-color: #174EA6;\n",
              "      --disabled-fill-color: #AAA;\n",
              "      --disabled-bg-color: #DDD;\n",
              "  }\n",
              "\n",
              "  [theme=dark] .colab-df-quickchart {\n",
              "      --bg-color: #3B4455;\n",
              "      --fill-color: #D2E3FC;\n",
              "      --hover-bg-color: #434B5C;\n",
              "      --hover-fill-color: #FFFFFF;\n",
              "      --disabled-bg-color: #3B4455;\n",
              "      --disabled-fill-color: #666;\n",
              "  }\n",
              "\n",
              "  .colab-df-quickchart {\n",
              "    background-color: var(--bg-color);\n",
              "    border: none;\n",
              "    border-radius: 50%;\n",
              "    cursor: pointer;\n",
              "    display: none;\n",
              "    fill: var(--fill-color);\n",
              "    height: 32px;\n",
              "    padding: 0;\n",
              "    width: 32px;\n",
              "  }\n",
              "\n",
              "  .colab-df-quickchart:hover {\n",
              "    background-color: var(--hover-bg-color);\n",
              "    box-shadow: 0 1px 2px rgba(60, 64, 67, 0.3), 0 1px 3px 1px rgba(60, 64, 67, 0.15);\n",
              "    fill: var(--button-hover-fill-color);\n",
              "  }\n",
              "\n",
              "  .colab-df-quickchart-complete:disabled,\n",
              "  .colab-df-quickchart-complete:disabled:hover {\n",
              "    background-color: var(--disabled-bg-color);\n",
              "    fill: var(--disabled-fill-color);\n",
              "    box-shadow: none;\n",
              "  }\n",
              "\n",
              "  .colab-df-spinner {\n",
              "    border: 2px solid var(--fill-color);\n",
              "    border-color: transparent;\n",
              "    border-bottom-color: var(--fill-color);\n",
              "    animation:\n",
              "      spin 1s steps(1) infinite;\n",
              "  }\n",
              "\n",
              "  @keyframes spin {\n",
              "    0% {\n",
              "      border-color: transparent;\n",
              "      border-bottom-color: var(--fill-color);\n",
              "      border-left-color: var(--fill-color);\n",
              "    }\n",
              "    20% {\n",
              "      border-color: transparent;\n",
              "      border-left-color: var(--fill-color);\n",
              "      border-top-color: var(--fill-color);\n",
              "    }\n",
              "    30% {\n",
              "      border-color: transparent;\n",
              "      border-left-color: var(--fill-color);\n",
              "      border-top-color: var(--fill-color);\n",
              "      border-right-color: var(--fill-color);\n",
              "    }\n",
              "    40% {\n",
              "      border-color: transparent;\n",
              "      border-right-color: var(--fill-color);\n",
              "      border-top-color: var(--fill-color);\n",
              "    }\n",
              "    60% {\n",
              "      border-color: transparent;\n",
              "      border-right-color: var(--fill-color);\n",
              "    }\n",
              "    80% {\n",
              "      border-color: transparent;\n",
              "      border-right-color: var(--fill-color);\n",
              "      border-bottom-color: var(--fill-color);\n",
              "    }\n",
              "    90% {\n",
              "      border-color: transparent;\n",
              "      border-bottom-color: var(--fill-color);\n",
              "    }\n",
              "  }\n",
              "</style>\n",
              "\n",
              "  <script>\n",
              "    async function quickchart(key) {\n",
              "      const quickchartButtonEl =\n",
              "        document.querySelector('#' + key + ' button');\n",
              "      quickchartButtonEl.disabled = true;  // To prevent multiple clicks.\n",
              "      quickchartButtonEl.classList.add('colab-df-spinner');\n",
              "      try {\n",
              "        const charts = await google.colab.kernel.invokeFunction(\n",
              "            'suggestCharts', [key], {});\n",
              "      } catch (error) {\n",
              "        console.error('Error during call to suggestCharts:', error);\n",
              "      }\n",
              "      quickchartButtonEl.classList.remove('colab-df-spinner');\n",
              "      quickchartButtonEl.classList.add('colab-df-quickchart-complete');\n",
              "    }\n",
              "    (() => {\n",
              "      let quickchartButtonEl =\n",
              "        document.querySelector('#df-6c216c86-0b50-4b9c-9e93-b8645f47bffc button');\n",
              "      quickchartButtonEl.style.display =\n",
              "        google.colab.kernel.accessAllowed ? 'block' : 'none';\n",
              "    })();\n",
              "  </script>\n",
              "</div>\n",
              "\n",
              "  <div id=\"id_64294db9-3d76-4f3a-aee1-fddf89c35c76\">\n",
              "    <style>\n",
              "      .colab-df-generate {\n",
              "        background-color: #E8F0FE;\n",
              "        border: none;\n",
              "        border-radius: 50%;\n",
              "        cursor: pointer;\n",
              "        display: none;\n",
              "        fill: #1967D2;\n",
              "        height: 32px;\n",
              "        padding: 0 0 0 0;\n",
              "        width: 32px;\n",
              "      }\n",
              "\n",
              "      .colab-df-generate:hover {\n",
              "        background-color: #E2EBFA;\n",
              "        box-shadow: 0px 1px 2px rgba(60, 64, 67, 0.3), 0px 1px 3px 1px rgba(60, 64, 67, 0.15);\n",
              "        fill: #174EA6;\n",
              "      }\n",
              "\n",
              "      [theme=dark] .colab-df-generate {\n",
              "        background-color: #3B4455;\n",
              "        fill: #D2E3FC;\n",
              "      }\n",
              "\n",
              "      [theme=dark] .colab-df-generate:hover {\n",
              "        background-color: #434B5C;\n",
              "        box-shadow: 0px 1px 3px 1px rgba(0, 0, 0, 0.15);\n",
              "        filter: drop-shadow(0px 1px 2px rgba(0, 0, 0, 0.3));\n",
              "        fill: #FFFFFF;\n",
              "      }\n",
              "    </style>\n",
              "    <button class=\"colab-df-generate\" onclick=\"generateWithVariable('df')\"\n",
              "            title=\"Generate code using this dataframe.\"\n",
              "            style=\"display:none;\">\n",
              "\n",
              "  <svg xmlns=\"http://www.w3.org/2000/svg\" height=\"24px\"viewBox=\"0 0 24 24\"\n",
              "       width=\"24px\">\n",
              "    <path d=\"M7,19H8.4L18.45,9,17,7.55,7,17.6ZM5,21V16.75L18.45,3.32a2,2,0,0,1,2.83,0l1.4,1.43a1.91,1.91,0,0,1,.58,1.4,1.91,1.91,0,0,1-.58,1.4L9.25,21ZM18.45,9,17,7.55Zm-12,3A5.31,5.31,0,0,0,4.9,8.1,5.31,5.31,0,0,0,1,6.5,5.31,5.31,0,0,0,4.9,4.9,5.31,5.31,0,0,0,6.5,1,5.31,5.31,0,0,0,8.1,4.9,5.31,5.31,0,0,0,12,6.5,5.46,5.46,0,0,0,6.5,12Z\"/>\n",
              "  </svg>\n",
              "    </button>\n",
              "    <script>\n",
              "      (() => {\n",
              "      const buttonEl =\n",
              "        document.querySelector('#id_64294db9-3d76-4f3a-aee1-fddf89c35c76 button.colab-df-generate');\n",
              "      buttonEl.style.display =\n",
              "        google.colab.kernel.accessAllowed ? 'block' : 'none';\n",
              "\n",
              "      buttonEl.onclick = () => {\n",
              "        google.colab.notebook.generateWithVariable('df');\n",
              "      }\n",
              "      })();\n",
              "    </script>\n",
              "  </div>\n",
              "\n",
              "    </div>\n",
              "  </div>\n"
            ],
            "application/vnd.google.colaboratory.intrinsic+json": {
              "type": "dataframe",
              "variable_name": "df",
              "summary": "{\n  \"name\": \"df\",\n  \"rows\": 3,\n  \"fields\": [\n    {\n      \"column\": \"Name\",\n      \"properties\": {\n        \"dtype\": \"string\",\n        \"num_unique_values\": 3,\n        \"samples\": [\n          \"John\",\n          \"Aaron\",\n          \"Peter\"\n        ],\n        \"semantic_type\": \"\",\n        \"description\": \"\"\n      }\n    },\n    {\n      \"column\": \"Age\",\n      \"properties\": {\n        \"dtype\": \"number\",\n        \"std\": 3,\n        \"min\": 28,\n        \"max\": 35,\n        \"num_unique_values\": 3,\n        \"samples\": [\n          28,\n          33,\n          35\n        ],\n        \"semantic_type\": \"\",\n        \"description\": \"\"\n      }\n    },\n    {\n      \"column\": \"City\",\n      \"properties\": {\n        \"dtype\": \"string\",\n        \"num_unique_values\": 3,\n        \"samples\": [\n          \"Nazareth\",\n          \"Jerusalem\",\n          \"Sinai\"\n        ],\n        \"semantic_type\": \"\",\n        \"description\": \"\"\n      }\n    },\n    {\n      \"column\": \"Country\",\n      \"properties\": {\n        \"dtype\": \"string\",\n        \"num_unique_values\": 2,\n        \"samples\": [\n          \"Egypt\",\n          \"Palestine\"\n        ],\n        \"semantic_type\": \"\",\n        \"description\": \"\"\n      }\n    }\n  ]\n}"
            }
          },
          "metadata": {},
          "execution_count": 15
        }
      ]
    },
    {
      "cell_type": "code",
      "source": [
        "df.iloc[0]"
      ],
      "metadata": {
        "colab": {
          "base_uri": "https://localhost:8080/",
          "height": 209
        },
        "id": "RJLQZ2CrACTw",
        "outputId": "8af58e4a-f839-46ed-f134-957e791fb540"
      },
      "execution_count": null,
      "outputs": [
        {
          "output_type": "execute_result",
          "data": {
            "text/plain": [
              "Name            John\n",
              "Age               28\n",
              "City        Nazareth\n",
              "Country    Palestine\n",
              "Name: 0, dtype: object"
            ],
            "text/html": [
              "<div>\n",
              "<style scoped>\n",
              "    .dataframe tbody tr th:only-of-type {\n",
              "        vertical-align: middle;\n",
              "    }\n",
              "\n",
              "    .dataframe tbody tr th {\n",
              "        vertical-align: top;\n",
              "    }\n",
              "\n",
              "    .dataframe thead th {\n",
              "        text-align: right;\n",
              "    }\n",
              "</style>\n",
              "<table border=\"1\" class=\"dataframe\">\n",
              "  <thead>\n",
              "    <tr style=\"text-align: right;\">\n",
              "      <th></th>\n",
              "      <th>0</th>\n",
              "    </tr>\n",
              "  </thead>\n",
              "  <tbody>\n",
              "    <tr>\n",
              "      <th>Name</th>\n",
              "      <td>John</td>\n",
              "    </tr>\n",
              "    <tr>\n",
              "      <th>Age</th>\n",
              "      <td>28</td>\n",
              "    </tr>\n",
              "    <tr>\n",
              "      <th>City</th>\n",
              "      <td>Nazareth</td>\n",
              "    </tr>\n",
              "    <tr>\n",
              "      <th>Country</th>\n",
              "      <td>Palestine</td>\n",
              "    </tr>\n",
              "  </tbody>\n",
              "</table>\n",
              "</div><br><label><b>dtype:</b> object</label>"
            ]
          },
          "metadata": {},
          "execution_count": 16
        }
      ]
    },
    {
      "cell_type": "code",
      "source": [
        "sorted_df = df.sort_values(by='Age')\n",
        "sorted_df"
      ],
      "metadata": {
        "colab": {
          "base_uri": "https://localhost:8080/",
          "height": 143
        },
        "id": "mFboQTa-AXwp",
        "outputId": "8a620dd6-a211-4f57-ccd7-23dfaa8fdf86"
      },
      "execution_count": null,
      "outputs": [
        {
          "output_type": "execute_result",
          "data": {
            "text/plain": [
              "    Name  Age       City    Country\n",
              "0   John   28   Nazareth  Palestine\n",
              "1  Aaron   33  Jerusalem  Palestine\n",
              "2  Peter   35      Sinai      Egypt"
            ],
            "text/html": [
              "\n",
              "  <div id=\"df-a83375c2-d9e9-4b59-93a8-d610ac5492ee\" class=\"colab-df-container\">\n",
              "    <div>\n",
              "<style scoped>\n",
              "    .dataframe tbody tr th:only-of-type {\n",
              "        vertical-align: middle;\n",
              "    }\n",
              "\n",
              "    .dataframe tbody tr th {\n",
              "        vertical-align: top;\n",
              "    }\n",
              "\n",
              "    .dataframe thead th {\n",
              "        text-align: right;\n",
              "    }\n",
              "</style>\n",
              "<table border=\"1\" class=\"dataframe\">\n",
              "  <thead>\n",
              "    <tr style=\"text-align: right;\">\n",
              "      <th></th>\n",
              "      <th>Name</th>\n",
              "      <th>Age</th>\n",
              "      <th>City</th>\n",
              "      <th>Country</th>\n",
              "    </tr>\n",
              "  </thead>\n",
              "  <tbody>\n",
              "    <tr>\n",
              "      <th>0</th>\n",
              "      <td>John</td>\n",
              "      <td>28</td>\n",
              "      <td>Nazareth</td>\n",
              "      <td>Palestine</td>\n",
              "    </tr>\n",
              "    <tr>\n",
              "      <th>1</th>\n",
              "      <td>Aaron</td>\n",
              "      <td>33</td>\n",
              "      <td>Jerusalem</td>\n",
              "      <td>Palestine</td>\n",
              "    </tr>\n",
              "    <tr>\n",
              "      <th>2</th>\n",
              "      <td>Peter</td>\n",
              "      <td>35</td>\n",
              "      <td>Sinai</td>\n",
              "      <td>Egypt</td>\n",
              "    </tr>\n",
              "  </tbody>\n",
              "</table>\n",
              "</div>\n",
              "    <div class=\"colab-df-buttons\">\n",
              "\n",
              "  <div class=\"colab-df-container\">\n",
              "    <button class=\"colab-df-convert\" onclick=\"convertToInteractive('df-a83375c2-d9e9-4b59-93a8-d610ac5492ee')\"\n",
              "            title=\"Convert this dataframe to an interactive table.\"\n",
              "            style=\"display:none;\">\n",
              "\n",
              "  <svg xmlns=\"http://www.w3.org/2000/svg\" height=\"24px\" viewBox=\"0 -960 960 960\">\n",
              "    <path d=\"M120-120v-720h720v720H120Zm60-500h600v-160H180v160Zm220 220h160v-160H400v160Zm0 220h160v-160H400v160ZM180-400h160v-160H180v160Zm440 0h160v-160H620v160ZM180-180h160v-160H180v160Zm440 0h160v-160H620v160Z\"/>\n",
              "  </svg>\n",
              "    </button>\n",
              "\n",
              "  <style>\n",
              "    .colab-df-container {\n",
              "      display:flex;\n",
              "      gap: 12px;\n",
              "    }\n",
              "\n",
              "    .colab-df-convert {\n",
              "      background-color: #E8F0FE;\n",
              "      border: none;\n",
              "      border-radius: 50%;\n",
              "      cursor: pointer;\n",
              "      display: none;\n",
              "      fill: #1967D2;\n",
              "      height: 32px;\n",
              "      padding: 0 0 0 0;\n",
              "      width: 32px;\n",
              "    }\n",
              "\n",
              "    .colab-df-convert:hover {\n",
              "      background-color: #E2EBFA;\n",
              "      box-shadow: 0px 1px 2px rgba(60, 64, 67, 0.3), 0px 1px 3px 1px rgba(60, 64, 67, 0.15);\n",
              "      fill: #174EA6;\n",
              "    }\n",
              "\n",
              "    .colab-df-buttons div {\n",
              "      margin-bottom: 4px;\n",
              "    }\n",
              "\n",
              "    [theme=dark] .colab-df-convert {\n",
              "      background-color: #3B4455;\n",
              "      fill: #D2E3FC;\n",
              "    }\n",
              "\n",
              "    [theme=dark] .colab-df-convert:hover {\n",
              "      background-color: #434B5C;\n",
              "      box-shadow: 0px 1px 3px 1px rgba(0, 0, 0, 0.15);\n",
              "      filter: drop-shadow(0px 1px 2px rgba(0, 0, 0, 0.3));\n",
              "      fill: #FFFFFF;\n",
              "    }\n",
              "  </style>\n",
              "\n",
              "    <script>\n",
              "      const buttonEl =\n",
              "        document.querySelector('#df-a83375c2-d9e9-4b59-93a8-d610ac5492ee button.colab-df-convert');\n",
              "      buttonEl.style.display =\n",
              "        google.colab.kernel.accessAllowed ? 'block' : 'none';\n",
              "\n",
              "      async function convertToInteractive(key) {\n",
              "        const element = document.querySelector('#df-a83375c2-d9e9-4b59-93a8-d610ac5492ee');\n",
              "        const dataTable =\n",
              "          await google.colab.kernel.invokeFunction('convertToInteractive',\n",
              "                                                    [key], {});\n",
              "        if (!dataTable) return;\n",
              "\n",
              "        const docLinkHtml = 'Like what you see? Visit the ' +\n",
              "          '<a target=\"_blank\" href=https://colab.research.google.com/notebooks/data_table.ipynb>data table notebook</a>'\n",
              "          + ' to learn more about interactive tables.';\n",
              "        element.innerHTML = '';\n",
              "        dataTable['output_type'] = 'display_data';\n",
              "        await google.colab.output.renderOutput(dataTable, element);\n",
              "        const docLink = document.createElement('div');\n",
              "        docLink.innerHTML = docLinkHtml;\n",
              "        element.appendChild(docLink);\n",
              "      }\n",
              "    </script>\n",
              "  </div>\n",
              "\n",
              "\n",
              "<div id=\"df-abab9f2c-a7a2-4c8a-affc-2f5a08e7c04d\">\n",
              "  <button class=\"colab-df-quickchart\" onclick=\"quickchart('df-abab9f2c-a7a2-4c8a-affc-2f5a08e7c04d')\"\n",
              "            title=\"Suggest charts\"\n",
              "            style=\"display:none;\">\n",
              "\n",
              "<svg xmlns=\"http://www.w3.org/2000/svg\" height=\"24px\"viewBox=\"0 0 24 24\"\n",
              "     width=\"24px\">\n",
              "    <g>\n",
              "        <path d=\"M19 3H5c-1.1 0-2 .9-2 2v14c0 1.1.9 2 2 2h14c1.1 0 2-.9 2-2V5c0-1.1-.9-2-2-2zM9 17H7v-7h2v7zm4 0h-2V7h2v10zm4 0h-2v-4h2v4z\"/>\n",
              "    </g>\n",
              "</svg>\n",
              "  </button>\n",
              "\n",
              "<style>\n",
              "  .colab-df-quickchart {\n",
              "      --bg-color: #E8F0FE;\n",
              "      --fill-color: #1967D2;\n",
              "      --hover-bg-color: #E2EBFA;\n",
              "      --hover-fill-color: #174EA6;\n",
              "      --disabled-fill-color: #AAA;\n",
              "      --disabled-bg-color: #DDD;\n",
              "  }\n",
              "\n",
              "  [theme=dark] .colab-df-quickchart {\n",
              "      --bg-color: #3B4455;\n",
              "      --fill-color: #D2E3FC;\n",
              "      --hover-bg-color: #434B5C;\n",
              "      --hover-fill-color: #FFFFFF;\n",
              "      --disabled-bg-color: #3B4455;\n",
              "      --disabled-fill-color: #666;\n",
              "  }\n",
              "\n",
              "  .colab-df-quickchart {\n",
              "    background-color: var(--bg-color);\n",
              "    border: none;\n",
              "    border-radius: 50%;\n",
              "    cursor: pointer;\n",
              "    display: none;\n",
              "    fill: var(--fill-color);\n",
              "    height: 32px;\n",
              "    padding: 0;\n",
              "    width: 32px;\n",
              "  }\n",
              "\n",
              "  .colab-df-quickchart:hover {\n",
              "    background-color: var(--hover-bg-color);\n",
              "    box-shadow: 0 1px 2px rgba(60, 64, 67, 0.3), 0 1px 3px 1px rgba(60, 64, 67, 0.15);\n",
              "    fill: var(--button-hover-fill-color);\n",
              "  }\n",
              "\n",
              "  .colab-df-quickchart-complete:disabled,\n",
              "  .colab-df-quickchart-complete:disabled:hover {\n",
              "    background-color: var(--disabled-bg-color);\n",
              "    fill: var(--disabled-fill-color);\n",
              "    box-shadow: none;\n",
              "  }\n",
              "\n",
              "  .colab-df-spinner {\n",
              "    border: 2px solid var(--fill-color);\n",
              "    border-color: transparent;\n",
              "    border-bottom-color: var(--fill-color);\n",
              "    animation:\n",
              "      spin 1s steps(1) infinite;\n",
              "  }\n",
              "\n",
              "  @keyframes spin {\n",
              "    0% {\n",
              "      border-color: transparent;\n",
              "      border-bottom-color: var(--fill-color);\n",
              "      border-left-color: var(--fill-color);\n",
              "    }\n",
              "    20% {\n",
              "      border-color: transparent;\n",
              "      border-left-color: var(--fill-color);\n",
              "      border-top-color: var(--fill-color);\n",
              "    }\n",
              "    30% {\n",
              "      border-color: transparent;\n",
              "      border-left-color: var(--fill-color);\n",
              "      border-top-color: var(--fill-color);\n",
              "      border-right-color: var(--fill-color);\n",
              "    }\n",
              "    40% {\n",
              "      border-color: transparent;\n",
              "      border-right-color: var(--fill-color);\n",
              "      border-top-color: var(--fill-color);\n",
              "    }\n",
              "    60% {\n",
              "      border-color: transparent;\n",
              "      border-right-color: var(--fill-color);\n",
              "    }\n",
              "    80% {\n",
              "      border-color: transparent;\n",
              "      border-right-color: var(--fill-color);\n",
              "      border-bottom-color: var(--fill-color);\n",
              "    }\n",
              "    90% {\n",
              "      border-color: transparent;\n",
              "      border-bottom-color: var(--fill-color);\n",
              "    }\n",
              "  }\n",
              "</style>\n",
              "\n",
              "  <script>\n",
              "    async function quickchart(key) {\n",
              "      const quickchartButtonEl =\n",
              "        document.querySelector('#' + key + ' button');\n",
              "      quickchartButtonEl.disabled = true;  // To prevent multiple clicks.\n",
              "      quickchartButtonEl.classList.add('colab-df-spinner');\n",
              "      try {\n",
              "        const charts = await google.colab.kernel.invokeFunction(\n",
              "            'suggestCharts', [key], {});\n",
              "      } catch (error) {\n",
              "        console.error('Error during call to suggestCharts:', error);\n",
              "      }\n",
              "      quickchartButtonEl.classList.remove('colab-df-spinner');\n",
              "      quickchartButtonEl.classList.add('colab-df-quickchart-complete');\n",
              "    }\n",
              "    (() => {\n",
              "      let quickchartButtonEl =\n",
              "        document.querySelector('#df-abab9f2c-a7a2-4c8a-affc-2f5a08e7c04d button');\n",
              "      quickchartButtonEl.style.display =\n",
              "        google.colab.kernel.accessAllowed ? 'block' : 'none';\n",
              "    })();\n",
              "  </script>\n",
              "</div>\n",
              "\n",
              "  <div id=\"id_107a1dde-871c-4254-b5a6-b571f1c76498\">\n",
              "    <style>\n",
              "      .colab-df-generate {\n",
              "        background-color: #E8F0FE;\n",
              "        border: none;\n",
              "        border-radius: 50%;\n",
              "        cursor: pointer;\n",
              "        display: none;\n",
              "        fill: #1967D2;\n",
              "        height: 32px;\n",
              "        padding: 0 0 0 0;\n",
              "        width: 32px;\n",
              "      }\n",
              "\n",
              "      .colab-df-generate:hover {\n",
              "        background-color: #E2EBFA;\n",
              "        box-shadow: 0px 1px 2px rgba(60, 64, 67, 0.3), 0px 1px 3px 1px rgba(60, 64, 67, 0.15);\n",
              "        fill: #174EA6;\n",
              "      }\n",
              "\n",
              "      [theme=dark] .colab-df-generate {\n",
              "        background-color: #3B4455;\n",
              "        fill: #D2E3FC;\n",
              "      }\n",
              "\n",
              "      [theme=dark] .colab-df-generate:hover {\n",
              "        background-color: #434B5C;\n",
              "        box-shadow: 0px 1px 3px 1px rgba(0, 0, 0, 0.15);\n",
              "        filter: drop-shadow(0px 1px 2px rgba(0, 0, 0, 0.3));\n",
              "        fill: #FFFFFF;\n",
              "      }\n",
              "    </style>\n",
              "    <button class=\"colab-df-generate\" onclick=\"generateWithVariable('sorted_df')\"\n",
              "            title=\"Generate code using this dataframe.\"\n",
              "            style=\"display:none;\">\n",
              "\n",
              "  <svg xmlns=\"http://www.w3.org/2000/svg\" height=\"24px\"viewBox=\"0 0 24 24\"\n",
              "       width=\"24px\">\n",
              "    <path d=\"M7,19H8.4L18.45,9,17,7.55,7,17.6ZM5,21V16.75L18.45,3.32a2,2,0,0,1,2.83,0l1.4,1.43a1.91,1.91,0,0,1,.58,1.4,1.91,1.91,0,0,1-.58,1.4L9.25,21ZM18.45,9,17,7.55Zm-12,3A5.31,5.31,0,0,0,4.9,8.1,5.31,5.31,0,0,0,1,6.5,5.31,5.31,0,0,0,4.9,4.9,5.31,5.31,0,0,0,6.5,1,5.31,5.31,0,0,0,8.1,4.9,5.31,5.31,0,0,0,12,6.5,5.46,5.46,0,0,0,6.5,12Z\"/>\n",
              "  </svg>\n",
              "    </button>\n",
              "    <script>\n",
              "      (() => {\n",
              "      const buttonEl =\n",
              "        document.querySelector('#id_107a1dde-871c-4254-b5a6-b571f1c76498 button.colab-df-generate');\n",
              "      buttonEl.style.display =\n",
              "        google.colab.kernel.accessAllowed ? 'block' : 'none';\n",
              "\n",
              "      buttonEl.onclick = () => {\n",
              "        google.colab.notebook.generateWithVariable('sorted_df');\n",
              "      }\n",
              "      })();\n",
              "    </script>\n",
              "  </div>\n",
              "\n",
              "    </div>\n",
              "  </div>\n"
            ],
            "application/vnd.google.colaboratory.intrinsic+json": {
              "type": "dataframe",
              "variable_name": "sorted_df",
              "summary": "{\n  \"name\": \"sorted_df\",\n  \"rows\": 3,\n  \"fields\": [\n    {\n      \"column\": \"Name\",\n      \"properties\": {\n        \"dtype\": \"string\",\n        \"num_unique_values\": 3,\n        \"samples\": [\n          \"John\",\n          \"Aaron\",\n          \"Peter\"\n        ],\n        \"semantic_type\": \"\",\n        \"description\": \"\"\n      }\n    },\n    {\n      \"column\": \"Age\",\n      \"properties\": {\n        \"dtype\": \"number\",\n        \"std\": 3,\n        \"min\": 28,\n        \"max\": 35,\n        \"num_unique_values\": 3,\n        \"samples\": [\n          28,\n          33,\n          35\n        ],\n        \"semantic_type\": \"\",\n        \"description\": \"\"\n      }\n    },\n    {\n      \"column\": \"City\",\n      \"properties\": {\n        \"dtype\": \"string\",\n        \"num_unique_values\": 3,\n        \"samples\": [\n          \"Nazareth\",\n          \"Jerusalem\",\n          \"Sinai\"\n        ],\n        \"semantic_type\": \"\",\n        \"description\": \"\"\n      }\n    },\n    {\n      \"column\": \"Country\",\n      \"properties\": {\n        \"dtype\": \"string\",\n        \"num_unique_values\": 2,\n        \"samples\": [\n          \"Egypt\",\n          \"Palestine\"\n        ],\n        \"semantic_type\": \"\",\n        \"description\": \"\"\n      }\n    }\n  ]\n}"
            }
          },
          "metadata": {},
          "execution_count": 17
        }
      ]
    },
    {
      "cell_type": "code",
      "source": [
        "df.sort_values(by='Age', ascending=True)"
      ],
      "metadata": {
        "colab": {
          "base_uri": "https://localhost:8080/",
          "height": 143
        },
        "id": "yUbU17zcDUer",
        "outputId": "649806d0-e9d5-4f84-a82b-7d3d305a9a0d"
      },
      "execution_count": null,
      "outputs": [
        {
          "output_type": "execute_result",
          "data": {
            "text/plain": [
              "    Name  Age       City    Country\n",
              "0   John   28   Nazareth  Palestine\n",
              "1  Aaron   33  Jerusalem  Palestine\n",
              "2  Peter   35      Sinai      Egypt"
            ],
            "text/html": [
              "\n",
              "  <div id=\"df-6211d0c5-ac83-4a70-b293-074858910b2a\" class=\"colab-df-container\">\n",
              "    <div>\n",
              "<style scoped>\n",
              "    .dataframe tbody tr th:only-of-type {\n",
              "        vertical-align: middle;\n",
              "    }\n",
              "\n",
              "    .dataframe tbody tr th {\n",
              "        vertical-align: top;\n",
              "    }\n",
              "\n",
              "    .dataframe thead th {\n",
              "        text-align: right;\n",
              "    }\n",
              "</style>\n",
              "<table border=\"1\" class=\"dataframe\">\n",
              "  <thead>\n",
              "    <tr style=\"text-align: right;\">\n",
              "      <th></th>\n",
              "      <th>Name</th>\n",
              "      <th>Age</th>\n",
              "      <th>City</th>\n",
              "      <th>Country</th>\n",
              "    </tr>\n",
              "  </thead>\n",
              "  <tbody>\n",
              "    <tr>\n",
              "      <th>0</th>\n",
              "      <td>John</td>\n",
              "      <td>28</td>\n",
              "      <td>Nazareth</td>\n",
              "      <td>Palestine</td>\n",
              "    </tr>\n",
              "    <tr>\n",
              "      <th>1</th>\n",
              "      <td>Aaron</td>\n",
              "      <td>33</td>\n",
              "      <td>Jerusalem</td>\n",
              "      <td>Palestine</td>\n",
              "    </tr>\n",
              "    <tr>\n",
              "      <th>2</th>\n",
              "      <td>Peter</td>\n",
              "      <td>35</td>\n",
              "      <td>Sinai</td>\n",
              "      <td>Egypt</td>\n",
              "    </tr>\n",
              "  </tbody>\n",
              "</table>\n",
              "</div>\n",
              "    <div class=\"colab-df-buttons\">\n",
              "\n",
              "  <div class=\"colab-df-container\">\n",
              "    <button class=\"colab-df-convert\" onclick=\"convertToInteractive('df-6211d0c5-ac83-4a70-b293-074858910b2a')\"\n",
              "            title=\"Convert this dataframe to an interactive table.\"\n",
              "            style=\"display:none;\">\n",
              "\n",
              "  <svg xmlns=\"http://www.w3.org/2000/svg\" height=\"24px\" viewBox=\"0 -960 960 960\">\n",
              "    <path d=\"M120-120v-720h720v720H120Zm60-500h600v-160H180v160Zm220 220h160v-160H400v160Zm0 220h160v-160H400v160ZM180-400h160v-160H180v160Zm440 0h160v-160H620v160ZM180-180h160v-160H180v160Zm440 0h160v-160H620v160Z\"/>\n",
              "  </svg>\n",
              "    </button>\n",
              "\n",
              "  <style>\n",
              "    .colab-df-container {\n",
              "      display:flex;\n",
              "      gap: 12px;\n",
              "    }\n",
              "\n",
              "    .colab-df-convert {\n",
              "      background-color: #E8F0FE;\n",
              "      border: none;\n",
              "      border-radius: 50%;\n",
              "      cursor: pointer;\n",
              "      display: none;\n",
              "      fill: #1967D2;\n",
              "      height: 32px;\n",
              "      padding: 0 0 0 0;\n",
              "      width: 32px;\n",
              "    }\n",
              "\n",
              "    .colab-df-convert:hover {\n",
              "      background-color: #E2EBFA;\n",
              "      box-shadow: 0px 1px 2px rgba(60, 64, 67, 0.3), 0px 1px 3px 1px rgba(60, 64, 67, 0.15);\n",
              "      fill: #174EA6;\n",
              "    }\n",
              "\n",
              "    .colab-df-buttons div {\n",
              "      margin-bottom: 4px;\n",
              "    }\n",
              "\n",
              "    [theme=dark] .colab-df-convert {\n",
              "      background-color: #3B4455;\n",
              "      fill: #D2E3FC;\n",
              "    }\n",
              "\n",
              "    [theme=dark] .colab-df-convert:hover {\n",
              "      background-color: #434B5C;\n",
              "      box-shadow: 0px 1px 3px 1px rgba(0, 0, 0, 0.15);\n",
              "      filter: drop-shadow(0px 1px 2px rgba(0, 0, 0, 0.3));\n",
              "      fill: #FFFFFF;\n",
              "    }\n",
              "  </style>\n",
              "\n",
              "    <script>\n",
              "      const buttonEl =\n",
              "        document.querySelector('#df-6211d0c5-ac83-4a70-b293-074858910b2a button.colab-df-convert');\n",
              "      buttonEl.style.display =\n",
              "        google.colab.kernel.accessAllowed ? 'block' : 'none';\n",
              "\n",
              "      async function convertToInteractive(key) {\n",
              "        const element = document.querySelector('#df-6211d0c5-ac83-4a70-b293-074858910b2a');\n",
              "        const dataTable =\n",
              "          await google.colab.kernel.invokeFunction('convertToInteractive',\n",
              "                                                    [key], {});\n",
              "        if (!dataTable) return;\n",
              "\n",
              "        const docLinkHtml = 'Like what you see? Visit the ' +\n",
              "          '<a target=\"_blank\" href=https://colab.research.google.com/notebooks/data_table.ipynb>data table notebook</a>'\n",
              "          + ' to learn more about interactive tables.';\n",
              "        element.innerHTML = '';\n",
              "        dataTable['output_type'] = 'display_data';\n",
              "        await google.colab.output.renderOutput(dataTable, element);\n",
              "        const docLink = document.createElement('div');\n",
              "        docLink.innerHTML = docLinkHtml;\n",
              "        element.appendChild(docLink);\n",
              "      }\n",
              "    </script>\n",
              "  </div>\n",
              "\n",
              "\n",
              "<div id=\"df-d1623f61-3187-4fad-9835-b81e335e3158\">\n",
              "  <button class=\"colab-df-quickchart\" onclick=\"quickchart('df-d1623f61-3187-4fad-9835-b81e335e3158')\"\n",
              "            title=\"Suggest charts\"\n",
              "            style=\"display:none;\">\n",
              "\n",
              "<svg xmlns=\"http://www.w3.org/2000/svg\" height=\"24px\"viewBox=\"0 0 24 24\"\n",
              "     width=\"24px\">\n",
              "    <g>\n",
              "        <path d=\"M19 3H5c-1.1 0-2 .9-2 2v14c0 1.1.9 2 2 2h14c1.1 0 2-.9 2-2V5c0-1.1-.9-2-2-2zM9 17H7v-7h2v7zm4 0h-2V7h2v10zm4 0h-2v-4h2v4z\"/>\n",
              "    </g>\n",
              "</svg>\n",
              "  </button>\n",
              "\n",
              "<style>\n",
              "  .colab-df-quickchart {\n",
              "      --bg-color: #E8F0FE;\n",
              "      --fill-color: #1967D2;\n",
              "      --hover-bg-color: #E2EBFA;\n",
              "      --hover-fill-color: #174EA6;\n",
              "      --disabled-fill-color: #AAA;\n",
              "      --disabled-bg-color: #DDD;\n",
              "  }\n",
              "\n",
              "  [theme=dark] .colab-df-quickchart {\n",
              "      --bg-color: #3B4455;\n",
              "      --fill-color: #D2E3FC;\n",
              "      --hover-bg-color: #434B5C;\n",
              "      --hover-fill-color: #FFFFFF;\n",
              "      --disabled-bg-color: #3B4455;\n",
              "      --disabled-fill-color: #666;\n",
              "  }\n",
              "\n",
              "  .colab-df-quickchart {\n",
              "    background-color: var(--bg-color);\n",
              "    border: none;\n",
              "    border-radius: 50%;\n",
              "    cursor: pointer;\n",
              "    display: none;\n",
              "    fill: var(--fill-color);\n",
              "    height: 32px;\n",
              "    padding: 0;\n",
              "    width: 32px;\n",
              "  }\n",
              "\n",
              "  .colab-df-quickchart:hover {\n",
              "    background-color: var(--hover-bg-color);\n",
              "    box-shadow: 0 1px 2px rgba(60, 64, 67, 0.3), 0 1px 3px 1px rgba(60, 64, 67, 0.15);\n",
              "    fill: var(--button-hover-fill-color);\n",
              "  }\n",
              "\n",
              "  .colab-df-quickchart-complete:disabled,\n",
              "  .colab-df-quickchart-complete:disabled:hover {\n",
              "    background-color: var(--disabled-bg-color);\n",
              "    fill: var(--disabled-fill-color);\n",
              "    box-shadow: none;\n",
              "  }\n",
              "\n",
              "  .colab-df-spinner {\n",
              "    border: 2px solid var(--fill-color);\n",
              "    border-color: transparent;\n",
              "    border-bottom-color: var(--fill-color);\n",
              "    animation:\n",
              "      spin 1s steps(1) infinite;\n",
              "  }\n",
              "\n",
              "  @keyframes spin {\n",
              "    0% {\n",
              "      border-color: transparent;\n",
              "      border-bottom-color: var(--fill-color);\n",
              "      border-left-color: var(--fill-color);\n",
              "    }\n",
              "    20% {\n",
              "      border-color: transparent;\n",
              "      border-left-color: var(--fill-color);\n",
              "      border-top-color: var(--fill-color);\n",
              "    }\n",
              "    30% {\n",
              "      border-color: transparent;\n",
              "      border-left-color: var(--fill-color);\n",
              "      border-top-color: var(--fill-color);\n",
              "      border-right-color: var(--fill-color);\n",
              "    }\n",
              "    40% {\n",
              "      border-color: transparent;\n",
              "      border-right-color: var(--fill-color);\n",
              "      border-top-color: var(--fill-color);\n",
              "    }\n",
              "    60% {\n",
              "      border-color: transparent;\n",
              "      border-right-color: var(--fill-color);\n",
              "    }\n",
              "    80% {\n",
              "      border-color: transparent;\n",
              "      border-right-color: var(--fill-color);\n",
              "      border-bottom-color: var(--fill-color);\n",
              "    }\n",
              "    90% {\n",
              "      border-color: transparent;\n",
              "      border-bottom-color: var(--fill-color);\n",
              "    }\n",
              "  }\n",
              "</style>\n",
              "\n",
              "  <script>\n",
              "    async function quickchart(key) {\n",
              "      const quickchartButtonEl =\n",
              "        document.querySelector('#' + key + ' button');\n",
              "      quickchartButtonEl.disabled = true;  // To prevent multiple clicks.\n",
              "      quickchartButtonEl.classList.add('colab-df-spinner');\n",
              "      try {\n",
              "        const charts = await google.colab.kernel.invokeFunction(\n",
              "            'suggestCharts', [key], {});\n",
              "      } catch (error) {\n",
              "        console.error('Error during call to suggestCharts:', error);\n",
              "      }\n",
              "      quickchartButtonEl.classList.remove('colab-df-spinner');\n",
              "      quickchartButtonEl.classList.add('colab-df-quickchart-complete');\n",
              "    }\n",
              "    (() => {\n",
              "      let quickchartButtonEl =\n",
              "        document.querySelector('#df-d1623f61-3187-4fad-9835-b81e335e3158 button');\n",
              "      quickchartButtonEl.style.display =\n",
              "        google.colab.kernel.accessAllowed ? 'block' : 'none';\n",
              "    })();\n",
              "  </script>\n",
              "</div>\n",
              "\n",
              "    </div>\n",
              "  </div>\n"
            ],
            "application/vnd.google.colaboratory.intrinsic+json": {
              "type": "dataframe",
              "summary": "{\n  \"name\": \"df\",\n  \"rows\": 3,\n  \"fields\": [\n    {\n      \"column\": \"Name\",\n      \"properties\": {\n        \"dtype\": \"string\",\n        \"num_unique_values\": 3,\n        \"samples\": [\n          \"John\",\n          \"Aaron\",\n          \"Peter\"\n        ],\n        \"semantic_type\": \"\",\n        \"description\": \"\"\n      }\n    },\n    {\n      \"column\": \"Age\",\n      \"properties\": {\n        \"dtype\": \"number\",\n        \"std\": 3,\n        \"min\": 28,\n        \"max\": 35,\n        \"num_unique_values\": 3,\n        \"samples\": [\n          28,\n          33,\n          35\n        ],\n        \"semantic_type\": \"\",\n        \"description\": \"\"\n      }\n    },\n    {\n      \"column\": \"City\",\n      \"properties\": {\n        \"dtype\": \"string\",\n        \"num_unique_values\": 3,\n        \"samples\": [\n          \"Nazareth\",\n          \"Jerusalem\",\n          \"Sinai\"\n        ],\n        \"semantic_type\": \"\",\n        \"description\": \"\"\n      }\n    },\n    {\n      \"column\": \"Country\",\n      \"properties\": {\n        \"dtype\": \"string\",\n        \"num_unique_values\": 2,\n        \"samples\": [\n          \"Egypt\",\n          \"Palestine\"\n        ],\n        \"semantic_type\": \"\",\n        \"description\": \"\"\n      }\n    }\n  ]\n}"
            }
          },
          "metadata": {},
          "execution_count": 19
        }
      ]
    },
    {
      "cell_type": "code",
      "source": [
        "result = df.groupby('Country')['Age'].mean()\n",
        "result"
      ],
      "metadata": {
        "colab": {
          "base_uri": "https://localhost:8080/",
          "height": 178
        },
        "id": "jbvcCaArDfcg",
        "outputId": "99b10fbe-bbf1-4e2f-fe9b-19768c958ba9"
      },
      "execution_count": null,
      "outputs": [
        {
          "output_type": "execute_result",
          "data": {
            "text/plain": [
              "Country\n",
              "Egypt        35.0\n",
              "Palestine    30.5\n",
              "Name: Age, dtype: float64"
            ],
            "text/html": [
              "<div>\n",
              "<style scoped>\n",
              "    .dataframe tbody tr th:only-of-type {\n",
              "        vertical-align: middle;\n",
              "    }\n",
              "\n",
              "    .dataframe tbody tr th {\n",
              "        vertical-align: top;\n",
              "    }\n",
              "\n",
              "    .dataframe thead th {\n",
              "        text-align: right;\n",
              "    }\n",
              "</style>\n",
              "<table border=\"1\" class=\"dataframe\">\n",
              "  <thead>\n",
              "    <tr style=\"text-align: right;\">\n",
              "      <th></th>\n",
              "      <th>Age</th>\n",
              "    </tr>\n",
              "    <tr>\n",
              "      <th>Country</th>\n",
              "      <th></th>\n",
              "    </tr>\n",
              "  </thead>\n",
              "  <tbody>\n",
              "    <tr>\n",
              "      <th>Egypt</th>\n",
              "      <td>35.0</td>\n",
              "    </tr>\n",
              "    <tr>\n",
              "      <th>Palestine</th>\n",
              "      <td>30.5</td>\n",
              "    </tr>\n",
              "  </tbody>\n",
              "</table>\n",
              "</div><br><label><b>dtype:</b> float64</label>"
            ]
          },
          "metadata": {},
          "execution_count": 24
        }
      ]
    },
    {
      "cell_type": "code",
      "source": [
        "x = {\n",
        "    'Name' : ['Aaron', 'Benjamin', 'Caeser', 'David', 'Elijah', 'Frank', 'Gabriel', 'Hager'],\n",
        "    'Age' : [20, 25, 30, 35, 40, 45, 50, 55],\n",
        "    'Score' : [89, 99, 98, 78, 80, 90, 91, 93]\n",
        "}\n",
        "y = pd.DataFrame(x)\n",
        "y"
      ],
      "metadata": {
        "colab": {
          "base_uri": "https://localhost:8080/",
          "height": 300
        },
        "id": "HSi-JvxPF2kA",
        "outputId": "14190132-7eb9-4eef-af35-e784255490f7"
      },
      "execution_count": null,
      "outputs": [
        {
          "output_type": "execute_result",
          "data": {
            "text/plain": [
              "       Name  Age  Score\n",
              "0     Aaron   20     89\n",
              "1  Benjamin   25     99\n",
              "2    Caeser   30     98\n",
              "3     David   35     78\n",
              "4    Elijah   40     80\n",
              "5     Frank   45     90\n",
              "6   Gabriel   50     91\n",
              "7     Hager   55     93"
            ],
            "text/html": [
              "\n",
              "  <div id=\"df-97991f2e-26d9-45a6-b9d7-f41773cef8f6\" class=\"colab-df-container\">\n",
              "    <div>\n",
              "<style scoped>\n",
              "    .dataframe tbody tr th:only-of-type {\n",
              "        vertical-align: middle;\n",
              "    }\n",
              "\n",
              "    .dataframe tbody tr th {\n",
              "        vertical-align: top;\n",
              "    }\n",
              "\n",
              "    .dataframe thead th {\n",
              "        text-align: right;\n",
              "    }\n",
              "</style>\n",
              "<table border=\"1\" class=\"dataframe\">\n",
              "  <thead>\n",
              "    <tr style=\"text-align: right;\">\n",
              "      <th></th>\n",
              "      <th>Name</th>\n",
              "      <th>Age</th>\n",
              "      <th>Score</th>\n",
              "    </tr>\n",
              "  </thead>\n",
              "  <tbody>\n",
              "    <tr>\n",
              "      <th>0</th>\n",
              "      <td>Aaron</td>\n",
              "      <td>20</td>\n",
              "      <td>89</td>\n",
              "    </tr>\n",
              "    <tr>\n",
              "      <th>1</th>\n",
              "      <td>Benjamin</td>\n",
              "      <td>25</td>\n",
              "      <td>99</td>\n",
              "    </tr>\n",
              "    <tr>\n",
              "      <th>2</th>\n",
              "      <td>Caeser</td>\n",
              "      <td>30</td>\n",
              "      <td>98</td>\n",
              "    </tr>\n",
              "    <tr>\n",
              "      <th>3</th>\n",
              "      <td>David</td>\n",
              "      <td>35</td>\n",
              "      <td>78</td>\n",
              "    </tr>\n",
              "    <tr>\n",
              "      <th>4</th>\n",
              "      <td>Elijah</td>\n",
              "      <td>40</td>\n",
              "      <td>80</td>\n",
              "    </tr>\n",
              "    <tr>\n",
              "      <th>5</th>\n",
              "      <td>Frank</td>\n",
              "      <td>45</td>\n",
              "      <td>90</td>\n",
              "    </tr>\n",
              "    <tr>\n",
              "      <th>6</th>\n",
              "      <td>Gabriel</td>\n",
              "      <td>50</td>\n",
              "      <td>91</td>\n",
              "    </tr>\n",
              "    <tr>\n",
              "      <th>7</th>\n",
              "      <td>Hager</td>\n",
              "      <td>55</td>\n",
              "      <td>93</td>\n",
              "    </tr>\n",
              "  </tbody>\n",
              "</table>\n",
              "</div>\n",
              "    <div class=\"colab-df-buttons\">\n",
              "\n",
              "  <div class=\"colab-df-container\">\n",
              "    <button class=\"colab-df-convert\" onclick=\"convertToInteractive('df-97991f2e-26d9-45a6-b9d7-f41773cef8f6')\"\n",
              "            title=\"Convert this dataframe to an interactive table.\"\n",
              "            style=\"display:none;\">\n",
              "\n",
              "  <svg xmlns=\"http://www.w3.org/2000/svg\" height=\"24px\" viewBox=\"0 -960 960 960\">\n",
              "    <path d=\"M120-120v-720h720v720H120Zm60-500h600v-160H180v160Zm220 220h160v-160H400v160Zm0 220h160v-160H400v160ZM180-400h160v-160H180v160Zm440 0h160v-160H620v160ZM180-180h160v-160H180v160Zm440 0h160v-160H620v160Z\"/>\n",
              "  </svg>\n",
              "    </button>\n",
              "\n",
              "  <style>\n",
              "    .colab-df-container {\n",
              "      display:flex;\n",
              "      gap: 12px;\n",
              "    }\n",
              "\n",
              "    .colab-df-convert {\n",
              "      background-color: #E8F0FE;\n",
              "      border: none;\n",
              "      border-radius: 50%;\n",
              "      cursor: pointer;\n",
              "      display: none;\n",
              "      fill: #1967D2;\n",
              "      height: 32px;\n",
              "      padding: 0 0 0 0;\n",
              "      width: 32px;\n",
              "    }\n",
              "\n",
              "    .colab-df-convert:hover {\n",
              "      background-color: #E2EBFA;\n",
              "      box-shadow: 0px 1px 2px rgba(60, 64, 67, 0.3), 0px 1px 3px 1px rgba(60, 64, 67, 0.15);\n",
              "      fill: #174EA6;\n",
              "    }\n",
              "\n",
              "    .colab-df-buttons div {\n",
              "      margin-bottom: 4px;\n",
              "    }\n",
              "\n",
              "    [theme=dark] .colab-df-convert {\n",
              "      background-color: #3B4455;\n",
              "      fill: #D2E3FC;\n",
              "    }\n",
              "\n",
              "    [theme=dark] .colab-df-convert:hover {\n",
              "      background-color: #434B5C;\n",
              "      box-shadow: 0px 1px 3px 1px rgba(0, 0, 0, 0.15);\n",
              "      filter: drop-shadow(0px 1px 2px rgba(0, 0, 0, 0.3));\n",
              "      fill: #FFFFFF;\n",
              "    }\n",
              "  </style>\n",
              "\n",
              "    <script>\n",
              "      const buttonEl =\n",
              "        document.querySelector('#df-97991f2e-26d9-45a6-b9d7-f41773cef8f6 button.colab-df-convert');\n",
              "      buttonEl.style.display =\n",
              "        google.colab.kernel.accessAllowed ? 'block' : 'none';\n",
              "\n",
              "      async function convertToInteractive(key) {\n",
              "        const element = document.querySelector('#df-97991f2e-26d9-45a6-b9d7-f41773cef8f6');\n",
              "        const dataTable =\n",
              "          await google.colab.kernel.invokeFunction('convertToInteractive',\n",
              "                                                    [key], {});\n",
              "        if (!dataTable) return;\n",
              "\n",
              "        const docLinkHtml = 'Like what you see? Visit the ' +\n",
              "          '<a target=\"_blank\" href=https://colab.research.google.com/notebooks/data_table.ipynb>data table notebook</a>'\n",
              "          + ' to learn more about interactive tables.';\n",
              "        element.innerHTML = '';\n",
              "        dataTable['output_type'] = 'display_data';\n",
              "        await google.colab.output.renderOutput(dataTable, element);\n",
              "        const docLink = document.createElement('div');\n",
              "        docLink.innerHTML = docLinkHtml;\n",
              "        element.appendChild(docLink);\n",
              "      }\n",
              "    </script>\n",
              "  </div>\n",
              "\n",
              "\n",
              "<div id=\"df-e3bc245f-b06e-4309-b914-9f85107b41cd\">\n",
              "  <button class=\"colab-df-quickchart\" onclick=\"quickchart('df-e3bc245f-b06e-4309-b914-9f85107b41cd')\"\n",
              "            title=\"Suggest charts\"\n",
              "            style=\"display:none;\">\n",
              "\n",
              "<svg xmlns=\"http://www.w3.org/2000/svg\" height=\"24px\"viewBox=\"0 0 24 24\"\n",
              "     width=\"24px\">\n",
              "    <g>\n",
              "        <path d=\"M19 3H5c-1.1 0-2 .9-2 2v14c0 1.1.9 2 2 2h14c1.1 0 2-.9 2-2V5c0-1.1-.9-2-2-2zM9 17H7v-7h2v7zm4 0h-2V7h2v10zm4 0h-2v-4h2v4z\"/>\n",
              "    </g>\n",
              "</svg>\n",
              "  </button>\n",
              "\n",
              "<style>\n",
              "  .colab-df-quickchart {\n",
              "      --bg-color: #E8F0FE;\n",
              "      --fill-color: #1967D2;\n",
              "      --hover-bg-color: #E2EBFA;\n",
              "      --hover-fill-color: #174EA6;\n",
              "      --disabled-fill-color: #AAA;\n",
              "      --disabled-bg-color: #DDD;\n",
              "  }\n",
              "\n",
              "  [theme=dark] .colab-df-quickchart {\n",
              "      --bg-color: #3B4455;\n",
              "      --fill-color: #D2E3FC;\n",
              "      --hover-bg-color: #434B5C;\n",
              "      --hover-fill-color: #FFFFFF;\n",
              "      --disabled-bg-color: #3B4455;\n",
              "      --disabled-fill-color: #666;\n",
              "  }\n",
              "\n",
              "  .colab-df-quickchart {\n",
              "    background-color: var(--bg-color);\n",
              "    border: none;\n",
              "    border-radius: 50%;\n",
              "    cursor: pointer;\n",
              "    display: none;\n",
              "    fill: var(--fill-color);\n",
              "    height: 32px;\n",
              "    padding: 0;\n",
              "    width: 32px;\n",
              "  }\n",
              "\n",
              "  .colab-df-quickchart:hover {\n",
              "    background-color: var(--hover-bg-color);\n",
              "    box-shadow: 0 1px 2px rgba(60, 64, 67, 0.3), 0 1px 3px 1px rgba(60, 64, 67, 0.15);\n",
              "    fill: var(--button-hover-fill-color);\n",
              "  }\n",
              "\n",
              "  .colab-df-quickchart-complete:disabled,\n",
              "  .colab-df-quickchart-complete:disabled:hover {\n",
              "    background-color: var(--disabled-bg-color);\n",
              "    fill: var(--disabled-fill-color);\n",
              "    box-shadow: none;\n",
              "  }\n",
              "\n",
              "  .colab-df-spinner {\n",
              "    border: 2px solid var(--fill-color);\n",
              "    border-color: transparent;\n",
              "    border-bottom-color: var(--fill-color);\n",
              "    animation:\n",
              "      spin 1s steps(1) infinite;\n",
              "  }\n",
              "\n",
              "  @keyframes spin {\n",
              "    0% {\n",
              "      border-color: transparent;\n",
              "      border-bottom-color: var(--fill-color);\n",
              "      border-left-color: var(--fill-color);\n",
              "    }\n",
              "    20% {\n",
              "      border-color: transparent;\n",
              "      border-left-color: var(--fill-color);\n",
              "      border-top-color: var(--fill-color);\n",
              "    }\n",
              "    30% {\n",
              "      border-color: transparent;\n",
              "      border-left-color: var(--fill-color);\n",
              "      border-top-color: var(--fill-color);\n",
              "      border-right-color: var(--fill-color);\n",
              "    }\n",
              "    40% {\n",
              "      border-color: transparent;\n",
              "      border-right-color: var(--fill-color);\n",
              "      border-top-color: var(--fill-color);\n",
              "    }\n",
              "    60% {\n",
              "      border-color: transparent;\n",
              "      border-right-color: var(--fill-color);\n",
              "    }\n",
              "    80% {\n",
              "      border-color: transparent;\n",
              "      border-right-color: var(--fill-color);\n",
              "      border-bottom-color: var(--fill-color);\n",
              "    }\n",
              "    90% {\n",
              "      border-color: transparent;\n",
              "      border-bottom-color: var(--fill-color);\n",
              "    }\n",
              "  }\n",
              "</style>\n",
              "\n",
              "  <script>\n",
              "    async function quickchart(key) {\n",
              "      const quickchartButtonEl =\n",
              "        document.querySelector('#' + key + ' button');\n",
              "      quickchartButtonEl.disabled = true;  // To prevent multiple clicks.\n",
              "      quickchartButtonEl.classList.add('colab-df-spinner');\n",
              "      try {\n",
              "        const charts = await google.colab.kernel.invokeFunction(\n",
              "            'suggestCharts', [key], {});\n",
              "      } catch (error) {\n",
              "        console.error('Error during call to suggestCharts:', error);\n",
              "      }\n",
              "      quickchartButtonEl.classList.remove('colab-df-spinner');\n",
              "      quickchartButtonEl.classList.add('colab-df-quickchart-complete');\n",
              "    }\n",
              "    (() => {\n",
              "      let quickchartButtonEl =\n",
              "        document.querySelector('#df-e3bc245f-b06e-4309-b914-9f85107b41cd button');\n",
              "      quickchartButtonEl.style.display =\n",
              "        google.colab.kernel.accessAllowed ? 'block' : 'none';\n",
              "    })();\n",
              "  </script>\n",
              "</div>\n",
              "\n",
              "  <div id=\"id_4eaaacad-74d0-41f4-94a8-7c53aa149bfb\">\n",
              "    <style>\n",
              "      .colab-df-generate {\n",
              "        background-color: #E8F0FE;\n",
              "        border: none;\n",
              "        border-radius: 50%;\n",
              "        cursor: pointer;\n",
              "        display: none;\n",
              "        fill: #1967D2;\n",
              "        height: 32px;\n",
              "        padding: 0 0 0 0;\n",
              "        width: 32px;\n",
              "      }\n",
              "\n",
              "      .colab-df-generate:hover {\n",
              "        background-color: #E2EBFA;\n",
              "        box-shadow: 0px 1px 2px rgba(60, 64, 67, 0.3), 0px 1px 3px 1px rgba(60, 64, 67, 0.15);\n",
              "        fill: #174EA6;\n",
              "      }\n",
              "\n",
              "      [theme=dark] .colab-df-generate {\n",
              "        background-color: #3B4455;\n",
              "        fill: #D2E3FC;\n",
              "      }\n",
              "\n",
              "      [theme=dark] .colab-df-generate:hover {\n",
              "        background-color: #434B5C;\n",
              "        box-shadow: 0px 1px 3px 1px rgba(0, 0, 0, 0.15);\n",
              "        filter: drop-shadow(0px 1px 2px rgba(0, 0, 0, 0.3));\n",
              "        fill: #FFFFFF;\n",
              "      }\n",
              "    </style>\n",
              "    <button class=\"colab-df-generate\" onclick=\"generateWithVariable('y')\"\n",
              "            title=\"Generate code using this dataframe.\"\n",
              "            style=\"display:none;\">\n",
              "\n",
              "  <svg xmlns=\"http://www.w3.org/2000/svg\" height=\"24px\"viewBox=\"0 0 24 24\"\n",
              "       width=\"24px\">\n",
              "    <path d=\"M7,19H8.4L18.45,9,17,7.55,7,17.6ZM5,21V16.75L18.45,3.32a2,2,0,0,1,2.83,0l1.4,1.43a1.91,1.91,0,0,1,.58,1.4,1.91,1.91,0,0,1-.58,1.4L9.25,21ZM18.45,9,17,7.55Zm-12,3A5.31,5.31,0,0,0,4.9,8.1,5.31,5.31,0,0,0,1,6.5,5.31,5.31,0,0,0,4.9,4.9,5.31,5.31,0,0,0,6.5,1,5.31,5.31,0,0,0,8.1,4.9,5.31,5.31,0,0,0,12,6.5,5.46,5.46,0,0,0,6.5,12Z\"/>\n",
              "  </svg>\n",
              "    </button>\n",
              "    <script>\n",
              "      (() => {\n",
              "      const buttonEl =\n",
              "        document.querySelector('#id_4eaaacad-74d0-41f4-94a8-7c53aa149bfb button.colab-df-generate');\n",
              "      buttonEl.style.display =\n",
              "        google.colab.kernel.accessAllowed ? 'block' : 'none';\n",
              "\n",
              "      buttonEl.onclick = () => {\n",
              "        google.colab.notebook.generateWithVariable('y');\n",
              "      }\n",
              "      })();\n",
              "    </script>\n",
              "  </div>\n",
              "\n",
              "    </div>\n",
              "  </div>\n"
            ],
            "application/vnd.google.colaboratory.intrinsic+json": {
              "type": "dataframe",
              "variable_name": "y",
              "summary": "{\n  \"name\": \"y\",\n  \"rows\": 8,\n  \"fields\": [\n    {\n      \"column\": \"Name\",\n      \"properties\": {\n        \"dtype\": \"string\",\n        \"num_unique_values\": 8,\n        \"samples\": [\n          \"Benjamin\",\n          \"Frank\",\n          \"Aaron\"\n        ],\n        \"semantic_type\": \"\",\n        \"description\": \"\"\n      }\n    },\n    {\n      \"column\": \"Age\",\n      \"properties\": {\n        \"dtype\": \"number\",\n        \"std\": 12,\n        \"min\": 20,\n        \"max\": 55,\n        \"num_unique_values\": 8,\n        \"samples\": [\n          25,\n          45,\n          20\n        ],\n        \"semantic_type\": \"\",\n        \"description\": \"\"\n      }\n    },\n    {\n      \"column\": \"Score\",\n      \"properties\": {\n        \"dtype\": \"number\",\n        \"std\": 7,\n        \"min\": 78,\n        \"max\": 99,\n        \"num_unique_values\": 8,\n        \"samples\": [\n          99,\n          90,\n          89\n        ],\n        \"semantic_type\": \"\",\n        \"description\": \"\"\n      }\n    }\n  ]\n}"
            }
          },
          "metadata": {},
          "execution_count": 32
        }
      ]
    },
    {
      "cell_type": "code",
      "source": [
        "result = y[(y['Age'] > 37) & (y['Score'] > 89)]\n",
        "result"
      ],
      "metadata": {
        "colab": {
          "base_uri": "https://localhost:8080/",
          "height": 143
        },
        "id": "S-BeN1ykHlUf",
        "outputId": "c136c896-4029-4420-96cf-4c8645986c69"
      },
      "execution_count": null,
      "outputs": [
        {
          "output_type": "execute_result",
          "data": {
            "text/plain": [
              "      Name  Age  Score\n",
              "5    Frank   45     90\n",
              "6  Gabriel   50     91\n",
              "7    Hager   55     93"
            ],
            "text/html": [
              "\n",
              "  <div id=\"df-7423c315-27a5-4b86-8351-fa2ce7b113bf\" class=\"colab-df-container\">\n",
              "    <div>\n",
              "<style scoped>\n",
              "    .dataframe tbody tr th:only-of-type {\n",
              "        vertical-align: middle;\n",
              "    }\n",
              "\n",
              "    .dataframe tbody tr th {\n",
              "        vertical-align: top;\n",
              "    }\n",
              "\n",
              "    .dataframe thead th {\n",
              "        text-align: right;\n",
              "    }\n",
              "</style>\n",
              "<table border=\"1\" class=\"dataframe\">\n",
              "  <thead>\n",
              "    <tr style=\"text-align: right;\">\n",
              "      <th></th>\n",
              "      <th>Name</th>\n",
              "      <th>Age</th>\n",
              "      <th>Score</th>\n",
              "    </tr>\n",
              "  </thead>\n",
              "  <tbody>\n",
              "    <tr>\n",
              "      <th>5</th>\n",
              "      <td>Frank</td>\n",
              "      <td>45</td>\n",
              "      <td>90</td>\n",
              "    </tr>\n",
              "    <tr>\n",
              "      <th>6</th>\n",
              "      <td>Gabriel</td>\n",
              "      <td>50</td>\n",
              "      <td>91</td>\n",
              "    </tr>\n",
              "    <tr>\n",
              "      <th>7</th>\n",
              "      <td>Hager</td>\n",
              "      <td>55</td>\n",
              "      <td>93</td>\n",
              "    </tr>\n",
              "  </tbody>\n",
              "</table>\n",
              "</div>\n",
              "    <div class=\"colab-df-buttons\">\n",
              "\n",
              "  <div class=\"colab-df-container\">\n",
              "    <button class=\"colab-df-convert\" onclick=\"convertToInteractive('df-7423c315-27a5-4b86-8351-fa2ce7b113bf')\"\n",
              "            title=\"Convert this dataframe to an interactive table.\"\n",
              "            style=\"display:none;\">\n",
              "\n",
              "  <svg xmlns=\"http://www.w3.org/2000/svg\" height=\"24px\" viewBox=\"0 -960 960 960\">\n",
              "    <path d=\"M120-120v-720h720v720H120Zm60-500h600v-160H180v160Zm220 220h160v-160H400v160Zm0 220h160v-160H400v160ZM180-400h160v-160H180v160Zm440 0h160v-160H620v160ZM180-180h160v-160H180v160Zm440 0h160v-160H620v160Z\"/>\n",
              "  </svg>\n",
              "    </button>\n",
              "\n",
              "  <style>\n",
              "    .colab-df-container {\n",
              "      display:flex;\n",
              "      gap: 12px;\n",
              "    }\n",
              "\n",
              "    .colab-df-convert {\n",
              "      background-color: #E8F0FE;\n",
              "      border: none;\n",
              "      border-radius: 50%;\n",
              "      cursor: pointer;\n",
              "      display: none;\n",
              "      fill: #1967D2;\n",
              "      height: 32px;\n",
              "      padding: 0 0 0 0;\n",
              "      width: 32px;\n",
              "    }\n",
              "\n",
              "    .colab-df-convert:hover {\n",
              "      background-color: #E2EBFA;\n",
              "      box-shadow: 0px 1px 2px rgba(60, 64, 67, 0.3), 0px 1px 3px 1px rgba(60, 64, 67, 0.15);\n",
              "      fill: #174EA6;\n",
              "    }\n",
              "\n",
              "    .colab-df-buttons div {\n",
              "      margin-bottom: 4px;\n",
              "    }\n",
              "\n",
              "    [theme=dark] .colab-df-convert {\n",
              "      background-color: #3B4455;\n",
              "      fill: #D2E3FC;\n",
              "    }\n",
              "\n",
              "    [theme=dark] .colab-df-convert:hover {\n",
              "      background-color: #434B5C;\n",
              "      box-shadow: 0px 1px 3px 1px rgba(0, 0, 0, 0.15);\n",
              "      filter: drop-shadow(0px 1px 2px rgba(0, 0, 0, 0.3));\n",
              "      fill: #FFFFFF;\n",
              "    }\n",
              "  </style>\n",
              "\n",
              "    <script>\n",
              "      const buttonEl =\n",
              "        document.querySelector('#df-7423c315-27a5-4b86-8351-fa2ce7b113bf button.colab-df-convert');\n",
              "      buttonEl.style.display =\n",
              "        google.colab.kernel.accessAllowed ? 'block' : 'none';\n",
              "\n",
              "      async function convertToInteractive(key) {\n",
              "        const element = document.querySelector('#df-7423c315-27a5-4b86-8351-fa2ce7b113bf');\n",
              "        const dataTable =\n",
              "          await google.colab.kernel.invokeFunction('convertToInteractive',\n",
              "                                                    [key], {});\n",
              "        if (!dataTable) return;\n",
              "\n",
              "        const docLinkHtml = 'Like what you see? Visit the ' +\n",
              "          '<a target=\"_blank\" href=https://colab.research.google.com/notebooks/data_table.ipynb>data table notebook</a>'\n",
              "          + ' to learn more about interactive tables.';\n",
              "        element.innerHTML = '';\n",
              "        dataTable['output_type'] = 'display_data';\n",
              "        await google.colab.output.renderOutput(dataTable, element);\n",
              "        const docLink = document.createElement('div');\n",
              "        docLink.innerHTML = docLinkHtml;\n",
              "        element.appendChild(docLink);\n",
              "      }\n",
              "    </script>\n",
              "  </div>\n",
              "\n",
              "\n",
              "<div id=\"df-454f90b7-72f5-4f97-b5e0-6779dfb0afaf\">\n",
              "  <button class=\"colab-df-quickchart\" onclick=\"quickchart('df-454f90b7-72f5-4f97-b5e0-6779dfb0afaf')\"\n",
              "            title=\"Suggest charts\"\n",
              "            style=\"display:none;\">\n",
              "\n",
              "<svg xmlns=\"http://www.w3.org/2000/svg\" height=\"24px\"viewBox=\"0 0 24 24\"\n",
              "     width=\"24px\">\n",
              "    <g>\n",
              "        <path d=\"M19 3H5c-1.1 0-2 .9-2 2v14c0 1.1.9 2 2 2h14c1.1 0 2-.9 2-2V5c0-1.1-.9-2-2-2zM9 17H7v-7h2v7zm4 0h-2V7h2v10zm4 0h-2v-4h2v4z\"/>\n",
              "    </g>\n",
              "</svg>\n",
              "  </button>\n",
              "\n",
              "<style>\n",
              "  .colab-df-quickchart {\n",
              "      --bg-color: #E8F0FE;\n",
              "      --fill-color: #1967D2;\n",
              "      --hover-bg-color: #E2EBFA;\n",
              "      --hover-fill-color: #174EA6;\n",
              "      --disabled-fill-color: #AAA;\n",
              "      --disabled-bg-color: #DDD;\n",
              "  }\n",
              "\n",
              "  [theme=dark] .colab-df-quickchart {\n",
              "      --bg-color: #3B4455;\n",
              "      --fill-color: #D2E3FC;\n",
              "      --hover-bg-color: #434B5C;\n",
              "      --hover-fill-color: #FFFFFF;\n",
              "      --disabled-bg-color: #3B4455;\n",
              "      --disabled-fill-color: #666;\n",
              "  }\n",
              "\n",
              "  .colab-df-quickchart {\n",
              "    background-color: var(--bg-color);\n",
              "    border: none;\n",
              "    border-radius: 50%;\n",
              "    cursor: pointer;\n",
              "    display: none;\n",
              "    fill: var(--fill-color);\n",
              "    height: 32px;\n",
              "    padding: 0;\n",
              "    width: 32px;\n",
              "  }\n",
              "\n",
              "  .colab-df-quickchart:hover {\n",
              "    background-color: var(--hover-bg-color);\n",
              "    box-shadow: 0 1px 2px rgba(60, 64, 67, 0.3), 0 1px 3px 1px rgba(60, 64, 67, 0.15);\n",
              "    fill: var(--button-hover-fill-color);\n",
              "  }\n",
              "\n",
              "  .colab-df-quickchart-complete:disabled,\n",
              "  .colab-df-quickchart-complete:disabled:hover {\n",
              "    background-color: var(--disabled-bg-color);\n",
              "    fill: var(--disabled-fill-color);\n",
              "    box-shadow: none;\n",
              "  }\n",
              "\n",
              "  .colab-df-spinner {\n",
              "    border: 2px solid var(--fill-color);\n",
              "    border-color: transparent;\n",
              "    border-bottom-color: var(--fill-color);\n",
              "    animation:\n",
              "      spin 1s steps(1) infinite;\n",
              "  }\n",
              "\n",
              "  @keyframes spin {\n",
              "    0% {\n",
              "      border-color: transparent;\n",
              "      border-bottom-color: var(--fill-color);\n",
              "      border-left-color: var(--fill-color);\n",
              "    }\n",
              "    20% {\n",
              "      border-color: transparent;\n",
              "      border-left-color: var(--fill-color);\n",
              "      border-top-color: var(--fill-color);\n",
              "    }\n",
              "    30% {\n",
              "      border-color: transparent;\n",
              "      border-left-color: var(--fill-color);\n",
              "      border-top-color: var(--fill-color);\n",
              "      border-right-color: var(--fill-color);\n",
              "    }\n",
              "    40% {\n",
              "      border-color: transparent;\n",
              "      border-right-color: var(--fill-color);\n",
              "      border-top-color: var(--fill-color);\n",
              "    }\n",
              "    60% {\n",
              "      border-color: transparent;\n",
              "      border-right-color: var(--fill-color);\n",
              "    }\n",
              "    80% {\n",
              "      border-color: transparent;\n",
              "      border-right-color: var(--fill-color);\n",
              "      border-bottom-color: var(--fill-color);\n",
              "    }\n",
              "    90% {\n",
              "      border-color: transparent;\n",
              "      border-bottom-color: var(--fill-color);\n",
              "    }\n",
              "  }\n",
              "</style>\n",
              "\n",
              "  <script>\n",
              "    async function quickchart(key) {\n",
              "      const quickchartButtonEl =\n",
              "        document.querySelector('#' + key + ' button');\n",
              "      quickchartButtonEl.disabled = true;  // To prevent multiple clicks.\n",
              "      quickchartButtonEl.classList.add('colab-df-spinner');\n",
              "      try {\n",
              "        const charts = await google.colab.kernel.invokeFunction(\n",
              "            'suggestCharts', [key], {});\n",
              "      } catch (error) {\n",
              "        console.error('Error during call to suggestCharts:', error);\n",
              "      }\n",
              "      quickchartButtonEl.classList.remove('colab-df-spinner');\n",
              "      quickchartButtonEl.classList.add('colab-df-quickchart-complete');\n",
              "    }\n",
              "    (() => {\n",
              "      let quickchartButtonEl =\n",
              "        document.querySelector('#df-454f90b7-72f5-4f97-b5e0-6779dfb0afaf button');\n",
              "      quickchartButtonEl.style.display =\n",
              "        google.colab.kernel.accessAllowed ? 'block' : 'none';\n",
              "    })();\n",
              "  </script>\n",
              "</div>\n",
              "\n",
              "  <div id=\"id_fcfe0a1d-567b-4344-b787-25d48bce16ef\">\n",
              "    <style>\n",
              "      .colab-df-generate {\n",
              "        background-color: #E8F0FE;\n",
              "        border: none;\n",
              "        border-radius: 50%;\n",
              "        cursor: pointer;\n",
              "        display: none;\n",
              "        fill: #1967D2;\n",
              "        height: 32px;\n",
              "        padding: 0 0 0 0;\n",
              "        width: 32px;\n",
              "      }\n",
              "\n",
              "      .colab-df-generate:hover {\n",
              "        background-color: #E2EBFA;\n",
              "        box-shadow: 0px 1px 2px rgba(60, 64, 67, 0.3), 0px 1px 3px 1px rgba(60, 64, 67, 0.15);\n",
              "        fill: #174EA6;\n",
              "      }\n",
              "\n",
              "      [theme=dark] .colab-df-generate {\n",
              "        background-color: #3B4455;\n",
              "        fill: #D2E3FC;\n",
              "      }\n",
              "\n",
              "      [theme=dark] .colab-df-generate:hover {\n",
              "        background-color: #434B5C;\n",
              "        box-shadow: 0px 1px 3px 1px rgba(0, 0, 0, 0.15);\n",
              "        filter: drop-shadow(0px 1px 2px rgba(0, 0, 0, 0.3));\n",
              "        fill: #FFFFFF;\n",
              "      }\n",
              "    </style>\n",
              "    <button class=\"colab-df-generate\" onclick=\"generateWithVariable('result')\"\n",
              "            title=\"Generate code using this dataframe.\"\n",
              "            style=\"display:none;\">\n",
              "\n",
              "  <svg xmlns=\"http://www.w3.org/2000/svg\" height=\"24px\"viewBox=\"0 0 24 24\"\n",
              "       width=\"24px\">\n",
              "    <path d=\"M7,19H8.4L18.45,9,17,7.55,7,17.6ZM5,21V16.75L18.45,3.32a2,2,0,0,1,2.83,0l1.4,1.43a1.91,1.91,0,0,1,.58,1.4,1.91,1.91,0,0,1-.58,1.4L9.25,21ZM18.45,9,17,7.55Zm-12,3A5.31,5.31,0,0,0,4.9,8.1,5.31,5.31,0,0,0,1,6.5,5.31,5.31,0,0,0,4.9,4.9,5.31,5.31,0,0,0,6.5,1,5.31,5.31,0,0,0,8.1,4.9,5.31,5.31,0,0,0,12,6.5,5.46,5.46,0,0,0,6.5,12Z\"/>\n",
              "  </svg>\n",
              "    </button>\n",
              "    <script>\n",
              "      (() => {\n",
              "      const buttonEl =\n",
              "        document.querySelector('#id_fcfe0a1d-567b-4344-b787-25d48bce16ef button.colab-df-generate');\n",
              "      buttonEl.style.display =\n",
              "        google.colab.kernel.accessAllowed ? 'block' : 'none';\n",
              "\n",
              "      buttonEl.onclick = () => {\n",
              "        google.colab.notebook.generateWithVariable('result');\n",
              "      }\n",
              "      })();\n",
              "    </script>\n",
              "  </div>\n",
              "\n",
              "    </div>\n",
              "  </div>\n"
            ],
            "application/vnd.google.colaboratory.intrinsic+json": {
              "type": "dataframe",
              "variable_name": "result",
              "summary": "{\n  \"name\": \"result\",\n  \"rows\": 3,\n  \"fields\": [\n    {\n      \"column\": \"Name\",\n      \"properties\": {\n        \"dtype\": \"string\",\n        \"num_unique_values\": 3,\n        \"samples\": [\n          \"Frank\",\n          \"Gabriel\",\n          \"Hager\"\n        ],\n        \"semantic_type\": \"\",\n        \"description\": \"\"\n      }\n    },\n    {\n      \"column\": \"Age\",\n      \"properties\": {\n        \"dtype\": \"number\",\n        \"std\": 5,\n        \"min\": 45,\n        \"max\": 55,\n        \"num_unique_values\": 3,\n        \"samples\": [\n          45,\n          50,\n          55\n        ],\n        \"semantic_type\": \"\",\n        \"description\": \"\"\n      }\n    },\n    {\n      \"column\": \"Score\",\n      \"properties\": {\n        \"dtype\": \"number\",\n        \"std\": 1,\n        \"min\": 90,\n        \"max\": 93,\n        \"num_unique_values\": 3,\n        \"samples\": [\n          90,\n          91,\n          93\n        ],\n        \"semantic_type\": \"\",\n        \"description\": \"\"\n      }\n    }\n  ]\n}"
            }
          },
          "metadata": {},
          "execution_count": 38
        }
      ]
    },
    {
      "cell_type": "code",
      "source": [
        "res = y.query('Age == 55', inplace=False)\n",
        "print(res)"
      ],
      "metadata": {
        "colab": {
          "base_uri": "https://localhost:8080/"
        },
        "id": "AAG5IiCfI_3Y",
        "outputId": "382a6a62-0e2f-42f9-e094-b5864c98174a"
      },
      "execution_count": null,
      "outputs": [
        {
          "output_type": "stream",
          "name": "stdout",
          "text": [
            "    Name  Age  Score\n",
            "7  Hager   55     93\n"
          ]
        }
      ]
    },
    {
      "cell_type": "code",
      "source": [
        "# Creating a Tuple & and then some\n",
        "# From The ZALEPLON LABS"
      ],
      "metadata": {
        "id": "i6s4PTD_Jb8V"
      },
      "execution_count": null,
      "outputs": []
    },
    {
      "cell_type": "code",
      "source": [
        "coordinates =\n",
        "\n",
        "print(coordinates)\n",
        "print(type(coordinates))"
      ],
      "metadata": {
        "id": "hlBrN25Cykq_"
      },
      "execution_count": null,
      "outputs": []
    },
    {
      "cell_type": "code",
      "source": [
        "#Emplty Tuple\n",
        "x = ()\n",
        "print(type(x))"
      ],
      "metadata": {
        "id": "3GG6yIV71gPr"
      },
      "execution_count": null,
      "outputs": []
    },
    {
      "cell_type": "code",
      "source": [
        "#Singleton Tuple\n",
        "y = (3.1415926)\n",
        "print(type(y))"
      ],
      "metadata": {
        "id": "B_0xkMI41oB6"
      },
      "execution_count": null,
      "outputs": []
    },
    {
      "cell_type": "code",
      "source": [
        "comma = 56, 87\n",
        "print(type(comma))"
      ],
      "metadata": {
        "id": "DOqbea7KziLd"
      },
      "execution_count": null,
      "outputs": []
    },
    {
      "cell_type": "code",
      "source": [
        "import pandas as pd"
      ],
      "metadata": {
        "id": "cBiI1n6eag_D"
      },
      "execution_count": null,
      "outputs": []
    },
    {
      "cell_type": "code",
      "source": [
        "x = {\n",
        "    'Name' : ['Aaron', 'Benjamin', 'Caeser', 'David', 'Elijah', 'Frank', 'Gabriel', 'Hager'],\n",
        "    'Age' : [20, 25, 30, 35, 40, 45, 50, 55],\n",
        "    'Score' : [89, 99, 98, 78, 80, 90, 91, 93]\n",
        "}\n",
        "df = pd.DataFrame(x)\n",
        "df"
      ],
      "metadata": {
        "colab": {
          "base_uri": "https://localhost:8080/",
          "height": 300
        },
        "id": "Ne3e7cTxGlQR",
        "outputId": "4ab18346-5202-4f9a-f2a0-bae43d85f86b"
      },
      "execution_count": null,
      "outputs": [
        {
          "output_type": "execute_result",
          "data": {
            "text/plain": [
              "       Name  Age  Score\n",
              "0     Aaron   20     89\n",
              "1  Benjamin   25     99\n",
              "2    Caeser   30     98\n",
              "3     David   35     78\n",
              "4    Elijah   40     80\n",
              "5     Frank   45     90\n",
              "6   Gabriel   50     91\n",
              "7     Hager   55     93"
            ],
            "text/html": [
              "\n",
              "  <div id=\"df-fe07ff7c-9ed5-4532-86c2-dabad7f0331f\" class=\"colab-df-container\">\n",
              "    <div>\n",
              "<style scoped>\n",
              "    .dataframe tbody tr th:only-of-type {\n",
              "        vertical-align: middle;\n",
              "    }\n",
              "\n",
              "    .dataframe tbody tr th {\n",
              "        vertical-align: top;\n",
              "    }\n",
              "\n",
              "    .dataframe thead th {\n",
              "        text-align: right;\n",
              "    }\n",
              "</style>\n",
              "<table border=\"1\" class=\"dataframe\">\n",
              "  <thead>\n",
              "    <tr style=\"text-align: right;\">\n",
              "      <th></th>\n",
              "      <th>Name</th>\n",
              "      <th>Age</th>\n",
              "      <th>Score</th>\n",
              "    </tr>\n",
              "  </thead>\n",
              "  <tbody>\n",
              "    <tr>\n",
              "      <th>0</th>\n",
              "      <td>Aaron</td>\n",
              "      <td>20</td>\n",
              "      <td>89</td>\n",
              "    </tr>\n",
              "    <tr>\n",
              "      <th>1</th>\n",
              "      <td>Benjamin</td>\n",
              "      <td>25</td>\n",
              "      <td>99</td>\n",
              "    </tr>\n",
              "    <tr>\n",
              "      <th>2</th>\n",
              "      <td>Caeser</td>\n",
              "      <td>30</td>\n",
              "      <td>98</td>\n",
              "    </tr>\n",
              "    <tr>\n",
              "      <th>3</th>\n",
              "      <td>David</td>\n",
              "      <td>35</td>\n",
              "      <td>78</td>\n",
              "    </tr>\n",
              "    <tr>\n",
              "      <th>4</th>\n",
              "      <td>Elijah</td>\n",
              "      <td>40</td>\n",
              "      <td>80</td>\n",
              "    </tr>\n",
              "    <tr>\n",
              "      <th>5</th>\n",
              "      <td>Frank</td>\n",
              "      <td>45</td>\n",
              "      <td>90</td>\n",
              "    </tr>\n",
              "    <tr>\n",
              "      <th>6</th>\n",
              "      <td>Gabriel</td>\n",
              "      <td>50</td>\n",
              "      <td>91</td>\n",
              "    </tr>\n",
              "    <tr>\n",
              "      <th>7</th>\n",
              "      <td>Hager</td>\n",
              "      <td>55</td>\n",
              "      <td>93</td>\n",
              "    </tr>\n",
              "  </tbody>\n",
              "</table>\n",
              "</div>\n",
              "    <div class=\"colab-df-buttons\">\n",
              "\n",
              "  <div class=\"colab-df-container\">\n",
              "    <button class=\"colab-df-convert\" onclick=\"convertToInteractive('df-fe07ff7c-9ed5-4532-86c2-dabad7f0331f')\"\n",
              "            title=\"Convert this dataframe to an interactive table.\"\n",
              "            style=\"display:none;\">\n",
              "\n",
              "  <svg xmlns=\"http://www.w3.org/2000/svg\" height=\"24px\" viewBox=\"0 -960 960 960\">\n",
              "    <path d=\"M120-120v-720h720v720H120Zm60-500h600v-160H180v160Zm220 220h160v-160H400v160Zm0 220h160v-160H400v160ZM180-400h160v-160H180v160Zm440 0h160v-160H620v160ZM180-180h160v-160H180v160Zm440 0h160v-160H620v160Z\"/>\n",
              "  </svg>\n",
              "    </button>\n",
              "\n",
              "  <style>\n",
              "    .colab-df-container {\n",
              "      display:flex;\n",
              "      gap: 12px;\n",
              "    }\n",
              "\n",
              "    .colab-df-convert {\n",
              "      background-color: #E8F0FE;\n",
              "      border: none;\n",
              "      border-radius: 50%;\n",
              "      cursor: pointer;\n",
              "      display: none;\n",
              "      fill: #1967D2;\n",
              "      height: 32px;\n",
              "      padding: 0 0 0 0;\n",
              "      width: 32px;\n",
              "    }\n",
              "\n",
              "    .colab-df-convert:hover {\n",
              "      background-color: #E2EBFA;\n",
              "      box-shadow: 0px 1px 2px rgba(60, 64, 67, 0.3), 0px 1px 3px 1px rgba(60, 64, 67, 0.15);\n",
              "      fill: #174EA6;\n",
              "    }\n",
              "\n",
              "    .colab-df-buttons div {\n",
              "      margin-bottom: 4px;\n",
              "    }\n",
              "\n",
              "    [theme=dark] .colab-df-convert {\n",
              "      background-color: #3B4455;\n",
              "      fill: #D2E3FC;\n",
              "    }\n",
              "\n",
              "    [theme=dark] .colab-df-convert:hover {\n",
              "      background-color: #434B5C;\n",
              "      box-shadow: 0px 1px 3px 1px rgba(0, 0, 0, 0.15);\n",
              "      filter: drop-shadow(0px 1px 2px rgba(0, 0, 0, 0.3));\n",
              "      fill: #FFFFFF;\n",
              "    }\n",
              "  </style>\n",
              "\n",
              "    <script>\n",
              "      const buttonEl =\n",
              "        document.querySelector('#df-fe07ff7c-9ed5-4532-86c2-dabad7f0331f button.colab-df-convert');\n",
              "      buttonEl.style.display =\n",
              "        google.colab.kernel.accessAllowed ? 'block' : 'none';\n",
              "\n",
              "      async function convertToInteractive(key) {\n",
              "        const element = document.querySelector('#df-fe07ff7c-9ed5-4532-86c2-dabad7f0331f');\n",
              "        const dataTable =\n",
              "          await google.colab.kernel.invokeFunction('convertToInteractive',\n",
              "                                                    [key], {});\n",
              "        if (!dataTable) return;\n",
              "\n",
              "        const docLinkHtml = 'Like what you see? Visit the ' +\n",
              "          '<a target=\"_blank\" href=https://colab.research.google.com/notebooks/data_table.ipynb>data table notebook</a>'\n",
              "          + ' to learn more about interactive tables.';\n",
              "        element.innerHTML = '';\n",
              "        dataTable['output_type'] = 'display_data';\n",
              "        await google.colab.output.renderOutput(dataTable, element);\n",
              "        const docLink = document.createElement('div');\n",
              "        docLink.innerHTML = docLinkHtml;\n",
              "        element.appendChild(docLink);\n",
              "      }\n",
              "    </script>\n",
              "  </div>\n",
              "\n",
              "\n",
              "<div id=\"df-7b921601-97f2-4fb9-8c22-670eb196ed93\">\n",
              "  <button class=\"colab-df-quickchart\" onclick=\"quickchart('df-7b921601-97f2-4fb9-8c22-670eb196ed93')\"\n",
              "            title=\"Suggest charts\"\n",
              "            style=\"display:none;\">\n",
              "\n",
              "<svg xmlns=\"http://www.w3.org/2000/svg\" height=\"24px\"viewBox=\"0 0 24 24\"\n",
              "     width=\"24px\">\n",
              "    <g>\n",
              "        <path d=\"M19 3H5c-1.1 0-2 .9-2 2v14c0 1.1.9 2 2 2h14c1.1 0 2-.9 2-2V5c0-1.1-.9-2-2-2zM9 17H7v-7h2v7zm4 0h-2V7h2v10zm4 0h-2v-4h2v4z\"/>\n",
              "    </g>\n",
              "</svg>\n",
              "  </button>\n",
              "\n",
              "<style>\n",
              "  .colab-df-quickchart {\n",
              "      --bg-color: #E8F0FE;\n",
              "      --fill-color: #1967D2;\n",
              "      --hover-bg-color: #E2EBFA;\n",
              "      --hover-fill-color: #174EA6;\n",
              "      --disabled-fill-color: #AAA;\n",
              "      --disabled-bg-color: #DDD;\n",
              "  }\n",
              "\n",
              "  [theme=dark] .colab-df-quickchart {\n",
              "      --bg-color: #3B4455;\n",
              "      --fill-color: #D2E3FC;\n",
              "      --hover-bg-color: #434B5C;\n",
              "      --hover-fill-color: #FFFFFF;\n",
              "      --disabled-bg-color: #3B4455;\n",
              "      --disabled-fill-color: #666;\n",
              "  }\n",
              "\n",
              "  .colab-df-quickchart {\n",
              "    background-color: var(--bg-color);\n",
              "    border: none;\n",
              "    border-radius: 50%;\n",
              "    cursor: pointer;\n",
              "    display: none;\n",
              "    fill: var(--fill-color);\n",
              "    height: 32px;\n",
              "    padding: 0;\n",
              "    width: 32px;\n",
              "  }\n",
              "\n",
              "  .colab-df-quickchart:hover {\n",
              "    background-color: var(--hover-bg-color);\n",
              "    box-shadow: 0 1px 2px rgba(60, 64, 67, 0.3), 0 1px 3px 1px rgba(60, 64, 67, 0.15);\n",
              "    fill: var(--button-hover-fill-color);\n",
              "  }\n",
              "\n",
              "  .colab-df-quickchart-complete:disabled,\n",
              "  .colab-df-quickchart-complete:disabled:hover {\n",
              "    background-color: var(--disabled-bg-color);\n",
              "    fill: var(--disabled-fill-color);\n",
              "    box-shadow: none;\n",
              "  }\n",
              "\n",
              "  .colab-df-spinner {\n",
              "    border: 2px solid var(--fill-color);\n",
              "    border-color: transparent;\n",
              "    border-bottom-color: var(--fill-color);\n",
              "    animation:\n",
              "      spin 1s steps(1) infinite;\n",
              "  }\n",
              "\n",
              "  @keyframes spin {\n",
              "    0% {\n",
              "      border-color: transparent;\n",
              "      border-bottom-color: var(--fill-color);\n",
              "      border-left-color: var(--fill-color);\n",
              "    }\n",
              "    20% {\n",
              "      border-color: transparent;\n",
              "      border-left-color: var(--fill-color);\n",
              "      border-top-color: var(--fill-color);\n",
              "    }\n",
              "    30% {\n",
              "      border-color: transparent;\n",
              "      border-left-color: var(--fill-color);\n",
              "      border-top-color: var(--fill-color);\n",
              "      border-right-color: var(--fill-color);\n",
              "    }\n",
              "    40% {\n",
              "      border-color: transparent;\n",
              "      border-right-color: var(--fill-color);\n",
              "      border-top-color: var(--fill-color);\n",
              "    }\n",
              "    60% {\n",
              "      border-color: transparent;\n",
              "      border-right-color: var(--fill-color);\n",
              "    }\n",
              "    80% {\n",
              "      border-color: transparent;\n",
              "      border-right-color: var(--fill-color);\n",
              "      border-bottom-color: var(--fill-color);\n",
              "    }\n",
              "    90% {\n",
              "      border-color: transparent;\n",
              "      border-bottom-color: var(--fill-color);\n",
              "    }\n",
              "  }\n",
              "</style>\n",
              "\n",
              "  <script>\n",
              "    async function quickchart(key) {\n",
              "      const quickchartButtonEl =\n",
              "        document.querySelector('#' + key + ' button');\n",
              "      quickchartButtonEl.disabled = true;  // To prevent multiple clicks.\n",
              "      quickchartButtonEl.classList.add('colab-df-spinner');\n",
              "      try {\n",
              "        const charts = await google.colab.kernel.invokeFunction(\n",
              "            'suggestCharts', [key], {});\n",
              "      } catch (error) {\n",
              "        console.error('Error during call to suggestCharts:', error);\n",
              "      }\n",
              "      quickchartButtonEl.classList.remove('colab-df-spinner');\n",
              "      quickchartButtonEl.classList.add('colab-df-quickchart-complete');\n",
              "    }\n",
              "    (() => {\n",
              "      let quickchartButtonEl =\n",
              "        document.querySelector('#df-7b921601-97f2-4fb9-8c22-670eb196ed93 button');\n",
              "      quickchartButtonEl.style.display =\n",
              "        google.colab.kernel.accessAllowed ? 'block' : 'none';\n",
              "    })();\n",
              "  </script>\n",
              "</div>\n",
              "\n",
              "  <div id=\"id_7c03fbef-b4df-4e6e-81da-b0d3dce27048\">\n",
              "    <style>\n",
              "      .colab-df-generate {\n",
              "        background-color: #E8F0FE;\n",
              "        border: none;\n",
              "        border-radius: 50%;\n",
              "        cursor: pointer;\n",
              "        display: none;\n",
              "        fill: #1967D2;\n",
              "        height: 32px;\n",
              "        padding: 0 0 0 0;\n",
              "        width: 32px;\n",
              "      }\n",
              "\n",
              "      .colab-df-generate:hover {\n",
              "        background-color: #E2EBFA;\n",
              "        box-shadow: 0px 1px 2px rgba(60, 64, 67, 0.3), 0px 1px 3px 1px rgba(60, 64, 67, 0.15);\n",
              "        fill: #174EA6;\n",
              "      }\n",
              "\n",
              "      [theme=dark] .colab-df-generate {\n",
              "        background-color: #3B4455;\n",
              "        fill: #D2E3FC;\n",
              "      }\n",
              "\n",
              "      [theme=dark] .colab-df-generate:hover {\n",
              "        background-color: #434B5C;\n",
              "        box-shadow: 0px 1px 3px 1px rgba(0, 0, 0, 0.15);\n",
              "        filter: drop-shadow(0px 1px 2px rgba(0, 0, 0, 0.3));\n",
              "        fill: #FFFFFF;\n",
              "      }\n",
              "    </style>\n",
              "    <button class=\"colab-df-generate\" onclick=\"generateWithVariable('df')\"\n",
              "            title=\"Generate code using this dataframe.\"\n",
              "            style=\"display:none;\">\n",
              "\n",
              "  <svg xmlns=\"http://www.w3.org/2000/svg\" height=\"24px\"viewBox=\"0 0 24 24\"\n",
              "       width=\"24px\">\n",
              "    <path d=\"M7,19H8.4L18.45,9,17,7.55,7,17.6ZM5,21V16.75L18.45,3.32a2,2,0,0,1,2.83,0l1.4,1.43a1.91,1.91,0,0,1,.58,1.4,1.91,1.91,0,0,1-.58,1.4L9.25,21ZM18.45,9,17,7.55Zm-12,3A5.31,5.31,0,0,0,4.9,8.1,5.31,5.31,0,0,0,1,6.5,5.31,5.31,0,0,0,4.9,4.9,5.31,5.31,0,0,0,6.5,1,5.31,5.31,0,0,0,8.1,4.9,5.31,5.31,0,0,0,12,6.5,5.46,5.46,0,0,0,6.5,12Z\"/>\n",
              "  </svg>\n",
              "    </button>\n",
              "    <script>\n",
              "      (() => {\n",
              "      const buttonEl =\n",
              "        document.querySelector('#id_7c03fbef-b4df-4e6e-81da-b0d3dce27048 button.colab-df-generate');\n",
              "      buttonEl.style.display =\n",
              "        google.colab.kernel.accessAllowed ? 'block' : 'none';\n",
              "\n",
              "      buttonEl.onclick = () => {\n",
              "        google.colab.notebook.generateWithVariable('df');\n",
              "      }\n",
              "      })();\n",
              "    </script>\n",
              "  </div>\n",
              "\n",
              "    </div>\n",
              "  </div>\n"
            ],
            "application/vnd.google.colaboratory.intrinsic+json": {
              "type": "dataframe",
              "variable_name": "df",
              "summary": "{\n  \"name\": \"df\",\n  \"rows\": 8,\n  \"fields\": [\n    {\n      \"column\": \"Name\",\n      \"properties\": {\n        \"dtype\": \"string\",\n        \"num_unique_values\": 8,\n        \"samples\": [\n          \"Benjamin\",\n          \"Frank\",\n          \"Aaron\"\n        ],\n        \"semantic_type\": \"\",\n        \"description\": \"\"\n      }\n    },\n    {\n      \"column\": \"Age\",\n      \"properties\": {\n        \"dtype\": \"number\",\n        \"std\": 12,\n        \"min\": 20,\n        \"max\": 55,\n        \"num_unique_values\": 8,\n        \"samples\": [\n          25,\n          45,\n          20\n        ],\n        \"semantic_type\": \"\",\n        \"description\": \"\"\n      }\n    },\n    {\n      \"column\": \"Score\",\n      \"properties\": {\n        \"dtype\": \"number\",\n        \"std\": 7,\n        \"min\": 78,\n        \"max\": 99,\n        \"num_unique_values\": 8,\n        \"samples\": [\n          99,\n          90,\n          89\n        ],\n        \"semantic_type\": \"\",\n        \"description\": \"\"\n      }\n    }\n  ]\n}"
            }
          },
          "metadata": {},
          "execution_count": 2
        }
      ]
    },
    {
      "cell_type": "code",
      "source": [
        "a = ['Gabriel', 'Hager', 'Johh']\n",
        "c = df[df['Name'].isin(a)]\n",
        "c"
      ],
      "metadata": {
        "colab": {
          "base_uri": "https://localhost:8080/",
          "height": 125
        },
        "id": "VCiOLQcLHCvs",
        "outputId": "74927853-bd28-44e9-ee52-7af3c6ea7052"
      },
      "execution_count": null,
      "outputs": [
        {
          "output_type": "execute_result",
          "data": {
            "text/plain": [
              "      Name  Age  Score\n",
              "6  Gabriel   50     91\n",
              "7    Hager   55     93"
            ],
            "text/html": [
              "\n",
              "  <div id=\"df-8b78c8f9-c705-4e5b-b6b9-62fa5a9b01ce\" class=\"colab-df-container\">\n",
              "    <div>\n",
              "<style scoped>\n",
              "    .dataframe tbody tr th:only-of-type {\n",
              "        vertical-align: middle;\n",
              "    }\n",
              "\n",
              "    .dataframe tbody tr th {\n",
              "        vertical-align: top;\n",
              "    }\n",
              "\n",
              "    .dataframe thead th {\n",
              "        text-align: right;\n",
              "    }\n",
              "</style>\n",
              "<table border=\"1\" class=\"dataframe\">\n",
              "  <thead>\n",
              "    <tr style=\"text-align: right;\">\n",
              "      <th></th>\n",
              "      <th>Name</th>\n",
              "      <th>Age</th>\n",
              "      <th>Score</th>\n",
              "    </tr>\n",
              "  </thead>\n",
              "  <tbody>\n",
              "    <tr>\n",
              "      <th>6</th>\n",
              "      <td>Gabriel</td>\n",
              "      <td>50</td>\n",
              "      <td>91</td>\n",
              "    </tr>\n",
              "    <tr>\n",
              "      <th>7</th>\n",
              "      <td>Hager</td>\n",
              "      <td>55</td>\n",
              "      <td>93</td>\n",
              "    </tr>\n",
              "  </tbody>\n",
              "</table>\n",
              "</div>\n",
              "    <div class=\"colab-df-buttons\">\n",
              "\n",
              "  <div class=\"colab-df-container\">\n",
              "    <button class=\"colab-df-convert\" onclick=\"convertToInteractive('df-8b78c8f9-c705-4e5b-b6b9-62fa5a9b01ce')\"\n",
              "            title=\"Convert this dataframe to an interactive table.\"\n",
              "            style=\"display:none;\">\n",
              "\n",
              "  <svg xmlns=\"http://www.w3.org/2000/svg\" height=\"24px\" viewBox=\"0 -960 960 960\">\n",
              "    <path d=\"M120-120v-720h720v720H120Zm60-500h600v-160H180v160Zm220 220h160v-160H400v160Zm0 220h160v-160H400v160ZM180-400h160v-160H180v160Zm440 0h160v-160H620v160ZM180-180h160v-160H180v160Zm440 0h160v-160H620v160Z\"/>\n",
              "  </svg>\n",
              "    </button>\n",
              "\n",
              "  <style>\n",
              "    .colab-df-container {\n",
              "      display:flex;\n",
              "      gap: 12px;\n",
              "    }\n",
              "\n",
              "    .colab-df-convert {\n",
              "      background-color: #E8F0FE;\n",
              "      border: none;\n",
              "      border-radius: 50%;\n",
              "      cursor: pointer;\n",
              "      display: none;\n",
              "      fill: #1967D2;\n",
              "      height: 32px;\n",
              "      padding: 0 0 0 0;\n",
              "      width: 32px;\n",
              "    }\n",
              "\n",
              "    .colab-df-convert:hover {\n",
              "      background-color: #E2EBFA;\n",
              "      box-shadow: 0px 1px 2px rgba(60, 64, 67, 0.3), 0px 1px 3px 1px rgba(60, 64, 67, 0.15);\n",
              "      fill: #174EA6;\n",
              "    }\n",
              "\n",
              "    .colab-df-buttons div {\n",
              "      margin-bottom: 4px;\n",
              "    }\n",
              "\n",
              "    [theme=dark] .colab-df-convert {\n",
              "      background-color: #3B4455;\n",
              "      fill: #D2E3FC;\n",
              "    }\n",
              "\n",
              "    [theme=dark] .colab-df-convert:hover {\n",
              "      background-color: #434B5C;\n",
              "      box-shadow: 0px 1px 3px 1px rgba(0, 0, 0, 0.15);\n",
              "      filter: drop-shadow(0px 1px 2px rgba(0, 0, 0, 0.3));\n",
              "      fill: #FFFFFF;\n",
              "    }\n",
              "  </style>\n",
              "\n",
              "    <script>\n",
              "      const buttonEl =\n",
              "        document.querySelector('#df-8b78c8f9-c705-4e5b-b6b9-62fa5a9b01ce button.colab-df-convert');\n",
              "      buttonEl.style.display =\n",
              "        google.colab.kernel.accessAllowed ? 'block' : 'none';\n",
              "\n",
              "      async function convertToInteractive(key) {\n",
              "        const element = document.querySelector('#df-8b78c8f9-c705-4e5b-b6b9-62fa5a9b01ce');\n",
              "        const dataTable =\n",
              "          await google.colab.kernel.invokeFunction('convertToInteractive',\n",
              "                                                    [key], {});\n",
              "        if (!dataTable) return;\n",
              "\n",
              "        const docLinkHtml = 'Like what you see? Visit the ' +\n",
              "          '<a target=\"_blank\" href=https://colab.research.google.com/notebooks/data_table.ipynb>data table notebook</a>'\n",
              "          + ' to learn more about interactive tables.';\n",
              "        element.innerHTML = '';\n",
              "        dataTable['output_type'] = 'display_data';\n",
              "        await google.colab.output.renderOutput(dataTable, element);\n",
              "        const docLink = document.createElement('div');\n",
              "        docLink.innerHTML = docLinkHtml;\n",
              "        element.appendChild(docLink);\n",
              "      }\n",
              "    </script>\n",
              "  </div>\n",
              "\n",
              "\n",
              "<div id=\"df-34ba3942-f635-433b-8010-94af4e0d67f9\">\n",
              "  <button class=\"colab-df-quickchart\" onclick=\"quickchart('df-34ba3942-f635-433b-8010-94af4e0d67f9')\"\n",
              "            title=\"Suggest charts\"\n",
              "            style=\"display:none;\">\n",
              "\n",
              "<svg xmlns=\"http://www.w3.org/2000/svg\" height=\"24px\"viewBox=\"0 0 24 24\"\n",
              "     width=\"24px\">\n",
              "    <g>\n",
              "        <path d=\"M19 3H5c-1.1 0-2 .9-2 2v14c0 1.1.9 2 2 2h14c1.1 0 2-.9 2-2V5c0-1.1-.9-2-2-2zM9 17H7v-7h2v7zm4 0h-2V7h2v10zm4 0h-2v-4h2v4z\"/>\n",
              "    </g>\n",
              "</svg>\n",
              "  </button>\n",
              "\n",
              "<style>\n",
              "  .colab-df-quickchart {\n",
              "      --bg-color: #E8F0FE;\n",
              "      --fill-color: #1967D2;\n",
              "      --hover-bg-color: #E2EBFA;\n",
              "      --hover-fill-color: #174EA6;\n",
              "      --disabled-fill-color: #AAA;\n",
              "      --disabled-bg-color: #DDD;\n",
              "  }\n",
              "\n",
              "  [theme=dark] .colab-df-quickchart {\n",
              "      --bg-color: #3B4455;\n",
              "      --fill-color: #D2E3FC;\n",
              "      --hover-bg-color: #434B5C;\n",
              "      --hover-fill-color: #FFFFFF;\n",
              "      --disabled-bg-color: #3B4455;\n",
              "      --disabled-fill-color: #666;\n",
              "  }\n",
              "\n",
              "  .colab-df-quickchart {\n",
              "    background-color: var(--bg-color);\n",
              "    border: none;\n",
              "    border-radius: 50%;\n",
              "    cursor: pointer;\n",
              "    display: none;\n",
              "    fill: var(--fill-color);\n",
              "    height: 32px;\n",
              "    padding: 0;\n",
              "    width: 32px;\n",
              "  }\n",
              "\n",
              "  .colab-df-quickchart:hover {\n",
              "    background-color: var(--hover-bg-color);\n",
              "    box-shadow: 0 1px 2px rgba(60, 64, 67, 0.3), 0 1px 3px 1px rgba(60, 64, 67, 0.15);\n",
              "    fill: var(--button-hover-fill-color);\n",
              "  }\n",
              "\n",
              "  .colab-df-quickchart-complete:disabled,\n",
              "  .colab-df-quickchart-complete:disabled:hover {\n",
              "    background-color: var(--disabled-bg-color);\n",
              "    fill: var(--disabled-fill-color);\n",
              "    box-shadow: none;\n",
              "  }\n",
              "\n",
              "  .colab-df-spinner {\n",
              "    border: 2px solid var(--fill-color);\n",
              "    border-color: transparent;\n",
              "    border-bottom-color: var(--fill-color);\n",
              "    animation:\n",
              "      spin 1s steps(1) infinite;\n",
              "  }\n",
              "\n",
              "  @keyframes spin {\n",
              "    0% {\n",
              "      border-color: transparent;\n",
              "      border-bottom-color: var(--fill-color);\n",
              "      border-left-color: var(--fill-color);\n",
              "    }\n",
              "    20% {\n",
              "      border-color: transparent;\n",
              "      border-left-color: var(--fill-color);\n",
              "      border-top-color: var(--fill-color);\n",
              "    }\n",
              "    30% {\n",
              "      border-color: transparent;\n",
              "      border-left-color: var(--fill-color);\n",
              "      border-top-color: var(--fill-color);\n",
              "      border-right-color: var(--fill-color);\n",
              "    }\n",
              "    40% {\n",
              "      border-color: transparent;\n",
              "      border-right-color: var(--fill-color);\n",
              "      border-top-color: var(--fill-color);\n",
              "    }\n",
              "    60% {\n",
              "      border-color: transparent;\n",
              "      border-right-color: var(--fill-color);\n",
              "    }\n",
              "    80% {\n",
              "      border-color: transparent;\n",
              "      border-right-color: var(--fill-color);\n",
              "      border-bottom-color: var(--fill-color);\n",
              "    }\n",
              "    90% {\n",
              "      border-color: transparent;\n",
              "      border-bottom-color: var(--fill-color);\n",
              "    }\n",
              "  }\n",
              "</style>\n",
              "\n",
              "  <script>\n",
              "    async function quickchart(key) {\n",
              "      const quickchartButtonEl =\n",
              "        document.querySelector('#' + key + ' button');\n",
              "      quickchartButtonEl.disabled = true;  // To prevent multiple clicks.\n",
              "      quickchartButtonEl.classList.add('colab-df-spinner');\n",
              "      try {\n",
              "        const charts = await google.colab.kernel.invokeFunction(\n",
              "            'suggestCharts', [key], {});\n",
              "      } catch (error) {\n",
              "        console.error('Error during call to suggestCharts:', error);\n",
              "      }\n",
              "      quickchartButtonEl.classList.remove('colab-df-spinner');\n",
              "      quickchartButtonEl.classList.add('colab-df-quickchart-complete');\n",
              "    }\n",
              "    (() => {\n",
              "      let quickchartButtonEl =\n",
              "        document.querySelector('#df-34ba3942-f635-433b-8010-94af4e0d67f9 button');\n",
              "      quickchartButtonEl.style.display =\n",
              "        google.colab.kernel.accessAllowed ? 'block' : 'none';\n",
              "    })();\n",
              "  </script>\n",
              "</div>\n",
              "\n",
              "  <div id=\"id_ef6d46d4-02ad-4da3-a0aa-03e21403b7c8\">\n",
              "    <style>\n",
              "      .colab-df-generate {\n",
              "        background-color: #E8F0FE;\n",
              "        border: none;\n",
              "        border-radius: 50%;\n",
              "        cursor: pointer;\n",
              "        display: none;\n",
              "        fill: #1967D2;\n",
              "        height: 32px;\n",
              "        padding: 0 0 0 0;\n",
              "        width: 32px;\n",
              "      }\n",
              "\n",
              "      .colab-df-generate:hover {\n",
              "        background-color: #E2EBFA;\n",
              "        box-shadow: 0px 1px 2px rgba(60, 64, 67, 0.3), 0px 1px 3px 1px rgba(60, 64, 67, 0.15);\n",
              "        fill: #174EA6;\n",
              "      }\n",
              "\n",
              "      [theme=dark] .colab-df-generate {\n",
              "        background-color: #3B4455;\n",
              "        fill: #D2E3FC;\n",
              "      }\n",
              "\n",
              "      [theme=dark] .colab-df-generate:hover {\n",
              "        background-color: #434B5C;\n",
              "        box-shadow: 0px 1px 3px 1px rgba(0, 0, 0, 0.15);\n",
              "        filter: drop-shadow(0px 1px 2px rgba(0, 0, 0, 0.3));\n",
              "        fill: #FFFFFF;\n",
              "      }\n",
              "    </style>\n",
              "    <button class=\"colab-df-generate\" onclick=\"generateWithVariable('c')\"\n",
              "            title=\"Generate code using this dataframe.\"\n",
              "            style=\"display:none;\">\n",
              "\n",
              "  <svg xmlns=\"http://www.w3.org/2000/svg\" height=\"24px\"viewBox=\"0 0 24 24\"\n",
              "       width=\"24px\">\n",
              "    <path d=\"M7,19H8.4L18.45,9,17,7.55,7,17.6ZM5,21V16.75L18.45,3.32a2,2,0,0,1,2.83,0l1.4,1.43a1.91,1.91,0,0,1,.58,1.4,1.91,1.91,0,0,1-.58,1.4L9.25,21ZM18.45,9,17,7.55Zm-12,3A5.31,5.31,0,0,0,4.9,8.1,5.31,5.31,0,0,0,1,6.5,5.31,5.31,0,0,0,4.9,4.9,5.31,5.31,0,0,0,6.5,1,5.31,5.31,0,0,0,8.1,4.9,5.31,5.31,0,0,0,12,6.5,5.46,5.46,0,0,0,6.5,12Z\"/>\n",
              "  </svg>\n",
              "    </button>\n",
              "    <script>\n",
              "      (() => {\n",
              "      const buttonEl =\n",
              "        document.querySelector('#id_ef6d46d4-02ad-4da3-a0aa-03e21403b7c8 button.colab-df-generate');\n",
              "      buttonEl.style.display =\n",
              "        google.colab.kernel.accessAllowed ? 'block' : 'none';\n",
              "\n",
              "      buttonEl.onclick = () => {\n",
              "        google.colab.notebook.generateWithVariable('c');\n",
              "      }\n",
              "      })();\n",
              "    </script>\n",
              "  </div>\n",
              "\n",
              "    </div>\n",
              "  </div>\n"
            ],
            "application/vnd.google.colaboratory.intrinsic+json": {
              "type": "dataframe",
              "variable_name": "c",
              "summary": "{\n  \"name\": \"c\",\n  \"rows\": 2,\n  \"fields\": [\n    {\n      \"column\": \"Name\",\n      \"properties\": {\n        \"dtype\": \"string\",\n        \"num_unique_values\": 2,\n        \"samples\": [\n          \"Hager\",\n          \"Gabriel\"\n        ],\n        \"semantic_type\": \"\",\n        \"description\": \"\"\n      }\n    },\n    {\n      \"column\": \"Age\",\n      \"properties\": {\n        \"dtype\": \"number\",\n        \"std\": 3,\n        \"min\": 50,\n        \"max\": 55,\n        \"num_unique_values\": 2,\n        \"samples\": [\n          55,\n          50\n        ],\n        \"semantic_type\": \"\",\n        \"description\": \"\"\n      }\n    },\n    {\n      \"column\": \"Score\",\n      \"properties\": {\n        \"dtype\": \"number\",\n        \"std\": 1,\n        \"min\": 91,\n        \"max\": 93,\n        \"num_unique_values\": 2,\n        \"samples\": [\n          93,\n          91\n        ],\n        \"semantic_type\": \"\",\n        \"description\": \"\"\n      }\n    }\n  ]\n}"
            }
          },
          "metadata": {},
          "execution_count": 7
        }
      ]
    },
    {
      "cell_type": "code",
      "source": [
        "def askint():\n",
        "    while True:\n",
        "        try:\n",
        "            val = int(input(\"Please enter your number :\"))\n",
        "        except:\n",
        "            print(\"Looks like you didn't enter an integer\")\n",
        "            continue\n",
        "        else:\n",
        "            print(\"Bingo. Your information is submitted\")\n",
        "            break\n",
        "        finally:\n",
        "            print(\"Executed. Finally\")\n",
        "\n",
        "    print(val)"
      ],
      "metadata": {
        "id": "0DwS7rsLHa8B"
      },
      "execution_count": null,
      "outputs": []
    },
    {
      "cell_type": "code",
      "source": [
        "askint()"
      ],
      "metadata": {
        "colab": {
          "base_uri": "https://localhost:8080/"
        },
        "id": "4x1Bk8cRL69o",
        "outputId": "e752aca4-b980-4f13-be77-33dfe6b4e371"
      },
      "execution_count": null,
      "outputs": [
        {
          "output_type": "stream",
          "name": "stdout",
          "text": [
            "Please enter your number :dsd\n",
            "Looks like you didn't enter an integer\n",
            "Executed. Finally\n",
            "Please enter your number :123\n",
            "Bingo. Your information is submitted\n",
            "Executed. Finally\n",
            "123\n"
          ]
        }
      ]
    },
    {
      "cell_type": "code",
      "source": [
        "def is_prime(num):\n",
        "  for n in range(2, num):\n",
        "    if num%n == 0:\n",
        "      print(\"Not a Prime\")\n",
        "      break\n",
        "  else:\n",
        "    print(\"a Prime number\")"
      ],
      "metadata": {
        "id": "s3OeQJJcMKnl"
      },
      "execution_count": null,
      "outputs": []
    },
    {
      "cell_type": "code",
      "source": [
        "for r in range(2,101):\n",
        "  print(f\"The number {r} is\", end=\" \")\n",
        "  is_prime(r)"
      ],
      "metadata": {
        "colab": {
          "base_uri": "https://localhost:8080/"
        },
        "id": "zNHjeuTraU8U",
        "outputId": "5e0b2794-0de8-4a46-8fb6-810d30a64b46"
      },
      "execution_count": null,
      "outputs": [
        {
          "output_type": "stream",
          "name": "stdout",
          "text": [
            "The number 2 is a Prime number\n",
            "The number 3 is a Prime number\n",
            "The number 4 is Not a Prime\n",
            "The number 5 is a Prime number\n",
            "The number 6 is Not a Prime\n",
            "The number 7 is a Prime number\n",
            "The number 8 is Not a Prime\n",
            "The number 9 is Not a Prime\n",
            "The number 10 is Not a Prime\n",
            "The number 11 is a Prime number\n",
            "The number 12 is Not a Prime\n",
            "The number 13 is a Prime number\n",
            "The number 14 is Not a Prime\n",
            "The number 15 is Not a Prime\n",
            "The number 16 is Not a Prime\n",
            "The number 17 is a Prime number\n",
            "The number 18 is Not a Prime\n",
            "The number 19 is a Prime number\n",
            "The number 20 is Not a Prime\n",
            "The number 21 is Not a Prime\n",
            "The number 22 is Not a Prime\n",
            "The number 23 is a Prime number\n",
            "The number 24 is Not a Prime\n",
            "The number 25 is Not a Prime\n",
            "The number 26 is Not a Prime\n",
            "The number 27 is Not a Prime\n",
            "The number 28 is Not a Prime\n",
            "The number 29 is a Prime number\n",
            "The number 30 is Not a Prime\n",
            "The number 31 is a Prime number\n",
            "The number 32 is Not a Prime\n",
            "The number 33 is Not a Prime\n",
            "The number 34 is Not a Prime\n",
            "The number 35 is Not a Prime\n",
            "The number 36 is Not a Prime\n",
            "The number 37 is a Prime number\n",
            "The number 38 is Not a Prime\n",
            "The number 39 is Not a Prime\n",
            "The number 40 is Not a Prime\n",
            "The number 41 is a Prime number\n",
            "The number 42 is Not a Prime\n",
            "The number 43 is a Prime number\n",
            "The number 44 is Not a Prime\n",
            "The number 45 is Not a Prime\n",
            "The number 46 is Not a Prime\n",
            "The number 47 is a Prime number\n",
            "The number 48 is Not a Prime\n",
            "The number 49 is Not a Prime\n",
            "The number 50 is Not a Prime\n",
            "The number 51 is Not a Prime\n",
            "The number 52 is Not a Prime\n",
            "The number 53 is a Prime number\n",
            "The number 54 is Not a Prime\n",
            "The number 55 is Not a Prime\n",
            "The number 56 is Not a Prime\n",
            "The number 57 is Not a Prime\n",
            "The number 58 is Not a Prime\n",
            "The number 59 is a Prime number\n",
            "The number 60 is Not a Prime\n",
            "The number 61 is a Prime number\n",
            "The number 62 is Not a Prime\n",
            "The number 63 is Not a Prime\n",
            "The number 64 is Not a Prime\n",
            "The number 65 is Not a Prime\n",
            "The number 66 is Not a Prime\n",
            "The number 67 is a Prime number\n",
            "The number 68 is Not a Prime\n",
            "The number 69 is Not a Prime\n",
            "The number 70 is Not a Prime\n",
            "The number 71 is a Prime number\n",
            "The number 72 is Not a Prime\n",
            "The number 73 is a Prime number\n",
            "The number 74 is Not a Prime\n",
            "The number 75 is Not a Prime\n",
            "The number 76 is Not a Prime\n",
            "The number 77 is Not a Prime\n",
            "The number 78 is Not a Prime\n",
            "The number 79 is a Prime number\n",
            "The number 80 is Not a Prime\n",
            "The number 81 is Not a Prime\n",
            "The number 82 is Not a Prime\n",
            "The number 83 is a Prime number\n",
            "The number 84 is Not a Prime\n",
            "The number 85 is Not a Prime\n",
            "The number 86 is Not a Prime\n",
            "The number 87 is Not a Prime\n",
            "The number 88 is Not a Prime\n",
            "The number 89 is a Prime number\n",
            "The number 90 is Not a Prime\n",
            "The number 91 is Not a Prime\n",
            "The number 92 is Not a Prime\n",
            "The number 93 is Not a Prime\n",
            "The number 94 is Not a Prime\n",
            "The number 95 is Not a Prime\n",
            "The number 96 is Not a Prime\n",
            "The number 97 is a Prime number\n",
            "The number 98 is Not a Prime\n",
            "The number 99 is Not a Prime\n",
            "The number 100 is Not a Prime\n"
          ]
        }
      ]
    },
    {
      "cell_type": "markdown",
      "source": [
        "### Working with SQLite3"
      ],
      "metadata": {
        "id": "5uRVrIImaW_5"
      }
    },
    {
      "cell_type": "markdown",
      "source": [
        "**Creating a table and inserting into it**"
      ],
      "metadata": {
        "id": "f_6ye8ogYV7L"
      }
    },
    {
      "cell_type": "code",
      "source": [
        "#Importing sqlite\n",
        "import sqlite3 as sq"
      ],
      "metadata": {
        "id": "bZomhrilYb_n"
      },
      "execution_count": null,
      "outputs": []
    },
    {
      "cell_type": "code",
      "source": [
        "#Connecting to a database\n",
        "db = sq.connect(\"my_database1.db\")"
      ],
      "metadata": {
        "id": "vYw1LbWqYiKJ"
      },
      "execution_count": null,
      "outputs": []
    },
    {
      "cell_type": "code",
      "source": [
        "#Droping any table with a similar name as our table\n",
        "db.execute(\"Drop table if exists grades1\")"
      ],
      "metadata": {
        "colab": {
          "base_uri": "https://localhost:8080/"
        },
        "id": "IA6aRNxhYpcn",
        "outputId": "241a96ab-78ed-4eba-bc54-588a2ebb0bdd"
      },
      "execution_count": null,
      "outputs": [
        {
          "output_type": "execute_result",
          "data": {
            "text/plain": [
              "<sqlite3.Cursor at 0x7ccea29ebbc0>"
            ]
          },
          "metadata": {},
          "execution_count": 8
        }
      ]
    },
    {
      "cell_type": "code",
      "source": [
        "#Creating a new table with the name - 'grades1'\n",
        "db.execute(\"CREATE TABLE grades1 (id int, name text, score int)\")\n",
        "\n",
        "#Inserting the values to the table\n",
        "db.execute(\"INSERT INTO grades1(id, name, score) VALUES(1001, 'Aaron', 81)\")\n"
      ],
      "metadata": {
        "colab": {
          "base_uri": "https://localhost:8080/"
        },
        "id": "KWSu_zyHYuPD",
        "outputId": "492aa9e1-eea2-43a4-d8d6-7e0f6e5820a7"
      },
      "execution_count": null,
      "outputs": [
        {
          "output_type": "execute_result",
          "data": {
            "text/plain": [
              "<sqlite3.Cursor at 0x7ccea29eb8c0>"
            ]
          },
          "metadata": {},
          "execution_count": 9
        }
      ]
    },
    {
      "cell_type": "code",
      "source": [
        "db.execute(\"INSERT INTO grades1(id, name, score) VALUES(1001, 'Moses', 92)\")\n",
        "db.execute(\"INSERT INTO grades1(id, name, score) VALUES(1001, 'Joseph', 80)\")\n",
        "db.execute(\"INSERT INTO grades1(id, name, score) VALUES(1001, 'Ahmed', 100)\")\n",
        "db.execute(\"INSERT INTO grades1(id, name, score) VALUES(1001, 'Noah', 95)\")\n",
        "db.commit()"
      ],
      "metadata": {
        "id": "RkyEzNByYwsr"
      },
      "execution_count": null,
      "outputs": []
    },
    {
      "cell_type": "code",
      "source": [
        "results = db.execute(\"SELECT * FROM grades1 ORDER BY id\")\n",
        "for row in results:\n",
        "  print(row)\n",
        "print(\"_\" * 60)"
      ],
      "metadata": {
        "colab": {
          "base_uri": "https://localhost:8080/"
        },
        "id": "N8RkHa6RZJuQ",
        "outputId": "30639bd1-0c15-4247-f983-cb5d77f57b84"
      },
      "execution_count": null,
      "outputs": [
        {
          "output_type": "stream",
          "name": "stdout",
          "text": [
            "(1001, 'Aaron', 81)\n",
            "(1001, 'Moses', 92)\n",
            "(1001, 'Joseph', 80)\n",
            "(1001, 'Ahmed', 100)\n",
            "(1001, 'Noah', 95)\n",
            "____________________________________________________________\n"
          ]
        }
      ]
    },
    {
      "cell_type": "code",
      "source": [
        "results = db.execute(\"SELECT * FROM grades1 WHERE name = 'Noah'\")\n",
        "for row in results:\n",
        "  print(row)\n",
        "print(\"_\" * 60)"
      ],
      "metadata": {
        "colab": {
          "base_uri": "https://localhost:8080/"
        },
        "id": "c4rA37_5ZV-V",
        "outputId": "ae33b888-9376-4b12-a8fc-10f7f44a40b8"
      },
      "execution_count": null,
      "outputs": [
        {
          "output_type": "stream",
          "name": "stdout",
          "text": [
            "(1001, 'Noah', 95)\n",
            "____________________________________________________________\n"
          ]
        }
      ]
    },
    {
      "cell_type": "code",
      "source": [
        "results = db.execute(\"SELECT * FROM grades1 WHERE score > 90\")\n",
        "for row in results:\n",
        "  print(row)\n",
        "print(\"_\" * 60)"
      ],
      "metadata": {
        "colab": {
          "base_uri": "https://localhost:8080/"
        },
        "id": "8S6sZt-oZfra",
        "outputId": "d801d92f-163e-434b-81f2-417254b1f52c"
      },
      "execution_count": null,
      "outputs": [
        {
          "output_type": "stream",
          "name": "stdout",
          "text": [
            "(1001, 'Moses', 92)\n",
            "(1001, 'Ahmed', 100)\n",
            "(1001, 'Noah', 95)\n",
            "____________________________________________________________\n"
          ]
        }
      ]
    },
    {
      "cell_type": "markdown",
      "source": [
        "#### TASK based on SQLite3"
      ],
      "metadata": {
        "id": "2u4uuskbZrVU"
      }
    },
    {
      "cell_type": "code",
      "source": [
        "#Creating a new table with 4 fields: id, salary, gender, and age\n",
        "db.execute(\"CREATE TABLE employee1 (emp_id int, salary int, gender text, age int)\")"
      ],
      "metadata": {
        "colab": {
          "base_uri": "https://localhost:8080/"
        },
        "id": "xIarXlwhaYzn",
        "outputId": "3cb7c866-6522-4a48-be2e-0eb24f57b4bc"
      },
      "execution_count": null,
      "outputs": [
        {
          "output_type": "execute_result",
          "data": {
            "text/plain": [
              "<sqlite3.Cursor at 0x7ccea2a15140>"
            ]
          },
          "metadata": {},
          "execution_count": 19
        }
      ]
    },
    {
      "cell_type": "code",
      "source": [
        "db.execute(\"Drop table if exists employee1\")"
      ],
      "metadata": {
        "colab": {
          "base_uri": "https://localhost:8080/"
        },
        "id": "EDfMcPzCbbYO",
        "outputId": "4aac94f2-3fc5-4f23-93af-6c6f417f83d1"
      },
      "execution_count": null,
      "outputs": [
        {
          "output_type": "execute_result",
          "data": {
            "text/plain": [
              "<sqlite3.Cursor at 0x7ccea2a14f40>"
            ]
          },
          "metadata": {},
          "execution_count": 18
        }
      ]
    },
    {
      "cell_type": "code",
      "source": [
        "#Inserting into the table\n",
        "db.execute(\"INSERT INTO employee1 (emp_id, salary, gender, age) VALUES (10001, 20200, 'M', 25)\")\n",
        "db.execute(\"INSERT INTO employee1 (emp_id, salary, gender, age) VALUES (10002, 30200, 'F', 35)\")\n",
        "db.execute(\"INSERT INTO employee1 (emp_id, salary, gender, age) VALUES (10003, 45200, 'M', 20)\")\n",
        "db.execute(\"INSERT INTO employee1 (emp_id, salary, gender, age) VALUES (10004, 20600, 'M', 35)\")\n",
        "db.execute(\"INSERT INTO employee1 (emp_id, salary, gender, age) VALUES (10005, 90200, 'F', 47)\")\n",
        "db.execute(\"INSERT INTO employee1 (emp_id, salary, gender, age) VALUES (10006, 70200, 'M', 50)\")\n",
        "db.execute(\"INSERT INTO employee1 (emp_id, salary, gender, age) VALUES (10007, 150200, 'M', 24)\")\n",
        "db.execute(\"INSERT INTO employee1 (emp_id, salary, gender, age) VALUES (10008, 4520, 'F', 25)\")\n",
        "db.execute(\"INSERT INTO employee1 (emp_id, salary, gender, age) VALUES (10009, 345600, 'M', 52)\")\n",
        "db.execute(\"INSERT INTO employee1 (emp_id, salary, gender, age) VALUES (100010, 874200, 'F', 32)\")\n",
        "db.commit()"
      ],
      "metadata": {
        "id": "DW-vHiN4a1tM"
      },
      "execution_count": null,
      "outputs": []
    },
    {
      "cell_type": "markdown",
      "source": [
        "***FETCHING THE RESULTS***"
      ],
      "metadata": {
        "id": "0s9KnGqZcBQl"
      }
    },
    {
      "cell_type": "code",
      "source": [
        "#Fetch all the rows by order (emp_id)\n",
        "results = db.execute(\"SELECT * FROM employee1 ORDER BY emp_id\")\n",
        "print(\"* * \" * 40)\n",
        "for row in results:\n",
        "  print(row)\n",
        "print(\"__\" * 40)"
      ],
      "metadata": {
        "colab": {
          "base_uri": "https://localhost:8080/"
        },
        "id": "BHngGdJtcIYR",
        "outputId": "9a2b0926-9320-4863-bea3-935897460fd8"
      },
      "execution_count": null,
      "outputs": [
        {
          "output_type": "stream",
          "name": "stdout",
          "text": [
            "* * * * * * * * * * * * * * * * * * * * * * * * * * * * * * * * * * * * * * * * * * * * * * * * * * * * * * * * * * * * * * * * * * * * * * * * * * * * * * * * \n",
            "(10001, 20200, 'M', 25)\n",
            "(10002, 30200, 'F', 35)\n",
            "(10003, 45200, 'M', 20)\n",
            "(10004, 20600, 'M', 35)\n",
            "(10005, 90200, 'F', 47)\n",
            "(10006, 70200, 'M', 50)\n",
            "(10007, 150200, 'M', 24)\n",
            "(10008, 4520, 'F', 25)\n",
            "(10009, 345600, 'M', 52)\n",
            "(100010, 874200, 'F', 32)\n",
            "________________________________________________________________________________\n"
          ]
        }
      ]
    },
    {
      "cell_type": "code",
      "source": [
        "#Fetch all the rows where salary >= 25,000\n",
        "result1 = db.execute(\"SELECT * FROM employee1 WHERE salary >= 25000\")\n",
        "print(\"* * \" * 40)\n",
        "for row in result1:\n",
        "  print(row)\n",
        "print(\"__\" * 40)"
      ],
      "metadata": {
        "colab": {
          "base_uri": "https://localhost:8080/"
        },
        "id": "4PLbHuKmckxi",
        "outputId": "a348cd0a-880d-4d38-84d8-01e535ee1e8b"
      },
      "execution_count": null,
      "outputs": [
        {
          "output_type": "stream",
          "name": "stdout",
          "text": [
            "* * * * * * * * * * * * * * * * * * * * * * * * * * * * * * * * * * * * * * * * * * * * * * * * * * * * * * * * * * * * * * * * * * * * * * * * * * * * * * * * \n",
            "(10002, 30200, 'F', 35)\n",
            "(10003, 45200, 'M', 20)\n",
            "(10005, 90200, 'F', 47)\n",
            "(10006, 70200, 'M', 50)\n",
            "(10007, 150200, 'M', 24)\n",
            "(10009, 345600, 'M', 52)\n",
            "(100010, 874200, 'F', 32)\n",
            "________________________________________________________________________________\n"
          ]
        }
      ]
    },
    {
      "cell_type": "code",
      "source": [
        "#Fetch all the rows based on 'F'\n",
        "result2 = db.execute(\"SELECT * FROM employee1 WHERE gender = 'F' \")\n",
        "print(\"* * \" * 40)\n",
        "for row in result2:\n",
        "  print(row)\n",
        "print(\"__\" * 40)"
      ],
      "metadata": {
        "colab": {
          "base_uri": "https://localhost:8080/"
        },
        "id": "L2WN8Ajic2K_",
        "outputId": "e214efee-47a0-43bf-f124-c0ec5d16332b"
      },
      "execution_count": null,
      "outputs": [
        {
          "output_type": "stream",
          "name": "stdout",
          "text": [
            "* * * * * * * * * * * * * * * * * * * * * * * * * * * * * * * * * * * * * * * * * * * * * * * * * * * * * * * * * * * * * * * * * * * * * * * * * * * * * * * * \n",
            "(10002, 30200, 'F', 35)\n",
            "(10005, 90200, 'F', 47)\n",
            "(10008, 4520, 'F', 25)\n",
            "(100010, 874200, 'F', 32)\n",
            "________________________________________________________________________________\n"
          ]
        }
      ]
    },
    {
      "cell_type": "code",
      "source": [
        "#Print the highest salary and corresponding emp_id and gender\n",
        "result3 = db.execute(\"SELECT emp_id, MAX(salary), gender FROM employee1\")\n",
        "print(\"* * \" * 40)\n",
        "for row in result3:\n",
        "  print(row)\n",
        "print(\"__\" * 40)"
      ],
      "metadata": {
        "colab": {
          "base_uri": "https://localhost:8080/"
        },
        "id": "s4gAs2QgdGpp",
        "outputId": "09302431-b5ba-49a9-cae9-b73ddc1f453a"
      },
      "execution_count": null,
      "outputs": [
        {
          "output_type": "stream",
          "name": "stdout",
          "text": [
            "* * * * * * * * * * * * * * * * * * * * * * * * * * * * * * * * * * * * * * * * * * * * * * * * * * * * * * * * * * * * * * * * * * * * * * * * * * * * * * * * \n",
            "(100010, 874200, 'F')\n",
            "________________________________________________________________________________\n"
          ]
        }
      ]
    },
    {
      "cell_type": "code",
      "source": [
        "#Print only age based on the highest salary\n",
        "result4 = db.execute(\"SELECT age FROM employee1 WHERE salary = (SELECT MAX(salary) from employee1) \")\n",
        "print(\"* * \" * 40)\n",
        "for row in result4:\n",
        "  print(row)\n",
        "print(\"__\" * 40)"
      ],
      "metadata": {
        "colab": {
          "base_uri": "https://localhost:8080/"
        },
        "id": "XCYEv2MjdkUk",
        "outputId": "aae6af9d-2e24-412e-895f-e7cd242e6a61"
      },
      "execution_count": null,
      "outputs": [
        {
          "output_type": "stream",
          "name": "stdout",
          "text": [
            "* * * * * * * * * * * * * * * * * * * * * * * * * * * * * * * * * * * * * * * * * * * * * * * * * * * * * * * * * * * * * * * * * * * * * * * * * * * * * * * * \n",
            "(32,)\n",
            "________________________________________________________________________________\n"
          ]
        }
      ]
    },
    {
      "cell_type": "code",
      "source": [
        "import numpy as np"
      ],
      "metadata": {
        "id": "NDHo1LAjerxy"
      },
      "execution_count": null,
      "outputs": []
    },
    {
      "cell_type": "code",
      "source": [
        "#z = np.ones(3)\n"
      ],
      "metadata": {
        "id": "NpzHkG5J6ZFb"
      },
      "execution_count": null,
      "outputs": []
    },
    {
      "cell_type": "code",
      "source": [
        "z.shape = (3,1)\n",
        "z"
      ],
      "metadata": {
        "colab": {
          "base_uri": "https://localhost:8080/"
        },
        "id": "LIsgeFsh6gU9",
        "outputId": "146ad5ab-eeb8-4f81-b408-acfa1ed738a5"
      },
      "execution_count": null,
      "outputs": [
        {
          "output_type": "execute_result",
          "data": {
            "text/plain": [
              "array([[1.],\n",
              "       [1.],\n",
              "       [1.]])"
            ]
          },
          "metadata": {},
          "execution_count": 4
        }
      ]
    },
    {
      "cell_type": "code",
      "source": [],
      "metadata": {
        "id": "8hwEzNsvOiPp"
      },
      "execution_count": null,
      "outputs": []
    },
    {
      "cell_type": "code",
      "source": [],
      "metadata": {
        "id": "L9OVrtT2OiFX"
      },
      "execution_count": null,
      "outputs": []
    },
    {
      "cell_type": "markdown",
      "source": [
        "# **THE ZALEPLON LABS present - - -**"
      ],
      "metadata": {
        "id": "Eh7USRoaOh7g"
      }
    },
    {
      "cell_type": "markdown",
      "source": [
        "# **BUILDING NumPy Arrays IN 30 WAYS OR LESS**\n",
        "\n",
        "![NumPy_logo.svg.png](data:image/png;base64,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)"
      ],
      "metadata": {
        "id": "vyNjcTuK6mEX"
      }
    },
    {
      "cell_type": "markdown",
      "source": [
        "The NumPy library in Python forms the fundamental building blocks of almost every Data Science and Machine Learning project today.\n",
        "\n",
        "Due to its immense potential in supporting vectorized operations and processing large amounts of numerical data efficiently, it has become one of the most important libraries ever built in Python.\n",
        "\n",
        "Moreover, the whole data-driven ecosystem is in some way or the other dependent upon NumPy and its core functionalities.\n",
        "\n",
        "Sitting at the core of the Numpy library is its array object, also called the ndarray. These are used to perform numerous data operations in Python, such as logical, arithmetic, mathematical, statistical operations, etc.\n",
        "\n",
        "However, these operations are only possible once you create NumPy arrays in the first place. Therefore, this post is intended to demonstrate 30 different ways to create NumPy arrays."
      ],
      "metadata": {
        "id": "R1JtminZ7C5I"
      }
    },
    {
      "cell_type": "markdown",
      "source": [
        "## 📦↩ <font color = 'purple'>**Import Dependencies**"
      ],
      "metadata": {
        "id": "ZLvYeDte81RV"
      }
    },
    {
      "cell_type": "code",
      "source": [
        "import numpy as np\n",
        "import pandas as pd"
      ],
      "metadata": {
        "id": "su0WY9Lb9Btf"
      },
      "execution_count": null,
      "outputs": []
    },
    {
      "cell_type": "markdown",
      "source": [
        "# ⚛ **Creating NumPy Arrays from Pythonic Data Containers like List and Tuple**"
      ],
      "metadata": {
        "id": "b1u3Ox_Y9D0h"
      }
    },
    {
      "cell_type": "markdown",
      "source": [
        "### <font color='red'>**Method 1: From Python List**</font>"
      ],
      "metadata": {
        "id": "BFq2tulx9JYV"
      }
    },
    {
      "cell_type": "code",
      "source": [
        "data_list = [1,2,3]\n",
        "\n",
        "np_array = np.array(data_list)\n",
        "np_array"
      ],
      "metadata": {
        "id": "8HHNQnrR9JU-",
        "colab": {
          "base_uri": "https://localhost:8080/"
        },
        "outputId": "eb1a12df-6d71-45d1-ebe2-7a6cf3bcd6a6"
      },
      "execution_count": null,
      "outputs": [
        {
          "output_type": "execute_result",
          "data": {
            "text/plain": [
              "array([1, 2, 3])"
            ]
          },
          "metadata": {},
          "execution_count": 55
        }
      ]
    },
    {
      "cell_type": "markdown",
      "source": [
        "We can verify the type of the object created and the datatype using the `type()` method and `dtype` attribute respectively, as follows:\n",
        "\n",
        "\n"
      ],
      "metadata": {
        "id": "JJrq0mEn9JRp"
      }
    },
    {
      "cell_type": "code",
      "source": [
        "print(\"The type of object:\", type(np_array))\n",
        "print(\"The Datatype of the NumPy array:\", np_array.dtype)"
      ],
      "metadata": {
        "id": "Ux5mIVMg9JO0",
        "colab": {
          "base_uri": "https://localhost:8080/"
        },
        "outputId": "d38bcf96-c1f3-4044-da36-f806639e37ca"
      },
      "execution_count": null,
      "outputs": [
        {
          "output_type": "stream",
          "name": "stdout",
          "text": [
            "The type of object: <class 'numpy.ndarray'>\n",
            "The Datatype of the NumPy array: int64\n"
          ]
        }
      ]
    },
    {
      "cell_type": "markdown",
      "source": [
        "### <font color = 'red'>**Method 2: From Python Tuple**</font>"
      ],
      "metadata": {
        "id": "09Dd3lU29JLo"
      }
    },
    {
      "cell_type": "code",
      "source": [
        "data_tuple = (1,2,3)\n",
        "\n",
        "np_array = np.array(data_tuple)\n",
        "np_array"
      ],
      "metadata": {
        "id": "zcC_jhFE-Sv_",
        "colab": {
          "base_uri": "https://localhost:8080/"
        },
        "outputId": "f1025306-ec0c-449e-d4a4-1087b2f718de"
      },
      "execution_count": null,
      "outputs": [
        {
          "output_type": "execute_result",
          "data": {
            "text/plain": [
              "array([1, 2, 3])"
            ]
          },
          "metadata": {},
          "execution_count": 57
        }
      ]
    },
    {
      "cell_type": "markdown",
      "source": [
        "### <font color = 'red'>**Method 3: From Python List with a Specific DataType**</font>"
      ],
      "metadata": {
        "id": "dBYDcUlK-cz3"
      }
    },
    {
      "cell_type": "code",
      "source": [
        "data_list = [1,2,3]\n",
        "\n",
        "np_array = np.array(data_list, dtype = np.float16)\n",
        "np_array"
      ],
      "metadata": {
        "id": "J7nLfdn9-cwj",
        "colab": {
          "base_uri": "https://localhost:8080/"
        },
        "outputId": "34153f56-951b-4840-c402-bfb5509f071b"
      },
      "execution_count": null,
      "outputs": [
        {
          "output_type": "execute_result",
          "data": {
            "text/plain": [
              "array([1., 2., 3.], dtype=float16)"
            ]
          },
          "metadata": {},
          "execution_count": 58
        }
      ]
    },
    {
      "cell_type": "markdown",
      "source": [
        "### <font color = 'red'>**Method 4: From Python List of Lists**</font>"
      ],
      "metadata": {
        "id": "ao35hfVz-ctg"
      }
    },
    {
      "cell_type": "code",
      "source": [
        "data_list = [[1,2,3],\n",
        "             [4,5,6]]\n",
        "np_array = np.array(data_list)\n",
        "np_array"
      ],
      "metadata": {
        "id": "P-DmOTYa-cql",
        "colab": {
          "base_uri": "https://localhost:8080/"
        },
        "outputId": "59527f77-2b62-4dc6-d085-bd4d87a4d7d6"
      },
      "execution_count": null,
      "outputs": [
        {
          "output_type": "execute_result",
          "data": {
            "text/plain": [
              "array([[1, 2, 3],\n",
              "       [4, 5, 6]])"
            ]
          },
          "metadata": {},
          "execution_count": 59
        }
      ]
    },
    {
      "cell_type": "markdown",
      "source": [
        "### <font color = 'red'>**Method 5: n-Dimensional NumPy Arrays**</font>"
      ],
      "metadata": {
        "id": "tp8v7guL-cnp"
      }
    },
    {
      "cell_type": "code",
      "source": [
        "data_list = [\n",
        "             [[1, 2], [3, 4]],\n",
        "             [[5, 6], [7, 8]]\n",
        "            ]\n",
        "\n",
        "np_array = np.array(data_list)\n",
        "np_array"
      ],
      "metadata": {
        "id": "-ygB_b-J-cka",
        "colab": {
          "base_uri": "https://localhost:8080/"
        },
        "outputId": "6a1bfa85-d91d-4cfb-ccf8-ab379ff7add0"
      },
      "execution_count": null,
      "outputs": [
        {
          "output_type": "execute_result",
          "data": {
            "text/plain": [
              "array([[[1, 2],\n",
              "        [3, 4]],\n",
              "\n",
              "       [[5, 6],\n",
              "        [7, 8]]])"
            ]
          },
          "metadata": {},
          "execution_count": 60
        }
      ]
    },
    {
      "cell_type": "markdown",
      "source": [
        "### <font color = 'red'>**Method 6: From List of Strings**</font>"
      ],
      "metadata": {
        "id": "0v0CjNXw-cg7"
      }
    },
    {
      "cell_type": "code",
      "source": [
        "str_list = list(\"abcd\")\n",
        "np_array = np.array(str_list, dtype = 'str')\n",
        "np_array"
      ],
      "metadata": {
        "id": "lTzlI-FY-cdt",
        "colab": {
          "base_uri": "https://localhost:8080/"
        },
        "outputId": "e923b3c9-b87d-417e-8374-238939b1cda6"
      },
      "execution_count": null,
      "outputs": [
        {
          "output_type": "execute_result",
          "data": {
            "text/plain": [
              "array(['a', 'b', 'c', 'd'], dtype='<U1')"
            ]
          },
          "metadata": {},
          "execution_count": 61
        }
      ]
    },
    {
      "cell_type": "markdown",
      "source": [
        "\n",
        "\n",
        "**-------------------------------------------------------------------------------------------------------------------------------------------------------**\n"
      ],
      "metadata": {
        "id": "yi2Oc40P-cas"
      }
    },
    {
      "cell_type": "markdown",
      "source": [
        "# ⚛ **Creating NumPy Arrays of Specific Numerical Ranges**"
      ],
      "metadata": {
        "id": "nyqGoO63-cXZ"
      }
    },
    {
      "cell_type": "markdown",
      "source": [
        "### <font color = 'red'>**Method 7: Regularly Incrementing Numbers**"
      ],
      "metadata": {
        "id": "tYedB1dd-cUB"
      }
    },
    {
      "cell_type": "code",
      "source": [
        "np.arange(start = 1, stop = 2.1, step = 0.1)"
      ],
      "metadata": {
        "id": "M6FgQURt-cRD",
        "colab": {
          "base_uri": "https://localhost:8080/"
        },
        "outputId": "c2382fb8-7e8a-43c8-cb16-a6bacb7cde25"
      },
      "execution_count": null,
      "outputs": [
        {
          "output_type": "execute_result",
          "data": {
            "text/plain": [
              "array([1. , 1.1, 1.2, 1.3, 1.4, 1.5, 1.6, 1.7, 1.8, 1.9, 2. ])"
            ]
          },
          "metadata": {},
          "execution_count": 62
        }
      ]
    },
    {
      "cell_type": "markdown",
      "source": [
        "The `np.arange()` can be called with a varying number of positional arguments:\n",
        "\n",
        "\n",
        "\n",
        "`np.arange(stop)`: Generate values in the range `[0, stop)` with `step=1`.\n",
        "\n",
        "`np.arange(start, stop)`: Generate values in the range `[start, stop)` with `step=1`.\n",
        "\n",
        "`np.arange(start, stop, step)`: Generate values in the range `[start, stop)`, with spacing between values given by `step`."
      ],
      "metadata": {
        "id": "5UmBGs-o-cNs"
      }
    },
    {
      "cell_type": "markdown",
      "source": [
        "### <font color = 'red'>**Method 8: Equally Spaced Numbers**"
      ],
      "metadata": {
        "id": "YX79T-2S-cK0"
      }
    },
    {
      "cell_type": "code",
      "source": [
        "np.linspace(start = 1, stop = 10)"
      ],
      "metadata": {
        "id": "w7axY-sS-cH0",
        "colab": {
          "base_uri": "https://localhost:8080/"
        },
        "outputId": "e18f1fa8-3732-41de-fcc4-a93368ba651d"
      },
      "execution_count": null,
      "outputs": [
        {
          "output_type": "execute_result",
          "data": {
            "text/plain": [
              "array([ 1.        ,  1.18367347,  1.36734694,  1.55102041,  1.73469388,\n",
              "        1.91836735,  2.10204082,  2.28571429,  2.46938776,  2.65306122,\n",
              "        2.83673469,  3.02040816,  3.20408163,  3.3877551 ,  3.57142857,\n",
              "        3.75510204,  3.93877551,  4.12244898,  4.30612245,  4.48979592,\n",
              "        4.67346939,  4.85714286,  5.04081633,  5.2244898 ,  5.40816327,\n",
              "        5.59183673,  5.7755102 ,  5.95918367,  6.14285714,  6.32653061,\n",
              "        6.51020408,  6.69387755,  6.87755102,  7.06122449,  7.24489796,\n",
              "        7.42857143,  7.6122449 ,  7.79591837,  7.97959184,  8.16326531,\n",
              "        8.34693878,  8.53061224,  8.71428571,  8.89795918,  9.08163265,\n",
              "        9.26530612,  9.44897959,  9.63265306,  9.81632653, 10.        ])"
            ]
          },
          "metadata": {},
          "execution_count": 64
        }
      ]
    },
    {
      "cell_type": "markdown",
      "source": [
        "#### Things to Note:\n",
        "\n",
        "\n",
        "\n",
        "*   You should always specify the `start` and `stop` argument in the `np.linspace()` method.\n",
        "*   The default value of the num argument is `50`.\n",
        "*   If you don’t want to include the `stop` value, specify `endpoint=False`.\n",
        "\n",
        "\n",
        "\n"
      ],
      "metadata": {
        "id": "JRLmvlo--cE1"
      }
    },
    {
      "cell_type": "markdown",
      "source": [
        "### <font color = 'red'>**Method 9: Numbers forming Geometric Progression (GP)**"
      ],
      "metadata": {
        "id": "hVi5_1FO-cCC"
      }
    },
    {
      "cell_type": "code",
      "source": [
        "np.geomspace(start = 1, stop = 128, num = 8)"
      ],
      "metadata": {
        "id": "9Qfs2r7s-b_S",
        "colab": {
          "base_uri": "https://localhost:8080/"
        },
        "outputId": "b5bf50a4-3466-447c-ff2d-a9809ead152d"
      },
      "execution_count": null,
      "outputs": [
        {
          "output_type": "execute_result",
          "data": {
            "text/plain": [
              "array([  1.,   2.,   4.,   8.,  16.,  32.,  64., 128.])"
            ]
          },
          "metadata": {},
          "execution_count": 65
        }
      ]
    },
    {
      "cell_type": "markdown",
      "source": [
        "### <font color = 'red'>**Method 10: Equally Spaced in Log Space**"
      ],
      "metadata": {
        "id": "PVyAQ6Fd-b8s"
      }
    },
    {
      "cell_type": "code",
      "source": [
        "np.logspace(start = 1, stop = 10, num = 10, base = 2)"
      ],
      "metadata": {
        "id": "S1yWzb7R-b6I",
        "colab": {
          "base_uri": "https://localhost:8080/"
        },
        "outputId": "70989a1b-30e6-4496-91f3-6e9aa9924ced"
      },
      "execution_count": null,
      "outputs": [
        {
          "output_type": "execute_result",
          "data": {
            "text/plain": [
              "array([   2.,    4.,    8.,   16.,   32.,   64.,  128.,  256.,  512.,\n",
              "       1024.])"
            ]
          },
          "metadata": {},
          "execution_count": 66
        }
      ]
    },
    {
      "cell_type": "markdown",
      "source": [
        "This is equivalent to taking the output of `np.linspace()` and raising the individual numbers to the power `base`."
      ],
      "metadata": {
        "id": "gP7B96ne-b2A"
      }
    },
    {
      "cell_type": "code",
      "source": [
        "2 ** np.linspace(start = 1, stop = 10, num = 10)"
      ],
      "metadata": {
        "id": "ATaeOrRF-byn",
        "colab": {
          "base_uri": "https://localhost:8080/"
        },
        "outputId": "2e153138-443f-4fd1-bf1e-8f4c521e0886"
      },
      "execution_count": null,
      "outputs": [
        {
          "output_type": "execute_result",
          "data": {
            "text/plain": [
              "array([   2.,    4.,    8.,   16.,   32.,   64.,  128.,  256.,  512.,\n",
              "       1024.])"
            ]
          },
          "metadata": {},
          "execution_count": 68
        }
      ]
    },
    {
      "cell_type": "markdown",
      "source": [
        "\n",
        "\n",
        "**-------------------------------------------------------------------------------------------------------------------------------------------------------**\n"
      ],
      "metadata": {
        "id": "Q0z_8LqkDR66"
      }
    },
    {
      "cell_type": "markdown",
      "source": [
        "# ⚛ **Creating a NumPy Array of Specific Value**"
      ],
      "metadata": {
        "id": "-5ke5Nyu-buo"
      }
    },
    {
      "cell_type": "markdown",
      "source": [
        "### <font color='red'>**Method 11: Identity Array**</font>"
      ],
      "metadata": {
        "id": "MEK6Qk3x-boX"
      }
    },
    {
      "cell_type": "code",
      "source": [
        "np.identity(3)"
      ],
      "metadata": {
        "id": "7mfFaxoY-bjD",
        "colab": {
          "base_uri": "https://localhost:8080/"
        },
        "outputId": "baf7077f-2d00-4874-c87f-bd3b10aaccb3"
      },
      "execution_count": null,
      "outputs": [
        {
          "output_type": "execute_result",
          "data": {
            "text/plain": [
              "array([[1., 0., 0.],\n",
              "       [0., 1., 0.],\n",
              "       [0., 0., 1.]])"
            ]
          },
          "metadata": {},
          "execution_count": 69
        }
      ]
    },
    {
      "cell_type": "markdown",
      "source": [
        "![abc894f98474ef563407f42b7ca9d9f8e3e19aee.webp](data:image/webp;base64,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)"
      ],
      "metadata": {
        "id": "pxpEiyu1-bag"
      }
    },
    {
      "cell_type": "markdown",
      "source": [
        "**$\\color{green}{\\text{Difference between Primary Diagonal and Trailing Diagonal (or Anti-Diagonal)}}$**\n",
        "\n",
        "\n",
        "![download.png](data:image/png;base64,iVBORw0KGgoAAAANSUhEUgAABTcAAALSCAYAAAAImuUcAAAAAXNSR0IArs4c6QAAAARnQU1BAACxjwv8YQUAAAAJcEhZcwAAHYcAAB2HAY/l8WUAAIhMSURBVHhe7f1rzGVZmh94hSWEPJKxGBkLX0aMxyMuHwYbBIyqsrKqQ7KYHDQSMx6QkPoLoOEDX6vkJCuaLJIWEjPJXAQ2bU2PmfrSUpeq1EXjvqgvRp3VlalhwLbU6iq6BhDQOF3ujg4nmWRnTnR2VvXhfd73XZkrVqx9ztpnn31Z+/x+0qOIeM8++37Wft5/7HPOgwMAAAAAQIeEmwAAAABAl4SbAAAAAECXhJsAAAAAQJeEmwAAAABAl4SbAAAAAECXhJsAAAAAQJeEmwAAAABAl4SbAAAAAECXhJsAAAAAQJeEmwAAAABAl4SbAAAAAECXhJsAAAAAQJeEmwAAAABAl4SbAAAAAECXhJsAAAAAQJeEmwAAAABAl4SbAAAAAECXhJsAAAAAQJeEmwAAAABAl4SbAAAAAECXhJsAAAAAQJeEmwAAAABAl4SbAAAAAECXhJsAAAAAQJeEmwAAAABAl4SbAAAAAECXhJsAAAAAQJeEmwAAAABAl4SbAAAAAECXhJsAAAAAQJeEmwAAAABAl4SbAAAAAECXhJsAAAAAQJeEmwAAAABAl4SbAAAAAECXhJsAAAAAQJeEmwAAAABAl4SbAAAAAECXhJsAAAAAQJeEmwAAAABAl4SbAAAAAECXhJsAAAAAQJeEmwAAAABAl4SbAAAAAECXhJsAAAAAQJeEmwAAAABAl4SbAAAAAECXhJsAAAAAQJeEmwAAAABAl4SbAAAAAECXhJsAAAAAQJeEmwAAAABAl4SbAAAAAECXhJsAAAAAQJeEmwAAAABAl4SbAAAAAECXhJsAAAAAQJeEmwAAAABAl4SbAAAAAECXhJsAAAAAQJeEmwAAAABAl4SbAAAAAECXhJsAAAAAQJeEmwAAAABAl4SbAAAAAECXhJsAAAAAQJeEmwAAAABAl4SbAAAAAECXhJsAAAAAQJeEmwAAAABAl4SbAAAAAECXhJsL+NEf/dHDgwcPlFJKzVwx3gLAnPT2Sim1TOntaSXcXEDtRaqUUmqeAoA51a49Siml5ilo4UxZgBclwPyMtQAswfUGYH7GWsZwpizAixJgfsZaAJbgegMwP2MtYzhTFuBFCTA/Yy0AS3C9AZifsZYxnCkL8KIEmJ+xFoAluN4AzM9YyxjOlAV4UQLMz1gLwBJcbwDmZ6xlDGfKArwoAeZnrAVgCa43APMz1jKGM2UBXpQA8zPWArAE1xuA+RlrGcOZsgAvSoD5GWsBWILrDcD8jLWM4UxZgBclwPyMtQAswfUGYH7GWsZwpizAixJgfsZaAJbgegMwP2MtYzhTFuBFCTA/Yy0AS3C9AZifsZYxnCkL8KIEmJ+xFoAluN4AzM9YyxjOlAV4UQLMz1gLwBJcbwDmZ6xlDGfKArwoAeZnrAVgCa43APMz1jKGM2UBXpQA8zPWArAE1xuA+RlrGcOZsgAvSoD5GWsBWILrDcD8jLWM4UxZgBclwPyMtQAswfUGYH7GWsZwpizAixJgfsZaAJbgegMwP2MtYzhTFuBFCTA/Yy0AS3C9AZifsZYxnCkL8KIELun111//ZFyJv3PHWAvAElxv4Dqk17rX+zrse8Zwpizgml6UEbREvfnmm/c/YQ8c122JY5HGlfg7d65prAVgPa43/eiph+1pXa9Feq17va/DvmcMZ8oClnpRxoUwLWuoXnrppdnCkJhvviyWFcc23/+1Ssd/TNPkuG5Pfkzmej33yDkKwBKu6XpT9pc9maOH1W9fF8dkXfY9YzhTFrDUi7K8KJ6qS4ciLsrryvd9a7U0XY7r9uTH5NKv4545RwFYwrVcb2o3TkRw14s5eth8fq2l3+6XY7Iu+54xnCkLWOpFWV4U49951f6n8ZINSt4A9dT47EV5XMvjH5VPk097jOO6PfmxjL9zJ+0TAJjTtVxvhnrHNaV1aOlJ5+hh0/zSPFOPnVc+TT7tMfrtbcqPIcuz7xnDmbKApV6U+cX02EUxHkvTRbX8byLb13pM47HyHNBE9SV/rcffuZP2CQDM6VquN2k7o/Lecc3eI1+nNeTL12/vX378WJ59zxjOlAUs9aJsDTdDfrF1od2HdDyjWgLrsuFqeQ7bINysS/sEAOZ0Ddeb6AvTdkavMeb3jDmldYhaQ758/fb+5ceO5dn3jOFMWcBSL8oxTcdWGhQuJx3PqNbGqWy46EP++o2/c8d5DMASruF6k/caqa9M/15z29deh3z5+u39c9zWZd8zhjNlAUu9KMcElnExTtPW1q3W0MTP8otzLVQ59lhIj+frV65LPFZ7fkyXr1eatrWxSM/PtyGfz9A65/LpQ7lO+frky2lZx5gmTd+yLqX03NblhXyZx56XHj+2XvHcqfs3SfMq51OrdCyGDK1T/LxlP6Xp8+XE88p5nlqPXFqnc9cr3zfx90tI65SvS5p/y37K1ylNX87zUus6JC0HAOZ0DdebtI35do69ptd6g1DrgY71Gvl0xyrmWUqPXaoHyZfX0h+FmK7leenxY+saz43Hy/0XFT8bs51pXuV8alXbt7mhdYqft+ynfD3y6WOe5Xxb5hcusa/y51zC0D5vXZ/afiq3sWU+vUjbBC2cKQtY6kWZD3YxwB0Tg2GatrZu5cBZuyhE5fJ5Di0/f/zYfFOlQbtc37JObe+p5aQ6NZ98uqF1SheUfJmn5hvyeaTtHuPc5+fHunYxzLdzaDvybT1WLfuhdV6phuZ56pzJ69j+StPEcmK6U+t3bF6XWqdTx2yMOdYpphvaT3NaYhkAsPfrTd4b5H1Gfq0f6r9yZW+Q/7tWQ/OsTVur8vn5drSsb4t8ecf6olK+7fk+TVrWNX6epjlWLdvaOq9UQ/PM1/tUHdtflzpXkkvtq3zaqS6xTuV+GprnXuxte5iXM2UBS70o88Hu1EB9atry8fT38t+5loty/nj6e1QsL6q2rNZphy6Y+XpFxfPSPIaWOSSfJn9O/rOYZ5I/fky5jufInz+0L2piffPnlk4d10vu33Jd4t8x/9p80vxr21quU1S5XuXjtfmE9PjQ8sufRw3Jp42/n7tO+bTx93Ndcj/l05b7JP/3nJZYBgDs/XqTti+qvO7nj50y1BvkvUb6War4WSnWoTZ9+lmqcl3zPieWeQn58od6oppy3Uun1jV/PE2Tb3u+f9PjQ8p1iX/H/GvzSfOvbWu5TlHlepWP1+YT8mnzdcjnl36WKn5Wc8l9lU83RbnMqHPWKabNpymfk/6+F3vbHublTFnAUi/KcrA7Jk0XFc8r5fNKdWqe+YVkaNp8fmm68iJXu1BG1dYzH8SPrd/Q85NymUPyaVKV65/L1+/Y8vP9fWy6Y9Lzo46tU+nUtuePHzuuU/dvOU1tG1r3Uz6foXWO+becP/m80nS1dcunGVq3+PnQ85N8nY7N59Q0LdI8ooa2v3U/5et0atq5pOUCwJz2fL2J637avtp1PO8JTvUgtd6g9pxyumNapwuntuUc+fKP9XOlfF2iSi3rGo8d2+enlhHKaWrbkB+PY8vL5zO0zjH//JwZmq48B6Jqyy6nGzL0/KRlX4WWaU4p17m2z0PLdOU0UZc6t7cobSO0cKYsYKkXZT7YtV5ghtarHDhbBs38IjE0fes8y3Ucugjky4yaIl/mkHxZUUPrlbQckzBmnkPOncepfZg/fmwbTjm1f/PlxH4bkqYZWpd8OafWt9z22n7LHz82v9ZjfUrLfsiXdWxfHXPp/ZSvU9SUfXCutGwAmNOerzf59fzU9f7Utb7sDWrzS86Z7pS8f7lUX5Iv/9h6lvJ1iSpdal3juUPLCPlyjvWQaZqhdcmXc2p9y22v7bc5zpVTTu2rkC/rHC3bnju1X8v9dGrf9y5tJ7RwpixgqRdl2WzEv/PKB8tUQwNsOa8W+eA99Jz0eNQxY5bfOs9T8v0ztF/yZZ26OCX5c2ry/TY0TYt8Hq3rFk4tP3+89VyoObV/82N+bP3z+dSkx07NJ8mXG38v5fM7Zcy0Q1r296l1bpGeH3WJ/ZQ/PuU8mSItHwDmtOfrTdq2Y9uXT3OsDznVO+Rap03TRJ3S0lONlS+/pX9K8nWJKl1qXfM+ubZ++X4+tv75fGrSY6fmk5w6vq3HP4yZ9phT+yqkx6POka9r63E9tsxz5tezof0ANc6UBSz1oswHu5Y6diE656IR80vPGRps0+NRx4xZfsuFqSamzSvN49h88mla5etX25Zz9nVNmkfU0PrXlNteyh8fcxGN5+WVLyP+Xcr3Q+3xJJ9PzanHS/lya9s3Zn5jps3l+yk/X4b29yXOmfT8qBan9tMl1mmqtHwAmNNerzfRh6RtO3YtP9UTJGN6g9Zp0zRRp+TbU65nPBbLOVY1+fJjHq3ydYkqHVvXY+J5eeXLiH+XYruOPZ7k86k59XgpX+7UPnLMtLl8P0WleUQN7Yt8mnOcs675Msv1Onfbe5W2FVo4Uxaw1IsyH+yGKqYZGrxz5wyc+UVi6KKcHo86ZszyY1lp2mPbFo/l8z1WQ/PJp2mVL7O2X/J5thybIefOp9wnpZhXeuxYszV1/+bPjb8PyedTal3XXP6c2jyPPVZqnTa2Lz9vh2poG1r31ZA59tPUdbqEoXUDgEva6/Umv5bXerVcmu7YfhjTG7ROm6aJOuVYv5Mvb6hq++DU40PK5ZWOrWsupmtZ96ja+l1iP7euay5/Tm2eresVWqeduq9CPs05Yv+cWkYpf065fa3bvhdpW6GFM2UBS70o88Gu9UIz5JyBs+VClx6POmbM8lsuGvn8WurSF7ih5+X7rHxsrHw+rRfPkO+b2nFrOa6X3r8ty6mdFy3rWjp1DI49Vjo1bSwrP19P1bn74ZQ59tPUdbqEoXUDgEva6/UmbVdUXMuPVTltTT7d0DRJ67RpmqhTjvU7+fKGKp5fOvX4kHx5td6rpTdrWee8htYvPX5un9myrqX8OVGlU8vMtUybT9NSp/ZV1Dli/5xaRil/Trl9Ldu+J2lboYUzZQFLvSjzwa71QjPknIGz5UKXHo86ZszyT100yotpzK82XcvFJ5/PGEPbk/98aJmt0nzGzuvYBTTk+692XPPH0zxqy2/Zv/k08fc0r6j8saF5xM/y57c49Zz0WNQpp6atbV+pZRvy86Y2j1Pm2E9T1+kS0vIBYE57vN7k1/mxdYl+pXXaNE3UKef0O6fky4/5t4rlp+fVtu/UupbHJ+ZRW36+nKH1y6eJv6d5ReWPDc0jfpY/v8Wp57Qe/3Bq2nxZaZraduTbWns85PM5R8sySseeM2Y/7UHaVmjhTFnAUi/KfLBrvdAMOWfgzC8kQ8tPj0cdM2b5py4a6bGhx5OWi08+r7HS8/J9M2V+pXxex7Yzlx+zoefl09SO66nnJ6f2b7kux2poOeU8Wpx63YyZ37FpTy0nybdhaLoxr4+aOfbT1HW6hLR8AJjTHq83eZ92TtWM6Q1ap03TRJ3S0lONlS9/qB8tlX1X7Xmn1vXU85P8OJ5azqkaWk45jxb58Z3aR56aNj0WNWVfhXxe58iXcWq7knyZ5XqN2U97kLYVWjhTFrDUizIf7GoXjTHOGTjzC93Q8tPjUceMWf6pC1N6LOqYuS9w5cUt31+t+/iYNK+oofUv5es0dMxOHdf0WNQxp/Zvfszj8Zg+f05Uy37Kp2/ZD/kyavPP53fKsWnz7Tu2Haf2d2id1zHp+VGX2E+XWKep0vIBYE57u97kvceY7bpkb9A6bZom6pSWnmqsfPkt/VPI99PQepxa1/RY1DH5smrrl+/neDymz58TdepYhXz6lv2QL6M2/9bjH05Nmx6LOubUvgqt8xqSr2ss75T8PKgtc8x+2oOh/QA1zpQFLPWiHDt4HnPOwJkPxkPLT49HHTNm+acuTOmxqGPy6ea4wJXHJ//30PLGSPNqnV++3449J36epqkd13wex+TT1ZaVHhs6d1rl23VqXvm2RdWcejx3bNrWc7o8T2pa53XMpffTJdZpqmPrBwCXsrfrzbnX8Px5tV5izHxbp03TRJ1yqoc9R778Wj9byvutY885ta75PI7Jp6stKz02dX/k23VqXvm2RdVc8lxJj0Udk083dFzyac5RbvvQcpJ8v9a2bcx+2oO0rdDCmbKApV6U+WA39YJ1zsCZD95Dy0+PRx0zZvn5RaB2wUiPHZtXPo+ouS5w+fPzuoR8fscunLEPyu09dr6cOq75fKbs33yaU8f8mHx9j82rnG5oH+TTnHJs2liPY4+H1nXK53Xuvrr0frrEOk2Vlg8Ac9rb9SZtT1Rc98c49twxvUHrtGP6xbyHGepfxkrzizq2r2Ld8nWNOrYOp9Y1n8/QdpfLq61fPs2p/XdMvr7H5lVON7QP4vmn5pWcmjY9dmxeLfsq5NOcK19W/H1oWS3rNGY/7UHaVmjhTFnAUi/KfLAbunC0OmfgzC9eQ8tPj0cdM2b5+YXg1EUgzS+miyofS1WbT8inOUd50Yo6tX2tyvnGssoqp0nTHXPquF5y/w6tY1TahqhT+6w2n3hOqvLx+PeQfLpTTk2bPx7LzPdTbZ2H1iumT9PE389VW2baR7V1GlqfcKl1miItHwDmtKfrTfQhaXvO2aa8Vyj7hDG9Qeu0ZW8S06bnlsvPt+1YDzNGml8+37LKadJ0x5xa13z/RMW/8z4yfyxVPFYztI5RaRuiYr7H1OYTz0lVPh7/HpJvw6nlnpo2fzxNc+6+yqc5V8w7n09U2r+pyseH1iefNv6+d2lboYUzZQFLvSjzwe7YxaPFOQNnPnAPLT89HnXMmOXnF86hC0E+Ta3SBSb9e64LXL6MVEPLGquc76mKbW5ZdstxvdT+PTWfso6dG7V9XauhbUryaU85NW2+L4cq1jvth6F1y7ft2D5ocan9dMl1OldaPgDMaU/Xm6nX77KPyI2Z95hp03Rllb1KSw87Vr68lorl6rdP7/8xx79l2kvtq/w5U8T8W/f7sfNlzH7ag7St0MKZsoClXpT5RXHqYHfOvPLnDF3A8kH9mDEDdz7PUxeD8qIS/86fc2o+ret/TLkOl5Lvs1rFcqNaj2fSclzD1P1bPjfmV1Y5TdTQsQrxWDyvfE7Mp1y3IfkyT8mXMaS2Tml9kvR4/rNczCM9N6ad6hL76dLrdI60fACY056uN3GdT9vTcr2vSc8v5zGmN8j7kJY+Il/vqFq/ki8/Hr+EWr+UVywnamwv1LquMd94vFxmvu3p5+X+COVzY35lldNE1eaVxGPxvPI5MZ9y3YbENOl5Ma9j8mUdm7a2LeX6pJ8PrWP+/EuorVNU/OzUdocx+2kP0rZCC2fKArwoycWFKJ0T13BRapFfqKOGGowkbwri7xDSOQEAc3K9oUf6bXqTzj9o4UxZgBclSdlUcGds4JvvRwExSTonAGBOrjf0SL9Nb9L5By2cKQvwoiQZ21Rci7H7Jf+f5FP/68z1SOcEAMzJ9YYe6bfpTTr/oIUzZQFelCTpXIjSJDwr3zfRTEXTFfsor7wpS9NBks4LAJiT6w29SudulH6brUvnILRwpizAi5IQzUI6F5wPzyv3z6nSaFFK5wYAzMn1hl7pt+lJOg+hhTNlAV6UhGgO0rkQjQV18b/Fsa/y/ZUqfpb+hxlK6TwBgDm53tA7/TY9SOcktHCmLMCLEmB+xloAluB6AzA/Yy1jOFMW4EUJMD9jLQBLcL0BmJ+xljGcKQvwogSYn7EWgCW43gDMz1jLGM6UBXhRAszPWAvAElxvAOZnrGUMZ8oCvCgB5mesBWAJrjcA8zPWMoYzZQFelADzM9YCsATXG4D5GWsZw5myAC9KgPkZawFYgusNwPyMtYzhTFmAFyXA/Iy1ACzB9QZgfsZaxnCmLMCLEmB+xloAluB6AzA/Yy1jOFMW4EUJMD9jLQBLcL0BmJ+xljGcKQvwogSYn7EWgCW43gDMz1jLGM6UBXhRAszPWAvAElxvAOZnrGUMZ8oCvCgB5mesBWAJrjcA8zPWMoYzZQFelADzM9YCsATXG4D5GWsZw5myAC/KPr3++uufHLs333zz/qewT+lc73ms6n39AeiD600f0nFyrNi7/PfW+PteeP0yhjNlAV6UfWq5SEToGY/t6SKyhLTPhMbbkc71nseq3tcfgD643mzDqX4yHadjx0ovP559tj1xLNK5vqfjcur1CzlnygJ6flHGxSut/0svvXT/0+vQcpFIjx+bpldxvPPtq1VME9s9JqTM92sU27CHY+KcAmAJvV9v8v5+Sq2ppZ889XjIp9lTL99yjKOPT738GPk89rTPepa/HvZ0TNI2QQtnygJ6flHmA6Vw83np8WPT9CrfttZqCTnz/RrFNuzhmDinAFhC79ebshc7t9bU0k+eejzk0+yplz/nGLf+rpc/Z0/7rGf58d7TMUnbBC2cKQvo+UWZD5TCzefFPknTjLl7sQdpu6LS/+qWlU+TT3tM/j/J13ZObVl+DHvV+/oD0IferzfRi0UPNlRp+6Jqj0dFH7imln4y344h8dw0zZ56+bJPz/v3VPm253VqP+x1n/Usjmc6JvH3vUjbBC2cKQvo+UWZD5RDjcNe7fUi0Spte9SxxiUeK5ujaztX9iA/fr3qff0B6MOerzfR16Xt672fS9ux12N1zJjf4fJpUwkt+7LX31vTNkELZ8oCen5Rjrkw7s1eLxKt0rZHtTQ4ZcCpKepLfux61fv6A9CHPV9vhJv7MPZ3uPy4tz6H7djr761pm6CFM2UBPb8ox14Y92SvF4lWadujWoPKMuCkH3s4bs47AJaw5+uNcHMfzvkdrgw4r/H3n17t9ffWtE3QwpmygJ5flOdcGIfE88vwK/7dGpyFWJ/afKLisXPmNTSPfNvj7zX5NDX54/m61bZhzLqHmHdtP9Rq7LzDOc+P6Vqelx4f2q8hnju0jfGzY88tpXmV86lVzPuYoXWKn7fspzR9vpx4XjnPU+uRu8S+yp/Tq97XH4A+7Pl6Ez1F2r6WXiTvr1IfVPYktT4kTVPrXeKxMT1Vbf4hn+eQeO6xafLH83WqrXvLOicxbT7vYxXLGSuf95jn59s09LxT+yxJ21jup6j4WTzW6lL7a2g+Y9Ynf04S8y2389h6lNJ+KucRFY/F/I/Jt6l1O3qQtglaOFMW0POLMh8oxwzQudogXatjg3Y8VntOrU4N/uHUOsV2t1wk8vnUlpvPIx7P/12rln08Zl+katknpXOff2q/5es/tL2t50zL/mqdV6qheY7Z78f2V5omlhPTnVq/U/u+dfuGtivJp+1V7+sPQB/2fL1p6dNyZa871Jck+fxP1bEeqGU983kNyde3trw5evmhfTRULfMs5es59vn5smtO7bPQuo0t69Y6r1RD87zUOuXTxfafmu/QPgrxWO05tTo2n/x4x9/3Im0TtHCmLKDnF+WUC2MoB/uYXwzMqcrHh+TTxd+jYl6p8nlEHRv8y2Xm88p/nlc8VpPPq7bMfJ75tMeWObSsJJ82zSeWXc4rX8Y58nkd25+lcj1KMa/0WKxjKX88TZO2Iyr+XT4+pFyX+HfaV+V80vxr21quU1S5XuXjtfmE9PjQ8sufRw255L7Kp+tV7+sPQB/2fL3Je4tjfUMS/UY+ffp7+e8k/1n8PSrvXdJjqYb6qZb1zOczJF+f2rKGti9f7/SzVPGzIeX08e9YbvyZzz89lh4fK1/O0P4ZUq5D6dQ+y49NVL6vosrtPLZ++XZExb/P2V/ltPn0tXkdW6d8mvw5Q/OKGpJPG3+Pytcrn0fU0LmQTxt/34u0TdDCmbKAnl+U+UAZg+0Y+YXt2HPzQX1oMI6fx3RDA3ponU+aJqo2v3KaqKH55cucMq9yuiH58uLvNS3zaZHP59h+L+XHPaqUP35sG4b2eTi1jFBOU9uGfL8fW14+n6F1jvmPPT5putq65dOcWrep+yq0TLN1va8/AH3Y8/Um7xuGeplc3ku1PC+mH+p9kng8zWuox2lZz/R41JB8WbV1qm1fbZ3K6WrKnuzU8oa2vUU+n2PHo+bU/j+1z8LQc5NyX9Rcan/l0wzNJ7ROl08TFfujNm0+zbF1G3p+cup4hHzdh6bpUdomaOFMWUDPL8p8oIyBdYyWC1+Spos6VywjzWNoUG+5OIR8Xq3zq21jvv+GpklapsuXNyRf5rHlnZLmMXY+MW3+3FL++NhzKndqX+TLOXas0zRD65Iv59T6ltte22/548fmlx/HU8s9Jd+GIenxY9NsXe/rD0Af9ny9Gdunlb3u1J4ltPRwLeuZHo8akvdItb6t3L7aNMmp6Vq2K6RppuzLKX1kvk9q63lqn7XK51Nzif2VzyPq1Prm61SbX8jnNzRNmHIMci37IV/WsX3Vm7RN0MKZsoCeX5RTBuUxz4tp0vTnXiTzgX9omenxqFNaLhKn1nvMhaZl2vT4sX3acgFskeYRNeaY5MuPKrUcpxZj9v2x9c/nU5MeOzWf5NRxzOd3yphpjzm1r8KllrWm3tcfgD7s+Xoztk/L+54pfV2uZR1apkmPRw051SOd6utyp6bNHx/qx0K+TufKlzX2uOTLr23HqX3Wasy+P3d/nbMf0vS1+YVTj+fGTDsktj3NY2gb8u2sHbNepW2CFs6UBfT8ojznghDKATYG5WN16uI2ZGgetXUduy3lNtScWu+WeSQt06bHj63/mGUek+YRNfaY5M8t5Y+3HIcknpdXvoz4dynfD7XHk3w+NaceL+XLrW3fmPmNmTaX76eofD5D+yKfple9rz8Afdjz9SbvGy7VL7fI+5a8vx5ah5b1TI9HDcmXFfMsjdm+U9Pmj9eWlaRpos6VL6vlOObyfVLbjlP7bEhMm1eax9B8LrG/8nnUtqUmn19tufnjp4yZNpf2UVS+v4eO5Tnb2YO0TdDCmbKAnl+U+UA55sKYP29sHRuQ47F8gB+q2rqO3ZZ8+qF1yteldvFrmUfSMm16PGrImGUeky+rtm1D8uVHlWJe6bFjxyGmK+c1VFP2fT6fUuu65vLn1OZ57LFS67RT91XIp+lV7+sPQB/2fL0Z2/u09lulmDbvo4dqaB1a1jOfz5B8HWo90pjtOzVt67zSNFHnypfVchxz+fJr63lqnyXxWL4ex2rKvs/nU2pd11z+nNpy02NRp7ROG8vJlztUQ8eydV/1Jm0TtHCmLKDnF2U+UA4NpjX588ZWTVyMWgb8VLV1HTvot0yfr9OUi3JomTafZugCnR6PmiKfT2szEPJ1rB2HmNexx0M+j5Y6tS9allPb5y3rWsqfE1U69lipZdpL76uoXvW+/gD0Yc/Xm7G9z6leqhTzj/mm55yqoXVoWc98PkPydan1SGO2r2Xa9PjQOo9Z3jH5fIaWNSQ9L6q2T07ts5Avv6WG5pMeP3d/taxrKX9ObZ7psahTTk0b65Qv71Sdux96lbYJWjhTFtDzizIfKIcG05pLD7D5oB9/r80zLg75NKWx69Qyfb5etQvmmGW2TJtvY5oufhaVPz9qzPGqyedV27Yh+T6pbUe+DbV1HNrG0ql9H/Jp4u/5/sofG5pH/Cx/fotTz0mPRZ1yatp8WVFT9lU+n171vv4A9GHP15uxvU/ef9b6vlLek8Tfa89pWYeWadLjUUPy9an1SGO2r2Xa2vbHcqPyx6Jq69MqX5eh/VOT79eomlP7rJxH2sbSqfmEfJr4+9j91bKM0qnnpMeiTjk1bW37SrEO+TQ1+fGuzaNXaZughTNlAT2/KPOBcmgwrTn3eTWt8zo18I9dp3z6+HtNzCdNU7v4tcwjGbu8Y9Wyfafk82ttBvJjMPS8U8fp1POTU/u+XJdjNbScch4t8uN4avtOOTVt/viUfRXyefWq9/UHoA97vt7kvU9LP3lur3ts3i3r0DJNejxqyKke6dztq02br/Opqq3LGK37upTvj6Hnndpn6bGhx5NT87nE/sqXcer4Jafmmz9+yrFpW49Rvh+Gpjt17vUqbRO0cKYsoOcX5bkXxvJiNEXrYH1q4B+7Ti0Xw3ya2sWvdd1Dy7Tp8VhuLC9ffv7zS8jn2zrPfH3i7zX5cahNkx6LOiZf1ql9n/ZV/pyoU8ck5NO37Id8GbX55/M75dS0px5PTu2r0DqvLet9/QHow56vN6f6tFJL/5q0TtuyDi3TpMejhpzqkS65ffnjsaxYdr78oeedI1/W0P4p5fs0qrY/wql9ls/jmDH7/tz9NXY/lPug5tTjuWPT5ut2bDvydRrahtZ59SZtE7Rwpiyg5xfl2AtCLj0vqnbBatU6WLesa3o86tg6lRe2oeXmF9ja/FrXPZyaNn98yv5slZbVurx8Xxx7Tr5va8cpn8cx+XS1ZaXHxp63pXy7Ts0r37aomlOP505Ne+rxJJ9u6Ljk0/Sq9/UHoA97vt6c6tNKl+x1k3y6oXVoWc/0eNSQvM+r9UiX3L70WMt+naplH+bKHvbYc07ts3w+x+TTHZvPlP1VbldtObl824aOdz6/U45Ne+p8SVqOZeu8epO2CVo4UxbQ84uyZTAdkj836tTFJKavTVPOp6a8cLUM/FG15eUXtVTxvJp82lPrPjSP5NS0+TbGcmvLu6S0rKhjy4p1LffZ0P4P5XaU8vkM7bNyebX1y6c5te+Pydf32LzK6Yb2QT7NKaemzR+fsq9CPk2vel9/APqw5+vNqT6tFP1Hmv5Uv5VPG1XT2k+1rGc+nyF5n1Trkc7dvtq0+bJOzWuqfF2OHcfY5nzaVLV9kZzaZ/l8hrYzn0dUbT6X2l/5fOLvQ9vWsk4hn+aUY9OW+70m1iGfJtaxJp/XlH21NWmboIUzZQE9vyjLQTcG1GNVDqbxs/z5UTFNXvk08fea/PkxTQz0UeXz82mGlNMOrUv8O/97TT597QLYMo+kZdryAldWrE9UPL+2PmMMzTuvcpo03TH5NtSmzfdDVNqWqPKxVEPbOrSOUWkboob2d1KbTzwnVfl4/HtIPt0pp6Yt90f8+9x9lU/Tq97XH4A+7Pl6E31C2r5j/UyS9xvx91PStGn+ed9S67eG1qFlPfP5DMmXWeuRxmxfy7S1bUwVj6U6taxT8nUp550qfzyv2n7I5c89tc+i4t8xXVT5WKqhZR5bz3xbju2vmHftufGcVOXjQ+sT8ulOOTVt/nisU76f4t/542mamnwb4u97kbYJWjhTFtDzi7I22B+r2oBbG5iHamjArl2UysovAkPzCS3zSheW9O+hi0S+bTF9acyFpmXalnXPK9avtl4tavM7Vq3Lyrdh6Djl+7VW8Xi+v4aWe2o+ZR07RvnyjtXQNiX5tKe0THupfZU/p1e9rz8Afdjz9aalT8vlPcaxPirJ5z9UMZ/U3wytQ8t6psejhqTlRNV6pDHb1zJtvryWOrXMIfm6tFbrsk7ts3BqO+PxfB3PnU9ZQ9sQ82+d19C6JPm0p5yaNpaVT1Or2Ka07vFnTb4vW49jD9I2QQtnygJ6f1Gm9W+pYxeUfNBNFQN0VDx2aiCuzSM9P0mPDw38udq88nXILzZD6xbPSdPULoQt80jy9alNm88rKq1vWfk0abpz1OaVV8y33Gct8u04tm4x33i8XGa+n9PPa/u+fG7aP3mV00TV5pXEY/G88jkxn3LdhuTLPCVfxjG1bSnXJ/18aB3HrNdW9b7+APRh79ebtH3RX5wSfcWY6UOtn4o+JCpJj+c/y+XLHZqmpbfJp6n1SGO2L9+m2rT5stI0ZZXTRNXWq0U5n7JiWbHMsfM/tc+S2vbEv/PnHJtP+dx8P6Uqp4kau05R8bN4rEX+/FPyZQyJ9Y1l59PGMqKS9Hj+s1zMIz23dTt6kLYJWjhTFuBFySXkF9KhC1uSX+Cijl3k92js9o/Zt2xXOoYAMCfXG8bSm45jfxHSMYUWzpQFeFFyCek8aj2X8ov8tcn/97Plfy/zBmpP/9t5bdIxBIA5ud4wlt50HPuLkI4ptHCmLMCLkktI51HLuZRf4K/xfy/HNkR5EHzqf4bZrnQMAWBOrjeMpTcdx/4ipGMKLZwpC/Ci5BLyi3xU/Dsu3nnFz/KLe9S1XuDzfRD7ZGh/ldPRr3QcAWBOrjecI503UXrT08r9YH9dn3RcoYUzZQFelFxKXLDT+dRScdG/VrHttX0yVJqh/qVjCQBzcr3hHHrTcewv0rGFFs6UBXhRcknpfylrQWf8LCoe507aV0P7K/0vMP1LxxUA5uR6wxR603Hsr+uVjjO0cKYswIsSYH7GWgCW4HoDMD9jLWM4UxbgRQkwP2MtAEtwvQGYn7GWMZwpC/CiBJifsRaAJbjeAMzPWMsYzpQFeFECzM9YC8ASXG8A5mesZQxnygK8KAHmZ6wFYAmuNwDzM9YyhjNlAV6UAPMz1gKwBNcbgPkZaxnDmbIAL0qA+RlrAViC6w3A/Iy1jOFMWYAXJcD8jLUALMH1BmB+xlrGcKYswIsSYH7GWgCW4HoDMD9jLWM4UxbgRQkwP2MtAEtwvQGYn7GWMZwpC/CiBJifsRaAJbjeAMzPWMsYzpQFeFECzM9YC8ASXG8A5mesZQxnygK8KAHmZ6wFYAmuNwDzM9YyhjNlAelFqZRSav4CgDnVrj1KKaXmKWjhTFnAj/7oj1ZfpEoppS5bMd4CwJz09koptUzp7Wkl3Ozca6+9dnjjjTfu/wUAAAAwn8ghHj58eP8vWJ9ws3MGFQAAAGAJkUGkOyvdaMVWCDc7ZlABAAAAlpLnEG60YiuEmx0zqAAAAABLyDOIVG60YguEm50yqAAAAABLqeUQbrRiC4SbnTKoAAAAAEuoZRCp3GjF2oSbHTKoAAAAAEs5lkO40Yq1CTc7ZFABAAAAlnAsg0jlRivWJNzsjEEFAAAAWEpLDuFGK9Yk3OyMQQUAAABYQksGkcqNVqxFuNkRgwoAAACwlDE5hButWItwsyMGFQAAAGAJYzKIVG60Yg3CzU4YVAAAAIClnJNDuNGKNQg3O2FQAQAAAJZwTgaRyo1WLE242QGDCgAAALCUKTmEG61YmnCzAwYVAAAAYAtS3gBb4WzsnEEFAAAAWIocgq1xNnbOoAIAAAAsRQ7B1jgbO2dQAQAAAJYih2BrnI2dM6gAAAAAS5FDsDXOxs4ZVAAAAIClyCHYGmdj5wwqAAAAwFLkEGyNs7FzBhUAAABgKXIItsbZ2DmDCgAAALAUOQRb42zsnEEFAAAAWIocgq1xNnbOoAIAAAAsRQ7B1jgbO2dQAQAAAJYih2BrnI2dM6gAAAAAS5FDsDXOxs4ZVAAAAIClyCHYGmdj5wwqAAAAwFLkEGyNs7FzBhUAAABgKXIItsbZ2DmDCgAAALAUOQRb42zsnEEFAAAAWIocgq1xNnbOoAIAAAAsRQ7B1jgbO2dQAQAAAJYih2BrnI2dM6gAAAAAS5FDsDXOxs4ZVAAAAIClyCHYGmdj5wwqAAAAwFLkEGyNs7FzBhUAAABgKXIItsbZ2DmDCgAAALAUOQRb42zsnEEFAAAAWIocgq1xNnbOoAIAAAAsRQ7B1jgbO2dQAQAAAJYih2BrnI2dM6gAAAAAS5FDsDXOxs4ZVAAAAIClyCHYGmdj5wwqAAAAwFLkEGyNs7FzBhUAAABgKXIItsbZ2DmDCgAAALAUOQRb42zsnEEFAAAAWIocgq1xNnbOoAIAAAAsRQ7B1jgbO2dQAQAAAJYih2BrnI2dM6gAAAAAS5FDsDXOxs4ZVAAAAIClyCHYGmdj5wwqAAAAwFLkEGyNs7FzBhUAAABgKXIItsbZ2DmDCgAAALAUOQRb42zsnEEFAAAAWIocgq1xNnbOoAIAAAAsRQ7B1jgbO2dQAQAAAJYih2BrnI2dM6gAAAAAS5FDsDXOxs4ZVAAAAIClyCHYGmdj5wwqAAAAwFLkEGyNs7FzBhUAAABgKXIItsbZ2DmDCgAAALAUOQRb42zsnEEFAAAAWIocgq1xNnbOoAIAAAAsRQ7B1jgbO2dQAQAAAJYih2BrnI2dM6gAAAAAS5FDsDXOxs4ZVAAAAIClyCHYGmdj5wwqAAAAwFLkEGyNs7FzBhUAAABgKXIItsbZ2DmDCgAAALAUOQRb42zsnEEFAAAAWIocgq1xNnbOoAIAAAAsRQ7B1jgbO2dQAQAAAJYih2BrnI2dM6gAAAAAS5FDsDXOxs4ZVAAAAIClyCHYGmdj5wwqAAAAwFLkEGyNs7FzBhUAAABgKXIItsbZ2DmDCgAAALAUOQRb42zsnEEFAAAAWIocgq1xNnbOoAIAAAAsRQ7B1jgbO2dQAQAAAJYih2BrnI2dM6gAAAAAS5FDsDXOxs4ZVAAAAIClyCHYGmdj5wwqAAAAwFLkEGyNs7FzBhUAAABgKXIItsbZ2DmDCgAAALAUOQRb42zsnEEFAAAAWIocgq1xNnbOoAIAAAAsRQ7B1jgbO2dQAQAAAJYih2BrnI2dM6gAAAAAS5FDsDXOxs4ZVAAAAIClyCHYGmdj5wwqAAAAwFLkEGyNs7FzBhUAAABgKXIItsbZ2DmDCgAAALAUOQRb42zsnEEFAAAAeOPJdz6pJP/7pcgh2BpnY+dmG1TeeOPTAgAAADYnwsuHb716Ww/+D//KbeWBZvrZa9/72m1dgnCTrXE2du6ig0oEmQ8f3lXMMyr+nrz22t3P4k8AAABgNRFWpvAyry/+xk8c/sF7/7fbKh+7RMAp3GRrnI2X8Ed/dPijH/7w8MMf/ODwg8n1w8MPfngzv/tZn3KxQSUFl2W98JnD4Xf+P3f1ysvPPibkBBYU42KMj7fjZHX8bK8Yr2PcjvEbAJ6xYm8P0CLdrZmHlp/91pdu6xu//Uu3lcLNCDrj5/m0UVPern6JHEJvzyVNOxs5HH74Hx8+ePvvH37lr/9bh3/jy18+PPqxHzv82Ln16NHh0f/8f3n48Z9+6/D3vv/7h4/vF3HMRcLN/E7NVBFqfvPrd5XCzb/2xeeni/LWdWBmMR7GuBjjY4yTMV5Wx9GGinE6xusYt2P8jnEcAG6t3NsDnFIGmynQTGHmUEXIGZUHnOfexTk1h9Dbc2nnn43c+cE7h9/7P3/18GN/+Z89/FPxAv9jf+zwx86teP6f+M8e/uR/9985/Pt//3cPH90v4piLhJtf+MKnQWUeZg5VLeR0FycwoxgPY1yM8THGyRgvq+NoQ8U4HeN1jNsxfsc4DgC3Vu7tAY6JYDMPNaNqQeaxygPOtcJNvT2Xdv7ZyJ37BujRX/qLhz93/wKfVP/Enz78ib/6bx3+1t/7nXnDzXS35UdPPw0syxDzVOUhZ/7ZnAAXFuNhjIsxPsY4+cy4eUbFeB3jtgYIgGes3NsDDMmDzaj8czXHVjw37vZ87+mT+7mPk8a4c+ntuTTh5lSpAfrLf/Hw529fWP+Jw3/yj//Jwz/5p//M4c/+2T93+HN/bkT92T9z+DP/7F86/Bf+R//u4ad/8/fmDTfjOV95tR5ajqkUcL7/7v2MAS4vxsMYF2N8jHEyxsvqODpQMR7HuBzjc4zTMV7HuK0BAuAZK/f2ADWXDDbLioAz3uY+5jM4z84h7untuTTh5lRZA3T3v7t/6vBP/+V/+fA/+LF/8/Dv/G/+xuF/+zf+xuFvNNdfP/z1v/m3Dv/u//4/PHznd96f7zM388/YbHkb+qlK84iAM96e7i3qwIXFeBjjYoyPMU7GeFkfR5+vGIdjPI5xOcbnGKdv/3dXAwRAaeXeHqA0Z7AZlX/ZUGvAOTXc1NtzacLNqZ5rgP7pw3/1X/rK4d978/91+Ae/83uH33v8+PB4VD05/N47v3/4j//wB03fqjh6UMmDzfyb0C9REXKmeQs4gQuK8TDGxRgfY5ysj5/1inE4xuMYl2N8jnFaAwRA1cq9PUAuPhNzzmAzKuaZL6Ml4JwaburtubTzz0buPNcA/TOHf/5fff3w9e/9/uEPfng/zYxGDSpzBptR5RcNCTiBjYjxOMblGJ9jnNYAAVC1cm8PkMvDzTmCzVRjA86p4eZUentK652Ne1FrgP7qv3H42v/1/3d4+oP7aWbUPKjMHWymEnACGxTjcYzLMT5rgAAYtHJvD5CLz8OM4HHOYDPVmIBz7XBTb09pvbNxL3oINyNgjGmi5gw2Uwk4gY3RAAHQRLgJrCzu1owv+IlgsxZCzlmtAadwk61Z72zcix7CzfC5F5YJNlPln78ZJeAEVqQBAqCJcBNYUf429Piin1oAOXelgPPV3/qp+7V6nnCTrVnvbNyLLYebb7xx9+c7j+sB5NyVB5xpXQBWoAECoIlwE1jJEl8e1Frf+O1fuv3z6ccf3q5beQencJOtEW5OtdVwM70V/ZWX68HjUhUBZ1QErEHICaxAAwRAE+EmsIItBZtlfeHNR7frlAecwk22Rrg51RbDzfwzNqNqoeMa9XM/e7c+3qIOLEwDBEAT4SawsC0Hm3EHZ75uKeAUbrI1652Ne7G1cLMMNuOuyVrQuEbl6xXf3g6wEA0QAE2Em8CCIizMw8MtBZup0mdwRsUXHQXhJluz3tm4F1sKN7ccbEbF+sSXGqX1E3ACC9EAAdBEuAks7NF3v7rZYDNVfLlRHnAKN9ma9c7GvdhKuLn1YDMvASewMA0QAE2Em8AC0tu733v65DY8TF/gs+XKA07hJluz3tm4F1sJNyMkjD+j/toX66HilkrACSxIAwRAE+EmMLP0GZsvfvuVaoi45fok4LwdH29+l1+J3p7SemfjXmwl3Hz/3bvAsIdgM1UecPoWdWBGGiAAmgg3gRmVXx7Uwx2bZUXA+dn/8b90ePV/9j+936rl6e0pCTenWrMBeu21w8O/8BcODz//Yj087KEi4Iy30H/09H6jAC5PAwRAE+EmMJM9BJt5Pf7g7U+2a2l6e0rCzanWaoDyz9js6W7NY/Wrv+IuTmAWGiAAmgg3gRnsLdhM9cKvv3y7Pelb1Jeit6ck3JxqjQao/PKgvYSb+TYJOIEL0gAB0ES4CVzYXoPNqPJb1Jeit6f04P5PzrV0AxShX4R/qfYSbEbFtuTbJuAELkQDBEAT4SZwYXm4uadgM9UaAafentKD+z8515IN0J6DzVQCTmAGGiAAmgg3gQuLz6b84m/8xC6DzVRLB5x6e0oP7v/kXEs1QNcQbKYqA854Gz7ABBogAJoIN4ELiIAvKoLNWhi4t4rgNoWbUXN/yZDentKD+z851xrh5p6DzVRlwAkwgQYIgCbCTWCiCDVTyBd3NNbCwD1WHnAKN1ma1GiqpRqgj57ehX7f/PrzQeBeKwWcv/jz9zsB4DwaIACaCDeBCfJgM2rPb0WvVWxvvAU/7lidk96eknBzqrkboAj3fvVX6uHfNVQKc99/9+7uVW9RB86gAQKgiXATONO13rE5VBFwxh2cc9zFqbenJNycas4G6OHDu3Az6pru2Byqz794ty8EnMBIGiAAmgg3gTMINp+vuIMz7ZNLB5x6e0rCzanmaoDyYPOFz9TDvmuqCHfT/ogScAIjaIAAaCLcBEZ648l3BJuVmvNLhvT2lB7c/8m55miABJv18i3qwJk0QAA0EW4CIz39+MPDy7/5k4LNSs0VcOrtKT24/5NzXboBEmweLwEncAYNEABNhJtAowjqItishXrq05oj4NTbU3pw/yfnumQDJNhsKwEnMJIGCIAmwk2gQfqMzfhcyVqgp56tMuCMt/JPoben9OD+T851yQYovg08wroOgs2XHv7IzarG9t7Vm3/7Z6rTzVb5Z3AKNy/qzTffPLz++uuHl1566ZljHBU/i8fYtnT8ascwHotjfG00QAA0udJws+wZrrFX2Cu9/WVFKLf0lwc9+vGXDz/yV168rfIYxmPf/OWfrj5va5UCzkffvem/J9LbUxJuTnXJBuidx5v/VvQIMcsBNer1Vx9Vp5+1Yl/FXZyx35gsGpvasR0qjdD21JrWY3VNv7hogABocmXhZvQCtR5Bn9c/vf3l5V8ctESwWQszj1UPIWcEnPHne0+ffLJPz6G3pyTcnGpqAxR3Hd487/BzP1sP8DZU5d2aea0SbuYVAWe8rd9dnGcZG4qliuexvqFfTFrqWgJODRAATa4o3DzW/wm6+qa3v7wlg80IKWvHp6V6uYszKu7gjH15TsCpt6ck3JxqSgOUgs1UtdBuAxXBZW3gzGv1cDPeyn+zHrcVISfNhv5XN36e6liDdE13/21V7fjEz+LYxfGJGjrOUddwDDVAADS5gnDzWE+QKqahT0PHN36eSm8/Xh5szv05m7U7NuNn6S3oUfH3cppUvdzBmfZnvM1/LL09pQf3f3KuKQ3QzfSf1Abfjh5vQT92t2Zeq4eb+WdwRgk4m+UNUDQ6xxqaoRCNdeXHJY7nMbVjeOo5e6ABAqDJjsPN6PFqfUCtrqE32Cu9/Txe/a2fWiTYjMrDzQgxa9OkGvocztq0W6u4+zUFnGPv3tTbU3pw/yfnOrcByu/ajM+NrAV2K1ct2EwhZvnY6uFmKndwjpYaoNb/pa01Qf6Hd11xDMc0orVjuHcaIACa7DjcrF3/U4hZPibc7Jfe/nJS4Pb04w9vw7j0eZFzV4STEVrWHqtVLeCsTbe1mnL3pt6e0v5/o53buQ3QzbSfVC2k20Dlg2MZXm423IwScM4qNUzPHH8NcFdqx3DvNEAANNlxuJlf98veTbh5vfT2dekzNuOOzVowt6WqvUW9Nt0WK797cwy9PaX9/0Y7t3MaoA7u2oyKt6UPhZabDjej8oDTlwxdXH7sb4+/Bqgr8b/x5THcOw0QAE12HG7G9X+oZxNuXrf82Dv+z3950FJ3bJ5btS8gqk23xTr3rel6e0r7/412blPDzVow10FtPtyMioAzwuOPnt7veC4lP/a3x18D3JU4Xvnxi19o9k4DBECTHYebxwg3r1t+7K/9+JfB5hKfsTm1yjs3x7ylfe3K35ou3GQK4eZU5zRAb7xxODz68ia/RKi1ugg384qAM96iHvueyfJjf3v8NcBdKX+BEW5qgAC4J9y8Lb3ddcmP/TUf/x6DzajyMzd7Czfj7s34zE3hJlMIN6c6twF6/916CNdJdRdu5m9TF3BOUntLsw8d78e1Hj8NEABNhJu3Jdy8Hnr7O69972tdBpu1t6THz2rTbrnG0ttTEm5OJdy8rc2Hm/H29Jv1/KQEnGeLZjc/9lH0oXbsruGuzaABAqCJcPO2hJvXQ29/Jw83ewk2a18k1NNdm3mNpbenJJWY6pwGKD5z8/Mv3oVstSCug+ou3IwScF5Eftxvj73md1Pif9rziuMTVf7SEnUtwWbQAAHQRLh5W/q765Ef92s+9u89fXIbam4t2Iy7MPOKQDOqfCt6VI/BZuzvR9/96m24PIbenpJwc6pzGqD47MebaW+r08/d7DLcjCoDTt+kPkqEZflxj4qfsQ3RjJbHp1bxC8y1HTcNEABNhJu3Jdy8Dtfe20egFhXBZi14W7tqd2bWKkLNHt+KHpXulo3P3BxDb0/pwf2fnOucBijuGLyZ9raEm8uXOzjPlh/z2+Ou8d2UMeFmTHtNzasGCIAmws3b0uNdh/yYX9tx7+Ft6GPCzZi2t4Az9ns6Bu7cZKoH939yrnMboJtpbyu+6KYWwG28ug43o1LAGd9aT5Oy6Y1iW2r/+36qrqWJ1QAB0ES4eVX9wTW75t4+Dza3HG5GWFkeo1MVIWdtXlur+Jb0/BiMpbenJJ2Y6twGKH9regRttQBuw9V9uBmV7pqNL3cK3qI+6NrfstK7OFZR8YtKeRyjorndOw0QAE2Em7cl3Ny3a+7tewk2j1X++ZvlcYzq4bM382Mw9q7NoLenJNyc6twGKH9relRnb0/fRbiZV9zBGcdBwPmca25+9qh2PK/hmGqAAGgi3Lwt4eZ+XXNvv4dgs6yhuzu3/Bb1z37rS5OCzaC3pyTcnGpKAxRB2s1zbivu3uwo4NxVuBn7PR2HKAHnJ2rNzzXc5bd3QwHnnmmAAGgi3Lwt4eY+XXNvv8dgM9VQwFmbdu3K345+brAZ9PaU9v3b7BKmNkARpEV9/sW7YK2TgHN3d276FvXnCDb3rfYW9T3/r70GCIAmws3bEm7uj97+cHjx26/sLthMVXuL+hbv3nz8wduHN558Z/S3o5f09pSEm1NdogHq8C3quws3owScn9D87F/tGO/5FxkNEABNhJu77wmu0TX39hGkhfeePrkN1+LOwTJw20PV7t7cypcLpbs1f/btX7s9Fpegt6f04P5PznWpBiiCtJvnf1Ib/5KhXYabUQJOweYVKY+zcBOAqyfc3H1PcG2uubdPb0V/9N2vVkO3vVV5nLcQbpbfip7C5qn09pQe3P/JuS7ZAHUUcO423IzKP4PzysJNweZ1KY91HP+90gAB0ES4eVvCzX0QbH4aqtWCt71VeazXflt6GWxO+YzNkt6e0oP7PznXpRugTgLOXYebURFwxr5//937A7N/gs3rEr+0lMd7zzRAADQRbt6WcLN/gs1PQ7W9vhU9r9pnbtamW6rmDDaD3p6ScHOqORqgPOAUbq5f7zy+OyY7votTsNmv+OUjjtXYuy6v7XhrgABoIty8LeFm3wSb/QabEVL+yF95cfRdl+XxjnnUplui5g42g96eknBzqrkaoBSmxZ2DtcBt5bqqcDP/HM6HD+8P0H4INvuW34EZfz8Vcsbj5S8wUWPD0d5ogABoIty8LeFmvwSb/QabUfkdmPH3UyFnPB5BZn68o9Z8S3p+DOYINoPenpJwc6olGqAIOCNgW+Euzjf/9s9UqxZu1qarzbO7yj+DM2pnAWct6IqGdmztPRzbqtj35fFLxzCOSar4d+1YR11Dw6sBAqDJzsPNvDfIqxZu1qZj+665t3/41qtdB5tRtbeXR6WgM1W6w7M27Zp3bUbFFzjNGWwGvT0l4eZUSzRAK71NvQwwz6nd3NEZAecLn9llwFk7bufUNQRkWxSNZ+14tNa1HDcNEABNdhxu1kKvsRWhF9tWO27nVI894uMP3j589ltf6jbYjIrgsnY8WmutYDPt8/eePrk9Fpf6VvQhentKws2plg43oxYKOC8RbsY8avPutnYYcNaO27nFOiLgjF82asdkqKJhvaZfUDRAADQRbh6ta/lP0Z7Vjtu51YO4WzPuEIxgswzceq10Z2btmAxVhJrxnNr85q4v/sZP3N6p+eK3X7k/KvPT21OSRky1VAO0QsAZd13WBs4xtcvP4swDzjgunbtEoxvlf/LXl0LOoaAzBZrXeKw0QAA02XG4OdQfjKlr7CF6c029ff429AjYasFbz5VCzqGgMwWaa4WaUSnYTDXnW9FzentKD+7/5FxLNkBvvPFpqBa1wmdwqvuKgDP2/0dP7w8OsGUaIACa7DjchD3Jg83e34rea60VbAa9PSXh5lRLN0BlwBmfBVkL39RyFQFn3MEZxwbYJA0QAE2Em7B5ZbBZC97UvLVmsBn09pSEm1Ot0QClgPMrr9bDNrVsxR2ccTyiBJywSRogAJoIN2HTBJvr19rBZtDbUxJuTrV2AxR3DUbA5g7O9SoPN6MEnLA5GiAAmgg3YbMiRBNsrl95uLlGsBn09pSEm1NtoQGKOzgjVIvPgayFb2r+EnDCpmmAAGgi3ITNevrxh7ehpmBz3Xrv6ZPbUHOtYDPo7SkJN6faQgP08OGnoZqAc70ScMJmaYAAaCLchM2JEC2CzVrQppapuFszQuUINrdAb0/pwf2fnGsrDZCAcxsl4IRN0gAB0ES4CZuSPmMzwrVa6Kbmr/xt6HE8tkBvT+nB/Z+ca0sNkIBzG5UCzkdfvj8wwNo0QAA0EW7CJrzx5Du+PGgDtYUvD6rR21MSbk61tQYoDzijfNHQOhUBZ/z5/rt3x8UdnLAqDRAATYSbsLoINvNATbC5Tm012Ax6e0rCzam22AClgPOVl58P3dTyFXdwxvF47bX7AwQsTQMEQBPhJqxKsLmNKoPNOC5borenJNycaqsNULpT8J3H9cBNLVNx52wEm6kEnLAKDRAATYSbsJoy2PQ5m+vUN377l545DlsLNoPenpJwc6oeGqC4gzOCNW9RX6fKLxkScMLiNEAANBFuwmrycFOwuW49+u5XNxtsBr09JeHmVFtvgOIOzgjUUgk41ykBJ6xKAwRAE+EmrObpxx/e3jUo2FynYt/Hn3EcwlaDzaC3p/Tg/k/O1UMDFEFaBGqp0pfdqGVLwAmr0QAB0ES4CYtKd2v+wvffei5sU8tV+ozNL7z56P7IbJventKD+z85Vy8NkIBzG5UHnPHFT8AiNEAANBFuwmLyt6FHpTsH1bK19S8PqtHbU3pw/yfn6qkBEnBuo+KjAV74zOHw/rv3BwaYmwYIgCbCTVhEGWx6K/o61WOwGfT2lISbU/XWAOUBp3Bz/Ypvs49j4i3qMCsNEABNhJswu9e+97VnAjXB5jr12W996Znj0EuwGfT2lISbU/XYAKUwLe4crAVuarnK36Yu4ITZaIAAaCLchFkJNrdRPQebQW9PSbg5Ve8NUAScEbC5i3OdireoR7CZyudwwiw0QAA0EW7CbLwVfTuV3o7+8K1Xuws2g96eknBzqt4boLhbMEK1KAHnOiXghNlpgABoItyEWcW3ogs216+nH394exdtr/T2lB7c/8m59hRuRgk416v4kqF0HASccFEaIACaCDfh4iJEi7sD33v6pBq0qWUq3ooeoXIEm73T21N6cP8n59pDAyTg3E7lAafP4ISL0QAB0ES4CReVf8bmN377l6qhm5q/8s/Y7PFt6CW9PaUH939yrr00QG+88WmoFiXgXK8i4Iz66On9wQGm0gAB0ES4CRfjy4O2UXmwGZ+xuQd6e0rCzan21ACVAWd8FmQtfFPLVQSccQdnHBvgbBogAJoIN+EiBJvbqD0Gm0FvT0m4OdXeGqAUcH7hC/WwTS1bcQdtHI8oASecTQMEQBPhJkwm2NxG7TXYDHp7SsLNqfbYAKUQLe4ajIDNHZzrVR5uRgk44SwaIACaCDdhEsHmNir2+16DzaC3pyTcnGrvDdBXbgbCCNXiMyBr4ZuavwScMJkGCIAmwk2YJL6sRrC5fj3+4O3boHmPwWbQ21MSbk619wbo4cNPQzUB53ol4IRJNEAANBFuwiTvPX1y+63ogs3lK+33CDb3Tm9P6cH9n5zrGhogAec2SsAJZ9MAAdBEuAmjpbei/8L336qGbmr+imAz3TEbx2Pv9PaUHtz/ybmupQEScG6jUsD5+RfvDwzQQgMEQBPhJoxSfsZmLXhT81YebEYJN/X210i4OdU1NUBlwOmLhtapCDjjz/ffvTsu7uCEkzRAADQRbkKzMtiMkK0Wvqn56hqDzaC3pyTcnOraGqAUcH7uhedDN7V8Pfry3fF47bX7AwTUaIAAaCLchCaCzfXrWoPNoLenJNyc6hoboBSkvfO4Hrip5SqCzVQCThikAQKgiXATThJsbqPyY3BNwWbQ21MSbk517Q3QKy/fBWveor5OlV8yJOCEKg0QAE2Em3DUG0++80yoJthcrx5996tXGWwGvT0l4eZU19wAxWc9RqCWSsC5Tgk44SQNEABNhJtw0su/+ZOCzZUq7fP3nj65PRYRNl8jvT2lB/d/cq5rb4AiSItALZWAc50ScMJRGiAAmgg3oSrdHfj4g7efCdnUcvXF3/iJ21A57ti8dnp7Sg/u/+RcGqDnA870bd5q2SoDTuATGiAAmujt4TkP33r1NlR74ddfroZuav5KwWaqa71jM9HbU5KATKUBuiPg3EbFnbOx/3/x5+8PDBA0QAA00dvDM1KwGfXZb33JHZsrVBlsXuNnbJb09pSEm1NpgD6VB5wvfKYevqnl6v137z4X1VvUQQMEQBu9PXyiDDZrwZuatwSbdXp7SsLNqTRAz0oBZwRrtcBNLVfpLs4oASdXTgMEQBO9PdwSbK5fgs1hentKws2pNEDPi7sFQwSc8fZ0b1Ffp/JwM+rhw7vjAldIAwRAE709CDY3UrHvBZt1entKws2pNEDDIuSMUC1KwLlOCTjhlgYIgCZ6ezi8+ls/JdjcQL339Mlt0CzYfJ7entKD+z85lwZomC8Z2k7FZ6Cm4yDg5AppgABoorfnyj39+MPbYC3eEl2GbWr+iv0eFcEmw/T2lB7c/8m5NEDHCTi3UwJOrpgGCIAmenuu0BtPvnN7h+AX3nxUDdzUMpV/xqa7NY/T21N6cP8n59IAnSbg3E6lgPNXf+X+4MB10AAB0ERvz5WJYDMFalHu2Fyn8mAzSrh5nN6eknBzKg1Qm/zzN6MEnOtVfA5n/PnR07vjkr4ACnZMAwRAE709V6QMNn3G5jol2BxPb09JuDlVpQH6b2iA6vKAMwVsar3Kv2xIwMnOpQYoxmcNEACD9PZcCcHmNqoMNuO4cJrenpJwc6qP/tHhH33rXz/8a//cP3X4T982QH/q8F/8F/8nh//1f/DO4YOP76fhU+lOwbhrMAVsZeimlqm4ezaCzVQCTnYsxuMYl2N8jnE6xusYt2P8jnEcAG7p7bkC3oq+jRJsnk9vT0m4OdVH3z98/43/xeG//8/9+cOfvG2A/snDf/5f+GuHf/vNf3z4/T+8n4a6+NzHCNXicyBr4ZuavwScXIkYj2NcjvE5xukYr2PcjvE7xnEAuKW35wrE254Fm9uoF7/9imDzDHp7SsLNqeKtK//h/+7wyl/69K0r//W/+q8ffvq73rpyUoRpqQSc65WAkysQ43GMyzE+p7euxLgd47e3rgDwCb09V+Dpxx/ehpqCzXXqG7/9S7d/xnEIgs3x9PaUHtz/ybmiASo+l8eHjo/w8OGnoZqAc70ScLJzMR7HuOxDxwE4Sm/PTkWA9vCtVw/vPX3yXNimlqv0VvRXf+un7o8M59DbU3pw/yfn0gBNJ+DcRuUBp3CTndEAAdBEb88O5Z+x6YuD1qvyMzY5n96eknBzKg3QZQg4t1ERcMaXPL3/7t1xEXKyExogAJro7dmZPNiM8lb0dSpC5fw4eCv6NHp7SsLNqTRAl5MHnL5Fff36xZ+/OxavvXZ/gKBfGiAAmujt2ZH8i4OiBJvrlGDz8vT2lISbU2mALisCzrhb8J3H9cBNLVcRbKYScNI5DRAATfT27IRgcxsl2JyH3p6ScHMqDdB8fu5n74I1d3GuU+WXDAk46ZgGCIAment2wFvRt1Mp3IwvcxJsXo7enpJwcyoN0HwiUEsl4FynBJzshAYIgCZ6e3bi0Xe/KtjcQD39+MPbu2i5LL09pQf3f3IuDdB8IkiLQC2VgHOdEnCyAxogAJro7elYujPwvadPboO1b/z2Lz0Xtqn5K+7WjFA5gk3moben9OD+T86lAZpXGXBG0FYL4NS8VQacvkWdzmiAAGiit6dT6TM2447NWuCmlqn8Mza9DX0+entKD+7/5FwaoPkJOLdRceds7P9HX74/MNAPDRAATfT2dKj88iB3bK5TebAZn7HJfPT2lISbU2mAllEGnLXwTS1X77/76XGBDmiAAGiit6czvhV9GyXYXJbenpJwcyoN0HJSwPmLP18P3NSy9bkX7o6HgJMOaIAAaKK3pyOCzfUr7pIVbC5Pb09JuDmVBmhZ6bMe487BeJu0t6ivU+kt6qkePrw7LrBRGiAAmujt6YRgcxsl2FyH3p6ScHMqDdB6IlSLEnCuUwJOOqIBAqCJ3p5O5OGmYHO9+tm3f02wuQK9PaUH939yLg3QOuIOzgjUUgk416kIOF/4zKfHQcDJRmmAAGiit6cT7z19chtqCjaXr3gretTjD96+PRa+FX15entKD+7/5FwaoPX4FvXtlICTjdMAAdBEb8+Gxd2aURFs1kI3NX9FqJnumBVqrkdvT+nB/Z+cSwO0LgHndioFnF/xlgy2RwMEQBO9PRvlbejrVx5sRsUxYR16e0rCzak0QOvzFvXtVLxNPf786On9wYFt0AAB0ERvzwblwWZUhGy18E3NV4LNbdHbUxJuTqUB2oY84BRubqO+8IW745G+4R5WpAECoIneno0RbK5fgs3t0dtTEm5OpQHajgjR4m3qcddgLWxTy1UEzBFsphJwsjINEABN9PZsiGBz/RJsbpPenpJwcyoN0DZFwBmfARlVC9/U/CXgZEM0QAA00duzEfFlNXmoJthcp/JwU7C5HXp7SsLNqTRA2xTf2B2BWpSAc70ScLIRGiAAmujt2ZCXf/MnBZsrV3wzfQTNgs1t0dtTenD/J+fSAG2XgHMbJeBkAzRAADTR27OyFKI9/uDt23BNsLl8xbfRR6j8C99/6/ZYsD16e0oP7v/kXBqgbRNwbqPygDM+FxUWpgECoInenhU9fOvV21At7tishW5q/krBZqq4a5Pt0dtTEm5OpQHaPgHnNioCzqj3370/MLAcDRAATfT2rCQFm1Gf/daXqsGbmrfKYNNb0bdLb09JuDmVBqgPecAZAVstfFPLVQSccUzcxclCNEAANNHbswLB5vol2OyL3p6ScHMqDVA/Upj2zuN64KaWK29TZ2EaIACa6O1ZmGBz/RJs9kdvT0m4OZUGqE8RcMZb1L/59Xr4puatPNyMEnAyMw0QAE309ixIsLl+xRc2CTb7o7enJNycSgPUp/xt6gLOdUrAyYI0QAA00duzoC+8+UiwuYGKb0UXbPZFb0/pwf2fnEsD1KcI0iJQSyXgXKcEnCxEAwRAE709C3n68Ye3wVq8JboM29T8Ffs97tp87+mT+yNCT/T2lB7c/8m5NED9EnBuo8qA84037g8QXI4GCIAmentm9MaT79y+Ff3V3/qpauCmlqn8MzbjmNAfvT2lB/d/ci4NUN/KgDOCtloAp+atFHA++vL9gYHL0gAB0ERvz0wiREuBWlTcNVgL3tS85cuD9kFvT0m4OZUGqH/u4NxWvf/u3XFxBycXpAECoInenhmUwabP2FynBJv7obenJNycSgO0DyngjDsHa4GbWrZeefnuePgMTi5EAwRAE709F1YGmz5jc50qg01vR++b3p6ScHMqDdB+pDsF487BCNi8RX2dijtnI9hMJeDkAjRAADTR23NBgs1tlGBzf/T2lISbU11xA/Tmm28eXnrppZttju3+tOLn3fv8i3fB2pUEnG/+7Z957ji21ksPf6Q6z0lVBpwPH94fGMZ6/fXXb6v2Wo2fxWO7eM2eoAECoIne/pleIeoa+oS5xJcHrRFsfvOXf/q549haP/JXXqzOs+eKzzfdS7Cpt7+jt6ck3Jzqihug2oCaBtWuxR2cN9vxSV1BwBkBZe1YtlZtnpNLwDnJ0C8oQxWN0J5pgABoord/rrrv7Vf09OMPbz9fc+k7NiOgrB3L1qrNs+eK4xCfr9lzsKm3f5bentKD+z8515U2QDFY1gbRqF00QFf2LeqbDDdTvfCZT4+DgLPJmMYnrz3TAAHQRG//XAk3x4kALYK0954+qQZtS5Rw8+6t6BEsR7DZO7398/T2lPZ9xi/hShugfNAsB9vdNEBXFHCW4ebrrz5qrnhLe22eF60UcH7l1fuDw5Ba8xM/i19aouJ/fVOVv8jsmQYIgCZ6+/329gvIP2Nzzc/XLMPNRz/+cnPFW9pr8+yp8s/YjI8G6Jnevk5vT2nfZ/wSrrABKgfYGEjzf++qAbqSt6jn4eYsn6F5iYq3qcefHz29PziUas1PNDmnxGt47zRAADTR2++7t59RHmxuKdzc42doHqu4WzM/Dj2/FV1vP0xvT0m4OdWVNUBls5P+tyj/2e4aoDzgFG5uo+IOzjge6Rvuee51GHUNjU0rDRAATfT2++/tZxBvQ88DtTWDzahrDTf3FGzq7Y/T21MSbk51ZQ1Q/r9HqdG5igYoQrR4m3rcNVgL2zqvrsLNCJhv1vOTEnDeyl+bUS3/q3tNNEAANNHbCzdH2lqwGXWN4WYebMZb0XsONoPe/ji9PSXh5lRX1ADFgJoPsOl/jq6uAYqAMwK2+BzIWvjWYXV356aA8zn5azCKZ2mAAGiitxdujrDFYDPq2sLNb/z2Lz0TbO5B/hqM4ll6e0peJVNdUQOUD655k3N1DVD+RUM7CTi7CzejBJyfKH858T+7z9MAAdBEby/cHOnFb7+yqWAz6hrv3Hz1t35qN8Gm3v40vT2lB/d/cq4raYCiqckH2NzVNUARoj18+GmotoOAs8twM0rAeevY65M7GiAAmujthZsN0lue33v65DZYizsHy7BtzbqWcDMFyk8//vD2eOyF3v40vT0lr5SprqABKhuc8n+OrrYB2lHA2W24GZUHnHFX7RXKX39RPE8DBEATvb1w84T0VvRH3/3qc2HbVuoaws30GZtfePPR/ZHZj/z1F8Xz9PaUvFKmuoIGKP+fo1pzc9UN0E4CzjLcfPNv/8xzVXveZioCzqj3370/MNflal9/I2iAAGiitxduHlF+xubW7thMVYab3/zln36uas/rpcovD9obr7/T9PaUhJtT7bwBKj/vI5qd0tU3QHnAGQFbLXzbeOXh5qmKaV9/9VF1PpuoCDjjDs4ruYvz2OsvXr/x76h8mjTdNX1+jwYIgCZ6e739gK1+eVCt8nDzVMW0j3785ep8tlh7Dzb19m309pSEm1PtvAEqB8waDdCNCDgjTHvncT1w23iNCTfz2mTIeWVvUy9/SYl/lz87VdfQCGmAAGiit9fbV/QUbEaNCTfz2nLIGXfJ7j3YDHr7Nnp7SsLNqXbcAEUjkw+SQzRAhQg4I2D75tfr4dsG69xwMyqeW5vnapWHm1E7DzjHNjtDtffXrQYIgCZ6e719obdgM+rccDMqnlub59qVH4O9BptBb99Gb09p+KpGm502QGVTc+x/fzRAhQjTbvbDbXUUcB77fM34WdylORSCbu4OzisKOI81QPFajMej4nWaaug58dheaYAAaKK3f27aa+7t41vR81Cth2Az1bHP14yfxV2aQyHoFu/gfPk3f3L3wWbQ27fR21O6+a2fSXbaAMXAmQbFUw2NBqiQh5tRHQWcLRVBZ368U9WmXbWuJOCsNTPxs1PK122qvdIAAdBEb6+3L/zC99+6DdW2+uVBUyuCzvx4p6pNu3Slff74g7dvj0WEzXunt2+jt6e037N9KTtsgMoB9dT/+GiAKq4w4Nz8529GvfHG/QHaj/L12tL8JLUm6NTrvVcaIACa6O319jfiregRpL339MlzgdseqxZwrn33ZgSbESq/8Osv3x+V66C3b6O3p3Tz2z6T7LABygfDlmZGAzSgDDgjaKsFcJ1W+Rb1zX32ZqoUcH7+xfsDsy9TGqCQPzdKAwTAVdPbX31vn3/G5l7v1qxV+Rb1NT97MwWbqeKYXAu9fRu9PSXh5lQ7a4CieSkHw1NVPqf2vKu14zs4407N/JhvNtyMSvv9/XfvjsuO7uCM19czx2HkLyDl63dsA9ULDRAATfT2V93bl18edE3hZtypmR/ztcLNaw42Q7y+8uOgt6/T21MSbk618wboUnXVUsD56MvPh24dV1fhZl5xHOJ47OQzODVAbTRAADTR2zfVHl1zsBm1hXDz2oPNoLdvo7enJNycSgPUVFcv3SkYdw5GwLaDOzi7DDdjv8f5mGonAWd+HKLG0ABpgADI6O2bam+uPdiMWjvcFGx+Kj8OUWPo7fX212p/V6al7awBisEvHwwvUTHAkkl3Dnb+GZzlZ25u8guFalUGnA8f3h+YfuXHIWrM28XKBmivbzXTAAHQRG9/svbW2ws276r8zM2lv1Doi7/xE4LNe/lxiNLbP09vT0m4OdXOGqBzTL11/qrEHZw3++iT6jTgrH1bevysNu0ma2cBZ/mLS+v/0Jav3ai90gAB0ERvf3W9fXwr+rUHm7VvS4+f1aadq+Kb6SPUvPZgM+jtT9PbU9rv2b4UDZBwc6wdfIt6eddmVG26zdcLn/n0OHQccJ7byJT/s7vn164GCIAmevur6e0j1AyPP3j7NtS81mAzqrxrM6o23aUr7taMimCTT+ntT9PbU2p7lTBMAyTcPMdGAs50B2brW8pj+lqw2dVdm2WlgLPzuzfLY3LqdVg2P1F7pgECoIne/ip6+4dvvXp7p+bPvv1r1dCt10p3YLa+pTymrwWbS9y16W3ox5XHRG//LL09pX2f8UvQAAk3z7WBgLN8e3kElxF0RsVjqdLP8mnz59Tm3VWlff/R0/uD05/a//BGxdtY4rFU5dtcUsVje6YBAqCJ3v65nmJvvX0KNqM++60vVYO3Xqt8e3kElxF0RsVjqdLP8mnz59TmfcnKg03hZl35Okylt7+jt6ck3JxKA/TcwCvcHCH/DM64g7AM3WauMtwcW613fHZVX3n17i7O9A33Han9j21LtX6OT880QAA00dvvurffc7AZVYabY6v1js8pJdhsp7cfprenJNycSgMk3JwqQrQI0+KuwVrYNnPV3mZ+quI5EYzW5td1xR2cN9v3SXUYcJavx2MVr9W9/69uogECoInefre9/d6DzVS1t5mfqnhOBKO1+V2yBJvj6e3r9PaUhJtTaYB22wCtIgLOCNhWeIt6euv5UNiZ3rK+y1Azr/xLhqI6DDhD/I9tvBafO443P4u6hv/RzWmAAGiit99lb38twWZe6a3nQ2Fnesv6EqFmVHxhk2DzfHr7Z+ntKQk3p9IAcUn553Cu8DZ1dV87uIOTZ2mAAGiit9+d+Fb0aws2t1qPvvtVwSYXobendPNbO5NogLikCNEiTEsl4FyvBJy7ogECoInefneefvzh7V2Dgs11KvZ9/Pne0ye3xyPCZphKb0/p5jd2JtEAMYf4DM4I1KIEnOtVHnDGMaFbGiAAmujtdyHdrfkrv/t3nwvb1HKVPmMz7tiES9LbUxJuTqUBYi4Czm1UBJyx/99/9/7A0CMNEABN9Pbdy9+GHpXuHFTLVvnlQe7Y5JL09pSEm1NpgJhTHnCu8CVDqqgIOONzUaPoigYIgCZ6+66Vwaa3oq9Tgk3mprenJNycSgPE3CLgjHrncT1wU8tV/jZ1AWdXNEAANNHbd6sMNiNgqwVvat4SbLIEvT0l4eZUGiCWFAFnBGzf/Ho9fFPzVh5uRgk4u6EBAqCJ3r5Lgs1tlGCTpejtKQk3p9IAsaQI0yJUixJwrlMCzi5pgABoorfvUh6oCTbXqzzcFGwyJ709pZvfzJlEA8SS8nAzSsC5Tgk4u6MBAqCJ3r5L8W3cgs316+nHHx5e+97XBJvMTm9P6ea3cibRALE0Aec2qgw433jj/gCxRRogAJro7buRArT3nj65DdZ8K/o6FYFyVASbsBS9PaWb38iZRAPEGsqAM4K2WgCn5q084BRubpoGCIAmevsupM/YfPHbr1QDN7VM5W9Djzs2YSl6e0o3v5EziQaItbiDcxsV+z3q/XfvjouQc5M0QAA00dtvXoRoKVCL8lb0deqz3/rSM8fBW9FZkt6eknBzKg0Qa0oB5+dfrAdvatn6xZ+/Ox4+g3NzNEAANNHbb5pgcxsl2GRtentKws2pNECsLQVpcedgBGzu4FyvIthMJeDcFA0QAE309psl2NxG5cHmw7deFWyyCr09JeHmVBogtuTRl++CNZ/BuU5FsBz7P5WAczM0QAA00dtvkmBzGxVf2pQHm7AWvT0l4eZUGiC2JAK1VALOdaoMOB8+vD84rEkDBEATvf0m5eGmYHPd+sKbjwSbrE5vT+nmN28m0QCxJekzOFMJONcpAefmaIAAaKK336T3nj65DTUFm+tU7PfHH7x9ePrxh/dHBNalt6d081s3k2iA2BoB53bqhc98ehx8i/qqNEAANNHbb0bcrRl3CEawWQvc1DKVPmMzjgdshd6e0s1v3EyiAWKLBJzbqQg4407Oj57eHxzWoAECoInefhPyt6FHuFYL3dT8VX55EGyF3p6ScHMqDRBbFXcKRrCZqha8qWXrV3/FW9RXogECoInefnW+PGgbJdhky/T2lISbU2mA2LIUcP7iz9fDNrVclZ/D6W3qi9IAAdBEb78qweb6lX8jepRgky3S21MSbk6lAaIX8bboCNi8RX29yj+DM0rAuRgNEABN9ParEWyuX4JNeqG3pyTcnEoDRC/yt6lHyFYL39T8FeFyOg5RAs5FaIAAaKK3X8UbT77zTKgm2FyvXvj1lwWbbJ7entLNb9ZMogGiF3m4GSXgXK8EnIvTAAHQRG+/mkff/eptqBZ3D9ZCNzVfpX3++IO3b49FhM2wZXp7Sje/VTOJBojexBfaRKAWJeBcr8qAk1lpgABoordfVArR3nv65JmQTS1X6a3oL//mT94eC+iB3p6S36in0gDRIwHnNioFnPGFT8xKAwRAE739YtJnbL747VeqoZuav8rP2HTHJr3Q21MSbk6lAaJXAs5tVHzJU/z5/rt3b09/7bX7A8QlaYAAaKK3X0T55UHu2Fy+ymAzjgn0Qm9PSbg5lQaInqWA8+d+9vnQTS1bEXLGsYgScF6cBgiAJnr72Qk21y/BJr3T21MSbk6lAaJ36cts3nl8F7ClOwnVslV+BqeA86I0QAA00dvPSrC5fgk22QO9PSXh5lQaIPYi/zZ1Aec6JeCcjQYIgCZ6+9kINrdRn/3WlwSbdE9vT+nmt2cm0QCxFxGkRaCWSsC5Tgk4Z6EBAqCJ3n42ebgp2Fyv4pvpH771qmCTruntKd385swkGiD2RMC5jRJwXpwGCIAmevvZPP7g7cMXf+MnBJsrVOz3qAg2YQ/09pRufmtmEg0QeyPg3EblAadwczINEABN9PYXle4QjGCzFrqp+StCTW9DZ2/09pRufmtmEg0Qe1QGnBG01QI4NW/Ffo96/937A8O5NEAANNHbX0wEm96Gvm7lwaZwkz3R21MSbk6lAWKv8oDT3ZvrVwScDx+6i/NMGiAAmujtLyIPNuMLbGrBm5q3BJvsmd6eknBzKg0QexZBWnyLegRrEbAJOderFz7zadgs4BxNAwRAE739ZILN9Uuwyd7p7SkJN6fSAHEtfvHn74I1b1FfpyJYjv2fSsA5igYIgCZ6+0kEm+uXYJNroLenJNycSgPEtYhALZWAc50qA854mzpNNEAANNHbn+2NJ98RbG6g4vNNBZvsnd6e0s1vx0yiAeJa5J/BGSXgXKcEnGfRAAHQRG9/tqcff3h716Bgc9167+mT26BZsMme6e0p3fxmzCQaIK6JgHM75TM4R9EAAdBEbz9KCtEi2KwFbWqZSm9F/4Xvv3V/ZGDf9PaUbn4rZhINENdGwLmdioDzlZfvDwzHaIAAaKK3b5a/DT3CtVropuav8jM247jA3untKQk3p9IAcY3iG9Qj2EzlW9TXr4+euoPzCA0QAE309k3yYDPKW9HXKcEm10pvT0m4OZUGiGuVAs5HX66HbWrZyt+mHseGZ2iAAGiitz+pDDbdtblOCTa5Znp7SsLNqTRAcHfXYARs3qK+XuXhZpSA8xkaIACa6O2PEmxuowSbXDu9PSXh5lQaILjzhS/chWoCzvUq9n0cg1QCzk9ogABoorc/Kg/UBJvr1Dd++5eeOQ6CTa6R3p6ScHMqDRDchWgRpqWKuwhr4ZuavwScVRogAJro7Y969N2vCjY3UL/yu39XsMlV09tTuvnNl0k0QHBHwLmdEnA+RwMEQBO9/XNSgPbe0ye3wVrcOViGbWr+ikA59v3Tjz+8PR5wzfT2lG5+62USDRA86+HDT0M1Aed6lQLO+MInNEAAtNHbPyN9xmbcsVkL3NQyFd9G723o8Cm9PSXh5lQaIHiegHMb9c2v3/35/rt3x+W11+7+vEIaIACa6O0/8dr3vvZJoBbljs11Kg82o4SboLfnecLNqTRAUJcCzldefj50U8vX51+8Ox5XGnBqgABoore/VQabPmNznRJsQp3enpJwcyoNEAxLn/X4zuO7gC3dSaiWrdjvEWymusKAUwMEQBO9vWBzI5UHmw/felWwCRm9PSXh5lQaIGjzuRfugjUB5zpVfsnQlQWcGiAAmlx5by/Y3EaVwSbwLL09JeHmVMJNOK38JnUB5zp1xQGnBgiAJlfe20eQJthcv+LzTQWbMExvT+nmt1smEW5CmwjSIlBLJeBcp6404NQAAdDkynv7954+ub1rULC5TkWo+fiDtw9PP/7Q29DhCL09pZvfbJlEuAntBJzbqDzgFG5qgAD41BX29vFW9KgINmuBm1qm0lvRhZpwmt6e0s1vtkwi3IRxyoAzgrZaAKfmrdjvUe+/e39g9k0DBECTK+vt88/YdLfmeuUzNmEcvT0l4eZUwk0YLw84hZvrVwSccUx2fBenBgiAJlfU2/vyoPUr3oYu2ITx9PaUhJtTCTfhPClMi2CtFrip5eoK3qauAQKgyZX09oLN9St9aVAqwSa009tTEm5OJdyE6SLgfOEz7uJcq+KzTyPYTLXDgFMDBECTK+jtBZvrl2ATptHbUxJuTiXchOkePvw0WBNwrlNlwBnHZEc0QAA02XlvL9jcRuXhpmATxtPbU7r5DZZJhJswXdwpGIFaKgHnOrXjgFMDBECTK+jtX/z2K7ehWgRsteBNzV+PP3j7NmiOAsbT21O6+e2VSYSbcBkCzm1UBJzxEQHpOOzkLeoaIACa7LS3f+PJd27/fO/pk9twTbC5fMU+jy8PimATmEZvT+nmN1cmEW7C5Qg4t1MRcL7y8v2B6Z8GCIAmO+zt01vRH333q9XQTc1f3oYOl6W3pyTcnEq4CZdVBpxxJ2EtfFPL1UdPD4c33rg/QH3SAAHQZGe9ffkZm7XgTc1bebAZ5a3oMJ3enpJwcyrhJlxeBGkRbD76cj1sU8tW3EEbx6Pjz+DUAAHQZEe9fRlseiv68iXYhHno7SkJN6cSbsK84q7BCNjcwble5Z/BGdXhXZwaIACa7KS3F2yuX4JNmI/enpJwcyrhJszvK6/ehWo+g3O96jzg1AAB0GQHvX18pmMeqgk2ly/BJsxLb09JuDmVcBPmld6inipCtlr4puav9Pb0VB0FnBogAJrsLNwUbK5X8QVOgk2Yh96e0s1vp0wi3IT5CTi3U50GnBogAJrsoLd//MHbh89+60uCzRUq7fP3nj65PRZvPPnO7Z/AZentKd38Zsokwk1YTnyhTQRqUQLO9SoFnPGFT53QAAHQpNPePu7WjDsEI9gsAze1TH3xN37i9k7NF7/9yv1RAeait6ck3JxKuAnLEnBuo9IXPL3/7t1x2fgdnBogAJp02Nt7G/r6lYLNVN6KDvPS21MSbk4l3ITlpYDzlZefD93U8hV3cMbxeO21+wO0PRogAJp01tvnwWa8Fb0WvKl5S7AJy9PbUxJuTiXchHWkOwXfeVwP3NQyFXdwRrCZaqMBpwYIgCYd9faCzfVLsAnr0NtTEm5OJdyE9cUdnBGspbdKq2Wr/JKhDQacGiAAmnTS2ws21y/BJqxHb09JuDmVcBPWVX6TuoBzndp4wKkBAqBJB729YHMblYebgk1Ylt6e0s1voEwi3IT1RZAWgVoqAec6teGAUwMEQJMOevtf+d2/K9jcQL339MltqCnYhOXp7Snd/PbJJMJN2AYB5zYqDziFmwD0ZqO9/RtPvnNbTz/+8DZY863o61TcrRmhcgSbwHr09pRufvtkEuEmbEcZcEbQVgvg1LwV+/2FzxwO7797f2DWpwECoMkGe/sINdPbn4Wa61X+NvT4aABgPXp7SsLNqYSbsC15wCncXL8i4IxjsvJdnBogAJpsrLfPg82oCNhqwZuat8ovD4rjAqxHb09JuDmVcBO2J4VpEazVAje1XG3kbeoaIACabKi3F2xuowSbsD16e0rCzamEm7BtEXBGwOYuznUqPvs0gs1UKwWcGiAAmmyktxdsbqMEm7BNentKws2phJuwbRGmRagWJeBcpzYQcGqAAGiygd5esLmNis83zY+DYBO2Q29P6ea3TCYRbsK25eFmlIBznSoDzocP7w/QMjRAADTZWLgp2Fy3Xv2tnxJswgbp7Snd/IbJJMJN2D4B5zZqxTs4NUAANNlAb//e0ye3dw0KNtep9I30Tz/+8PZ4CDZhe/T2lG5+u2QS4Sb0QcC5nXrhM4fD5164PzDL0AAB0GSl3j7drfkL33/rubBNLVef/daXbo9D3LEJbJfenpJwc6odhpsvvfTSzXbEtkyv119//X6u9OTNN9+8PXa1YxrnRzwW03SnDDjjTsJa+LaDev3VR4eXHv7IJ8ftk+N387N47M2//TPV5y1a7zw+HD56evMb3Rv3B2g+GiAAmqzQ27/2va998jb0qHTn4KXqR/7Ki8/0AlPq0Y+/XF3GHioFm6n2ZLe9/RWJY1T7Pf1aj5/enpJwc6odhpvlgDmlYrClH3FRrB3HoYrj292FNIK0m3U/fP7FeuDWcUVgWQs0hypCztp8Fq24g/ZmXeb+DE4NEABNFu7ty2Bzjrei13qAcyuC0toyeq882Hz41qu7eSv6VfT2OxbHohZoDlWEnNdCb09JuDmVcPNoCTf7MebCWVaXAWd4/927gG0Hd3BGsFk7NqcqwtDa/BareIv6zXp8UjPdxakBAqDJgr39EsFmVO36f27tMdwsg829uKrefofGBtOpruX3b709JeHmVDsMN2Mgjf/1OafKi6hwsw9DF884pvFYqtoxTtWtr9w0sbH+HX8G51Cwmb8FPSr+Xptu9Ts4Fwg4NUAANFmot18q2Iz65i//9O3byc+p8i3tews39xpsXnVvvwNDxy+OVX4M4++16eLne6e3p2TUmmqH4eYU5cAagy7bVx63U6F07YLb5UU0vUU9VYRstfBt41W+Ff3U3Zi1t65H+FmbdrFKb09PdeGAUwMEQJMFevv05UFLBJtTq+wXIiitTddrxb7fW7AZyuN2Nb39TpSB86njV04ftfffw/X2lG5+g2QS4eYnyv85OjUIsw21ZqbF2IvuZnUecNbuxqxNV1YZcG7q8zdTXTDg1AAB0GSh3j6+FX3rwWbcuZn3Cnu7a/PxB28fnn784e1dtHty9b1952p3Y7Yoj9/ew2m9PaW2VwrDhJufuLYBdS/KC2jrcSsbp+4boPhCm5vtuK2OAs5zQ8raW9lr0y1eKeCML3y6IA0QAE1m7O0jRIu7Nt97+qQatm2tyrekR9hZm663ireiv/ybP3l/VPZHb9+3c3+nPjfU7pXentK+z/glCDdvlRdRF8N+aIAyHQac+TGIqk0zVOVzV39reqr0+afxhU/hAndwaoAAaDJTb59/xuY3fvuXqqHblmqvd23mn7G5l29EL+nt+5Yfg6gxyufGMd0rvT0l4eZUws1b5/4PE+srG6DWRqZsgHZzzFPA+bkXng/dNlj5MYiqTTNU5VvaN/HW9LIeffnueLz22v0BOo8GCIAmM/T2S3550KVqb3dtRqC81y8PKunt+5Yfg6gxymO/52Oot6ck3JxKuHkrH0Sj6Et5/Fr+l++c53QjBWnvPK4Hbhuq8jjUphmqzYeb3/x6nGif1oSAUwMEQJML9/Y9BptReX8QVZuml4pgMz8Gew42k/L4XX1v35HyOIwh3NTbX7NxrxaeJ9x87q5Nb2HoT3kMo441NOX0u/6f3VdevgvWImirBXArV34comrTDFX5uZunvmV9lSq/ZOjMgFMDBECTC/b2vQab5V2bPb8l/RqDzaC371d+HKLGiGOcP3fPv5fr7SmNe7XwPOHmMwNoFH0qj2NUrbEpm589XzRvg7SbbfykNhhw5sciasznZnYRbkZd4FvUNUAANLlQb18Gmz18zmaqvDeIqk3TS0WgnI5BHJNrUh7HqKvv7TuQH4uoMXfQCjf19tfs5rdEJrnycDMukNcygO5deTHMj2kc5/JYp8d2b+MBZ/nW8jEB5Wa/Mb1WEwNODRAATWYIN3sKNvf2RUKPP3j79lhcW7AZ9PZ9mvL7de2Y75XentJ+z/alXHm4WQ6eY/5niW2KC2h5XGt1Vcd6wwFnLaBsCTgjFI3pyufWpt1M5QFnfPHTCBogAJpcqLd/7+mT27sGewo2o8q+4Ju//NPV6bZcsc9j30ewid6+N7WAsiXgjFC0dqz3Sm9Pab9n+1KuONyc8r9KbFvtoppXHPurs+GAs3aMoiLAjPAzVQo0a6Fmqtr8N1UvfObum+zduQnAHCb29nGHYASbtdBt67WHuzbzz9i8xrs1h+jt+1I7RlFxnOJYpkqB5rEAe6/09pT2e7Yv5YrDzXIQdVHch1PNT6o4/jHtVckDzgjZauHbClW7e/OcGvOW9tXro6f3B6WNBgiAJhN6+17fip6q/CKhCDtr02218mBTuPkpvX1/Wo/ZqYpjuld6e0rCzamuNNyMILMcPOlbXERr/+sXxzr9r2D5WNSeL5pVEXDGW6Lff7ceuq1UEXAeuyOzrJh2yud1rl7vPL4/IG00QAA0mdDb58FaLXzbcpV3bUbVpttqCTafp7fv29DxG6qYtvwdfc/HUm9PSSI11ZWGm+VAGwMp/ar972Ac4/h5bugiu+cL51ERcMbnQEbVArgVKr39vDxGt8fpPtDMpy0fz+e12Yr9HW9Nv1nn1rena4AAaHJmb5/ftRmf91gL4LZcPd+1Kdh8nt5+P+IYlaFlfpzy38PL477n46i3pyTcnOoKw83axZJ+1Y5n/OyY2gX2Kpug/G3qGwo4W6sMQfPgc9MVn3ea9rtwE4BLukC4WQvgtlzxpUF5PxBVm26LJdh8nt7+epXHMQ8+90ZvT0kqNdUVhptxocsHTRe+vpXHs/UieE7jtDvllwx1FnAKNzVAABTO7O0fvvVqt+Fmeddmb18k9OK3XxFsZvT210u4qbe/Zje/GTLJFYab+YAZRb9qTcwYgu4bHQec5Wd01qbZZAk3AZjLmb19CjY/+60vVQO4LVfeC0TVptlapS9sim+mD288+c7tn9dOb3/dyuO3Z3p7Svs+45dwZeGmC96+TP3fvfL5V3s+dBpwPnPsevoyodi/aV8LNwG4pDN7+3TnZm/hZo93bcZnmsa+fvTdm2s4z9DbX7drOnZ6e0o3vxkyyZWFm/mAGTX2gsm2TG2Ayv8dvuoGqAw44+7CWjC3kSrv2uzmLelRebjZSAMEQJMze/t4S3SEbemOwl4q7wWitv5FQinYTOWOzWfp7a9XHKv82O3993S9PaX23wypu6Jws7xYutj1b+ox1QAV8oCzFsptpMpvSY+qTbfZivWNevjwfsefpgECoMmE3v7pxx9WA7mtVgSZeS+w9bs2y2DTZ2w+T29/naZ+HEGP9PaU9n/Wz+2Kws1ywNz7/wZdg7IBihojGp78uc6JG/E26aj3370L4jZ2B2ct2Ozqrs3Yn+nOzQiTG2mAAGgysbevhXJbrbIf2PJdm4LNNnr761MLNq/huOntKQk3p7qScHPqhZLtKo9rNDVxkTylbH6iWp53VX71V+5CuJk/gzMCy6jaY3mV344e1dVnbaaK4HhEsBk0QAA0mdDb9/S5m+Vdm1G16bZQgs1xyuOqt+9P7PeWfV/7HT2O4zXQ21OSUE11JeFmebHzv3j7UbsoRsUxj8fSxTXV0PTOiYqb/fJJzRRwlndiRoCZws6o+HdU+RmbqWrz3GzFPnzn8f3OHUcDBECTC4SbURHI1YK6rVT5RUJbvmszwmLBZju9fd/imJTHoTxeUbUwOupa6O0pXc/ZP5crCDdrFzz2Zeji2FrxfCri7ek3++eTeuEz9dBuQpXhZmt1d8dm7Lub9R7zOZs5DRAATSb09vHlNimEi9rqlwv1dNdm1HtPn9wGx4LNdnr7fpXhZmtd2zHT21OSUk11BeFmeXF0sdunWojdUnEB5ogFAs7acTlWXX3GZlQKNqOEmwDMaWJvHwHc1gPO8q7NLX6RUNz5GhXBJufR2/erdlyOVRzra6O3p3TzmyKTXEG4mQ+cEWy64O1bXByjylA7PwficefBSBHK3ey/25rpDs6ht5/Hz6K6CzWj0pcHRZ0ZbAYNEABNLtDb5wHnFj9/M+8RItj85i//dHW6tSr/jE13a06nt+9THI+h4xY/S8ftWuntKQk3p7qCcBO4kDzg3Ni3qG+y8mAzagINEABNLtTb9/T5m1uqPNiMirf6A5T09pSm/baIcBMYJwLOeKt6fDFOLdBTd1UGm7HPJtAAAdDkgr19BJxRjz94uxrkqWdLsAm00ttTEm5OJdwEzvVzP3sX3LmL8/nKw82JwWbQAAHQZKbePgLOrX7B0BZKsAmMobenJNycSrgJnKP8oiEB57P1/ruHw2uvXSTYDBogAJrM1Nunz+Hc4mdwrl2CTWAsvT0l4eZUwk3gXBHeRbCZ6toDzrhbMyqCzQvTAAHQZKbePv8MTgHn8/WFNx8JNoFmentKws2phJvAFALOu8rfhh775MI0QAA0mbG3F3A+W+lt+k8//vB2/wg2gVZ6e0o3v0UyiXATmOraA87yy4OEmwCsZebeXsB5V7HtsQ9e/a2fut8zAO309pRufotkEuEmcAllwFkLAfdYCwSbQQMEQJMFevtrDzhTsJkKYCy9PaWb3ySZRLgJXEoKOH/x5+tB4N5qoWAzaIAAaLJQb58CzmsLN/NgM/aBt6ID59DbUxJuTiXcBC4pfTt4fKlOvD09AsBaMNh7xbZFoJlqxmAzaIAAaLJQbx+hXoR78XmTtRBwj1UGmwDn0ttTEm5OJdwE5hAhZ4R+UXsNOB99eZFgM2iAAGiyQm8fAecXf+MnbqsWCu6hBJvAJentKQk3pxJuAnNIb1FPtZeAM31ZUtyZGtKdqjPTAAHQZIXe/rXvfe2T4G+PAWd8K7pgE7gkvT0l4eZUwk1gLnsLONNb0eOOzYVpgABoskJvH29RT+HfHgPOxx+8/cnb8AEuQW9PSbg5lXATmNNeAs7yMzYXumMz0QAB0GSl3n6PAWe8Ff1n3/61+y0EuBy9PaWb3zCZRLgJzK33gHPhLw+q0QAB0GTF3n5PAWf+GZuxXQCXpLendPNbJpMIN4El5AFn+tzKHmoDwWbQAAHQZOXevgw44/Mqa+HhViv/fM0ob0UH5qC3p3TzmyaTCDeBpcRbuSMcjC/jScFhGSZurSLQTLVSsBk0QAA02UBvnwLOF7/9SjVA3GoJNoGl6O0pCTenEm4Ca4iA84XPbPst6vldmysGm0EDBECTjfT26a3c7z198klwWIaJWyrBJrAkvT0l4eZUwk1gDQ8ffhocbjXgfOfxXagZ67oyDRAATTbY2//C99+6DQy3/BmcebD52ve+dr/mAPPQ21MSbk4l3ATWEG9Rj2AzVdzFWQsY16gIWyPY3BANEABNNtbb9/IlQ/Gt6IJNYCl6e0rCzamEm8BathhwxjrEuqz8NvSSBgiAJhvs7SMw3GLAGW9Fj3r8wdv3awqwDL09JeHmVMJNYG35W9TXDDhTsBm1gbei5zRAADTZaG+/tYAz/4zN9PmgAEvR21MSbk4l3AS2YO3P4NxwsBk0QAA02XBvv5WAs/zyIG9FB5amt6ck3JxKuAlsRYSK8Xbw+LzLWgA5V0WYGqFm1AaDzaABAqDJxnv7MuCshY9zlmAT2AK9PSXh5lTCTWCLIuCMuym/+fV6IHmpyoPNqPgc0A3SAAHQpIPePgWc8S3qtQByroo7RQWbwBbo7SkJN6cSbgJblL9Nfc6AM387+kaDzaABAqBJJ719+pzL954+ub2bcu63qAs2gS3R21MSbk4l3AS2KN6eHoFjqrkCzvffvQtSNxxsBg0QAE066+0j5EyB45wBZ/52dMEmsDa9PSXh5lTCTWCr5go4463oURFsdkIDBECTznr79Bb1VBFC1sLJqRV3iEaQKtgEtkBvT0m4OZVwE9iySwec+Wdsxrw7oQECoEmHvf1cAWd6K3p8tifAlujtKd38dsokwk1g6y4VcHby5UE1GiAAmnTa21864Cw/YzN9xifAFujtKd38dsokwk2gByngfPTlenB5qspgs6O7NsOlG6A333zz8Prrr9/MK8b9T+ull166feyS0rJi3uWyogC4oI57+0sFnL48CNg6vT0l4eZUzzVAf/Hwz/93/leHb/xHHxz+4I/upwHYgnSnZXxWZgoso8ogM6+4yzP/RvSoju7YTGI8jnE5xucYp6c0QLXGp6xLNkG1+eelCQK4oM57+zzgPCfcFGwCPdDbUxJuTvVcA/SfO/xX/ls/dvibv/a9w//zH/zDw/e//w8P//Afjqjv/6PD9//x7x8++MMfHmSjwGy+8uqnYWVUCjqjIszMw818upWCzRgPY1yM8THGyer4OVAxDsd4HONyjM8xTk9pgKLhiCYompy80ckbo0s1JTH/mF9aXi6WkZYXjwNwATvo7SOQjLeRx5cARWAZIWfLN6l/9ltfEmwCi9Db6+0v7eY3VSZ5rgH644f/1J/6C4f/0n/ts4fPvfj5w+c/P6Je/Nzhc//N//bhpVe/fviF//s7hz+8XwTAxZWfw1nWz/3s4fDR07tp498rvw09xsMYF2N8jHEyxsvqODpQMR7HuBzjc4zTUxqgY/KmZG6pOdIAAVzQznr7CDjzwDJCzrzyuzvz6XzGJjAnvf3z9PbTzH+E9i5rgP78/Yk4qf74f+bwJ/6Vf/Pw7/293z18dL8IgNlEaPnw4bPBZlR+h+YG3oYe42GMizE+xjhZHT9HVIzXGiAAnrOz3j5Cyjy0LOuFX3/58PTjD28r7tR8+Nar988EmI/e/nl6+2nmP0J7d9sA/fuHL/+X/5nDn7k/ESfVP/GnD3/iX/23D3/r7/+OcBNY3kY/TzPGwxgXY3yMcbI6fo6oGK9j3I7x+5INUJp/2ZDEv+Pn0SDVnNM45Q1Q/B2AC9hhbx8BZ/5ZnHkJM4E16O2fp7efRrg51Q/fO7z7Wz93+Jv/w//e4a9+7sXD57/whcMXzq3Pv3h48V/4lw//4o997fAL/9E/9rZ0gHu3b125GRdjfIxxMsbL6jjaUDFOx3gd43aM3zGOX0LexJQNybFm5ZxGJn/OUFMFwBmuoLePsDMVwBr09s/Kn6O3P49wc6o/+ujwB+/+vw/f/T+9efi1X/3Vw9/5O39nQv3q4Vf/j986vPF/+X8c3v7/Pj384H4RANcuxsMYF2N8jHEyxsv6ONpWMV7HuB3jd4zjU0Qzcqz5SWoNy9jmJ6ZJ/1NczguAC9DbA8xOb39Hb385ws3J/ujwRz/8weHjP/zo8NEf/MHhDy5QH/3hx4cf/JHvSgfIxbgY42Nt3BxbMV7HuB3jd4zjY+QNSF7x82NNTK3ZSf8+1sikacpqaZgAGEtvD7AEvf2zpbefRrgJACPk/5Nb1qn/bc2nS/M59py8aSornqcJAgCA86WevFbH+vSQT5fmc+w5evv5CDcBYIJoQlIzkxqTIeX/DB+bdkg5DwAA4DL09n2y5wDgAvImaEj5v7Xn/u9s3gTF3wEAgMvR2/dFuAkAF5A3JTVl8xM1pXm5xDwAAIDn6e37ItwEgAvIG5ua9L+/8WfeLJ3zP7x5M6UBAgCAy0q9dlSN3n5bhJsAMNGphiRvfpIpDUyaX9Q5DRQAAFCnt++PcBMATkjNS9msRPMRP0vNSFQpb1Zy+fNyMc/askLeaEVpfgAAYJzoo/X2+/L8kQIAnpE3HUMVTUvZkORNTvlY3szkzU7ZUA2V5gcAAMar9dZl6e37ItwEgAbRmOT/U5sqfl5rRvIGZ6hZyZudXEwfyyqXF/8eWh4AANBGb78vwk0AAAAAoEvCTQAAAACgS8JNAAAAAKBLwk0AAAAAoEvCTQAAAACgS8JNAAAAAKBLwk0AAAAAoEvCTQAAAACgS8JNAAAAAKBLwk0AAAAAoEvCTQAAAACgS8JNAAAAAKBLwk0AAAAAoEvCTQAAAACgS8JNAAAAAKBLwk0AAAAAoEvCTQAAAACgS8JNAAAAAKBLwk0AAAAAoEvCTQAAAACgS8JNAAAAAKBLwk0AAAAAoEvCTQAAAACgS8JNAAAAAKBLwk0AAAAAoEvCTQAAAACgS8JNAAAAAKBLwk0AAAAAoEvCTQAAAACgS8JNAAAAAKBLwk0AAAAAoEvCTQAAAACgS8JNAAAAAKBLwk0AAAAAoEvCTQAAAACgS8JNAAAAAKBLwk0AAAAAoEvCTQAAAACgS8JNAAAAAKBLwk0AAAAAoEvCTQAAAACgS8JNAAAAAKBLwk0AAAAAoEvCTQAAAACgS8JNAAAAAKBLwk0AAAAAoEvCTQAAAACgS8JNAAAAAKBLwk0AAAAAoEvCTQAAAACgS8JNAAAAAKBLwk0AAAAAoEvCTQAAAACgS8JNAAAAAKBLwk0AAAAAoEvCTQAAAACgS8JNAAAAAKBLwk0AAAAAoEvCTQAAAACgS8JNAAAAAKBLwk0AAAAAoEvCTQAAAACgS8JNAAAAAKBLwk0AAAAAoEvCTQAAAACgS8JNAAAAAKBLwk0AAAAAoEvCTQAAAACgS8JNAAAAAKBLwk0AAAAAoEvCTQAAAACgS8JNAAAAAKBLwk0AAAAAoEvCTQAAAACgS8JNAAAAAKBLwk0AAAAAoEvCTQAAAACgS8JNAAAAAKBLwk0AAAAAoEvCTQAAAACgS8JNAAAAAKBLwk0AAAAAoEvCTQAAAACgS8JNAAAAAKBLwk0AAAAAoEvCTQAAAACgS8JNAAAAAKBLwk0AAAAAoEvCTQAAAACgS8JNAAAAAKBLwk0AAAAAoEvCTQAAAACgS8JNAAAAAKBLwk0AAAAAoEvCTQAAAACgS8JNAAAAAKBLwk0AAAAAoEvCTQAAAACgQ4fD/x+fWwg8O71vqgAAAABJRU5ErkJggg==)\n"
      ],
      "metadata": {
        "id": "QAZG8NyVDIKa"
      }
    },
    {
      "cell_type": "markdown",
      "source": [
        "### <font color = 'red'>**Method 12: Array with Main Diagonal Values as One**"
      ],
      "metadata": {
        "id": "uFOEgXw3DIBl"
      }
    },
    {
      "cell_type": "code",
      "source": [
        "np.eye(N = 3, M = 4)"
      ],
      "metadata": {
        "id": "DcpUITvLDH-1",
        "colab": {
          "base_uri": "https://localhost:8080/"
        },
        "outputId": "687a8efc-7521-4497-9632-f5bc63e057e9"
      },
      "execution_count": null,
      "outputs": [
        {
          "output_type": "execute_result",
          "data": {
            "text/plain": [
              "array([[1., 0., 0., 0.],\n",
              "       [0., 1., 0., 0.],\n",
              "       [0., 0., 1., 0.]])"
            ]
          },
          "metadata": {},
          "execution_count": 70
        }
      ]
    },
    {
      "cell_type": "code",
      "source": [
        "#Shifting 1's to the diagonal above :\n",
        "np.eye(N = 3, M = 4, k = -1)"
      ],
      "metadata": {
        "colab": {
          "base_uri": "https://localhost:8080/"
        },
        "id": "WMtXqOB5wezZ",
        "outputId": "ab79fd5c-215a-4275-b2ba-a74f6d0b2e1b"
      },
      "execution_count": null,
      "outputs": [
        {
          "output_type": "execute_result",
          "data": {
            "text/plain": [
              "array([[0., 0., 0., 0.],\n",
              "       [1., 0., 0., 0.],\n",
              "       [0., 1., 0., 0.]])"
            ]
          },
          "metadata": {},
          "execution_count": 72
        }
      ]
    },
    {
      "cell_type": "code",
      "source": [
        "#Replace all the zeroes to 3 (some number) :\n",
        "id_mat = np.eye(5)\n",
        "id_mat[id_mat == 0] = 3\n",
        "id_mat"
      ],
      "metadata": {
        "colab": {
          "base_uri": "https://localhost:8080/"
        },
        "id": "tPPplm0GwgIx",
        "outputId": "55724dc3-1e43-4655-8743-0628cd663adf"
      },
      "execution_count": null,
      "outputs": [
        {
          "output_type": "execute_result",
          "data": {
            "text/plain": [
              "array([[1., 3., 3., 3., 3.],\n",
              "       [3., 1., 3., 3., 3.],\n",
              "       [3., 3., 1., 3., 3.],\n",
              "       [3., 3., 3., 1., 3.],\n",
              "       [3., 3., 3., 3., 1.]])"
            ]
          },
          "metadata": {},
          "execution_count": 74
        }
      ]
    },
    {
      "cell_type": "code",
      "source": [],
      "metadata": {
        "id": "tjMNTTjjwefN"
      },
      "execution_count": null,
      "outputs": []
    },
    {
      "cell_type": "markdown",
      "source": [
        "#### Things to Note:\n",
        "\n",
        "\n",
        "\n",
        "*   The `np.eye()` method is different from the `np.identity()` method.\n",
        "*   The `np.eye()` is a generalized method that can generate NumPy arrays of arbitrary shape, whereas the `np.identity(`) always returns a square NumPy array.\n",
        "\n"
      ],
      "metadata": {
        "id": "YtfWLI8aDH7y"
      }
    },
    {
      "cell_type": "markdown",
      "source": [
        "### <font color = 'red'>**Method 13: Array with All Ones**"
      ],
      "metadata": {
        "id": "AbyDZEuuDH4e"
      }
    },
    {
      "cell_type": "code",
      "source": [
        "np.ones((4,3))"
      ],
      "metadata": {
        "id": "OVIaZFJfDH1k",
        "colab": {
          "base_uri": "https://localhost:8080/"
        },
        "outputId": "de244544-e56a-4f88-8020-75874024b09a"
      },
      "execution_count": null,
      "outputs": [
        {
          "output_type": "execute_result",
          "data": {
            "text/plain": [
              "array([[1., 1., 1.],\n",
              "       [1., 1., 1.],\n",
              "       [1., 1., 1.],\n",
              "       [1., 1., 1.]])"
            ]
          },
          "metadata": {},
          "execution_count": 75
        }
      ]
    },
    {
      "cell_type": "code",
      "source": [
        "np.ones(6)"
      ],
      "metadata": {
        "id": "SbNLvL1IDHyj",
        "colab": {
          "base_uri": "https://localhost:8080/"
        },
        "outputId": "aa72b883-f974-43bb-8572-e7cf761fbef9"
      },
      "execution_count": null,
      "outputs": [
        {
          "output_type": "execute_result",
          "data": {
            "text/plain": [
              "array([1., 1., 1., 1., 1., 1.])"
            ]
          },
          "metadata": {},
          "execution_count": 76
        }
      ]
    },
    {
      "cell_type": "markdown",
      "source": [
        "### <font color = 'red'>**Method 14: Array with All Zeros**"
      ],
      "metadata": {
        "id": "zfeyZm1BDHvz"
      }
    },
    {
      "cell_type": "code",
      "source": [
        "np.zeros((2,2,4))"
      ],
      "metadata": {
        "id": "v6-gX4dJDHs4",
        "colab": {
          "base_uri": "https://localhost:8080/"
        },
        "outputId": "c6e23bf7-b3b3-4e2b-8c4f-c46b7c72fc61"
      },
      "execution_count": null,
      "outputs": [
        {
          "output_type": "execute_result",
          "data": {
            "text/plain": [
              "array([[[0., 0., 0., 0.],\n",
              "        [0., 0., 0., 0.]],\n",
              "\n",
              "       [[0., 0., 0., 0.],\n",
              "        [0., 0., 0., 0.]]])"
            ]
          },
          "metadata": {},
          "execution_count": 77
        }
      ]
    },
    {
      "cell_type": "markdown",
      "source": [
        "### <font color = 'red'>**Method 15: Array Filled with Specific Value**"
      ],
      "metadata": {
        "id": "tx5MFoGyDHp_"
      }
    },
    {
      "cell_type": "code",
      "source": [
        "np.full((2,4), 5)"
      ],
      "metadata": {
        "id": "53T3QRE6DHnK",
        "colab": {
          "base_uri": "https://localhost:8080/"
        },
        "outputId": "81e8e55c-d1bd-4f9a-e377-0426a573b737"
      },
      "execution_count": null,
      "outputs": [
        {
          "output_type": "execute_result",
          "data": {
            "text/plain": [
              "array([[5, 5, 5, 5],\n",
              "       [5, 5, 5, 5]])"
            ]
          },
          "metadata": {},
          "execution_count": 79
        }
      ]
    },
    {
      "cell_type": "markdown",
      "source": [
        "The first argument is the shape of the array (`(2, 4)` in this case), and the second argument is the fill value (`5`)."
      ],
      "metadata": {
        "id": "7zINUTnvDHkM"
      }
    },
    {
      "cell_type": "markdown",
      "source": [
        "### <font color = 'red'>**Method 16: Empty Array**"
      ],
      "metadata": {
        "id": "h4ZNoJjEDHhu"
      }
    },
    {
      "cell_type": "code",
      "source": [
        "np.empty((2, 5), np.int16)"
      ],
      "metadata": {
        "id": "2IZrc_pgDHeh",
        "colab": {
          "base_uri": "https://localhost:8080/"
        },
        "outputId": "bcb5da0c-957a-4b38-a798-df4e3c20e608"
      },
      "execution_count": null,
      "outputs": [
        {
          "output_type": "execute_result",
          "data": {
            "text/plain": [
              "array([[3275, 8188,    0,    0,    0],\n",
              "       [   0,    0,    0,   32,    0]], dtype=int16)"
            ]
          },
          "metadata": {},
          "execution_count": 80
        }
      ]
    },
    {
      "cell_type": "markdown",
      "source": [
        "In this method, Numpy grabs a block of memory and returns the values stored there without doing anything to them — returning values that appear random."
      ],
      "metadata": {
        "id": "wbEXUW_LDHbr"
      }
    },
    {
      "cell_type": "markdown",
      "source": [
        "\n",
        "\n",
        "**-------------------------------------------------------------------------------------------------------------------------------------------------------**\n"
      ],
      "metadata": {
        "id": "GljlKR2IDHYi"
      }
    },
    {
      "cell_type": "markdown",
      "source": [
        "#  ⚛ **Creating a NumPy Array of a Specific Shape**"
      ],
      "metadata": {
        "id": "MaMo678DDHVh"
      }
    },
    {
      "cell_type": "markdown",
      "source": [
        "### <font color = 'red'>**Method 17: Array with Ones and of Another Array’s Shape**"
      ],
      "metadata": {
        "id": "IRXEc5I5Hh-M"
      }
    },
    {
      "cell_type": "code",
      "source": [
        "np_array = np.array([[1,2,3], [4,5,6]])\n",
        "\n",
        "np.ones_like(np_array)"
      ],
      "metadata": {
        "id": "oiqAqdvlHh7X",
        "colab": {
          "base_uri": "https://localhost:8080/"
        },
        "outputId": "fa58f91e-37f8-40b7-8c2e-1e8fd346d294"
      },
      "execution_count": null,
      "outputs": [
        {
          "output_type": "execute_result",
          "data": {
            "text/plain": [
              "array([[1, 1, 1],\n",
              "       [1, 1, 1]])"
            ]
          },
          "metadata": {},
          "execution_count": 81
        }
      ]
    },
    {
      "cell_type": "markdown",
      "source": [
        "### <font color = 'red'>**Method 18: Array with Zeros and of Another Array’s Shape**"
      ],
      "metadata": {
        "id": "dBiQJZppHh42"
      }
    },
    {
      "cell_type": "code",
      "source": [
        "np_array = np.array([[1], [4]])\n",
        "\n",
        "np.zeros_like(np_array)"
      ],
      "metadata": {
        "id": "pN9F-5X5Hh2D",
        "colab": {
          "base_uri": "https://localhost:8080/"
        },
        "outputId": "b550fe8c-98e8-4561-8419-1750f874aa1d"
      },
      "execution_count": null,
      "outputs": [
        {
          "output_type": "execute_result",
          "data": {
            "text/plain": [
              "array([[0],\n",
              "       [0]])"
            ]
          },
          "metadata": {},
          "execution_count": 82
        }
      ]
    },
    {
      "cell_type": "markdown",
      "source": [
        "### <font color = 'red'>**Method 19: Empty Array and of Another Array’s Shape**"
      ],
      "metadata": {
        "id": "RKDT1Ii1Hhy_"
      }
    },
    {
      "cell_type": "code",
      "source": [
        "np_array = np.array([1,2])\n",
        "\n",
        "np.empty_like(np_array, np.float32)"
      ],
      "metadata": {
        "id": "IT1_N_PWHhv2",
        "colab": {
          "base_uri": "https://localhost:8080/"
        },
        "outputId": "478b3d32-3457-4ae5-d5a2-290c9d7db87f"
      },
      "execution_count": null,
      "outputs": [
        {
          "output_type": "execute_result",
          "data": {
            "text/plain": [
              "array([0., 0.], dtype=float32)"
            ]
          },
          "metadata": {},
          "execution_count": 83
        }
      ]
    },
    {
      "cell_type": "markdown",
      "source": [
        "### <font color = 'red'>**Method 20: Array filled with Specific Value and of Another Array’s Shape**"
      ],
      "metadata": {
        "id": "_D3W_-phHhtV"
      }
    },
    {
      "cell_type": "code",
      "source": [
        "np_array = np.array([[1,2,3], [4,5,6]])\n",
        "\n",
        "np.full_like(np_array, 5)"
      ],
      "metadata": {
        "id": "Od8dJVYIHhqG",
        "colab": {
          "base_uri": "https://localhost:8080/"
        },
        "outputId": "4a139414-6898-4fc3-8431-3d0ae71446ac"
      },
      "execution_count": null,
      "outputs": [
        {
          "output_type": "execute_result",
          "data": {
            "text/plain": [
              "array([[5, 5, 5],\n",
              "       [5, 5, 5]])"
            ]
          },
          "metadata": {},
          "execution_count": 84
        }
      ]
    },
    {
      "cell_type": "markdown",
      "source": [
        "\n",
        "\n",
        "**-------------------------------------------------------------------------------------------------------------------------------------------------------**\n"
      ],
      "metadata": {
        "id": "_mHksRVdHhnG"
      }
    },
    {
      "cell_type": "markdown",
      "source": [
        "# ⚛ **Creating a Random NumPy Array**"
      ],
      "metadata": {
        "id": "I5Xtka6qIGtz"
      }
    },
    {
      "cell_type": "markdown",
      "source": [
        "### <font color = 'red'>**Method 21: Random Array of Integers**"
      ],
      "metadata": {
        "id": "cqRTkHJVIGqs"
      }
    },
    {
      "cell_type": "code",
      "source": [
        "np.random.randint(low = 5, high = 100, size = 5)"
      ],
      "metadata": {
        "id": "J2ZeUl6oIGnq",
        "colab": {
          "base_uri": "https://localhost:8080/"
        },
        "outputId": "5f5542ff-91f8-400c-f84f-63710b499955"
      },
      "execution_count": null,
      "outputs": [
        {
          "output_type": "execute_result",
          "data": {
            "text/plain": [
              "array([67, 71, 76, 99, 21])"
            ]
          },
          "metadata": {},
          "execution_count": 85
        }
      ]
    },
    {
      "cell_type": "markdown",
      "source": [
        "### <font color = 'red'>**Method 22: Random Array of Float Values**"
      ],
      "metadata": {
        "id": "Cn-66M3yIGk5"
      }
    },
    {
      "cell_type": "code",
      "source": [
        "np.random.random(size = 10)"
      ],
      "metadata": {
        "id": "BzmG9xuyIGh3",
        "colab": {
          "base_uri": "https://localhost:8080/"
        },
        "outputId": "5ef6c610-c782-4112-f668-d8ca423c9d08"
      },
      "execution_count": null,
      "outputs": [
        {
          "output_type": "execute_result",
          "data": {
            "text/plain": [
              "array([0.20420984, 0.42862314, 0.99845863, 0.64888006, 0.3041921 ,\n",
              "       0.3382435 , 0.08467688, 0.67489235, 0.6727656 , 0.98826621])"
            ]
          },
          "metadata": {},
          "execution_count": 86
        }
      ]
    },
    {
      "cell_type": "markdown",
      "source": [
        "### <font color = 'red'>**Method 23: Random Array from Uniform Distribution**"
      ],
      "metadata": {
        "id": "c-6QPefLIGel"
      }
    },
    {
      "cell_type": "code",
      "source": [
        "np.random.rand(4,2)"
      ],
      "metadata": {
        "id": "zREraLazIGbe",
        "colab": {
          "base_uri": "https://localhost:8080/"
        },
        "outputId": "59a56b15-bc84-4572-d193-3a7c9b62c575"
      },
      "execution_count": null,
      "outputs": [
        {
          "output_type": "execute_result",
          "data": {
            "text/plain": [
              "array([[0.39627521, 0.99374539],\n",
              "       [0.90610442, 0.11006989],\n",
              "       [0.05400085, 0.80758908],\n",
              "       [0.82043991, 0.61823767]])"
            ]
          },
          "metadata": {},
          "execution_count": 87
        }
      ]
    },
    {
      "cell_type": "markdown",
      "source": [
        "### <font color = 'red'>**Method 24: Random Array from Normal Distribution**"
      ],
      "metadata": {
        "id": "fbL4ncqPIGYf"
      }
    },
    {
      "cell_type": "code",
      "source": [
        "np.random.randn(6)"
      ],
      "metadata": {
        "id": "oteFLdP5IGVI",
        "colab": {
          "base_uri": "https://localhost:8080/"
        },
        "outputId": "4c113bcc-3aeb-4aca-891f-5ad8e4a1599f"
      },
      "execution_count": null,
      "outputs": [
        {
          "output_type": "execute_result",
          "data": {
            "text/plain": [
              "array([-1.82500573, -1.53147836, -1.12443246,  1.10263219,  2.34673862,\n",
              "       -1.17408526])"
            ]
          },
          "metadata": {},
          "execution_count": 88
        }
      ]
    },
    {
      "cell_type": "markdown",
      "source": [
        "It generates an array with Normal Distribution with `µ=0` and `σ = 1`"
      ],
      "metadata": {
        "id": "OHrHOMskIGQx"
      }
    },
    {
      "cell_type": "markdown",
      "source": [
        "### <font color = 'red'>**Method 25: Random Array from Normal Distribution and specific Mean and Standard Deviation**"
      ],
      "metadata": {
        "id": "VAnbe3YsIp92"
      }
    },
    {
      "cell_type": "markdown",
      "source": [
        "If, instead, you want to generate a NumPy array from a Normal Distribution from X ~ N(µ, σ^2), do the following:"
      ],
      "metadata": {
        "id": "rX84anKeItNh"
      }
    },
    {
      "cell_type": "code",
      "source": [
        "mean = 5\n",
        "std_dev = 3\n",
        "\n",
        "std_dev*np.random.randn(5) + mean"
      ],
      "metadata": {
        "id": "d3Wvt6CRItLI",
        "colab": {
          "base_uri": "https://localhost:8080/"
        },
        "outputId": "f1610602-c2ea-41bd-a0c1-c00264a4d381"
      },
      "execution_count": null,
      "outputs": [
        {
          "output_type": "execute_result",
          "data": {
            "text/plain": [
              "array([ 2.62215805, -0.51781368,  5.69037068,  4.32813899,  8.06546562])"
            ]
          },
          "metadata": {},
          "execution_count": 89
        }
      ]
    },
    {
      "cell_type": "markdown",
      "source": [
        "\n",
        "\n",
        "**-------------------------------------------------------------------------------------------------------------------------------------------------------**\n"
      ],
      "metadata": {
        "id": "L5glQIH3ItIQ"
      }
    },
    {
      "cell_type": "markdown",
      "source": [
        "# ⚛ **Some Other Popular Methods Used for the Creation of Arrays**"
      ],
      "metadata": {
        "id": "_t2O6gaTItFt"
      }
    },
    {
      "cell_type": "markdown",
      "source": [
        "### <font color = 'red'>**Method 26: From Pandas Series**\n",
        "If you want to convert a Pandas’ series to a numpy array, you can do that using the `np.array()`:"
      ],
      "metadata": {
        "id": "EyBHTDKNItCt"
      }
    },
    {
      "cell_type": "code",
      "source": [
        "s = pd.Series([1,2,3,4], name = \"col\")\n",
        "np.array(s)"
      ],
      "metadata": {
        "id": "TUPJwyaRIstQ",
        "colab": {
          "base_uri": "https://localhost:8080/"
        },
        "outputId": "ab6030f3-16f1-4d5e-a10f-76fbe645e632"
      },
      "execution_count": null,
      "outputs": [
        {
          "output_type": "execute_result",
          "data": {
            "text/plain": [
              "array([1, 2, 3, 4])"
            ]
          },
          "metadata": {},
          "execution_count": 90
        }
      ]
    },
    {
      "cell_type": "markdown",
      "source": [
        "### <font color = 'red'>**Method 27: From Pandas DataFrame**\n",
        "You can also convert a Pandas DataFrame to a NumPy array using the `np.array()` method. However, it will create a 2-dimensional array:"
      ],
      "metadata": {
        "id": "xQ4j93mSIsq4"
      }
    },
    {
      "cell_type": "code",
      "source": [
        "df = pd.DataFrame([[1,2], [7,8]], columns = [\"col1\", \"col2\"])\n",
        "np.array(df)"
      ],
      "metadata": {
        "id": "QcCUMXzpIsnZ",
        "colab": {
          "base_uri": "https://localhost:8080/"
        },
        "outputId": "e73071a9-3f29-4abe-94a8-7a432a0d2c43"
      },
      "execution_count": null,
      "outputs": [
        {
          "output_type": "execute_result",
          "data": {
            "text/plain": [
              "array([[1, 2],\n",
              "       [7, 8]])"
            ]
          },
          "metadata": {},
          "execution_count": 91
        }
      ]
    },
    {
      "cell_type": "markdown",
      "source": [
        "### <font color = 'red'>**Method 28: From Values in String**"
      ],
      "metadata": {
        "id": "6brFL4QtIsjz"
      }
    },
    {
      "cell_type": "code",
      "source": [
        "string = \"1 2\"\n",
        "np.fromstring(string, sep = \" \")"
      ],
      "metadata": {
        "id": "nr4ggmYpIsg-",
        "colab": {
          "base_uri": "https://localhost:8080/"
        },
        "outputId": "e371129d-44ce-413c-a8de-2462e796ef8c"
      },
      "execution_count": null,
      "outputs": [
        {
          "output_type": "execute_result",
          "data": {
            "text/plain": [
              "array([1., 2.])"
            ]
          },
          "metadata": {},
          "execution_count": 92
        }
      ]
    },
    {
      "cell_type": "markdown",
      "source": [
        "If the input string has comma-separated values, you can change the separator as follows:"
      ],
      "metadata": {
        "id": "J8FPCHewJw4a"
      }
    },
    {
      "cell_type": "code",
      "source": [
        "string = \"1,2\"\n",
        "np.fromstring(string, sep = \",\")"
      ],
      "metadata": {
        "id": "2OSQKWaJJw1s",
        "colab": {
          "base_uri": "https://localhost:8080/"
        },
        "outputId": "46a21c01-893c-4ac6-aa20-8542740de9ee"
      },
      "execution_count": null,
      "outputs": [
        {
          "output_type": "execute_result",
          "data": {
            "text/plain": [
              "array([1., 2.])"
            ]
          },
          "metadata": {},
          "execution_count": 93
        }
      ]
    },
    {
      "cell_type": "markdown",
      "source": [
        "### <font color = 'red'>**Method 29: Define the Diagonal of the NumPy Array**\n",
        "You can create a square 2-dimensional NumPy array with specific values along the diagonal using the `np.diag()` method:"
      ],
      "metadata": {
        "id": "_WXAOr8FJwyy"
      }
    },
    {
      "cell_type": "code",
      "source": [
        "diag = [2,4,6,8]\n",
        "np.diag(diag)"
      ],
      "metadata": {
        "id": "ehlsUfRUJwvo",
        "colab": {
          "base_uri": "https://localhost:8080/"
        },
        "outputId": "eb020878-9054-4335-a4db-dfd77554a579"
      },
      "execution_count": null,
      "outputs": [
        {
          "output_type": "execute_result",
          "data": {
            "text/plain": [
              "array([[2, 0, 0, 0],\n",
              "       [0, 4, 0, 0],\n",
              "       [0, 0, 6, 0],\n",
              "       [0, 0, 0, 8]])"
            ]
          },
          "metadata": {},
          "execution_count": 94
        }
      ]
    },
    {
      "cell_type": "markdown",
      "source": [
        "### <font color = 'red'>**Method 30: From CSV File**"
      ],
      "metadata": {
        "id": "WxrHHpFuJws8"
      }
    },
    {
      "cell_type": "markdown",
      "source": [
        "*The contents of the CSV file are shown below:*"
      ],
      "metadata": {
        "id": "6FgIwVDWJwqA"
      }
    },
    {
      "cell_type": "code",
      "source": [
        "!cat myfile.csv"
      ],
      "metadata": {
        "id": "BAlMqB8uJwnL",
        "colab": {
          "base_uri": "https://localhost:8080/"
        },
        "outputId": "246e4b59-4333-44c9-e045-3304395b763e"
      },
      "execution_count": null,
      "outputs": [
        {
          "output_type": "stream",
          "name": "stdout",
          "text": [
            "A,B\r\n",
            "0,0\r\n",
            "1,1\r\n",
            "2,4\r\n",
            "3,9\r\n"
          ]
        }
      ]
    },
    {
      "cell_type": "markdown",
      "source": [
        "To create a NumPy array, use the following method:"
      ],
      "metadata": {
        "id": "oyaoFA8wJwkV"
      }
    },
    {
      "cell_type": "code",
      "source": [
        "np.loadtxt(\"myfile.csv\", skiprows = 1, delimiter = \",\")"
      ],
      "metadata": {
        "id": "aMnoxJXoJwhp",
        "colab": {
          "base_uri": "https://localhost:8080/"
        },
        "outputId": "c4a892ce-f793-4cec-8c2d-6b2fcb26a115"
      },
      "execution_count": null,
      "outputs": [
        {
          "output_type": "execute_result",
          "data": {
            "text/plain": [
              "array([[0., 0.],\n",
              "       [1., 1.],\n",
              "       [2., 4.],\n",
              "       [3., 9.]])"
            ]
          },
          "metadata": {},
          "execution_count": 96
        }
      ]
    },
    {
      "cell_type": "markdown",
      "source": [
        "\n",
        "\n",
        "**-------------------------------------------------------------------------------------------------------------------------------------------------------**\n"
      ],
      "metadata": {
        "id": "wwpMn3gdQMRG"
      }
    },
    {
      "cell_type": "markdown",
      "source": [
        "## 🏁 <font color = 'brown'>**Conclusion**\n",
        "\n",
        "**If you wish to explore more about this topic and learn more about NumPy Routines, refer to the official guide of NumPy Creation Routines:**\n",
        "\n",
        "https://numpy.org/doc/1.23/reference/routines.array-creation.html#routines-array-creation\n",
        "\n",
        "### FOLLOW US ON:\n",
        "\n",
        "𝕏\n",
        "\n",
        "@Thetaofzeta\n",
        "\n",
        "\n",
        "![image.png](data:image/png;base64,iVBORw0KGgoAAAANSUhEUgAAADAAAAAwCAYAAABXAvmHAAACHElEQVRoBe2ZMUoDQRSG/zOot1CSxl6wkig5QqoUtmJjpXcQD2BhLIQI0UpiESy00yAWCQZR8AgJKQz8+o+ZkIQYBN/EDMzCZnZ3dt/7vzezM7MvQNpSBFIEUgRSBEJEgMAKgVUCGwT2CBwTOCVwRuCcwCWBKwI1ArcE7gk8EWgQaBF4IfDa33Wsa6rTPbpXz+hZ2ZAt2ZRt+ZAv+ZRvaVj5NSOBUt8pCczTrmCUfgT5ikCGQG/ORE8K4Ie0joAQWCLQiUC8B2oTWBxA9Pufr4ylLA8DiCgW4V5n2wEQ2IxQvIfI4Wu4K0QMUBDAQcQA+wK4iBigIoCqGUCrRW5v+/45i7IqAE3nNs66Xbrt8ZFcX7exOV1bTQB3ZgDt9jeA/72+Dg1xJ4B6MACB9Hrk0VEokAcBNIMC+NbodMjdXWuQpgC0yrMxPN6FvPjhstkk83kbf8CrAN5nCuBhbm7IbPavIO//B1CrkZmMCcBsu1CjQW5t/VW4f951odm8xHo/dna8Y6vSvcThh9HDQyvB43bcMBpuIqtWxx1an7uJzH4pUa+Ta2vWYifZc0sJu8Xc8zNZLE5yFOqaW8xVzOYBqwnx93bccno/YgD3QRP9J2Uu4hbI+cxEvGkVERAoR9gKI4mtBQIxtYK0Lgwyc/1WUDpdidNQY7aVXWlcHhE/fDLH6fU3AifDWqceR/sHx1SqVJkikCKQIpAiMBaBT/Zowk9qybowAAAAAElFTkSuQmCC)\n",
        "\n",
        "@ZaleplonLabs\n",
        "\n",
        "![Numpypng.png](data:image/png;base64,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)"
      ],
      "metadata": {
        "id": "U4WAu44wJweq"
      }
    },
    {
      "cell_type": "code",
      "source": [],
      "metadata": {
        "id": "Lz5X2tqnJwX8"
      },
      "execution_count": null,
      "outputs": []
    }
  ]
}