{
  "metadata": {
    "kernelspec": {
      "name": "python",
      "display_name": "Python (Pyodide)",
      "language": "python"
    },
    "language_info": {
      "codemirror_mode": {
        "name": "python",
        "version": 3
      },
      "file_extension": ".py",
      "mimetype": "text/x-python",
      "name": "python",
      "nbconvert_exporter": "python",
      "pygments_lexer": "ipython3",
      "version": "3.8"
    }
  },
  "nbformat_minor": 4,
  "nbformat": 4,
  "cells": [
    {
      "cell_type": "code",
      "source": "# Generating a 3x3 Matrix using List Comprehension, and without the use of a package\n\narray1 = [[['5' for col in range(6)] for col in range(4)] for row in range(3)]\narray1",
      "metadata": {
        "trusted": true
      },
      "outputs": [
        {
          "execution_count": 77,
          "output_type": "execute_result",
          "data": {
            "text/plain": "[[['5', '5', '5', '5', '5', '5'],\n  ['5', '5', '5', '5', '5', '5'],\n  ['5', '5', '5', '5', '5', '5'],\n  ['5', '5', '5', '5', '5', '5']],\n [['5', '5', '5', '5', '5', '5'],\n  ['5', '5', '5', '5', '5', '5'],\n  ['5', '5', '5', '5', '5', '5'],\n  ['5', '5', '5', '5', '5', '5']],\n [['5', '5', '5', '5', '5', '5'],\n  ['5', '5', '5', '5', '5', '5'],\n  ['5', '5', '5', '5', '5', '5'],\n  ['5', '5', '5', '5', '5', '5']]]"
          },
          "metadata": {}
        }
      ],
      "execution_count": 77
    },
    {
      "cell_type": "code",
      "source": "import numpy as np",
      "metadata": {
        "trusted": true
      },
      "outputs": [],
      "execution_count": 1
    },
    {
      "cell_type": "code",
      "source": "a = np.array(array1)\na",
      "metadata": {
        "trusted": true
      },
      "outputs": [
        {
          "execution_count": 5,
          "output_type": "execute_result",
          "data": {
            "text/plain": "array([[['5', '5', '5', '5', '5', '5'],\n        ['5', '5', '5', '5', '5', '5'],\n        ['5', '5', '5', '5', '5', '5'],\n        ['5', '5', '5', '5', '5', '5']],\n\n       [['5', '5', '5', '5', '5', '5'],\n        ['5', '5', '5', '5', '5', '5'],\n        ['5', '5', '5', '5', '5', '5'],\n        ['5', '5', '5', '5', '5', '5']],\n\n       [['5', '5', '5', '5', '5', '5'],\n        ['5', '5', '5', '5', '5', '5'],\n        ['5', '5', '5', '5', '5', '5'],\n        ['5', '5', '5', '5', '5', '5']]], dtype='<U1')"
          },
          "metadata": {}
        }
      ],
      "execution_count": 5
    },
    {
      "cell_type": "code",
      "source": "a.shape",
      "metadata": {
        "trusted": true
      },
      "outputs": [
        {
          "execution_count": 6,
          "output_type": "execute_result",
          "data": {
            "text/plain": "(3, 4, 6)"
          },
          "metadata": {}
        }
      ],
      "execution_count": 6
    },
    {
      "cell_type": "code",
      "source": "arr_wopkg = [[5]*3]\nprint(arr_wopkg)\n\narr_p = np.array(arr_wopkg)\nprint(arr_p)\nprint(arr_p.shape)",
      "metadata": {
        "trusted": true
      },
      "outputs": [
        {
          "name": "stdout",
          "output_type": "stream",
          "text": "[[5, 5, 5]]\n[[5 5 5]]\n(1, 3)\n"
        }
      ],
      "execution_count": 5
    },
    {
      "cell_type": "markdown",
      "source": "### Initializing Different Types of Arrays",
      "metadata": {}
    },
    {
      "cell_type": "code",
      "source": "# Matrix of all 0's\nnp.zeros(5, dtype=int)",
      "metadata": {
        "trusted": true
      },
      "outputs": [
        {
          "execution_count": 71,
          "output_type": "execute_result",
          "data": {
            "text/plain": "array([0, 0, 0, 0, 0])"
          },
          "metadata": {}
        }
      ],
      "execution_count": 71
    },
    {
      "cell_type": "code",
      "source": "np.zeros((3,3), dtype='int32')",
      "metadata": {
        "trusted": true
      },
      "outputs": [
        {
          "execution_count": 74,
          "output_type": "execute_result",
          "data": {
            "text/plain": "array([[0, 0, 0],\n       [0, 0, 0],\n       [0, 0, 0]])"
          },
          "metadata": {}
        }
      ],
      "execution_count": 74
    },
    {
      "cell_type": "code",
      "source": "# Matrix of all 1's\nnp.ones((2,3,4), dtype=int)",
      "metadata": {
        "trusted": true
      },
      "outputs": [
        {
          "execution_count": 75,
          "output_type": "execute_result",
          "data": {
            "text/plain": "array([[[1, 1, 1, 1],\n        [1, 1, 1, 1],\n        [1, 1, 1, 1]],\n\n       [[1, 1, 1, 1],\n        [1, 1, 1, 1],\n        [1, 1, 1, 1]]])"
          },
          "metadata": {}
        }
      ],
      "execution_count": 75
    },
    {
      "cell_type": "code",
      "source": "# Matrix of different values\nnp.full((3,3), 69, dtype=int)",
      "metadata": {
        "trusted": true
      },
      "outputs": [
        {
          "execution_count": 76,
          "output_type": "execute_result",
          "data": {
            "text/plain": "array([[69, 69, 69],\n       [69, 69, 69],\n       [69, 69, 69]])"
          },
          "metadata": {}
        }
      ],
      "execution_count": 76
    },
    {
      "cell_type": "markdown",
      "source": "##### Other Array Creation Routines",
      "metadata": {}
    },
    {
      "cell_type": "code",
      "source": "# Create an array\nvv = np.array([[1,2,3,4,5,6,7], [8,9,10,11,12,13,14]]) #list of lists\nprint(vv)\n\n# Use '.full_like' to copy the shape\nvt = np.full_like(vv, 34)\nprint(vt)",
      "metadata": {
        "trusted": true
      },
      "outputs": [
        {
          "name": "stdout",
          "output_type": "stream",
          "text": "[[ 1  2  3  4  5  6  7]\n [ 8  9 10 11 12 13 14]]\n[[34 34 34 34 34 34 34]\n [34 34 34 34 34 34 34]]\n"
        }
      ],
      "execution_count": 80
    },
    {
      "cell_type": "code",
      "source": "# Random decimal numbers\nnp.random.random((3,3))",
      "metadata": {
        "trusted": true
      },
      "outputs": [
        {
          "execution_count": 82,
          "output_type": "execute_result",
          "data": {
            "text/plain": "array([[0.50310967, 0.27093734, 0.76929174],\n       [0.04218309, 0.43545463, 0.55761146],\n       [0.29580695, 0.0828172 , 0.22215867]])"
          },
          "metadata": {}
        }
      ],
      "execution_count": 82
    },
    {
      "cell_type": "code",
      "source": "# Random integer numbers\nnp.random.randint(2, 14, 4)",
      "metadata": {
        "trusted": true
      },
      "outputs": [
        {
          "execution_count": 87,
          "output_type": "execute_result",
          "data": {
            "text/plain": "array([ 3,  4,  7, 13])"
          },
          "metadata": {}
        }
      ],
      "execution_count": 87
    },
    {
      "cell_type": "code",
      "source": "# More on randint\nnp.random.randint(-11, 9, size=(3,3))",
      "metadata": {
        "trusted": true
      },
      "outputs": [
        {
          "execution_count": 5,
          "output_type": "execute_result",
          "data": {
            "text/plain": "array([[ -5,  -7, -10],\n       [ -9,  -7,   6],\n       [  3,   4,   5]])"
          },
          "metadata": {}
        }
      ],
      "execution_count": 5
    },
    {
      "cell_type": "markdown",
      "source": "In a subtle way numpy blurs the distinction between the list and the nested list. Here is a demonstration:",
      "metadata": {}
    },
    {
      "cell_type": "code",
      "source": "list1 = [0,1,2,3]\nlist2 = [[0,1,2,3]]\nprint(len(list1))  # >> 4 (a list of 4 elements)\nprint(len(list2)) # >> 1 (one single element, a list)\nprint(len(list2[0])) # >> 4 (from inside the list, we again have 4 elements)",
      "metadata": {
        "trusted": true
      },
      "outputs": [
        {
          "name": "stdout",
          "output_type": "stream",
          "text": "4\n1\n4\n"
        }
      ],
      "execution_count": 92
    },
    {
      "cell_type": "code",
      "source": "# Converting these aforementioned lists into NumPy array\nlla1 = np.array(list1)\nlla2 = np.array(list2)\n\nprint(lla1.shape)  # >> (4,) : a tuple representing 4 element 1-dim vector\nprint(lla2.shape)  # >> (1,4) : '1' list of '4' elements",
      "metadata": {
        "trusted": true
      },
      "outputs": [
        {
          "name": "stdout",
          "output_type": "stream",
          "text": "(4,)\n(1, 4)\n"
        }
      ],
      "execution_count": 95
    },
    {
      "cell_type": "code",
      "source": "# array(list)[None,:] produces the (1,4) version\n(np.array(list1)[None, :]).shape",
      "metadata": {
        "trusted": true
      },
      "outputs": [
        {
          "execution_count": 100,
          "output_type": "execute_result",
          "data": {
            "text/plain": "(1, 4)"
          },
          "metadata": {}
        }
      ],
      "execution_count": 100
    },
    {
      "cell_type": "code",
      "source": "# array(list).ravel() produces a (4,) version.\n(np.array(list1).ravel()).shape",
      "metadata": {
        "trusted": true
      },
      "outputs": [
        {
          "execution_count": 101,
          "output_type": "execute_result",
          "data": {
            "text/plain": "(4,)"
          },
          "metadata": {}
        }
      ],
      "execution_count": 101
    },
    {
      "cell_type": "code",
      "source": "# Identity Matrix (of size 'n')\nnp.identity(5, dtype=int)",
      "metadata": {
        "trusted": true
      },
      "outputs": [
        {
          "execution_count": 7,
          "output_type": "execute_result",
          "data": {
            "text/plain": "array([[1, 0, 0, 0, 0],\n       [0, 1, 0, 0, 0],\n       [0, 0, 1, 0, 0],\n       [0, 0, 0, 1, 0],\n       [0, 0, 0, 0, 1]])"
          },
          "metadata": {}
        }
      ],
      "execution_count": 7
    },
    {
      "cell_type": "code",
      "source": "# Repeating an Array\narr = np.array([1,2,3])\nf1 = np.repeat(arr, 4)\nprint(f1)\n\narrr = np.array([[1,2,3]])\nf2 = np.repeat(arrr, 4, axis=0)\nprint(f2)",
      "metadata": {
        "trusted": true
      },
      "outputs": [
        {
          "name": "stdout",
          "output_type": "stream",
          "text": "[1 1 1 1 2 2 2 2 3 3 3 3]\n[[1 2 3]\n [1 2 3]\n [1 2 3]\n [1 2 3]]\n"
        }
      ],
      "execution_count": 14
    },
    {
      "cell_type": "markdown",
      "source": "##### OUTPUT THIS\n\n1 1 1 1 1\n\n1 0 0 0 1\n\n1 0 9 0 1\n\n1 0 0 0 1\n\n1 1 1 1 1",
      "metadata": {}
    },
    {
      "cell_type": "code",
      "source": "one_1 = np.ones((5,5))\nz = np.zeros((3,3))\nz[1,1] = 9\none_1[1:4, 1:4] = z     # OR 1:-1, 1:-1\nprint(one_1)",
      "metadata": {
        "trusted": true
      },
      "outputs": [
        {
          "name": "stdout",
          "output_type": "stream",
          "text": "[[1. 1. 1. 1. 1.]\n [1. 0. 0. 0. 1.]\n [1. 0. 9. 0. 1.]\n [1. 0. 0. 0. 1.]\n [1. 1. 1. 1. 1.]]\n"
        }
      ],
      "execution_count": 21
    },
    {
      "cell_type": "markdown",
      "source": "## ARRAY ARITHMETIC",
      "metadata": {}
    },
    {
      "cell_type": "code",
      "source": "#Creating an array called 'data' : \ndata = np.array([1,2])\nprint(data)\n\n#Creating an array called 'ones' :\nones = np.ones(2, dtype=int)\nprint(ones)",
      "metadata": {
        "trusted": true
      },
      "outputs": [
        {
          "name": "stdout",
          "output_type": "stream",
          "text": "[1 2]\n[1 1]\n"
        }
      ],
      "execution_count": 3
    },
    {
      "cell_type": "code",
      "source": "#Simple Addition\nprint(data + ones)",
      "metadata": {
        "trusted": true
      },
      "outputs": [
        {
          "name": "stdout",
          "output_type": "stream",
          "text": "[2 3]\n"
        }
      ],
      "execution_count": 8
    },
    {
      "cell_type": "code",
      "source": "#Not only addition, but we can perform other operations as well :\n# a. Subtraction\nprint(\"Subtraction:\")\nprint(data - ones)\nprint(\"\\n\")\n\n# b. Multiplication\nprint(\"Multiplication:\")\nprint(data * data)\nprint(\"\\n\")\n\n# c. Division\nprint(\"Division:\")\nprint(data / data)\nprint(\"\\n\")\n\n# d. Exponentiation\nprint(\"Exponentiation:\")\nprint(data ** ones)\nprint(\"\\n\")\n\n# e. Modulo\nprint(\"Multiplication:\")\nprint(data % data)\nprint(\"\\n\")",
      "metadata": {
        "trusted": true
      },
      "outputs": [
        {
          "name": "stdout",
          "output_type": "stream",
          "text": "Subtraction:\n[0 1]\n\n\nMultiplication:\n[1 4]\n\n\nDivision:\n[1. 1.]\n\n\nExponentiation:\n[1 2]\n\n\nMultiplication:\n[0 0]\n\n\n"
        }
      ],
      "execution_count": 19
    },
    {
      "cell_type": "markdown",
      "source": "#### Vector & Scalar",
      "metadata": {}
    },
    {
      "cell_type": "code",
      "source": "#Multiplication between a scalar and a vector\n# Let's say our array 'data' represent distance in miles, and we want to convert it to kilometers\n\na = (data * 1.6)\nprint(a)\nprint(a.shape)",
      "metadata": {
        "trusted": true
      },
      "outputs": [
        {
          "name": "stdout",
          "output_type": "stream",
          "text": "[1.6 3.2]\n(2,)\n"
        }
      ],
      "execution_count": 21
    },
    {
      "cell_type": "code",
      "source": "def most_common_character(s):\n    return max(s, key=s.count)",
      "metadata": {
        "trusted": true
      },
      "outputs": [],
      "execution_count": 39
    },
    {
      "cell_type": "code",
      "source": "most_common_character('apple')",
      "metadata": {
        "trusted": true
      },
      "outputs": [
        {
          "execution_count": 40,
          "output_type": "execute_result",
          "data": {
            "text/plain": "'p'"
          },
          "metadata": {}
        }
      ],
      "execution_count": 40
    },
    {
      "cell_type": "code",
      "source": "str_to_count = \"success\"  \nlower_str = str_to_count.lower()  \nlst = []\nfor i in range(ord('a'), ord('z') + 1):  \n    char = chr(i)  \n    lst.append([char,lower_str.count(char)])\n\nmax_freq = max(lst, key=lambda lst: lst[1])\nprint(lst)  \nprint(max_freq[0], max_freq[1]/len(lower_str))",
      "metadata": {
        "trusted": true
      },
      "outputs": [
        {
          "name": "stdout",
          "output_type": "stream",
          "text": "[['a', 0], ['b', 0], ['c', 2], ['d', 0], ['e', 1], ['f', 0], ['g', 0], ['h', 0], ['i', 0], ['j', 0], ['k', 0], ['l', 0], ['m', 0], ['n', 0], ['o', 0], ['p', 0], ['q', 0], ['r', 0], ['s', 3], ['t', 0], ['u', 1], ['v', 0], ['w', 0], ['x', 0], ['y', 0], ['z', 0]]\ns 0.42857142857142855\n"
        }
      ],
      "execution_count": 42
    },
    {
      "cell_type": "code",
      "source": "def find_max_frequency_char(phrase):\n    # List of all possible characters in the phrase\n    unique_chars = []\n\n    # Collect unique characters from the phrase\n    for char in phrase:\n        if char not in unique_chars:\n            unique_chars.append(char)\n\n    # Initialize variables to keep track of the character with max frequency\n    max_char = None\n    max_count = 0\n\n    # Iterate over each unique character to count its frequency in the phrase\n    for char in unique_chars:\n        count = phrase.count(char)\n        if count > max_count:\n            max_char = char\n            max_count = count\n\n    return max_char, max_count\n\n# Example usage\nphrase = \"success\"\nmax_char, frequency = find_max_frequency_char(phrase)\nprint(f\"The character with the maximum frequency is: '{max_char}' with a frequency of {frequency}\")",
      "metadata": {
        "trusted": true
      },
      "outputs": [
        {
          "name": "stdout",
          "output_type": "stream",
          "text": "The character with the maximum frequency is: 's' with a frequency of 3\n"
        }
      ],
      "execution_count": 44
    },
    {
      "cell_type": "markdown",
      "source": "### Aggregation",
      "metadata": {}
    },
    {
      "cell_type": "markdown",
      "source": "Additional benefits NumPy gives us are aggregation functions: like .min(), .max(0), .sum(), et cetera.\n\nIn addition to min, max, and sum, you get all the greats like mean to get the average, prod to get the result of multiplying all the elements together, std to get standard deviation, and plenty of others.",
      "metadata": {}
    },
    {
      "cell_type": "code",
      "source": "data = np.array([1,2,3])\nprint(data)\n\nprint(\"Min()\\n:\", data.min())\nprint(\"Max()\\n:\", data.max())\nprint(\"Sum()\\n:\", data.sum())",
      "metadata": {
        "trusted": true
      },
      "outputs": [
        {
          "name": "stdout",
          "output_type": "stream",
          "text": "[1 2 3]\nMin()\n 1\nMax()\n 3\nSum()\n 6\n"
        }
      ],
      "execution_count": 5
    },
    {
      "cell_type": "markdown",
      "source": "### Creating Matricies",
      "metadata": {}
    },
    {
      "cell_type": "markdown",
      "source": "We can pass python lists of lists in the following shape to have NumPy create a matrix to represent them:\n\nnp.array([[1,2],[3,4]])",
      "metadata": {}
    },
    {
      "cell_type": "code",
      "source": "# Creating a matrice as list of lists\n\nmatrice = np.array([[1,2], [3,4]])\nprint(matrice)",
      "metadata": {
        "trusted": true
      },
      "outputs": [
        {
          "name": "stdout",
          "output_type": "stream",
          "text": "[[1 2]\n [3 4]]\n"
        }
      ],
      "execution_count": 6
    },
    {
      "cell_type": "markdown",
      "source": "We can also use the same methods we mentioned above (ones(), zeros(), and random.random()) as long as we give them a tuple describing the dimensions of the matrix we are creating:",
      "metadata": {}
    },
    {
      "cell_type": "code",
      "source": "mat_one = np.ones((3,2))\nprint(mat_one, \"\\n\")\n\nmat_zero = np.zeros((3,2))\nprint(mat_zero, \"\\n\")\n\nmat_rand = np.random.random((3,2))\nprint(mat_rand, \"\\n\")",
      "metadata": {
        "trusted": true
      },
      "outputs": [
        {
          "name": "stdout",
          "output_type": "stream",
          "text": "[[1. 1.]\n [1. 1.]\n [1. 1.]]\n\n[[0. 0.]\n [0. 0.]\n [0. 0.]]\n\n[[0.55314151 0.97532509]\n [0.58855752 0.89469837]\n [0.2568368  0.44065279]]\n\n"
        }
      ],
      "execution_count": 7
    },
    {
      "cell_type": "markdown",
      "source": "### Matrix Arithmetic",
      "metadata": {}
    },
    {
      "cell_type": "markdown",
      "source": "We can add and multiply matrices using arithmetic operators (+-*/) if the two matrices are the same size. NumPy handles those as position-wise operations:",
      "metadata": {}
    },
    {
      "cell_type": "code",
      "source": "matone = np.ones((2,2), dtype=int)\nprint(matrice + matone)",
      "metadata": {
        "trusted": true
      },
      "outputs": [
        {
          "name": "stdout",
          "output_type": "stream",
          "text": "[[2 3]\n [4 5]]\n"
        }
      ],
      "execution_count": 16
    },
    {
      "cell_type": "markdown",
      "source": "We can get away with doing these arithmetic operations on matrices of different size only if the different dimension is one (e.g. the matrix has only one column or one row), in which case NumPy uses its broadcast rules for that operation:    ",
      "metadata": {}
    },
    {
      "cell_type": "code",
      "source": "ones_row = np.ones((1,2), dtype=int)\nmat_3x3 = np.array([[1,2], [3,4], [5,6]])\n\nprint(mat_3x3 + ones_row)",
      "metadata": {
        "trusted": true
      },
      "outputs": [
        {
          "name": "stdout",
          "output_type": "stream",
          "text": "[[2 3]\n [4 5]\n [6 7]]\n"
        }
      ],
      "execution_count": 17
    },
    {
      "cell_type": "markdown",
      "source": "### Dot Product",
      "metadata": {}
    },
    {
      "cell_type": "markdown",
      "source": "A key distinction to make with arithmetic is the case of matrix multiplication using the dot product. NumPy gives every matrix a dot() method we can use to carry-out dot product operations with other matrices:",
      "metadata": {}
    },
    {
      "cell_type": "code",
      "source": "data = np.array([1,2,3])\npowers_of_ten = np.array([[1,10], [100,1000], [10000, 100000]], dtype=int)\nprint(powers_of_ten)",
      "metadata": {
        "trusted": true
      },
      "outputs": [
        {
          "name": "stdout",
          "output_type": "stream",
          "text": "[[     1     10]\n [   100   1000]\n [ 10000 100000]]\n"
        }
      ],
      "execution_count": 19
    },
    {
      "cell_type": "code",
      "source": "dot_prod = data.dot(powers_of_ten)\nprint(dot_prod)",
      "metadata": {
        "trusted": true
      },
      "outputs": [
        {
          "name": "stdout",
          "output_type": "stream",
          "text": "[ 30201 302010]\n"
        }
      ],
      "execution_count": 21
    },
    {
      "cell_type": "markdown",
      "source": "Remember that the two matrices have to have the same dimension on the side they face each other with:\n\n1x3 : : 3x2  =  1x2",
      "metadata": {}
    },
    {
      "cell_type": "markdown",
      "source": "### Matrix Indexing",
      "metadata": {}
    },
    {
      "cell_type": "markdown",
      "source": "Indexing and slicing operations become even more useful when we’re manipulating matrices:",
      "metadata": {}
    },
    {
      "cell_type": "code",
      "source": "datum = np.array([[1,2], [3,4], [5,6]])\nprint(datum)",
      "metadata": {
        "trusted": true
      },
      "outputs": [
        {
          "name": "stdout",
          "output_type": "stream",
          "text": "[[1 2]\n [3 4]\n [5 6]]\n"
        }
      ],
      "execution_count": 24
    },
    {
      "cell_type": "code",
      "source": "print(datum[0,1])",
      "metadata": {
        "trusted": true
      },
      "outputs": [
        {
          "name": "stdout",
          "output_type": "stream",
          "text": "2\n"
        }
      ],
      "execution_count": 26
    },
    {
      "cell_type": "code",
      "source": "print(datum[1:3])",
      "metadata": {
        "trusted": true
      },
      "outputs": [
        {
          "name": "stdout",
          "output_type": "stream",
          "text": "[[3 4]\n [5 6]]\n"
        }
      ],
      "execution_count": 27
    },
    {
      "cell_type": "code",
      "source": "print(datum[0:2,0])",
      "metadata": {
        "trusted": true
      },
      "outputs": [
        {
          "name": "stdout",
          "output_type": "stream",
          "text": "[1 3]\n"
        }
      ],
      "execution_count": 28
    },
    {
      "cell_type": "markdown",
      "source": "### Matrix Aggregation",
      "metadata": {}
    },
    {
      "cell_type": "markdown",
      "source": "We can aggregate matrices the same way we aggregated vectors:",
      "metadata": {}
    },
    {
      "cell_type": "code",
      "source": "print(datum, \"\\n\")\n\nprint(\"Min()\\n\", datum.min())\nprint(\"\\n Max()\\n\", datum.max())\nprint(\"\\n Sum()\\n\", datum.sum())",
      "metadata": {
        "trusted": true
      },
      "outputs": [
        {
          "name": "stdout",
          "output_type": "stream",
          "text": "[[1 2]\n [3 4]\n [5 6]]\n\nMin()\n 1\n\n Max()\n 6\n\n Sum()\n 21\n"
        }
      ],
      "execution_count": 30
    },
    {
      "cell_type": "markdown",
      "source": "Not only can we aggregate all the values in a matrix, but we can also aggregate across the rows or columns by using the axis parameter:",
      "metadata": {}
    },
    {
      "cell_type": "code",
      "source": "dati = np.array([[1,2], [5,3], [4,6]])\nprint(dati)",
      "metadata": {
        "trusted": true
      },
      "outputs": [
        {
          "name": "stdout",
          "output_type": "stream",
          "text": "[[1 2]\n [5 3]\n [4 6]]\n"
        }
      ],
      "execution_count": 31
    },
    {
      "cell_type": "code",
      "source": "# Finding the max down the columns, using axis=0\n\nprint(dati.max(axis=0))",
      "metadata": {
        "trusted": true
      },
      "outputs": [
        {
          "name": "stdout",
          "output_type": "stream",
          "text": "[5 6]\n"
        }
      ],
      "execution_count": 32
    },
    {
      "cell_type": "code",
      "source": "# Finding the max across the rows, using axis=1\n\nprint(dati.max(axis=1))",
      "metadata": {
        "trusted": true
      },
      "outputs": [
        {
          "name": "stdout",
          "output_type": "stream",
          "text": "[2 5 6]\n"
        }
      ],
      "execution_count": 35
    },
    {
      "cell_type": "markdown",
      "source": "### Transposing and Reshaping",
      "metadata": {}
    },
    {
      "cell_type": "markdown",
      "source": "A common need when dealing with matrices is the need to rotate them. This is often the case when we need to take the dot product of two matrices and need to align the dimension they share. NumPy arrays have a convenient property called T to get the transpose of a matrix:",
      "metadata": {}
    },
    {
      "cell_type": "code",
      "source": "print(datum)",
      "metadata": {
        "trusted": true
      },
      "outputs": [
        {
          "name": "stdout",
          "output_type": "stream",
          "text": "[[1 2]\n [3 4]\n [5 6]]\n"
        }
      ],
      "execution_count": 36
    },
    {
      "cell_type": "code",
      "source": "# Transpose of our matrix\n\nprint(datum.T)",
      "metadata": {
        "trusted": true
      },
      "outputs": [
        {
          "name": "stdout",
          "output_type": "stream",
          "text": "[[1 3 5]\n [2 4 6]]\n"
        }
      ],
      "execution_count": 37
    },
    {
      "cell_type": "markdown",
      "source": "In more advanced use case, you may find yourself needing to switch the dimensions of a certain matrix. This is often the case in machine learning applications where a certain model expects a certain shape for the inputs that is different from your dataset. NumPy’s reshape() method is useful in these cases. You just pass it the new dimensions you want for the matrix. You can pass -1 for a dimension and NumPy can infer the correct dimension based on your matrix:",
      "metadata": {}
    },
    {
      "cell_type": "code",
      "source": "lin_data = np.arange(1,7,1)\nprint(lin_data)",
      "metadata": {
        "trusted": true
      },
      "outputs": [
        {
          "name": "stdout",
          "output_type": "stream",
          "text": "[1 2 3 4 5 6]\n"
        }
      ],
      "execution_count": 38
    },
    {
      "cell_type": "code",
      "source": "lin_data.reshape(2,3)",
      "metadata": {
        "trusted": true
      },
      "outputs": [
        {
          "execution_count": 39,
          "output_type": "execute_result",
          "data": {
            "text/plain": "array([[1, 2, 3],\n       [4, 5, 6]])"
          },
          "metadata": {}
        }
      ],
      "execution_count": 39
    },
    {
      "cell_type": "code",
      "source": "lin_data.reshape(3,2)",
      "metadata": {
        "trusted": true
      },
      "outputs": [
        {
          "execution_count": 40,
          "output_type": "execute_result",
          "data": {
            "text/plain": "array([[1, 2],\n       [3, 4],\n       [5, 6]])"
          },
          "metadata": {}
        }
      ],
      "execution_count": 40
    },
    {
      "cell_type": "code",
      "source": "print(lin_data.reshape(-1, 3))",
      "metadata": {
        "trusted": true
      },
      "outputs": [
        {
          "name": "stdout",
          "output_type": "stream",
          "text": "[[1 2 3]\n [4 5 6]]\n"
        }
      ],
      "execution_count": 50
    },
    {
      "cell_type": "markdown",
      "source": "### Yet More Dimensions",
      "metadata": {}
    },
    {
      "cell_type": "markdown",
      "source": "NumPy can do everything we’ve mentioned in any number of dimensions. Its central data structure is called ndarray (N-Dimensional Array) for a reason.",
      "metadata": {}
    },
    {
      "cell_type": "code",
      "source": "three_d = np.array([ [[1,2], [3,4]],\n                     [[5,6], [7,8]] ])\n\nprint(three_d)",
      "metadata": {
        "trusted": true
      },
      "outputs": [
        {
          "name": "stdout",
          "output_type": "stream",
          "text": "[[[1 2]\n  [3 4]]\n\n [[5 6]\n  [7 8]]]\n"
        }
      ],
      "execution_count": 54
    },
    {
      "cell_type": "markdown",
      "source": "In a lot of ways, dealing with a new dimension is just adding a comma to the parameters of a NumPy function:",
      "metadata": {}
    },
    {
      "cell_type": "markdown",
      "source": "Note: Keep in mind that when you print a 3-dimensional NumPy array, the text output visualizes the array differently than just a stack of two matices. NumPy’s order for printing n-dimensional arrays is that the last axis is looped over the fastest, while the first is the slowest. Which means that np.ones((4,3,2)) would be printed as:",
      "metadata": {}
    },
    {
      "cell_type": "code",
      "source": "np.ones((4,3,2))",
      "metadata": {
        "trusted": true
      },
      "outputs": [
        {
          "execution_count": 56,
          "output_type": "execute_result",
          "data": {
            "text/plain": "array([[[1., 1.],\n        [1., 1.],\n        [1., 1.]],\n\n       [[1., 1.],\n        [1., 1.],\n        [1., 1.]],\n\n       [[1., 1.],\n        [1., 1.],\n        [1., 1.]],\n\n       [[1., 1.],\n        [1., 1.],\n        [1., 1.]]])"
          },
          "metadata": {}
        }
      ],
      "execution_count": 56
    },
    {
      "cell_type": "code",
      "source": "print(datum)",
      "metadata": {
        "trusted": true
      },
      "outputs": [
        {
          "name": "stdout",
          "output_type": "stream",
          "text": "[[1 2]\n [3 4]\n [5 6]]\n"
        }
      ],
      "execution_count": 57
    },
    {
      "cell_type": "code",
      "source": "# Get a specific row\n#     Get row 2\n\ndatum[1,:]",
      "metadata": {
        "trusted": true
      },
      "outputs": [
        {
          "execution_count": 58,
          "output_type": "execute_result",
          "data": {
            "text/plain": "array([3, 4])"
          },
          "metadata": {}
        }
      ],
      "execution_count": 58
    },
    {
      "cell_type": "code",
      "source": "seven = np.array([[1,2,3,4,5,6,7], [8,9,10,11,12,13,14]]) #list of lists\nprint(seven)",
      "metadata": {
        "trusted": true
      },
      "outputs": [
        {
          "name": "stdout",
          "output_type": "stream",
          "text": "[[ 1  2  3  4  5  6  7]\n [ 8  9 10 11 12 13 14]]\n"
        }
      ],
      "execution_count": 60
    },
    {
      "cell_type": "code",
      "source": "# Get every second element between 2 and 6 from matrix called 'seven'\n#     A little fancy stuff - [startindex:endindex:stepsize]\nseven[0, 1:6:2]",
      "metadata": {
        "trusted": true
      },
      "outputs": [
        {
          "execution_count": 62,
          "output_type": "execute_result",
          "data": {
            "text/plain": "array([2, 4, 6])"
          },
          "metadata": {}
        }
      ],
      "execution_count": 62
    },
    {
      "cell_type": "code",
      "source": "# 3D Array Example\nxb = np.array([[[1,2], [3,4]], [[5,6], [7,8]]])\nprint(xb)",
      "metadata": {
        "trusted": true
      },
      "outputs": [
        {
          "name": "stdout",
          "output_type": "stream",
          "text": "[[[1 2]\n  [3 4]]\n\n [[5 6]\n  [7 8]]]\n"
        }
      ],
      "execution_count": 63
    },
    {
      "cell_type": "code",
      "source": "# Get a specific element : : : Pro-tip - (work outside in)\n#     Get '4'\nprint(xb[0, 1, 1])",
      "metadata": {
        "trusted": true
      },
      "outputs": [
        {
          "name": "stdout",
          "output_type": "stream",
          "text": "4\n"
        }
      ],
      "execution_count": 65
    },
    {
      "cell_type": "code",
      "source": "# Replace\n#     Make sure the dimensions are same or it will throw an error\nxb[:,1, :] = [[10, 11],\n              [12, 13]]",
      "metadata": {
        "trusted": true
      },
      "outputs": [],
      "execution_count": 69
    },
    {
      "cell_type": "code",
      "source": "xb",
      "metadata": {
        "trusted": true
      },
      "outputs": [
        {
          "execution_count": 70,
          "output_type": "execute_result",
          "data": {
            "text/plain": "array([[[ 1,  2],\n        [10, 11]],\n\n       [[ 5,  6],\n        [12, 13]]])"
          },
          "metadata": {}
        }
      ],
      "execution_count": 70
    },
    {
      "cell_type": "markdown",
      "source": "##### Be Extremely Cautious When Copying Arrays",
      "metadata": {}
    },
    {
      "cell_type": "code",
      "source": "# INSTEAD OF THIS :\n\ntest_arr_a = np.array([1,2,3,4])\ncopy_arr_b = test_arr_a\ncopy_arr_b[0] = 69\nprint(copy_arr_b)\nprint(test_arr_a)",
      "metadata": {
        "trusted": true
      },
      "outputs": [
        {
          "name": "stdout",
          "output_type": "stream",
          "text": "[69  2  3  4]\n[69  2  3  4]\n"
        }
      ],
      "execution_count": 22
    },
    {
      "cell_type": "code",
      "source": "# DO THIS :\n\ntest_a = np.array([1,2,3,4])\ncopy_b = test_a.copy()\ncopy_b[0] = 69\nprint(copy_b)\nprint(test_a)",
      "metadata": {
        "trusted": true
      },
      "outputs": [
        {
          "name": "stdout",
          "output_type": "stream",
          "text": "[69  2  3  4]\n[1 2 3 4]\n"
        }
      ],
      "execution_count": 23
    },
    {
      "cell_type": "markdown",
      "source": "### Mathematics",
      "metadata": {}
    },
    {
      "cell_type": "code",
      "source": "qw = np.array([1,2,3,4,5])\nprint(qw+2)\n\nprint(qw-1)\n\nprint(qw * 4)\n\nprint(qw / 0.5)\n\nprint(qw ** 3)",
      "metadata": {
        "trusted": true
      },
      "outputs": [
        {
          "name": "stdout",
          "output_type": "stream",
          "text": "[3 4 5 6 7]\n[0 1 2 3 4]\n[ 4  8 12 16 20]\n[ 2.  4.  6.  8. 10.]\n[  1   8  27  64 125]\n"
        }
      ],
      "execution_count": 32
    },
    {
      "cell_type": "markdown",
      "source": "There are other Mathematical routines worth checking out!!!",
      "metadata": {}
    },
    {
      "cell_type": "markdown",
      "source": "### Linear Algebra",
      "metadata": {}
    },
    {
      "cell_type": "code",
      "source": "p = np.ones((2,3))\nprint(p)\n\nq = np.full((3,2), 3)\nprint(q)",
      "metadata": {
        "trusted": true
      },
      "outputs": [
        {
          "name": "stdout",
          "output_type": "stream",
          "text": "[[1. 1. 1.]\n [1. 1. 1.]]\n[[3 3]\n [3 3]\n [3 3]]\n"
        }
      ],
      "execution_count": 33
    },
    {
      "cell_type": "markdown",
      "source": "Multiplying these two matrices by simply using a '*' while invite a Value error, stating \"ValueError: operands could not be broadcast together with shapes (2,3) (3,2)\". Instead do this:",
      "metadata": {}
    },
    {
      "cell_type": "code",
      "source": "np.matmul(p, q)",
      "metadata": {
        "trusted": true
      },
      "outputs": [
        {
          "execution_count": 36,
          "output_type": "execute_result",
          "data": {
            "text/plain": "array([[9., 9.],\n       [9., 9.]])"
          },
          "metadata": {}
        }
      ],
      "execution_count": 36
    },
    {
      "cell_type": "code",
      "source": "# Finding Determinant of a Matrix\n'''Determinant of an identity matrix is 1.0'''\n\nk = np.identity(4)\nprint(k)\n\nprint(np.linalg.det(k))",
      "metadata": {
        "trusted": true
      },
      "outputs": [
        {
          "name": "stdout",
          "output_type": "stream",
          "text": "[[1. 0. 0. 0.]\n [0. 1. 0. 0.]\n [0. 0. 1. 0.]\n [0. 0. 0. 1.]]\n1.0\n"
        }
      ],
      "execution_count": 40
    },
    {
      "cell_type": "markdown",
      "source": "### Statistics",
      "metadata": {}
    },
    {
      "cell_type": "code",
      "source": "g = np.array([[1,2,3], [4,5,6]])\nprint(g)",
      "metadata": {
        "trusted": true
      },
      "outputs": [
        {
          "name": "stdout",
          "output_type": "stream",
          "text": "[[1 2 3]\n [4 5 6]]\n"
        }
      ],
      "execution_count": 42
    },
    {
      "cell_type": "code",
      "source": "# Min of the array as a whole\nnp.min(g)",
      "metadata": {
        "trusted": true
      },
      "outputs": [
        {
          "execution_count": 43,
          "output_type": "execute_result",
          "data": {
            "text/plain": "np.int32(1)"
          },
          "metadata": {}
        }
      ],
      "execution_count": 43
    },
    {
      "cell_type": "code",
      "source": "# Min of the array based on rows\nnp.min(g, axis=1)",
      "metadata": {
        "trusted": true
      },
      "outputs": [
        {
          "execution_count": 45,
          "output_type": "execute_result",
          "data": {
            "text/plain": "array([1, 4])"
          },
          "metadata": {}
        }
      ],
      "execution_count": 45
    },
    {
      "cell_type": "code",
      "source": "# Min of the array based on columns\nnp.min(g, axis=0)",
      "metadata": {
        "trusted": true
      },
      "outputs": [
        {
          "execution_count": 46,
          "output_type": "execute_result",
          "data": {
            "text/plain": "array([1, 2, 3])"
          },
          "metadata": {}
        }
      ],
      "execution_count": 46
    },
    {
      "cell_type": "code",
      "source": "# Max of the array as a whole\nnp.max(g)",
      "metadata": {
        "trusted": true
      },
      "outputs": [
        {
          "execution_count": 47,
          "output_type": "execute_result",
          "data": {
            "text/plain": "np.int32(6)"
          },
          "metadata": {}
        }
      ],
      "execution_count": 47
    },
    {
      "cell_type": "code",
      "source": "# Max of the array based on rows\nnp.max(g, axis=1)",
      "metadata": {
        "trusted": true
      },
      "outputs": [
        {
          "execution_count": 48,
          "output_type": "execute_result",
          "data": {
            "text/plain": "array([3, 6])"
          },
          "metadata": {}
        }
      ],
      "execution_count": 48
    },
    {
      "cell_type": "code",
      "source": "# Max of the array based on columns\nnp.max(g, axis=0)",
      "metadata": {
        "trusted": true
      },
      "outputs": [
        {
          "execution_count": 49,
          "output_type": "execute_result",
          "data": {
            "text/plain": "array([4, 5, 6])"
          },
          "metadata": {}
        }
      ],
      "execution_count": 49
    },
    {
      "cell_type": "code",
      "source": "# Sum of the array\nnp.sum(g)",
      "metadata": {
        "trusted": true
      },
      "outputs": [
        {
          "execution_count": 50,
          "output_type": "execute_result",
          "data": {
            "text/plain": "np.int32(21)"
          },
          "metadata": {}
        }
      ],
      "execution_count": 50
    },
    {
      "cell_type": "markdown",
      "source": "#### Reorganizing Arrays",
      "metadata": {}
    },
    {
      "cell_type": "code",
      "source": "# Reorganize the array\nbefore = np.array([[1,2,3,4], [5,6,7,8]])\nprint(before)\nprint(before.shape)",
      "metadata": {
        "trusted": true
      },
      "outputs": [
        {
          "name": "stdout",
          "output_type": "stream",
          "text": "[[1 2 3 4]\n [5 6 7 8]]\n(2, 4)\n"
        }
      ],
      "execution_count": 51
    },
    {
      "cell_type": "code",
      "source": "after = before.reshape(8,1)\nprint(after)",
      "metadata": {
        "trusted": true
      },
      "outputs": [
        {
          "name": "stdout",
          "output_type": "stream",
          "text": "[[1]\n [2]\n [3]\n [4]\n [5]\n [6]\n [7]\n [8]]\n"
        }
      ],
      "execution_count": 52
    },
    {
      "cell_type": "code",
      "source": "later = before.reshape(1,8)\nprint(later)",
      "metadata": {
        "trusted": true
      },
      "outputs": [
        {
          "name": "stdout",
          "output_type": "stream",
          "text": "[[1 2 3 4 5 6 7 8]]\n"
        }
      ],
      "execution_count": 53
    },
    {
      "cell_type": "code",
      "source": "fig = before.reshape(2,2,2)\nprint(fig)",
      "metadata": {
        "trusted": true
      },
      "outputs": [
        {
          "name": "stdout",
          "output_type": "stream",
          "text": "[[[1 2]\n  [3 4]]\n\n [[5 6]\n  [7 8]]]\n"
        }
      ],
      "execution_count": 54
    },
    {
      "cell_type": "code",
      "source": "# Vertically Stacking of Arrays\nv1 = np.array([1,2,3,4])\nv2 = np.array([5,6,7,8])\n\nnp.vstack([v1, v2])",
      "metadata": {
        "trusted": true
      },
      "outputs": [
        {
          "execution_count": 55,
          "output_type": "execute_result",
          "data": {
            "text/plain": "array([[1, 2, 3, 4],\n       [5, 6, 7, 8]])"
          },
          "metadata": {}
        }
      ],
      "execution_count": 55
    },
    {
      "cell_type": "code",
      "source": "# Horizontally Stacking of Arrays\nh1 = np.ones((2,4), dtype=int)\nh2 = np.zeros((2,2), dtype=int)\n\nnp.hstack([h2, h1], dtype=int)",
      "metadata": {
        "trusted": true
      },
      "outputs": [
        {
          "execution_count": 66,
          "output_type": "execute_result",
          "data": {
            "text/plain": "array([[0, 0, 1, 1, 1, 1],\n       [0, 0, 1, 1, 1, 1]])"
          },
          "metadata": {}
        }
      ],
      "execution_count": 66
    },
    {
      "cell_type": "markdown",
      "source": "### Miscellaneous",
      "metadata": {}
    },
    {
      "cell_type": "markdown",
      "source": "**Load Data from a file**",
      "metadata": {}
    },
    {
      "cell_type": "code",
      "source": "inpu = np.genfromtxt('dataa.txt', delimiter=',')\nprint(inpu)\ninpu.astype('int32')\ninpu = inpu.astype('int32')\nprint(inpu)",
      "metadata": {
        "trusted": true
      },
      "outputs": [
        {
          "name": "stdout",
          "output_type": "stream",
          "text": "[[ 1.  2.  3.  4.  5.]\n [12. 13. 14. 16. 12.]\n [ 1.  2.  2.  2.  2.]]\n[[ 1  2  3  4  5]\n [12 13 14 16 12]\n [ 1  2  2  2  2]]\n"
        }
      ],
      "execution_count": 77
    },
    {
      "cell_type": "markdown",
      "source": "#### Boolean Masking and Advanced Indexing",
      "metadata": {}
    },
    {
      "cell_type": "code",
      "source": "inpu > 11",
      "metadata": {
        "trusted": true
      },
      "outputs": [
        {
          "execution_count": 74,
          "output_type": "execute_result",
          "data": {
            "text/plain": "array([[False, False, False, False, False],\n       [ True,  True,  True,  True,  True],\n       [False, False, False, False, False]])"
          },
          "metadata": {}
        }
      ],
      "execution_count": 74
    },
    {
      "cell_type": "code",
      "source": "inpu[inpu > 11]",
      "metadata": {
        "trusted": true
      },
      "outputs": [
        {
          "execution_count": 78,
          "output_type": "execute_result",
          "data": {
            "text/plain": "array([12, 13, 14, 16, 12])"
          },
          "metadata": {}
        }
      ],
      "execution_count": 78
    },
    {
      "cell_type": "markdown",
      "source": "This aforementioned trick works in NumPy because you can index with a list in NumPy:",
      "metadata": {}
    },
    {
      "cell_type": "code",
      "source": "xer = np.array([1,2,3,4,5,6,7,8,9])\n\n# Retrieve numbers 2, 4, 7, and 9\n\nxer[[1,3,6,8]]",
      "metadata": {
        "trusted": true
      },
      "outputs": [
        {
          "execution_count": 80,
          "output_type": "execute_result",
          "data": {
            "text/plain": "array([2, 4, 7, 9])"
          },
          "metadata": {}
        }
      ],
      "execution_count": 80
    },
    {
      "cell_type": "code",
      "source": "# To check if any value is greater than a certain number\nnp.any(inpu>12, axis=1)",
      "metadata": {
        "trusted": true
      },
      "outputs": [
        {
          "execution_count": 84,
          "output_type": "execute_result",
          "data": {
            "text/plain": "array([False,  True, False])"
          },
          "metadata": {}
        }
      ],
      "execution_count": 84
    },
    {
      "cell_type": "code",
      "source": "# Multiple conditions\n((inpu > 6) & (inpu < 14))",
      "metadata": {
        "trusted": true
      },
      "outputs": [
        {
          "execution_count": 87,
          "output_type": "execute_result",
          "data": {
            "text/plain": "array([[False, False, False, False, False],\n       [ True,  True, False, False,  True],\n       [False, False, False, False, False]])"
          },
          "metadata": {}
        }
      ],
      "execution_count": 87
    },
    {
      "cell_type": "code",
      "source": "# Multiple conditions with negation\n(~(inpu > 6) & (inpu < 14))",
      "metadata": {
        "trusted": true
      },
      "outputs": [
        {
          "execution_count": 88,
          "output_type": "execute_result",
          "data": {
            "text/plain": "array([[ True,  True,  True,  True,  True],\n       [False, False, False, False, False],\n       [ True,  True,  True,  True,  True]])"
          },
          "metadata": {}
        }
      ],
      "execution_count": 88
    },
    {
      "cell_type": "code",
      "source": "test = np.array([[1,2,3,4,5],\n                 [6,7,8,9,10],\n                 [11,12,13,14,15],\n                 [16,17,18,19,20],\n                 [21,22,23,24,25],\n                 [26,27,28,29,30]])\n\nprint(test)",
      "metadata": {
        "trusted": true
      },
      "outputs": [
        {
          "name": "stdout",
          "output_type": "stream",
          "text": "[[ 1  2  3  4  5]\n [ 6  7  8  9 10]\n [11 12 13 14 15]\n [16 17 18 19 20]\n [21 22 23 24 25]\n [26 27 28 29 30]]\n"
        }
      ],
      "execution_count": 89
    },
    {
      "cell_type": "markdown",
      "source": "Retrieve:\n\n[ 11, 12 ]\n\n[ 16, 17 ]",
      "metadata": {}
    },
    {
      "cell_type": "code",
      "source": "test[2:4, 0:2]",
      "metadata": {
        "trusted": true
      },
      "outputs": [
        {
          "execution_count": 90,
          "output_type": "execute_result",
          "data": {
            "text/plain": "array([[11, 12],\n       [16, 17]])"
          },
          "metadata": {}
        }
      ],
      "execution_count": 90
    },
    {
      "cell_type": "markdown",
      "source": "Retrieve:\n\n* 2\n* * 8\n* * * 14\n* * *  * 20",
      "metadata": {}
    },
    {
      "cell_type": "code",
      "source": "l1 = [0,1,2,3]\nl2 = [1,2,3,4]\nprint(test[l1, l2])\n\n\"\"\"OR\"\"\"\n\ntest[[0,1,2,3], [1,2,3,4]]",
      "metadata": {
        "trusted": true
      },
      "outputs": [
        {
          "name": "stdout",
          "output_type": "stream",
          "text": "[ 2  8 14 20]\n"
        },
        {
          "execution_count": 93,
          "output_type": "execute_result",
          "data": {
            "text/plain": "array([ 2,  8, 14, 20])"
          },
          "metadata": {}
        }
      ],
      "execution_count": 93
    },
    {
      "cell_type": "markdown",
      "source": "Retrieve: \n\n[ 4, 5 ]\n.\n.\n.\n.\n.\n.\n.\n.\n\n[ 24, 25]\n\n[29, 30]",
      "metadata": {}
    },
    {
      "cell_type": "code",
      "source": "test[[0,4,5], 3:]",
      "metadata": {
        "trusted": true
      },
      "outputs": [
        {
          "execution_count": 119,
          "output_type": "execute_result",
          "data": {
            "text/plain": "array([[ 4,  5],\n       [24, 25],\n       [29, 30]])"
          },
          "metadata": {}
        }
      ],
      "execution_count": 119
    },
    {
      "cell_type": "markdown",
      "source": "### NumPy Documentation\n\nVisit: https://numpy.org/doc/",
      "metadata": {}
    },
    {
      "cell_type": "markdown",
      "source": "### What NOW?\n\nNow that we have covered the basics of Numpy, we can go ahead and immerse ourselves in the vast world that in computational and numerical programming. Practice. Read documentations. Read works of other enthusiasts and professionals on the topic!",
      "metadata": {}
    },
    {
      "cell_type": "markdown",
      "source": "***Hop On !***",
      "metadata": {}
    },
    {
      "cell_type": "code",
      "source": "",
      "metadata": {
        "trusted": true
      },
      "outputs": [],
      "execution_count": null
    }
  ]
}